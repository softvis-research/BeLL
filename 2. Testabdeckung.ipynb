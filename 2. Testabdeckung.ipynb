{
 "cells": [
  {
   "cell_type": "markdown",
   "metadata": {},
   "source": [
    "# Wie hoch ist die Testabdeckung des Systems?"
   ]
  },
  {
   "cell_type": "markdown",
   "metadata": {},
   "source": [
    "## 1. Verbindung zur Datenbank\n",
    "Es wird eine Verbindung zur Neo4j-Datenbank aufgebaut."
   ]
  },
  {
   "cell_type": "code",
   "execution_count": null,
   "metadata": {},
   "outputs": [],
   "source": [
    "import py2neo\n",
    "            \n",
    "graph = py2neo.Graph(bolt=True, host='localhost', user='neo4j', password='neo4j')"
   ]
  },
  {
   "cell_type": "markdown",
   "metadata": {},
   "source": [
    "## 2. Cypher-Abfrage\n",
    "Es wird eine Abfrage an die Datenbank gestellt. Das Ergebnis wird in einem Dataframe (pandas) gespeichert."
   ]
  },
  {
   "cell_type": "code",
   "execution_count": null,
   "metadata": {},
   "outputs": [],
   "source": [
    "import pandas as pd\n",
    "\n",
    "query =\"MATCH (p:Jacoco:Package)-[HAS_CLASS]->(c:Jacoco:Class)-[:HAS_METHOD]->(m:Method:Jacoco)-[:HAS_COUNTER]->(t:Counter) WHERE t.type='INSTRUCTION' AND p.name STARTS WITH 'org' RETURN p.name AS package, ((sum(t.covered)*100)/(sum(t.covered)+sum(t.missed)))/100.0 as coverage, sum(t.covered)+sum(t.missed) as loc ORDER BY loc DESC\"\n",
    "df = pd.DataFrame(graph.run(query).data())\n"
   ]
  },
  {
   "cell_type": "markdown",
   "metadata": {},
   "source": [
    "## 3. Datenaufbereitung\n",
    "Zur Kontrolle werden die ersten fünf Zeilen des Ergebnisses der Abfrage als Tabelle ausgegeben."
   ]
  },
  {
   "cell_type": "code",
   "execution_count": null,
   "metadata": {},
   "outputs": [],
   "source": [
    "df.head()"
   ]
  },
  {
   "cell_type": "markdown",
   "metadata": {},
   "source": [
    "Die Daten werden analog zu Markus Harrers Blogbeitrag (https://feststelltaste.github.io/software-analytics/notebooks/vis/experimental/pandas-pygal/effective_charting.html) aufbereitet. Hierfür wird eine neue Spalte namens ```color``` im Dataframe erzeugt und mit einem Farbverlauf von grün nach rot entsprechend der Testabdeckung befüllt. Dafür wird die Colormap ```RdYlGn``` und die Methode ```rgb2hex()``` von matplotlib verwendet. "
   ]
  },
  {
   "cell_type": "code",
   "execution_count": null,
   "metadata": {},
   "outputs": [],
   "source": [
    "# Erzeuge eine neue Spalte color und berechne die entsprechende Farbe in Abhängigkeit zu coverage.\n",
    "from matplotlib.cm import RdYlGn\n",
    "from matplotlib.colors import rgb2hex\n",
    "\n",
    "df['color'] = df['coverage'].apply(lambda x : rgb2hex(RdYlGn(x)))\n",
    "df.head()\n"
   ]
  },
  {
   "cell_type": "markdown",
   "metadata": {},
   "source": [
    "Die Testabdeckung für das gesamte System wird mittels der Methode ```mean()``` für die Spalte ```coverage``` berechnet und in der Variable ```coverage``` abgebildet."
   ]
  },
  {
   "cell_type": "code",
   "execution_count": null,
   "metadata": {},
   "outputs": [],
   "source": [
    "# Berechne den Mittelwert der Spalte coverage und speichere diesen in der Variable coverage.\n",
    "coverage = df['coverage'].mean()\n",
    "print(coverage)"
   ]
  },
  {
   "cell_type": "markdown",
   "metadata": {},
   "source": [
    "## 4. Visualisierung\n",
    "Die Daten werden mittels einer Treemap visualisiert (http://www.pygal.org/en/stable/documentation/types/treemap.html), wobei die Anzahl der Quelltextzeilen auf die Größe und die Testabdeckung auf die Farbe (rot = gering, grün = hoch) der Pakete abgebildet wird. Zudem wird die Testabdeckung für das gesamte System im Titel der Treemap angegeben."
   ]
  },
  {
   "cell_type": "code",
   "execution_count": null,
   "metadata": {},
   "outputs": [],
   "source": [
    "from IPython.display import display, HTML\n",
    "\n",
    "base_html = \"\"\"\n",
    "<!DOCTYPE html>\n",
    "<html>\n",
    "  <head>\n",
    "  <script type=\"text/javascript\" src=\"http://kozea.github.com/pygal.js/javascripts/svg.jquery.js\"></script>\n",
    "  <script type=\"text/javascript\" src=\"https://kozea.github.io/pygal.js/2.0.x/pygal-tooltips.min.js\"\"></script>\n",
    "  </head>\n",
    "  <body>\n",
    "    <figure>\n",
    "      {rendered_chart}\n",
    "    </figure>\n",
    "  </body>\n",
    "</html>\n",
    "\"\"\""
   ]
  },
  {
   "cell_type": "code",
   "execution_count": null,
   "metadata": {},
   "outputs": [],
   "source": [
    "# Erstelle Treemap.\n",
    "import pygal\n",
    "treemap = pygal.Treemap(height=250, show_legend=False, \n",
    "                        value_formatter = lambda x: 'Größe: {} Zeilen '.format(x))\n",
    "treemap.title = 'Testabdeckung (Prozent bzw. grün=hoch & rot=gering) und Größe (Quelltextzeilen) auf Paketebene (gesamt: ' + str(coverage.round(2) * 100) + ' %)'\n",
    "for index, row in df.iterrows():\n",
    "    treemap.add(row['package'],\n",
    "                [{\"value\": row['loc'], \"label\": \"Testabdeckung: \" + str(row['coverage'] * 100) + \" %\",\n",
    "                  \"color\": row['color']}])\n",
    "display(HTML(base_html.format(rendered_chart=treemap.render(is_unicode=True))))\n"
   ]
  }
 ],
 "metadata": {
  "kernelspec": {
   "display_name": "Python [conda env:BeLL]",
   "language": "python",
   "name": "conda-env-BeLL-py"
  },
  "language_info": {
   "codemirror_mode": {
    "name": "ipython",
    "version": 3
   },
   "file_extension": ".py",
   "mimetype": "text/x-python",
   "name": "python",
   "nbconvert_exporter": "python",
   "pygments_lexer": "ipython3",
   "version": "3.6.4"
  }
 },
 "nbformat": 4,
 "nbformat_minor": 2
}
