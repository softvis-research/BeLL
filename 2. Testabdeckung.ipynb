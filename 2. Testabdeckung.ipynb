{
 "cells": [
  {
   "cell_type": "markdown",
   "metadata": {},
   "source": [
    "# Wie hoch ist die Testabdeckung des Systems?"
   ]
  },
  {
   "cell_type": "markdown",
   "metadata": {},
   "source": [
    "## 1. Verbindung zur Datenbank\n",
    "Es wird eine Verbindung zur Neo4j-Datenbank aufgebaut."
   ]
  },
  {
   "cell_type": "code",
   "execution_count": 1,
   "metadata": {},
   "outputs": [],
   "source": [
    "import py2neo\n",
    "            \n",
    "graph = py2neo.Graph(bolt=True, host='localhost', user='neo4j', password='neo4j')"
   ]
  },
  {
   "cell_type": "markdown",
   "metadata": {},
   "source": [
    "## 2. Cypher-Abfrage\n",
    "Es wird eine Abfrage an die Datenbank gestellt. Das Ergebnis wird in einem Dataframe (pandas) gespeichert."
   ]
  },
  {
   "cell_type": "code",
   "execution_count": 2,
   "metadata": {},
   "outputs": [],
   "source": [
    "import pandas as pd\n",
    "\n",
    "query =\"MATCH (c:Jacoco:Class)-[:HAS_METHOD]->(m:Method:Jacoco)-[:HAS_COUNTER]->(t:Counter) WHERE t.type='INSTRUCTION' RETURN (sum(t.covered)*100)/(sum(t.covered)+sum(t.missed)) as coverage\"\n",
    "df = pd.DataFrame(graph.run(query).data())\n"
   ]
  },
  {
   "cell_type": "markdown",
   "metadata": {},
   "source": [
    "## 3. Datenaufbereitung\n",
    "Zur Kontrolle werden die ersten fünf Zeilen des Ergebnisses der Abfrage als Tabelle ausgegeben."
   ]
  },
  {
   "cell_type": "code",
   "execution_count": 3,
   "metadata": {},
   "outputs": [
    {
     "data": {
      "text/html": [
       "<div>\n",
       "<style scoped>\n",
       "    .dataframe tbody tr th:only-of-type {\n",
       "        vertical-align: middle;\n",
       "    }\n",
       "\n",
       "    .dataframe tbody tr th {\n",
       "        vertical-align: top;\n",
       "    }\n",
       "\n",
       "    .dataframe thead th {\n",
       "        text-align: right;\n",
       "    }\n",
       "</style>\n",
       "<table border=\"1\" class=\"dataframe\">\n",
       "  <thead>\n",
       "    <tr style=\"text-align: right;\">\n",
       "      <th></th>\n",
       "      <th>coverage</th>\n",
       "    </tr>\n",
       "  </thead>\n",
       "  <tbody>\n",
       "    <tr>\n",
       "      <th>0</th>\n",
       "      <td>79</td>\n",
       "    </tr>\n",
       "  </tbody>\n",
       "</table>\n",
       "</div>"
      ],
      "text/plain": [
       "   coverage\n",
       "0        79"
      ]
     },
     "execution_count": 3,
     "metadata": {},
     "output_type": "execute_result"
    }
   ],
   "source": [
    "df.head()"
   ]
  },
  {
   "cell_type": "markdown",
   "metadata": {},
   "source": [
    "Mithilfe von matplotlib wird die Visualisierung Gauge erstellt (http://nicolasfauchereau.github.io/climatecode/posts/drawing-a-gauge-with-matplotlib/)."
   ]
  },
  {
   "cell_type": "code",
   "execution_count": 4,
   "metadata": {},
   "outputs": [],
   "source": [
    "import matplotlib\n",
    "from matplotlib import cm\n",
    "from matplotlib import pyplot as plt\n",
    "from matplotlib.patches import Circle, Wedge, Rectangle\n",
    "import numpy as np\n",
    "\n",
    "def degree_range(n): \n",
    "    start = np.linspace(0,180,n+1, endpoint=True)[0:-1]\n",
    "    end = np.linspace(0,180,n+1, endpoint=True)[1::]\n",
    "    mid_points = start + ((end-start)/2.)\n",
    "    return np.c_[start, end], mid_points\n",
    "\n",
    "def rot_text(ang): \n",
    "    rotation = np.degrees(np.radians(ang) * np.pi / np.pi - np.radians(90))\n",
    "    return rotation\n",
    "\n",
    "def gauge(labels=['Sehr gering','Gering','Mittel','Hoch','Sehr Hoch'], \\\n",
    "          colors='jet_r', arrow=1, title='', fname=False): \n",
    "    \n",
    "    \"\"\"\n",
    "    some sanity checks first\n",
    "    \n",
    "    \"\"\"\n",
    "    \n",
    "    N = len(labels)\n",
    "    \n",
    "    if arrow > N: \n",
    "        raise Exception(\"\\n\\nThe category ({}) is greated than \\\n",
    "        the length\\nof the labels ({})\".format(arrow, N))\n",
    " \n",
    "    \n",
    "    \"\"\"\n",
    "    if colors is a string, we assume it's a matplotlib colormap\n",
    "    and we discretize in N discrete colors \n",
    "    \"\"\"\n",
    "    \n",
    "    if isinstance(colors, str):\n",
    "        cmap = cm.get_cmap(colors, N)\n",
    "        cmap = cmap(np.arange(N))\n",
    "        colors = cmap[::-1,:].tolist()\n",
    "    if isinstance(colors, list): \n",
    "        if len(colors) == N:\n",
    "            colors = colors[::-1]\n",
    "        else: \n",
    "            raise Exception(\"\\n\\nnumber of colors {} not equal \\\n",
    "            to number of categories{}\\n\".format(len(colors), N))\n",
    "\n",
    "    \"\"\"\n",
    "    begins the plotting\n",
    "    \"\"\"\n",
    "    \n",
    "    fig, ax = plt.subplots()\n",
    "\n",
    "    ang_range, mid_points = degree_range(N)\n",
    "\n",
    "    labels = labels[::-1]\n",
    "    \n",
    "    \"\"\"\n",
    "    plots the sectors and the arcs\n",
    "    \"\"\"\n",
    "    patches = []\n",
    "    for ang, c in zip(ang_range, colors): \n",
    "        # sectors\n",
    "        patches.append(Wedge((0.,0.), .4, *ang, facecolor='w', lw=2))\n",
    "        # arcs\n",
    "        patches.append(Wedge((0.,0.), .4, *ang, width=0.10, facecolor=c, lw=2, alpha=0.5))\n",
    "    \n",
    "    [ax.add_patch(p) for p in patches]\n",
    "\n",
    "    \n",
    "    \"\"\"\n",
    "    set the labels (e.g. 'LOW','MEDIUM',...)\n",
    "    \"\"\"\n",
    "\n",
    "    for mid, lab in zip(mid_points, labels): \n",
    "\n",
    "        ax.text(0.35 * np.cos(np.radians(mid)), 0.35 * np.sin(np.radians(mid)), lab, \\\n",
    "            horizontalalignment='center', verticalalignment='center', fontsize=14, \\\n",
    "            fontweight='bold', rotation = rot_text(mid))\n",
    "\n",
    "    \"\"\"\n",
    "    set the bottom banner and the title\n",
    "    \"\"\"\n",
    "    r = Rectangle((-0.4,-0.1),0.8,0.1, facecolor='w', lw=2)\n",
    "    ax.add_patch(r)\n",
    "    \n",
    "    ax.text(0, -0.05, title, horizontalalignment='center', \\\n",
    "         verticalalignment='center', fontsize=22, fontweight='bold')\n",
    "\n",
    "    \"\"\"\n",
    "    plots the arrow now\n",
    "    \"\"\"\n",
    "    \n",
    "    pos = mid_points[abs(arrow - N)]\n",
    "    \n",
    "    ax.arrow(0, 0, 0.225 * np.cos(np.radians(pos)), 0.225 * np.sin(np.radians(pos)), \\\n",
    "                 width=0.04, head_width=0.09, head_length=0.1, fc='k', ec='k')\n",
    "    \n",
    "    ax.add_patch(Circle((0, 0), radius=0.02, facecolor='k'))\n",
    "    ax.add_patch(Circle((0, 0), radius=0.01, facecolor='w', zorder=11))\n",
    "\n",
    "    \"\"\"\n",
    "    removes frame and ticks, and makes axis equal and tight\n",
    "    \"\"\"\n",
    "    \n",
    "    ax.set_frame_on(False)\n",
    "    ax.axes.set_xticks([])\n",
    "    ax.axes.set_yticks([])\n",
    "    ax.axis('equal')\n",
    "    plt.tight_layout()\n",
    "    if fname:\n",
    "        fig.savefig(fname, dpi=200)"
   ]
  },
  {
   "cell_type": "markdown",
   "metadata": {},
   "source": [
    "Die Funktion <font face=\"Courier\">calculate_level(coverage)</font> bildet die Testabdeckung auf das Level des Gauge ab:\n",
    "\n",
    "sehr gering (level=1): kleiner gleich 20% <br/>\n",
    "gering (level=2): zwischen 20% und 40% <br/>\n",
    "mittel (level=3): zwischen 40% und 60% <br/>\n",
    "hoch (level=4): zwischen 60% und 80% <br/>\n",
    "sehr hoch (level=5): über 80% <br/>"
   ]
  },
  {
   "cell_type": "code",
   "execution_count": 5,
   "metadata": {},
   "outputs": [],
   "source": [
    "# Hole Wert an 0. Stelle im Dataframe.\n",
    "coverage=df.iloc[0]['coverage']\n",
    "\n",
    "# Errechne Level auf der Grundlage der Anzahl der Quelltextzeilen.\n",
    "def calculate_level(coverage):\n",
    "    if coverage <= 20:\n",
    "        level=1\n",
    "    elif coverage <= 40:\n",
    "        level=2\n",
    "    elif coverage <= 60:\n",
    "        level=3\n",
    "    elif coverage <= 80:\n",
    "        level=4\n",
    "    else:\n",
    "        level=5\n",
    "    return(level)"
   ]
  },
  {
   "cell_type": "markdown",
   "metadata": {},
   "source": [
    "## 4. Visualisierung\n",
    "Die Daten werden mittels Gauge visualisiert (http://nicolasfauchereau.github.io/climatecode/posts/drawing-a-gauge-with-matplotlib/, labels='Sehr gering','Gering','Mittel','Hoch','Sehr Hoch', colors='RdYlGn_r', arrow=Rückgabewert der Funktion  <font face=\"Courier\">calculate_level(loc)</font>, title='Testabdeckung')."
   ]
  },
  {
   "cell_type": "code",
   "execution_count": 6,
   "metadata": {},
   "outputs": [
    {
     "data": {
      "image/png": "[encoded data removed]",
      "text/plain": [
       "<Figure size 432x288 with 1 Axes>"
      ]
     },
     "metadata": {},
     "output_type": "display_data"
    }
   ],
   "source": [
    "# zu implementieren\n",
    "gauge(labels=['Sehr gering','Gering','Mittel','Hoch','Sehr hoch'], \\\n",
    "      colors='RdYlGn_r', arrow=calculate_level(coverage), title='Testabdeckung') "
   ]
  },
  {
   "cell_type": "code",
   "execution_count": null,
   "metadata": {},
   "outputs": [],
   "source": []
  }
 ],
 "metadata": {
  "kernelspec": {
   "display_name": "Python [conda env:BeLL]",
   "language": "python",
   "name": "conda-env-BeLL-py"
  },
  "language_info": {
   "codemirror_mode": {
    "name": "ipython",
    "version": 3
   },
   "file_extension": ".py",
   "mimetype": "text/x-python",
   "name": "python",
   "nbconvert_exporter": "python",
   "pygments_lexer": "ipython3",
   "version": "3.6.4"
  }
 },
 "nbformat": 4,
 "nbformat_minor": 2
}
