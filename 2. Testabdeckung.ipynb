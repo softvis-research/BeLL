{
 "cells": [
  {
   "cell_type": "markdown",
   "metadata": {},
   "source": [
    "# Wie hoch ist die Testabdeckung des Systems?"
   ]
  },
  {
   "cell_type": "markdown",
   "metadata": {},
   "source": [
    "## 1. Verbindung zur Datenbank\n",
    "Es wird eine Verbindung zur Neo4j-Datenbank aufgebaut."
   ]
  },
  {
   "cell_type": "code",
   "execution_count": 1,
   "metadata": {},
   "outputs": [],
   "source": [
    "import py2neo\n",
    "            \n",
    "graph = py2neo.Graph(bolt=True, host='localhost', user='neo4j', password='neo4j')"
   ]
  },
  {
   "cell_type": "markdown",
   "metadata": {},
   "source": [
    "## 2. Cypher-Abfrage\n",
    "Es wird eine Abfrage an die Datenbank gestellt. Das Ergebnis wird in einem Dataframe (pandas) gespeichert."
   ]
  },
  {
   "cell_type": "code",
   "execution_count": 2,
   "metadata": {},
   "outputs": [],
   "source": [
    "import pandas as pd\n",
    "\n",
    "query =\"MATCH (p:Jacoco:Package)-[HAS_CLASS]->(c:Jacoco:Class)-[:HAS_METHOD]->(m:Method:Jacoco)-[:HAS_COUNTER]->(t:Counter) WHERE t.type='INSTRUCTION' AND p.name STARTS WITH 'org' RETURN p.name AS package, ((sum(t.covered)*100)/(sum(t.covered)+sum(t.missed)))/100.0 as coverage, sum(t.covered)+sum(t.missed) as loc ORDER BY loc DESC\"\n",
    "df = pd.DataFrame(graph.run(query).data())\n"
   ]
  },
  {
   "cell_type": "markdown",
   "metadata": {},
   "source": [
    "## 3. Datenaufbereitung\n",
    "Zur Kontrolle werden die ersten fünf Zeilen des Ergebnisses der Abfrage als Tabelle ausgegeben."
   ]
  },
  {
   "cell_type": "code",
   "execution_count": 3,
   "metadata": {},
   "outputs": [
    {
     "data": {
      "text/html": [
       "<div>\n",
       "<style scoped>\n",
       "    .dataframe tbody tr th:only-of-type {\n",
       "        vertical-align: middle;\n",
       "    }\n",
       "\n",
       "    .dataframe tbody tr th {\n",
       "        vertical-align: top;\n",
       "    }\n",
       "\n",
       "    .dataframe thead th {\n",
       "        text-align: right;\n",
       "    }\n",
       "</style>\n",
       "<table border=\"1\" class=\"dataframe\">\n",
       "  <thead>\n",
       "    <tr style=\"text-align: right;\">\n",
       "      <th></th>\n",
       "      <th>coverage</th>\n",
       "      <th>loc</th>\n",
       "      <th>package</th>\n",
       "    </tr>\n",
       "  </thead>\n",
       "  <tbody>\n",
       "    <tr>\n",
       "      <th>0</th>\n",
       "      <td>0.97</td>\n",
       "      <td>2137</td>\n",
       "      <td>org/junit/runners</td>\n",
       "    </tr>\n",
       "    <tr>\n",
       "      <th>1</th>\n",
       "      <td>0.69</td>\n",
       "      <td>1782</td>\n",
       "      <td>org/junit/internal/runners</td>\n",
       "    </tr>\n",
       "    <tr>\n",
       "      <th>2</th>\n",
       "      <td>0.91</td>\n",
       "      <td>1498</td>\n",
       "      <td>org/junit/runners/model</td>\n",
       "    </tr>\n",
       "    <tr>\n",
       "      <th>3</th>\n",
       "      <td>0.91</td>\n",
       "      <td>1403</td>\n",
       "      <td>org/junit/rules</td>\n",
       "    </tr>\n",
       "    <tr>\n",
       "      <th>4</th>\n",
       "      <td>0.93</td>\n",
       "      <td>1379</td>\n",
       "      <td>org/junit/internal</td>\n",
       "    </tr>\n",
       "  </tbody>\n",
       "</table>\n",
       "</div>"
      ],
      "text/plain": [
       "   coverage   loc                     package\n",
       "0      0.97  2137           org/junit/runners\n",
       "1      0.69  1782  org/junit/internal/runners\n",
       "2      0.91  1498     org/junit/runners/model\n",
       "3      0.91  1403             org/junit/rules\n",
       "4      0.93  1379          org/junit/internal"
      ]
     },
     "execution_count": 3,
     "metadata": {},
     "output_type": "execute_result"
    }
   ],
   "source": [
    "df.head()"
   ]
  },
  {
   "cell_type": "markdown",
   "metadata": {},
   "source": [
    "Die Daten werden analog zu Markus Harrers Blogbeitrag (https://feststelltaste.github.io/software-analytics/notebooks/vis/experimental/pandas-pygal/effective_charting.html) aufbereitet. Hierfür wird eine neue Spalte namens ```color``` im Dataframe erzeugt und mit einem Farbverlauf von grün nach rot entsprechend der Testabdeckung befüllt. Dafür wird die Colormap ```RdYlGn``` und die Methode ```rgb2hex()``` von matplotlib verwendet. "
   ]
  },
  {
   "cell_type": "code",
   "execution_count": 4,
   "metadata": {},
   "outputs": [
    {
     "data": {
      "text/html": [
       "<div>\n",
       "<style scoped>\n",
       "    .dataframe tbody tr th:only-of-type {\n",
       "        vertical-align: middle;\n",
       "    }\n",
       "\n",
       "    .dataframe tbody tr th {\n",
       "        vertical-align: top;\n",
       "    }\n",
       "\n",
       "    .dataframe thead th {\n",
       "        text-align: right;\n",
       "    }\n",
       "</style>\n",
       "<table border=\"1\" class=\"dataframe\">\n",
       "  <thead>\n",
       "    <tr style=\"text-align: right;\">\n",
       "      <th></th>\n",
       "      <th>coverage</th>\n",
       "      <th>loc</th>\n",
       "      <th>package</th>\n",
       "      <th>color</th>\n",
       "    </tr>\n",
       "  </thead>\n",
       "  <tbody>\n",
       "    <tr>\n",
       "      <th>0</th>\n",
       "      <td>0.97</td>\n",
       "      <td>2137</td>\n",
       "      <td>org/junit/runners</td>\n",
       "      <td>#07753e</td>\n",
       "    </tr>\n",
       "    <tr>\n",
       "      <th>1</th>\n",
       "      <td>0.69</td>\n",
       "      <td>1782</td>\n",
       "      <td>org/junit/internal/runners</td>\n",
       "      <td>#abdb6d</td>\n",
       "    </tr>\n",
       "    <tr>\n",
       "      <th>2</th>\n",
       "      <td>0.91</td>\n",
       "      <td>1498</td>\n",
       "      <td>org/junit/runners/model</td>\n",
       "      <td>#17934e</td>\n",
       "    </tr>\n",
       "    <tr>\n",
       "      <th>3</th>\n",
       "      <td>0.91</td>\n",
       "      <td>1403</td>\n",
       "      <td>org/junit/rules</td>\n",
       "      <td>#17934e</td>\n",
       "    </tr>\n",
       "    <tr>\n",
       "      <th>4</th>\n",
       "      <td>0.93</td>\n",
       "      <td>1379</td>\n",
       "      <td>org/junit/internal</td>\n",
       "      <td>#118848</td>\n",
       "    </tr>\n",
       "  </tbody>\n",
       "</table>\n",
       "</div>"
      ],
      "text/plain": [
       "   coverage   loc                     package    color\n",
       "0      0.97  2137           org/junit/runners  #07753e\n",
       "1      0.69  1782  org/junit/internal/runners  #abdb6d\n",
       "2      0.91  1498     org/junit/runners/model  #17934e\n",
       "3      0.91  1403             org/junit/rules  #17934e\n",
       "4      0.93  1379          org/junit/internal  #118848"
      ]
     },
     "execution_count": 4,
     "metadata": {},
     "output_type": "execute_result"
    }
   ],
   "source": [
    "# Erzeuge eine neue Spalte color und berechne die entsprechende Farbe in Abhängigkeit zu coverage.\n",
    "from matplotlib.cm import RdYlGn\n",
    "from matplotlib.colors import rgb2hex\n",
    "\n",
    "df['color'] = df['coverage'].apply(lambda x : rgb2hex(RdYlGn(x)))\n",
    "df.head()\n"
   ]
  },
  {
   "cell_type": "markdown",
   "metadata": {},
   "source": [
    "Die Testabdeckung für das gesamte System wird mittels der Methode ```mean()``` für die Spalte ```coverage``` berechnet und in der Variable ```coverage``` abgebildet."
   ]
  },
  {
   "cell_type": "code",
   "execution_count": 5,
   "metadata": {},
   "outputs": [
    {
     "name": "stdout",
     "output_type": "stream",
     "text": [
      "0.8566666666666666\n"
     ]
    }
   ],
   "source": [
    "# Berechne den Mittelwert der Spalte coverage und speichere diesen in der Variable coverage.\n",
    "coverage = df['coverage'].mean()\n",
    "print(coverage)"
   ]
  },
  {
   "cell_type": "markdown",
   "metadata": {},
   "source": [
    "## 4. Visualisierung\n",
    "Die Daten werden mittels einer Treemap visualisiert (http://www.pygal.org/en/stable/documentation/types/treemap.html), wobei die Anzahl der Quelltextzeilen auf die Größe und die Testabdeckung auf die Farbe (rot = gering, grün = hoch) der Pakete abgebildet wird. Zudem wird die Testabdeckung für das gesamte System im Titel der Treemap angegeben."
   ]
  },
  {
   "cell_type": "code",
   "execution_count": 6,
   "metadata": {},
   "outputs": [],
   "source": [
    "from IPython.display import display, HTML\n",
    "\n",
    "base_html = \"\"\"\n",
    "<!DOCTYPE html>\n",
    "<html>\n",
    "  <head>\n",
    "  <script type=\"text/javascript\" src=\"http://kozea.github.com/pygal.js/javascripts/svg.jquery.js\"></script>\n",
    "  <script type=\"text/javascript\" src=\"https://kozea.github.io/pygal.js/2.0.x/pygal-tooltips.min.js\"\"></script>\n",
    "  </head>\n",
    "  <body>\n",
    "    <figure>\n",
    "      {rendered_chart}\n",
    "    </figure>\n",
    "  </body>\n",
    "</html>\n",
    "\"\"\""
   ]
  },
  {
   "cell_type": "code",
   "execution_count": 7,
   "metadata": {},
   "outputs": [
    {
     "data": {
      "text/html": [
       "\n",
       "<!DOCTYPE html>\n",
       "<html>\n",
       "  <head>\n",
       "  <script type=\"text/javascript\" src=\"http://kozea.github.com/pygal.js/javascripts/svg.jquery.js\"></script>\n",
       "  <script type=\"text/javascript\" src=\"https://kozea.github.io/pygal.js/2.0.x/pygal-tooltips.min.js\"\"></script>\n",
       "  </head>\n",
       "  <body>\n",
       "    <figure>\n",
       "      <?xml version='1.0' encoding='utf-8'?>\n",
       "<svg xmlns:xlink=\"http://www.w3.org/1999/xlink\" xmlns=\"http://www.w3.org/2000/svg\" id=\"chart-2e6e0027-3f10-4b92-96ea-21ccd86ae675\" class=\"pygal-chart\" viewBox=\"0 0 800 250\"><!--Generated with pygal 2.4.0 (lxml) ©Kozea 2012-2016 on 2019-11-30--><!--http://pygal.org--><!--http://github.com/Kozea/pygal--><defs><style type=\"text/css\">#chart-2e6e0027-3f10-4b92-96ea-21ccd86ae675{-webkit-user-select:none;-webkit-font-smoothing:antialiased;font-family:Consolas,\"Liberation Mono\",Menlo,Courier,monospace}#chart-2e6e0027-3f10-4b92-96ea-21ccd86ae675 .title{font-family:Consolas,\"Liberation Mono\",Menlo,Courier,monospace;font-size:16px}#chart-2e6e0027-3f10-4b92-96ea-21ccd86ae675 .legends .legend text{font-family:Consolas,\"Liberation Mono\",Menlo,Courier,monospace;font-size:14px}#chart-2e6e0027-3f10-4b92-96ea-21ccd86ae675 .axis text{font-family:Consolas,\"Liberation Mono\",Menlo,Courier,monospace;font-size:10px}#chart-2e6e0027-3f10-4b92-96ea-21ccd86ae675 .axis text.major{font-family:Consolas,\"Liberation Mono\",Menlo,Courier,monospace;font-size:10px}#chart-2e6e0027-3f10-4b92-96ea-21ccd86ae675 .text-overlay text.value{font-family:Consolas,\"Liberation Mono\",Menlo,Courier,monospace;font-size:16px}#chart-2e6e0027-3f10-4b92-96ea-21ccd86ae675 .text-overlay text.label{font-family:Consolas,\"Liberation Mono\",Menlo,Courier,monospace;font-size:10px}#chart-2e6e0027-3f10-4b92-96ea-21ccd86ae675 .tooltip{font-family:Consolas,\"Liberation Mono\",Menlo,Courier,monospace;font-size:14px}#chart-2e6e0027-3f10-4b92-96ea-21ccd86ae675 text.no_data{font-family:Consolas,\"Liberation Mono\",Menlo,Courier,monospace;font-size:64px}\n",
       "#chart-2e6e0027-3f10-4b92-96ea-21ccd86ae675{background-color:rgba(249,249,249,1)}#chart-2e6e0027-3f10-4b92-96ea-21ccd86ae675 path,#chart-2e6e0027-3f10-4b92-96ea-21ccd86ae675 line,#chart-2e6e0027-3f10-4b92-96ea-21ccd86ae675 rect,#chart-2e6e0027-3f10-4b92-96ea-21ccd86ae675 circle{-webkit-transition:150ms;-moz-transition:150ms;transition:150ms}#chart-2e6e0027-3f10-4b92-96ea-21ccd86ae675 .graph &gt; .background{fill:rgba(249,249,249,1)}#chart-2e6e0027-3f10-4b92-96ea-21ccd86ae675 .plot &gt; .background{fill:rgba(255,255,255,1)}#chart-2e6e0027-3f10-4b92-96ea-21ccd86ae675 .graph{fill:rgba(0,0,0,.87)}#chart-2e6e0027-3f10-4b92-96ea-21ccd86ae675 text.no_data{fill:rgba(0,0,0,1)}#chart-2e6e0027-3f10-4b92-96ea-21ccd86ae675 .title{fill:rgba(0,0,0,1)}#chart-2e6e0027-3f10-4b92-96ea-21ccd86ae675 .legends .legend text{fill:rgba(0,0,0,.87)}#chart-2e6e0027-3f10-4b92-96ea-21ccd86ae675 .legends .legend:hover text{fill:rgba(0,0,0,1)}#chart-2e6e0027-3f10-4b92-96ea-21ccd86ae675 .axis .line{stroke:rgba(0,0,0,1)}#chart-2e6e0027-3f10-4b92-96ea-21ccd86ae675 .axis .guide.line{stroke:rgba(0,0,0,.54)}#chart-2e6e0027-3f10-4b92-96ea-21ccd86ae675 .axis .major.line{stroke:rgba(0,0,0,.87)}#chart-2e6e0027-3f10-4b92-96ea-21ccd86ae675 .axis text.major{fill:rgba(0,0,0,1)}#chart-2e6e0027-3f10-4b92-96ea-21ccd86ae675 .axis.y .guides:hover .guide.line,#chart-2e6e0027-3f10-4b92-96ea-21ccd86ae675 .line-graph .axis.x .guides:hover .guide.line,#chart-2e6e0027-3f10-4b92-96ea-21ccd86ae675 .stackedline-graph .axis.x .guides:hover .guide.line,#chart-2e6e0027-3f10-4b92-96ea-21ccd86ae675 .xy-graph .axis.x .guides:hover .guide.line{stroke:rgba(0,0,0,1)}#chart-2e6e0027-3f10-4b92-96ea-21ccd86ae675 .axis .guides:hover text{fill:rgba(0,0,0,1)}#chart-2e6e0027-3f10-4b92-96ea-21ccd86ae675 .reactive{fill-opacity:.7;stroke-opacity:.8}#chart-2e6e0027-3f10-4b92-96ea-21ccd86ae675 .ci{stroke:rgba(0,0,0,.87)}#chart-2e6e0027-3f10-4b92-96ea-21ccd86ae675 .reactive.active,#chart-2e6e0027-3f10-4b92-96ea-21ccd86ae675 .active .reactive{fill-opacity:.8;stroke-opacity:.9;stroke-width:4}#chart-2e6e0027-3f10-4b92-96ea-21ccd86ae675 .ci .reactive.active{stroke-width:1.5}#chart-2e6e0027-3f10-4b92-96ea-21ccd86ae675 .series text{fill:rgba(0,0,0,1)}#chart-2e6e0027-3f10-4b92-96ea-21ccd86ae675 .tooltip rect{fill:rgba(255,255,255,1);stroke:rgba(0,0,0,1);-webkit-transition:opacity 150ms;-moz-transition:opacity 150ms;transition:opacity 150ms}#chart-2e6e0027-3f10-4b92-96ea-21ccd86ae675 .tooltip .label{fill:rgba(0,0,0,.87)}#chart-2e6e0027-3f10-4b92-96ea-21ccd86ae675 .tooltip .label{fill:rgba(0,0,0,.87)}#chart-2e6e0027-3f10-4b92-96ea-21ccd86ae675 .tooltip .legend{font-size:.8em;fill:rgba(0,0,0,.54)}#chart-2e6e0027-3f10-4b92-96ea-21ccd86ae675 .tooltip .x_label{font-size:.6em;fill:rgba(0,0,0,1)}#chart-2e6e0027-3f10-4b92-96ea-21ccd86ae675 .tooltip .xlink{font-size:.5em;text-decoration:underline}#chart-2e6e0027-3f10-4b92-96ea-21ccd86ae675 .tooltip .value{font-size:1.5em}#chart-2e6e0027-3f10-4b92-96ea-21ccd86ae675 .bound{font-size:.5em}#chart-2e6e0027-3f10-4b92-96ea-21ccd86ae675 .max-value{font-size:.75em;fill:rgba(0,0,0,.54)}#chart-2e6e0027-3f10-4b92-96ea-21ccd86ae675 .map-element{fill:rgba(255,255,255,1);stroke:rgba(0,0,0,.54) !important}#chart-2e6e0027-3f10-4b92-96ea-21ccd86ae675 .map-element .reactive{fill-opacity:inherit;stroke-opacity:inherit}#chart-2e6e0027-3f10-4b92-96ea-21ccd86ae675 .color-0,#chart-2e6e0027-3f10-4b92-96ea-21ccd86ae675 .color-0 a:visited{stroke:#f44336;fill:#f44336}#chart-2e6e0027-3f10-4b92-96ea-21ccd86ae675 .color-1,#chart-2e6e0027-3f10-4b92-96ea-21ccd86ae675 .color-1 a:visited{stroke:#3f51b5;fill:#3f51b5}#chart-2e6e0027-3f10-4b92-96ea-21ccd86ae675 .color-2,#chart-2e6e0027-3f10-4b92-96ea-21ccd86ae675 .color-2 a:visited{stroke:#009688;fill:#009688}#chart-2e6e0027-3f10-4b92-96ea-21ccd86ae675 .color-3,#chart-2e6e0027-3f10-4b92-96ea-21ccd86ae675 .color-3 a:visited{stroke:#ffc107;fill:#ffc107}#chart-2e6e0027-3f10-4b92-96ea-21ccd86ae675 .color-4,#chart-2e6e0027-3f10-4b92-96ea-21ccd86ae675 .color-4 a:visited{stroke:#ff5722;fill:#ff5722}#chart-2e6e0027-3f10-4b92-96ea-21ccd86ae675 .color-5,#chart-2e6e0027-3f10-4b92-96ea-21ccd86ae675 .color-5 a:visited{stroke:#9c27b0;fill:#9c27b0}#chart-2e6e0027-3f10-4b92-96ea-21ccd86ae675 .color-6,#chart-2e6e0027-3f10-4b92-96ea-21ccd86ae675 .color-6 a:visited{stroke:#03a9f4;fill:#03a9f4}#chart-2e6e0027-3f10-4b92-96ea-21ccd86ae675 .color-7,#chart-2e6e0027-3f10-4b92-96ea-21ccd86ae675 .color-7 a:visited{stroke:#8bc34a;fill:#8bc34a}#chart-2e6e0027-3f10-4b92-96ea-21ccd86ae675 .color-8,#chart-2e6e0027-3f10-4b92-96ea-21ccd86ae675 .color-8 a:visited{stroke:#ff9800;fill:#ff9800}#chart-2e6e0027-3f10-4b92-96ea-21ccd86ae675 .color-9,#chart-2e6e0027-3f10-4b92-96ea-21ccd86ae675 .color-9 a:visited{stroke:#e91e63;fill:#e91e63}#chart-2e6e0027-3f10-4b92-96ea-21ccd86ae675 .color-10,#chart-2e6e0027-3f10-4b92-96ea-21ccd86ae675 .color-10 a:visited{stroke:#2196f3;fill:#2196f3}#chart-2e6e0027-3f10-4b92-96ea-21ccd86ae675 .color-11,#chart-2e6e0027-3f10-4b92-96ea-21ccd86ae675 .color-11 a:visited{stroke:#4caf50;fill:#4caf50}#chart-2e6e0027-3f10-4b92-96ea-21ccd86ae675 .color-12,#chart-2e6e0027-3f10-4b92-96ea-21ccd86ae675 .color-12 a:visited{stroke:#ffeb3b;fill:#ffeb3b}#chart-2e6e0027-3f10-4b92-96ea-21ccd86ae675 .color-13,#chart-2e6e0027-3f10-4b92-96ea-21ccd86ae675 .color-13 a:visited{stroke:#673ab7;fill:#673ab7}#chart-2e6e0027-3f10-4b92-96ea-21ccd86ae675 .color-14,#chart-2e6e0027-3f10-4b92-96ea-21ccd86ae675 .color-14 a:visited{stroke:#00bcd4;fill:#00bcd4}#chart-2e6e0027-3f10-4b92-96ea-21ccd86ae675 .color-15,#chart-2e6e0027-3f10-4b92-96ea-21ccd86ae675 .color-15 a:visited{stroke:#cddc39;fill:#cddc39}#chart-2e6e0027-3f10-4b92-96ea-21ccd86ae675 .color-16,#chart-2e6e0027-3f10-4b92-96ea-21ccd86ae675 .color-16 a:visited{stroke:#9e9e9e;fill:#9e9e9e}#chart-2e6e0027-3f10-4b92-96ea-21ccd86ae675 .color-17,#chart-2e6e0027-3f10-4b92-96ea-21ccd86ae675 .color-17 a:visited{stroke:#607d8b;fill:#607d8b}#chart-2e6e0027-3f10-4b92-96ea-21ccd86ae675 .color-18,#chart-2e6e0027-3f10-4b92-96ea-21ccd86ae675 .color-18 a:visited{stroke:#7b0f07;fill:#7b0f07}#chart-2e6e0027-3f10-4b92-96ea-21ccd86ae675 .color-19,#chart-2e6e0027-3f10-4b92-96ea-21ccd86ae675 .color-19 a:visited{stroke:#141938;fill:#141938}#chart-2e6e0027-3f10-4b92-96ea-21ccd86ae675 .color-20,#chart-2e6e0027-3f10-4b92-96ea-21ccd86ae675 .color-20 a:visited{stroke:#000000;fill:#000000}#chart-2e6e0027-3f10-4b92-96ea-21ccd86ae675 .color-21,#chart-2e6e0027-3f10-4b92-96ea-21ccd86ae675 .color-21 a:visited{stroke:#5e4600;fill:#5e4600}#chart-2e6e0027-3f10-4b92-96ea-21ccd86ae675 .color-22,#chart-2e6e0027-3f10-4b92-96ea-21ccd86ae675 .color-22 a:visited{stroke:#791d00;fill:#791d00}#chart-2e6e0027-3f10-4b92-96ea-21ccd86ae675 .color-23,#chart-2e6e0027-3f10-4b92-96ea-21ccd86ae675 .color-23 a:visited{stroke:#220826;fill:#220826}#chart-2e6e0027-3f10-4b92-96ea-21ccd86ae675 .color-24,#chart-2e6e0027-3f10-4b92-96ea-21ccd86ae675 .color-24 a:visited{stroke:#01364e;fill:#01364e}#chart-2e6e0027-3f10-4b92-96ea-21ccd86ae675 .color-25,#chart-2e6e0027-3f10-4b92-96ea-21ccd86ae675 .color-25 a:visited{stroke:#344c19;fill:#344c19}#chart-2e6e0027-3f10-4b92-96ea-21ccd86ae675 .color-26,#chart-2e6e0027-3f10-4b92-96ea-21ccd86ae675 .color-26 a:visited{stroke:#573400;fill:#573400}#chart-2e6e0027-3f10-4b92-96ea-21ccd86ae675 .text-overlay .color-0 text{fill:black}#chart-2e6e0027-3f10-4b92-96ea-21ccd86ae675 .text-overlay .color-1 text{fill:black}#chart-2e6e0027-3f10-4b92-96ea-21ccd86ae675 .text-overlay .color-2 text{fill:black}#chart-2e6e0027-3f10-4b92-96ea-21ccd86ae675 .text-overlay .color-3 text{fill:black}#chart-2e6e0027-3f10-4b92-96ea-21ccd86ae675 .text-overlay .color-4 text{fill:black}#chart-2e6e0027-3f10-4b92-96ea-21ccd86ae675 .text-overlay .color-5 text{fill:black}#chart-2e6e0027-3f10-4b92-96ea-21ccd86ae675 .text-overlay .color-6 text{fill:black}#chart-2e6e0027-3f10-4b92-96ea-21ccd86ae675 .text-overlay .color-7 text{fill:black}#chart-2e6e0027-3f10-4b92-96ea-21ccd86ae675 .text-overlay .color-8 text{fill:black}#chart-2e6e0027-3f10-4b92-96ea-21ccd86ae675 .text-overlay .color-9 text{fill:black}#chart-2e6e0027-3f10-4b92-96ea-21ccd86ae675 .text-overlay .color-10 text{fill:black}#chart-2e6e0027-3f10-4b92-96ea-21ccd86ae675 .text-overlay .color-11 text{fill:black}#chart-2e6e0027-3f10-4b92-96ea-21ccd86ae675 .text-overlay .color-12 text{fill:black}#chart-2e6e0027-3f10-4b92-96ea-21ccd86ae675 .text-overlay .color-13 text{fill:black}#chart-2e6e0027-3f10-4b92-96ea-21ccd86ae675 .text-overlay .color-14 text{fill:black}#chart-2e6e0027-3f10-4b92-96ea-21ccd86ae675 .text-overlay .color-15 text{fill:black}#chart-2e6e0027-3f10-4b92-96ea-21ccd86ae675 .text-overlay .color-16 text{fill:black}#chart-2e6e0027-3f10-4b92-96ea-21ccd86ae675 .text-overlay .color-17 text{fill:black}#chart-2e6e0027-3f10-4b92-96ea-21ccd86ae675 .text-overlay .color-18 text{fill:black}#chart-2e6e0027-3f10-4b92-96ea-21ccd86ae675 .text-overlay .color-19 text{fill:white}#chart-2e6e0027-3f10-4b92-96ea-21ccd86ae675 .text-overlay .color-20 text{fill:white}#chart-2e6e0027-3f10-4b92-96ea-21ccd86ae675 .text-overlay .color-21 text{fill:black}#chart-2e6e0027-3f10-4b92-96ea-21ccd86ae675 .text-overlay .color-22 text{fill:black}#chart-2e6e0027-3f10-4b92-96ea-21ccd86ae675 .text-overlay .color-23 text{fill:white}#chart-2e6e0027-3f10-4b92-96ea-21ccd86ae675 .text-overlay .color-24 text{fill:white}#chart-2e6e0027-3f10-4b92-96ea-21ccd86ae675 .text-overlay .color-25 text{fill:black}#chart-2e6e0027-3f10-4b92-96ea-21ccd86ae675 .text-overlay .color-26 text{fill:white}\n",
       "#chart-2e6e0027-3f10-4b92-96ea-21ccd86ae675 text.no_data{text-anchor:middle}#chart-2e6e0027-3f10-4b92-96ea-21ccd86ae675 .guide.line{fill:none}#chart-2e6e0027-3f10-4b92-96ea-21ccd86ae675 .centered{text-anchor:middle}#chart-2e6e0027-3f10-4b92-96ea-21ccd86ae675 .title{text-anchor:middle}#chart-2e6e0027-3f10-4b92-96ea-21ccd86ae675 .legends .legend text{fill-opacity:1}#chart-2e6e0027-3f10-4b92-96ea-21ccd86ae675 .axis.x text{text-anchor:middle}#chart-2e6e0027-3f10-4b92-96ea-21ccd86ae675 .axis.x:not(.web) text[transform]{text-anchor:start}#chart-2e6e0027-3f10-4b92-96ea-21ccd86ae675 .axis.x:not(.web) text[transform].backwards{text-anchor:end}#chart-2e6e0027-3f10-4b92-96ea-21ccd86ae675 .axis.y text{text-anchor:end}#chart-2e6e0027-3f10-4b92-96ea-21ccd86ae675 .axis.y text[transform].backwards{text-anchor:start}#chart-2e6e0027-3f10-4b92-96ea-21ccd86ae675 .axis.y2 text{text-anchor:start}#chart-2e6e0027-3f10-4b92-96ea-21ccd86ae675 .axis.y2 text[transform].backwards{text-anchor:end}#chart-2e6e0027-3f10-4b92-96ea-21ccd86ae675 .axis .guide.line{stroke-dasharray:4,4}#chart-2e6e0027-3f10-4b92-96ea-21ccd86ae675 .axis .major.guide.line{stroke-dasharray:6,6}#chart-2e6e0027-3f10-4b92-96ea-21ccd86ae675 .horizontal .axis.y .guide.line,#chart-2e6e0027-3f10-4b92-96ea-21ccd86ae675 .horizontal .axis.y2 .guide.line,#chart-2e6e0027-3f10-4b92-96ea-21ccd86ae675 .vertical .axis.x .guide.line{opacity:0}#chart-2e6e0027-3f10-4b92-96ea-21ccd86ae675 .horizontal .axis.always_show .guide.line,#chart-2e6e0027-3f10-4b92-96ea-21ccd86ae675 .vertical .axis.always_show .guide.line{opacity:1 !important}#chart-2e6e0027-3f10-4b92-96ea-21ccd86ae675 .axis.y .guides:hover .guide.line,#chart-2e6e0027-3f10-4b92-96ea-21ccd86ae675 .axis.y2 .guides:hover .guide.line,#chart-2e6e0027-3f10-4b92-96ea-21ccd86ae675 .axis.x .guides:hover .guide.line{opacity:1}#chart-2e6e0027-3f10-4b92-96ea-21ccd86ae675 .axis .guides:hover text{opacity:1}#chart-2e6e0027-3f10-4b92-96ea-21ccd86ae675 .nofill{fill:none}#chart-2e6e0027-3f10-4b92-96ea-21ccd86ae675 .subtle-fill{fill-opacity:.2}#chart-2e6e0027-3f10-4b92-96ea-21ccd86ae675 .dot{stroke-width:1px;fill-opacity:1}#chart-2e6e0027-3f10-4b92-96ea-21ccd86ae675 .dot.active{stroke-width:5px}#chart-2e6e0027-3f10-4b92-96ea-21ccd86ae675 .dot.negative{fill:transparent}#chart-2e6e0027-3f10-4b92-96ea-21ccd86ae675 text,#chart-2e6e0027-3f10-4b92-96ea-21ccd86ae675 tspan{stroke:none !important}#chart-2e6e0027-3f10-4b92-96ea-21ccd86ae675 .series text.active{opacity:1}#chart-2e6e0027-3f10-4b92-96ea-21ccd86ae675 .tooltip rect{fill-opacity:.95;stroke-width:.5}#chart-2e6e0027-3f10-4b92-96ea-21ccd86ae675 .tooltip text{fill-opacity:1}#chart-2e6e0027-3f10-4b92-96ea-21ccd86ae675 .showable{visibility:hidden}#chart-2e6e0027-3f10-4b92-96ea-21ccd86ae675 .showable.shown{visibility:visible}#chart-2e6e0027-3f10-4b92-96ea-21ccd86ae675 .gauge-background{fill:rgba(229,229,229,1);stroke:none}#chart-2e6e0027-3f10-4b92-96ea-21ccd86ae675 .bg-lines{stroke:rgba(249,249,249,1);stroke-width:2px}</style><script type=\"text/javascript\">window.pygal = window.pygal || {};window.pygal.config = window.pygal.config || {};window.pygal.config['2e6e0027-3f10-4b92-96ea-21ccd86ae675'] = {\"allow_interruptions\": false, \"box_mode\": \"extremes\", \"classes\": [\"pygal-chart\"], \"css\": [\"file://style.css\", \"file://graph.css\"], \"defs\": [], \"disable_xml_declaration\": false, \"dots_size\": 2.5, \"dynamic_print_values\": false, \"explicit_size\": false, \"fill\": false, \"force_uri_protocol\": \"https\", \"formatter\": null, \"half_pie\": false, \"height\": 250, \"include_x_axis\": false, \"inner_radius\": 0, \"interpolate\": null, \"interpolation_parameters\": {}, \"interpolation_precision\": 250, \"inverse_y_axis\": false, \"js\": [\"//kozea.github.io/pygal.js/2.0.x/pygal-tooltips.min.js\"], \"legend_at_bottom\": false, \"legend_at_bottom_columns\": null, \"legend_box_size\": 12, \"logarithmic\": false, \"margin\": 20, \"margin_bottom\": null, \"margin_left\": null, \"margin_right\": null, \"margin_top\": null, \"max_scale\": 16, \"min_scale\": 4, \"missing_value_fill_truncation\": \"x\", \"no_data_text\": \"No data\", \"no_prefix\": false, \"order_min\": null, \"pretty_print\": false, \"print_labels\": false, \"print_values\": false, \"print_values_position\": \"center\", \"print_zeroes\": true, \"range\": null, \"rounded_bars\": null, \"secondary_range\": null, \"show_dots\": true, \"show_legend\": false, \"show_minor_x_labels\": true, \"show_minor_y_labels\": true, \"show_only_major_dots\": false, \"show_x_guides\": false, \"show_x_labels\": true, \"show_y_guides\": true, \"show_y_labels\": true, \"spacing\": 10, \"stack_from_top\": false, \"strict\": false, \"stroke\": true, \"stroke_style\": null, \"style\": {\"background\": \"rgba(249, 249, 249, 1)\", \"ci_colors\": [], \"colors\": [\"#F44336\", \"#3F51B5\", \"#009688\", \"#FFC107\", \"#FF5722\", \"#9C27B0\", \"#03A9F4\", \"#8BC34A\", \"#FF9800\", \"#E91E63\", \"#2196F3\", \"#4CAF50\", \"#FFEB3B\", \"#673AB7\", \"#00BCD4\", \"#CDDC39\", \"#9E9E9E\", \"#607D8B\"], \"font_family\": \"Consolas, \\\"Liberation Mono\\\", Menlo, Courier, monospace\", \"foreground\": \"rgba(0, 0, 0, .87)\", \"foreground_strong\": \"rgba(0, 0, 0, 1)\", \"foreground_subtle\": \"rgba(0, 0, 0, .54)\", \"guide_stroke_dasharray\": \"4,4\", \"label_font_family\": \"Consolas, \\\"Liberation Mono\\\", Menlo, Courier, monospace\", \"label_font_size\": 10, \"legend_font_family\": \"Consolas, \\\"Liberation Mono\\\", Menlo, Courier, monospace\", \"legend_font_size\": 14, \"major_guide_stroke_dasharray\": \"6,6\", \"major_label_font_family\": \"Consolas, \\\"Liberation Mono\\\", Menlo, Courier, monospace\", \"major_label_font_size\": 10, \"no_data_font_family\": \"Consolas, \\\"Liberation Mono\\\", Menlo, Courier, monospace\", \"no_data_font_size\": 64, \"opacity\": \".7\", \"opacity_hover\": \".8\", \"plot_background\": \"rgba(255, 255, 255, 1)\", \"stroke_opacity\": \".8\", \"stroke_opacity_hover\": \".9\", \"title_font_family\": \"Consolas, \\\"Liberation Mono\\\", Menlo, Courier, monospace\", \"title_font_size\": 16, \"tooltip_font_family\": \"Consolas, \\\"Liberation Mono\\\", Menlo, Courier, monospace\", \"tooltip_font_size\": 14, \"transition\": \"150ms\", \"value_background\": \"rgba(229, 229, 229, 1)\", \"value_colors\": [], \"value_font_family\": \"Consolas, \\\"Liberation Mono\\\", Menlo, Courier, monospace\", \"value_font_size\": 16, \"value_label_font_family\": \"Consolas, \\\"Liberation Mono\\\", Menlo, Courier, monospace\", \"value_label_font_size\": 10}, \"title\": \"Testabdeckung (Prozent bzw. gr\\u00fcn=hoch &amp; rot=gering) und Gr\\u00f6\\u00dfe (Quelltextzeilen) auf Paketebene (gesamt: 86.0 %)\", \"tooltip_border_radius\": 0, \"tooltip_fancy_mode\": true, \"truncate_label\": null, \"truncate_legend\": null, \"width\": 800, \"x_label_rotation\": 0, \"x_labels\": null, \"x_labels_major\": null, \"x_labels_major_count\": null, \"x_labels_major_every\": null, \"x_title\": null, \"xrange\": null, \"y_label_rotation\": 0, \"y_labels\": null, \"y_labels_major\": null, \"y_labels_major_count\": null, \"y_labels_major_every\": null, \"y_title\": null, \"zero\": 0, \"legends\": [\"org/junit/runners\", \"org/junit/internal/runners\", \"org/junit/runners/model\", \"org/junit/rules\", \"org/junit/internal\", \"org/junit/runner\", \"org/junit\", \"org/junit/experimental/theories/internal\", \"org/junit/experimental/theories\", \"org/junit/runners/parameterized\", \"org/junit/experimental/categories\", \"org/junit/runner/notification\", \"org/junit/internal/runners/statements\", \"org/junit/experimental/max\", \"org/junit/internal/runners/rules\", \"org/junit/internal/builders\", \"org/junit/validator\", \"org/junit/internal/management\", \"org/junit/experimental/results\", \"org/junit/internal/matchers\", \"org/junit/runner/manipulation\", \"org/junit/internal/requests\", \"org/junit/internal/runners/model\", \"org/junit/experimental\", \"org/junit/experimental/runners\", \"org/junit/experimental/theories/suppliers\", \"org/junit/matchers\"]}</script><script type=\"text/javascript\" xlink:href=\"https://kozea.github.io/pygal.js/2.0.x/pygal-tooltips.min.js\"/></defs><title>Testabdeckung (Prozent bzw. grün=hoch &amp; rot=gering) und Größe (Quelltextzeilen) auf Paketebene (gesamt: 86.0 %)</title><g class=\"graph treemap-graph vertical\"><rect class=\"background\" height=\"250\" width=\"800\" x=\"0\" y=\"0\"/><g class=\"plot\" transform=\"translate(20, 72)\"><rect class=\"background\" height=\"158\" width=\"760\" x=\"0\" y=\"0\"/><g class=\"series serie-0 color-0\"><g class=\"rects\"><g class=\"rect\" style=\"fill: #07753e; stroke: #07753e\"><desc class=\"label\">Testabdeckung: 97.0 %</desc><rect class=\"rect reactive tooltip-trigger\" height=\"151.92307692307693\" width=\"87.48761042878692\" x=\"14.615384615384611\" y=\"3.038461538461519\"/><desc class=\"value\">Größe: 2137 Zeilen </desc><desc class=\"x centered\">58.359189829778074</desc><desc class=\"y centered\">78.99999999999999</desc></g></g></g><g class=\"series serie-1 color-1\"><g class=\"rects\"><g class=\"rect\" style=\"fill: #abdb6d; stroke: #abdb6d\"><desc class=\"label\">Testabdeckung: 69.0 %</desc><rect class=\"rect reactive tooltip-trigger\" height=\"151.92307692307693\" width=\"72.95410471881058\" x=\"102.10299504417154\" y=\"3.038461538461519\"/><desc class=\"value\">Größe: 1782 Zeilen </desc><desc class=\"x centered\">138.58004740357683</desc><desc class=\"y centered\">78.99999999999999</desc></g></g></g><g class=\"series serie-2 color-2\"><g class=\"rects\"><g class=\"rect\" style=\"fill: #17934e; stroke: #17934e\"><desc class=\"label\">Testabdeckung: 91.0 %</desc><rect class=\"rect reactive tooltip-trigger\" height=\"151.92307692307693\" width=\"61.3273001508295\" x=\"175.05709976298212\" y=\"3.038461538461519\"/><desc class=\"value\">Größe: 1498 Zeilen </desc><desc class=\"x centered\">205.72074983839687</desc><desc class=\"y centered\">78.99999999999999</desc></g></g></g><g class=\"series serie-3 color-3\"><g class=\"rects\"><g class=\"rect\" style=\"fill: #17934e; stroke: #17934e\"><desc class=\"label\">Testabdeckung: 91.0 %</desc><rect class=\"rect reactive tooltip-trigger\" height=\"76.6168500801858\" width=\"113.89355742296917\" x=\"236.38439991381162\" y=\"78.34468838135265\"/><desc class=\"value\">Größe: 1403 Zeilen </desc><desc class=\"x centered\">293.3311786252962</desc><desc class=\"y centered\">116.65311342144555</desc></g></g></g><g class=\"series serie-4 color-4\"><g class=\"rects\"><g class=\"rect\" style=\"fill: #118848; stroke: #118848\"><desc class=\"label\">Testabdeckung: 93.0 %</desc><rect class=\"rect reactive tooltip-trigger\" height=\"75.30622684289114\" width=\"113.89355742296917\" x=\"236.38439991381162\" y=\"3.038461538461519\"/><desc class=\"value\">Größe: 1379 Zeilen </desc><desc class=\"x centered\">293.3311786252962</desc><desc class=\"y centered\">40.691574959907086</desc></g></g></g><g class=\"series serie-5 color-5\"><g class=\"rects\"><g class=\"rect\" style=\"fill: #05713c; stroke: #05713c\"><desc class=\"label\">Testabdeckung: 98.0 %</desc><rect class=\"rect reactive tooltip-trigger\" height=\"151.92307692307693\" width=\"51.78840767076059\" x=\"350.2779573367808\" y=\"3.038461538461519\"/><desc class=\"value\">Größe: 1265 Zeilen </desc><desc class=\"x centered\">376.17216117216105</desc><desc class=\"y centered\">78.99999999999999</desc></g></g></g><g class=\"series serie-6 color-6\"><g class=\"rects\"><g class=\"rect\" style=\"fill: #57b65f; stroke: #57b65f\"><desc class=\"label\">Testabdeckung: 82.0 %</desc><rect class=\"rect reactive tooltip-trigger\" height=\"106.0906946663623\" width=\"66.54023779919464\" x=\"402.0663650075414\" y=\"48.87084379517616\"/><desc class=\"value\">Größe: 1135 Zeilen </desc><desc class=\"x centered\">435.3364839071387</desc><desc class=\"y centered\">101.9161911283573</desc></g></g></g><g class=\"series serie-7 color-7\"><g class=\"rects\"><g class=\"rect\" style=\"fill: #0a7b41; stroke: #0a7b41\"><desc class=\"label\">Testabdeckung: 96.0 %</desc><rect class=\"rect reactive tooltip-trigger\" height=\"106.0906946663623\" width=\"57.62912225251836\" x=\"468.606602806736\" y=\"48.87084379517616\"/><desc class=\"value\">Größe: 983 Zeilen </desc><desc class=\"x centered\">497.4211639329952</desc><desc class=\"y centered\">101.9161911283573</desc></g></g></g><g class=\"series serie-8 color-8\"><g class=\"rects\"><g class=\"rect\" style=\"fill: #0c7f43; stroke: #0c7f43\"><desc class=\"label\">Testabdeckung: 95.0 %</desc><rect class=\"rect reactive tooltip-trigger\" height=\"45.83238225671464\" width=\"124.169360051713\" x=\"402.0663650075414\" y=\"3.038461538461519\"/><desc class=\"value\">Größe: 915 Zeilen </desc><desc class=\"x centered\">464.15104503339785</desc><desc class=\"y centered\">25.954652666818838</desc></g></g></g><g class=\"series serie-9 color-9\"><g class=\"rects\"><g class=\"rect\" style=\"fill: #30a356; stroke: #30a356\"><desc class=\"label\">Testabdeckung: 87.0 %</desc><rect class=\"rect reactive tooltip-trigger\" height=\"77.13017751479288\" width=\"55.882352941176464\" x=\"526.2357250592544\" y=\"77.83136094674558\"/><desc class=\"value\">Größe: 693 Zeilen </desc><desc class=\"x centered\">554.1769015298426</desc><desc class=\"y centered\">116.39644970414201</desc></g></g></g><g class=\"series serie-10 color-10\"><g class=\"rects\"><g class=\"rect\" style=\"fill: #07753e; stroke: #07753e\"><desc class=\"label\">Testabdeckung: 97.0 %</desc><rect class=\"rect reactive tooltip-trigger\" height=\"74.79289940828406\" width=\"55.882352941176464\" x=\"526.2357250592544\" y=\"3.038461538461519\"/><desc class=\"value\">Größe: 672 Zeilen </desc><desc class=\"x centered\">554.1769015298426</desc><desc class=\"y centered\">40.43491124260355</desc></g></g></g><g class=\"series serie-11 color-11\"><g class=\"rects\"><g class=\"rect\" style=\"fill: #118848; stroke: #118848\"><desc class=\"label\">Testabdeckung: 93.0 %</desc><rect class=\"rect reactive tooltip-trigger\" height=\"45.44095800572484\" width=\"86.91445809092875\" x=\"582.1180780004308\" y=\"109.52058045581362\"/><desc class=\"value\">Größe: 635 Zeilen </desc><desc class=\"x centered\">625.5753070458952</desc><desc class=\"y centered\">132.24105945867603</desc></g></g></g><g class=\"series serie-12 color-12\"><g class=\"rects\"><g class=\"rect\" style=\"fill: #219c52; stroke: #219c52\"><desc class=\"label\">Testabdeckung: 89.0 %</desc><rect class=\"rect reactive tooltip-trigger\" height=\"43.007898836914364\" width=\"86.91445809092875\" x=\"582.1180780004308\" y=\"66.51268161889925\"/><desc class=\"value\">Größe: 601 Zeilen </desc><desc class=\"x centered\">625.5753070458952</desc><desc class=\"y centered\">88.01663103735643</desc></g></g></g><g class=\"series serie-13 color-13\"><g class=\"rects\"><g class=\"rect\" style=\"fill: #30a356; stroke: #30a356\"><desc class=\"label\">Testabdeckung: 87.0 %</desc><rect class=\"rect reactive tooltip-trigger\" height=\"63.47422008043773\" width=\"48.7975198751775\" x=\"582.1180780004308\" y=\"3.038461538461519\"/><desc class=\"value\">Größe: 498 Zeilen </desc><desc class=\"x centered\">606.5168379380195</desc><desc class=\"y centered\">34.775571578680385</desc></g></g></g><g class=\"series serie-14 color-14\"><g class=\"rects\"><g class=\"rect\" style=\"fill: #026c39; stroke: #026c39\"><desc class=\"label\">Testabdeckung: 99.0 %</desc><rect class=\"rect reactive tooltip-trigger\" height=\"63.47422008043773\" width=\"38.11693821575125\" x=\"630.9155978756083\" y=\"3.038461538461519\"/><desc class=\"value\">Größe: 389 Zeilen </desc><desc class=\"x centered\">649.9740669834839</desc><desc class=\"y centered\">34.775571578680385</desc></g></g></g><g class=\"series serie-15 color-15\"><g class=\"rects\"><g class=\"rect\" style=\"fill: #118848; stroke: #118848\"><desc class=\"label\">Testabdeckung: 93.0 %</desc><rect class=\"rect reactive tooltip-trigger\" height=\"43.825531037327266\" width=\"40.02097836560995\" x=\"669.0325360913596\" y=\"111.13600742421119\"/><desc class=\"value\">Größe: 282 Zeilen </desc><desc class=\"x centered\">689.0430252741646</desc><desc class=\"y centered\">133.04877294287482</desc></g></g></g><g class=\"series serie-16 color-16\"><g class=\"rects\"><g class=\"rect\" style=\"fill: #05713c; stroke: #05713c\"><desc class=\"label\">Testabdeckung: 98.0 %</desc><rect class=\"rect reactive tooltip-trigger\" height=\"43.825531037327266\" width=\"36.331100927645934\" x=\"709.0535144569695\" y=\"111.13600742421119\"/><desc class=\"value\">Größe: 256 Zeilen </desc><desc class=\"x centered\">727.2190649207926</desc><desc class=\"y centered\">133.04877294287482</desc></g></g></g><g class=\"series serie-17 color-17\"><g class=\"rects\"><g class=\"rect\" style=\"fill: #fee08b; stroke: #fee08b\"><desc class=\"label\">Testabdeckung: 40.0 %</desc><rect class=\"rect reactive tooltip-trigger\" height=\"40.32274695813571\" width=\"38.56165620871502\" x=\"669.0325360913596\" y=\"70.81326046607548\"/><desc class=\"value\">Größe: 250 Zeilen </desc><desc class=\"x centered\">688.3133641957171</desc><desc class=\"y centered\">90.97463394514332</desc></g></g></g><g class=\"series serie-18 color-18\"><g class=\"rects\"><g class=\"rect\" style=\"fill: #6bbf64; stroke: #6bbf64\"><desc class=\"label\">Testabdeckung: 79.0 %</desc><rect class=\"rect reactive tooltip-trigger\" height=\"40.32274695813571\" width=\"37.790423084540635\" x=\"707.5941923000746\" y=\"70.81326046607548\"/><desc class=\"value\">Größe: 245 Zeilen </desc><desc class=\"x centered\">726.4894038423449</desc><desc class=\"y centered\">90.97463394514332</desc></g></g></g><g class=\"series serie-19 color-19\"><g class=\"rects\"><g class=\"rect\" style=\"fill: #e0f295; stroke: #e0f295\"><desc class=\"label\">Testabdeckung: 57.99999999999999 %</desc><rect class=\"rect reactive tooltip-trigger\" height=\"48.53796690116711\" width=\"26.39680835448985\" x=\"669.0325360913596\" y=\"22.275293564908367\"/><desc class=\"value\">Größe: 206 Zeilen </desc><desc class=\"x centered\">682.2309402686045</desc><desc class=\"y centered\">46.54427701549192</desc></g></g></g><g class=\"series serie-20 color-20\"><g class=\"rects\"><g class=\"rect\" style=\"fill: #279f53; stroke: #279f53\"><desc class=\"label\">Testabdeckung: 88.0 %</desc><rect class=\"rect reactive tooltip-trigger\" height=\"48.53796690116711\" width=\"22.42447311667854\" x=\"695.4293444458494\" y=\"22.275293564908367\"/><desc class=\"value\">Größe: 175 Zeilen </desc><desc class=\"x centered\">706.6415810041888</desc><desc class=\"y centered\">46.54427701549192</desc></g></g></g><g class=\"series serie-21 color-21\"><g class=\"rects\"><g class=\"rect\" style=\"fill: #0a7b41; stroke: #0a7b41\"><desc class=\"label\">Testabdeckung: 96.0 %</desc><rect class=\"rect reactive tooltip-trigger\" height=\"19.236832026446848\" width=\"48.82128147116839\" x=\"669.0325360913596\" y=\"3.038461538461519\"/><desc class=\"value\">Größe: 151 Zeilen </desc><desc class=\"x centered\">693.4431768269437</desc><desc class=\"y centered\">12.656877551684943</desc></g></g></g><g class=\"series serie-22 color-22\"><g class=\"rects\"><g class=\"rect\" style=\"fill: #118848; stroke: #118848\"><desc class=\"label\">Testabdeckung: 93.0 %</desc><rect class=\"rect reactive tooltip-trigger\" height=\"21.913851653261844\" width=\"27.530797822087266\" x=\"717.853817562528\" y=\"48.89940881281363\"/><desc class=\"value\">Größe: 97 Zeilen </desc><desc class=\"x centered\">731.6192164735717</desc><desc class=\"y centered\">59.856334639444555</desc></g></g></g><g class=\"series serie-23 color-23\"><g class=\"rects\"><g class=\"rect\" style=\"fill: #0c7f43; stroke: #0c7f43\"><desc class=\"label\">Testabdeckung: 95.0 %</desc><rect class=\"rect reactive tooltip-trigger\" height=\"19.20285969615729\" width=\"27.530797822087266\" x=\"717.853817562528\" y=\"29.696549116656342\"/><desc class=\"value\">Größe: 85 Zeilen </desc><desc class=\"x centered\">731.6192164735717</desc><desc class=\"y centered\">39.29797896473499</desc></g></g></g><g class=\"series serie-24 color-24\"><g class=\"rects\"><g class=\"rect\" style=\"fill: #006837; stroke: #006837\"><desc class=\"label\">Testabdeckung: 100.0 %</desc><rect class=\"rect reactive tooltip-trigger\" height=\"14.113105188456046\" width=\"19.831506905740866\" x=\"717.853817562528\" y=\"15.583443928200296\"/><desc class=\"value\">Größe: 45 Zeilen </desc><desc class=\"x centered\">727.7695710153985</desc><desc class=\"y centered\">22.63999652242832</desc></g></g></g><g class=\"series serie-25 color-25\"><g class=\"rects\"><g class=\"rect\" style=\"fill: #006837; stroke: #006837\"><desc class=\"label\">Testabdeckung: 100.0 %</desc><rect class=\"rect reactive tooltip-trigger\" height=\"12.544982389738777\" width=\"19.831506905740866\" x=\"717.853817562528\" y=\"3.038461538461519\"/><desc class=\"value\">Größe: 40 Zeilen </desc><desc class=\"x centered\">727.7695710153985</desc><desc class=\"y centered\">9.310952733330907</desc></g></g></g><g class=\"series serie-26 color-26\"><g class=\"rects\"><g class=\"rect\" style=\"fill: #d22b27; stroke: #d22b27\"><desc class=\"label\">Testabdeckung: 9.0 %</desc><rect class=\"rect reactive tooltip-trigger\" height=\"26.658087578194824\" width=\"7.699290916346399\" x=\"737.6853244682688\" y=\"3.038461538461519\"/><desc class=\"value\">Größe: 33 Zeilen </desc><desc class=\"x centered\">741.534969926442</desc><desc class=\"y centered\">16.36750532755893</desc></g></g></g></g><g class=\"titles\"><text class=\"title plot_title\" x=\"400.0\" y=\"26\">Testabdeckung (Prozent bzw. grün=hoch &amp; rot=gering) und Größe</text><text class=\"title plot_title\" x=\"400.0\" y=\"52\">(Quelltextzeilen) auf Paketebene (gesamt: 86.0 %)</text></g><g class=\"plot overlay\" transform=\"translate(20, 72)\"><g class=\"series serie-0 color-0\"/><g class=\"series serie-1 color-1\"/><g class=\"series serie-2 color-2\"/><g class=\"series serie-3 color-3\"/><g class=\"series serie-4 color-4\"/><g class=\"series serie-5 color-5\"/><g class=\"series serie-6 color-6\"/><g class=\"series serie-7 color-7\"/><g class=\"series serie-8 color-8\"/><g class=\"series serie-9 color-9\"/><g class=\"series serie-10 color-10\"/><g class=\"series serie-11 color-11\"/><g class=\"series serie-12 color-12\"/><g class=\"series serie-13 color-13\"/><g class=\"series serie-14 color-14\"/><g class=\"series serie-15 color-15\"/><g class=\"series serie-16 color-16\"/><g class=\"series serie-17 color-17\"/><g class=\"series serie-18 color-18\"/><g class=\"series serie-19 color-19\"/><g class=\"series serie-20 color-20\"/><g class=\"series serie-21 color-21\"/><g class=\"series serie-22 color-22\"/><g class=\"series serie-23 color-23\"/><g class=\"series serie-24 color-24\"/><g class=\"series serie-25 color-25\"/><g class=\"series serie-26 color-26\"/></g><g class=\"plot text-overlay\" transform=\"translate(20, 72)\"><g class=\"series serie-0 color-0\"/><g class=\"series serie-1 color-1\"/><g class=\"series serie-2 color-2\"/><g class=\"series serie-3 color-3\"/><g class=\"series serie-4 color-4\"/><g class=\"series serie-5 color-5\"/><g class=\"series serie-6 color-6\"/><g class=\"series serie-7 color-7\"/><g class=\"series serie-8 color-8\"/><g class=\"series serie-9 color-9\"/><g class=\"series serie-10 color-10\"/><g class=\"series serie-11 color-11\"/><g class=\"series serie-12 color-12\"/><g class=\"series serie-13 color-13\"/><g class=\"series serie-14 color-14\"/><g class=\"series serie-15 color-15\"/><g class=\"series serie-16 color-16\"/><g class=\"series serie-17 color-17\"/><g class=\"series serie-18 color-18\"/><g class=\"series serie-19 color-19\"/><g class=\"series serie-20 color-20\"/><g class=\"series serie-21 color-21\"/><g class=\"series serie-22 color-22\"/><g class=\"series serie-23 color-23\"/><g class=\"series serie-24 color-24\"/><g class=\"series serie-25 color-25\"/><g class=\"series serie-26 color-26\"/></g><g class=\"plot tooltip-overlay\" transform=\"translate(20, 72)\"><g class=\"tooltip\" style=\"opacity: 0\" transform=\"translate(0 0)\"><rect class=\"tooltip-box\" height=\"0\" rx=\"0\" ry=\"0\" width=\"0\"/><g class=\"text\"/></g></g></g></svg>\n",
       "    </figure>\n",
       "  </body>\n",
       "</html>\n"
      ],
      "text/plain": [
       "<IPython.core.display.HTML object>"
      ]
     },
     "metadata": {},
     "output_type": "display_data"
    }
   ],
   "source": [
    "# Erstelle Treemap.\n",
    "import pygal\n",
    "treemap = pygal.Treemap(height=250, show_legend=False, \n",
    "                        value_formatter = lambda x: 'Größe: {} Zeilen '.format(x))\n",
    "treemap.title = 'Testabdeckung (Prozent bzw. grün=hoch & rot=gering) und Größe (Quelltextzeilen) auf Paketebene (gesamt: ' + str(coverage.round(2) * 100) + ' %)'\n",
    "for index, row in df.iterrows():\n",
    "    treemap.add(row['package'],\n",
    "                [{\"value\": row['loc'], \"label\": \"Testabdeckung: \" + str(row['coverage'] * 100) + \" %\",\n",
    "                  \"color\": row['color']}])\n",
    "display(HTML(base_html.format(rendered_chart=treemap.render(is_unicode=True))))\n"
   ]
  },
  {
   "cell_type": "code",
   "execution_count": null,
   "metadata": {},
   "outputs": [],
   "source": []
  }
 ],
 "metadata": {
  "kernelspec": {
   "display_name": "Python [conda env:BeLL]",
   "language": "python",
   "name": "conda-env-BeLL-py"
  },
  "language_info": {
   "codemirror_mode": {
    "name": "ipython",
    "version": 3
   },
   "file_extension": ".py",
   "mimetype": "text/x-python",
   "name": "python",
   "nbconvert_exporter": "python",
   "pygments_lexer": "ipython3",
   "version": "3.6.4"
  }
 },
 "nbformat": 4,
 "nbformat_minor": 2
}
