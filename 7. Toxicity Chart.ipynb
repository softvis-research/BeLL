{
 "cells": [
  {
   "cell_type": "markdown",
   "metadata": {},
   "source": [
    "# Wie giftig ist der Quelltext?"
   ]
  },
  {
   "cell_type": "markdown",
   "metadata": {},
   "source": [
    "## 1. Verbindung zur Datenbank\n",
    "Es wird eine Verbindung zur Neo4j-Datenbank aufgebaut."
   ]
  },
  {
   "cell_type": "code",
   "execution_count": null,
   "metadata": {},
   "outputs": [],
   "source": [
    "import py2neo\n",
    "\n",
    "graph = py2neo.Graph(bolt=True, host='localhost', user='neo4j', password='neo4j')"
   ]
  },
  {
   "cell_type": "markdown",
   "metadata": {},
   "source": [
    "## 2. Cypher-Abfrage\n",
    "Es werden mehrere Abfragen an die Datenbank gestellt. Die Ergebnisse werden in Dataframes (pandas) gespeichert und schließlich in einem Dataframe zusammengeführt."
   ]
  },
  {
   "cell_type": "code",
   "execution_count": null,
   "metadata": {},
   "outputs": [],
   "source": [
    "import pandas as pd\n",
    "\n",
    "classfanoutcomplexity_query =\"MATCH (c:Type)-[:DEPENDS_ON]->(d:Type) WHERE NOT c.name CONTAINS '$' RETURN DISTINCT c.fqn as Type, count(d) AS ClassFanOutComplexity ORDER BY ClassFanOutComplexity DESC\"\n",
    "classfanoutcomplexity_df = pd.DataFrame(graph.run(classfanoutcomplexity_query).data())\n",
    "\n",
    "cyclomaticcomplexity_query =\"MATCH (c:Type)-[DECLARES]->(m:Method) WHERE NOT c.name CONTAINS '$' AND EXISTS(m.cyclomaticComplexity) RETURN DISTINCT m.signature AS Method, c.fqn AS Type, m.cyclomaticComplexity as CyclomaticComplexity ORDER BY CyclomaticComplexity DESC\"\n",
    "cyclomaticComplexity_df = pd.DataFrame(graph.run(cyclomaticcomplexity_query).data())\n",
    "\n",
    "methodlength_query =\"MATCH (c:Type)-[DECLARES]->(m:Method) WHERE NOT c.name CONTAINS '$' AND EXISTS(m.effectiveLineCount) RETURN DISTINCT m.signature AS Method, c.fqn AS Type, m.effectiveLineCount AS MethodLength ORDER BY MethodLength DESC\"\n",
    "methodLength_df = pd.DataFrame(graph.run(methodlength_query).data())\n",
    "\n",
    "parameternumber_query =\"MATCH (c:Type)-[DECLARES]->(m:Method)-[HAS]->(p:Parameter) WHERE NOT c.name CONTAINS '$' RETURN m.signature AS Method, c.fqn AS Type, count(p) AS ParameterNumber ORDER BY ParameterNumber DESC\"\n",
    "parameterNumber_df = pd.DataFrame(graph.run(parameternumber_query).data())"
   ]
  },
  {
   "cell_type": "markdown",
   "metadata": {},
   "source": [
    "## 3. Datenaufbereitung\n",
    "Zunächst werden die vier Dataframes bereinigt. Hierzu müssen alle Zeilen (Klassen oder Methoden) mittels der Methode ```drop()``` und der Option ```inplace = True```gelöscht werden, die geringer als folgende Schwellenwerte sind.\n",
    "\n",
    "Metrik |\tSchwellenwert\n",
    "---- |----\n",
    "ClassFanOutComplexity | 30\n",
    "CyclomaticComplexity | 10\n",
    "MethodLength | 30\n",
    "ParameterNumber | 6"
   ]
  },
  {
   "cell_type": "code",
   "execution_count": null,
   "metadata": {},
   "outputs": [],
   "source": [
    "# Entferne alle Klassen, die weniger als 30 Abhängigkeiten zu anderen Klassen besitzen.\n",
    "# ...\n",
    "\n",
    "# Entferne alle Methoden, deren zyklomatische Komplexität kleiner als 10 ist.\n",
    "# ...\n",
    "\n",
    "# Entferne alle Methoden, deren Anzahl der Quelltextzeilen kleiner als 30 ist.\n",
    "# ...\n",
    "\n",
    "# Entferne alle Methoden, die weniger als 6 Paramter besitzen.\n",
    "# ..."
   ]
  },
  {
   "cell_type": "markdown",
   "metadata": {},
   "source": [
    "Als Nächstes werden die drei Dataframes ```cyclomaticComplexity_df```, ```methodLength_df``` und ```parameterNumber_df``` mittels der Methode ```merge()``` über die gemeinsame Spalte ```on = 'Type'``` mit der Option ``` how = 'outer'``` zusammengeführt und im Dataframe ```method_metrics_df``` gespeichert. Alle Zellen, die keinen Wert besitzen (NaN), werden mittels der Methode ```fillna(0)``` auf 0 gesetzt. "
   ]
  },
  {
   "cell_type": "code",
   "execution_count": null,
   "metadata": {},
   "outputs": [],
   "source": [
    "# Die drei Dataframes mit Methodenmetriken werden zusammengeführt und im Dataframe method_metrics_df abgebildet.\n",
    "# ...\n",
    "\n",
    "# Fehlende Werte werden auf 0 gesetzt.\n",
    "# ..."
   ]
  },
  {
   "cell_type": "markdown",
   "metadata": {},
   "source": [
    "Im folgenden Codeabschnitt werden im Dataframe ```method_metrics_df``` mehrfach auftretende Typen mittels der Methode ```groupBy()``` zusammengeführt."
   ]
  },
  {
   "cell_type": "code",
   "execution_count": null,
   "metadata": {},
   "outputs": [],
   "source": [
    "# Führe mehrfach auftretende Typen zusammen.\n",
    "# ..."
   ]
  },
  {
   "cell_type": "markdown",
   "metadata": {},
   "source": [
    "Als Nächstes werden die beiden Dataframes ```classfanoutcomplexity_df``` und ```method_metrics_df``` mittels der Methode ```merge()``` über die gemeinsame Spalte ```on = 'Type'``` mit der Option ``` how = 'outer'``` zusammengeführt und im Dataframe ```toxicity_df``` gespeichert. Alle Zellen, die keinen Wert besitzen (NaN), werden mittels der Methode ```fillna(0)``` auf 0 gesetzt. "
   ]
  },
  {
   "cell_type": "code",
   "execution_count": null,
   "metadata": {},
   "outputs": [],
   "source": [
    "# Die Dataframes classfanoutcomplexity_df und method_metrics_df werden zusammengeführt.\n",
    "# ...\n",
    "\n",
    "# Fehlende Werte werden auf 0 gesetzt.\n",
    "# ..."
   ]
  },
  {
   "cell_type": "markdown",
   "metadata": {},
   "source": [
    "Jetzt wird mittels ```apply()``` im resultierenden Dataframe für jede Spalte der Toxicity-Wert berechnet, indem die absoluten Werte durch den jeweiligen Schwellenwert geteilt werden. Der absolute Wert wird dabei stets überschrieben. Zudem wird die Spalte ```ToxicityScore``` als Summe aller Toxicity-Werte für eine Klasse eingeführt und alle Werte entsprechend des Toxicity-Scores absteigend sortiert."
   ]
  },
  {
   "cell_type": "code",
   "execution_count": null,
   "metadata": {},
   "outputs": [],
   "source": [
    "# Berechne den Toxicity-Wert für ClassFanOutComplexity.\n",
    "# ...\n",
    "\n",
    "# Berechne den Toxicity-Wert für CyclomaticComplexity.\n",
    "# ...\n",
    "\n",
    "# Berechne den Toxicity-Wert für MethodLength.\n",
    "# ...\n",
    "\n",
    "# Berechne den Toxicity-Wert für ParameterNumber.\n",
    "# ...\n",
    "\n",
    "# Erzeuge die Spalte ToxicityScore und berechne die Zeilensumme aus ClassFanOutComplexity, CyclomaticComplexity, MethodLength und ParameterNumber.\n",
    "# ...\n",
    "\n",
    "# Sortiere alle Werte absteigend nach dem ToxicityScore.\n",
    "# ..."
   ]
  },
  {
   "cell_type": "markdown",
   "metadata": {},
   "source": [
    "## 4. Visualisierung\n",
    "Die Daten werden mittels eines Stacked Barcharts visualisiert.\n",
    "\n"
   ]
  },
  {
   "cell_type": "code",
   "execution_count": null,
   "metadata": {},
   "outputs": [],
   "source": [
    "from IPython.display import display, HTML\n",
    "\n",
    "base_html = \"\"\"\n",
    "<!DOCTYPE html>\n",
    "<html>\n",
    "  <head>\n",
    "  <script type=\"text/javascript\" src=\"http://kozea.github.com/pygal.js/javascripts/svg.jquery.js\"></script>\n",
    "  <script type=\"text/javascript\" src=\"https://kozea.github.io/pygal.js/2.0.x/pygal-tooltips.min.js\"\"></script>\n",
    "  </head>\n",
    "  <body>\n",
    "    <figure>\n",
    "      {rendered_chart}\n",
    "    </figure>\n",
    "  </body>\n",
    "</html>\n",
    "\"\"\""
   ]
  },
  {
   "cell_type": "code",
   "execution_count": null,
   "metadata": {},
   "outputs": [],
   "source": [
    "import pygal\n",
    "stacked_bar_chart = pygal.StackedBar(show_legend=True, human_readable=True, fill=False, x_label_rotation=90, truncate_label=-1, truncate_legend=-1)\n",
    "stacked_bar_chart.title = 'Toxicity Chart'\n",
    "stacked_bar_chart.x_labels = toxicity_df['Type'].tolist()\n",
    "stacked_bar_chart.add('ClassFanOutComplexity', toxicity_df['ClassFanOutComplexity'].tolist())\n",
    "stacked_bar_chart.add('CyclomaticComplexity', toxicity_df['CyclomaticComplexity'].tolist())\n",
    "stacked_bar_chart.add('MethodLength', toxicity_df['MethodLength'].tolist())\n",
    "stacked_bar_chart.add('ParameterNumber', toxicity_df['ParameterNumber'].tolist())\n",
    "display(HTML(base_html.format(rendered_chart=stacked_bar_chart.render(is_unicode=True))))"
   ]
  },
  {
   "cell_type": "code",
   "execution_count": null,
   "metadata": {},
   "outputs": [],
   "source": []
  }
 ],
 "metadata": {
  "kernelspec": {
   "display_name": "Python [conda env:SVIS]",
   "language": "python",
   "name": "conda-env-SVIS-py"
  },
  "language_info": {
   "codemirror_mode": {
    "name": "ipython",
    "version": 3
   },
   "file_extension": ".py",
   "mimetype": "text/x-python",
   "name": "python",
   "nbconvert_exporter": "python",
   "pygments_lexer": "ipython3",
   "version": "3.6.5"
  }
 },
 "nbformat": 4,
 "nbformat_minor": 2
}
