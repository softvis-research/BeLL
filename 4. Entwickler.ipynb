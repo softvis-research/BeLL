{
 "cells": [
  {
   "cell_type": "markdown",
   "metadata": {},
   "source": [
    "# Welche Entwickler haben die meisten Commits?"
   ]
  },
  {
   "cell_type": "markdown",
   "metadata": {},
   "source": [
    "## 1. Verbindung zur Datenbank\n",
    "Es wird eine Verbindung zur Neo4j-Datenbank aufgebaut."
   ]
  },
  {
   "cell_type": "code",
   "execution_count": 12,
   "metadata": {},
   "outputs": [],
   "source": [
    "import py2neo\n",
    "\n",
    "graph = py2neo.Graph(bolt=True, host='localhost', user='neo4j', password='neo4j')"
   ]
  },
  {
   "cell_type": "markdown",
   "metadata": {},
   "source": [
    "## 2. Cypher-Abfrage\n",
    "Es wird eine Abfrage an die Datenbank gestellt. Das Ergebnis wird in einem Dataframe (pandas) gespeichert."
   ]
  },
  {
   "cell_type": "code",
   "execution_count": 13,
   "metadata": {},
   "outputs": [],
   "source": [
    "import pandas as pd\n",
    "\n",
    "query =\"MATCH (a:Author)-[:COMMITTED]->(c:Commit)-[:CONTAINS_CHANGE]->(:Change)-[:MODIFIES]->(file:File) WHERE NOT c:Merge RETURN a.name as developer, count(distinct c) as commits\"\n",
    "df = pd.DataFrame(graph.run(query).data())\n"
   ]
  },
  {
   "cell_type": "markdown",
   "metadata": {},
   "source": [
    "## 3. Datenaufbereitung\n",
    "Zur Kontrolle werden die ersten fünf Zeilen des Ergebnisses der Abfrage als Tabelle ausgegeben."
   ]
  },
  {
   "cell_type": "code",
   "execution_count": 14,
   "metadata": {},
   "outputs": [
    {
     "data": {
      "text/html": [
       "<div>\n",
       "<style scoped>\n",
       "    .dataframe tbody tr th:only-of-type {\n",
       "        vertical-align: middle;\n",
       "    }\n",
       "\n",
       "    .dataframe tbody tr th {\n",
       "        vertical-align: top;\n",
       "    }\n",
       "\n",
       "    .dataframe thead th {\n",
       "        text-align: right;\n",
       "    }\n",
       "</style>\n",
       "<table border=\"1\" class=\"dataframe\">\n",
       "  <thead>\n",
       "    <tr style=\"text-align: right;\">\n",
       "      <th></th>\n",
       "      <th>commits</th>\n",
       "      <th>developer</th>\n",
       "    </tr>\n",
       "  </thead>\n",
       "  <tbody>\n",
       "    <tr>\n",
       "      <th>0</th>\n",
       "      <td>1</td>\n",
       "      <td>Joseph Walton</td>\n",
       "    </tr>\n",
       "    <tr>\n",
       "      <th>1</th>\n",
       "      <td>23</td>\n",
       "      <td>Noel Yap</td>\n",
       "    </tr>\n",
       "    <tr>\n",
       "      <th>2</th>\n",
       "      <td>2</td>\n",
       "      <td>Robin Stevens</td>\n",
       "    </tr>\n",
       "    <tr>\n",
       "      <th>3</th>\n",
       "      <td>1</td>\n",
       "      <td>Chris Barrow</td>\n",
       "    </tr>\n",
       "    <tr>\n",
       "      <th>4</th>\n",
       "      <td>1</td>\n",
       "      <td>Arjen Stolk</td>\n",
       "    </tr>\n",
       "  </tbody>\n",
       "</table>\n",
       "</div>"
      ],
      "text/plain": [
       "   commits      developer\n",
       "0        1  Joseph Walton\n",
       "1       23       Noel Yap\n",
       "2        2  Robin Stevens\n",
       "3        1   Chris Barrow\n",
       "4        1    Arjen Stolk"
      ]
     },
     "execution_count": 14,
     "metadata": {},
     "output_type": "execute_result"
    }
   ],
   "source": [
    "df.head()"
   ]
  },
  {
   "cell_type": "markdown",
   "metadata": {},
   "source": [
    "Im folgenden Codeabschnitt wird das Dataframe absteigend entsprechend der der Anzahl der Commits (commits) sortiert und die ersten zehn Entwickler (developer) extrahiert. Die Werte werden in den Variablen <font face=\"Courier\">x_commits</font> und <font face=\"Courier\">y_developers</font> gespeichert."
   ]
  },
  {
   "cell_type": "code",
   "execution_count": 15,
   "metadata": {},
   "outputs": [],
   "source": [
    "import numpy as np\n",
    "# Sortiere Zeilen des Dataframes aufsteigend ihrer Anzahl der Commits in neuem Dataframe.\n",
    "sorted_commits=df.sort_values('commits',ascending=False)\n",
    "# Extrahiere die ersten 10 Zeilen dieses Dataframes in neuem Dataframe.\n",
    "top10_commits=sorted_commits.head(10)\n",
    "\n",
    "# Hole Werte aus Spalten aus Dataframe. Umwandlung dieser Werte in list Objekt.\n",
    "x_commits=top10_commits['commits'].tolist()\n",
    "y_developers=top10_commits['developer'].tolist()\n",
    "\n",
    "x_commits.reverse()\n",
    "y_developers.reverse()"
   ]
  },
  {
   "cell_type": "markdown",
   "metadata": {},
   "source": [
    "# 4. Visualisierung\n",
    "Die Daten werden mittels eines Bar Charts visualisiert (https://plot.ly/python/horizontal-bar-charts/, x=x_commits, y=y_developer)."
   ]
  },
  {
   "cell_type": "code",
   "execution_count": 16,
   "metadata": {},
   "outputs": [],
   "source": [
    "from IPython.display import display, HTML\n",
    "\n",
    "base_html = \"\"\"\n",
    "<!DOCTYPE html>\n",
    "<html>\n",
    "  <head>\n",
    "  <script type=\"text/javascript\" src=\"http://kozea.github.com/pygal.js/javascripts/svg.jquery.js\"></script>\n",
    "  <script type=\"text/javascript\" src=\"https://kozea.github.io/pygal.js/2.0.x/pygal-tooltips.min.js\"\"></script>\n",
    "  </head>\n",
    "  <body>\n",
    "    <figure>\n",
    "      {rendered_chart}\n",
    "    </figure>\n",
    "  </body>\n",
    "</html>\n",
    "\"\"\""
   ]
  },
  {
   "cell_type": "code",
   "execution_count": 17,
   "metadata": {},
   "outputs": [
    {
     "data": {
      "text/html": [
       "\n",
       "<!DOCTYPE html>\n",
       "<html>\n",
       "  <head>\n",
       "  <script type=\"text/javascript\" src=\"http://kozea.github.com/pygal.js/javascripts/svg.jquery.js\"></script>\n",
       "  <script type=\"text/javascript\" src=\"https://kozea.github.io/pygal.js/2.0.x/pygal-tooltips.min.js\"\"></script>\n",
       "  </head>\n",
       "  <body>\n",
       "    <figure>\n",
       "      <?xml version='1.0' encoding='utf-8'?>\n",
       "<svg xmlns:xlink=\"http://www.w3.org/1999/xlink\" xmlns=\"http://www.w3.org/2000/svg\" id=\"chart-9492f707-1d64-473e-b59c-c1a3ce62d0e6\" class=\"pygal-chart\" viewBox=\"0 0 800 600\"><!--Generated with pygal 2.4.0 (lxml) ©Kozea 2012-2016 on 2019-10-20--><!--http://pygal.org--><!--http://github.com/Kozea/pygal--><defs><style type=\"text/css\">#chart-9492f707-1d64-473e-b59c-c1a3ce62d0e6{-webkit-user-select:none;-webkit-font-smoothing:antialiased;font-family:Consolas,\"Liberation Mono\",Menlo,Courier,monospace}#chart-9492f707-1d64-473e-b59c-c1a3ce62d0e6 .title{font-family:Consolas,\"Liberation Mono\",Menlo,Courier,monospace;font-size:16px}#chart-9492f707-1d64-473e-b59c-c1a3ce62d0e6 .legends .legend text{font-family:Consolas,\"Liberation Mono\",Menlo,Courier,monospace;font-size:14px}#chart-9492f707-1d64-473e-b59c-c1a3ce62d0e6 .axis text{font-family:Consolas,\"Liberation Mono\",Menlo,Courier,monospace;font-size:10px}#chart-9492f707-1d64-473e-b59c-c1a3ce62d0e6 .axis text.major{font-family:Consolas,\"Liberation Mono\",Menlo,Courier,monospace;font-size:10px}#chart-9492f707-1d64-473e-b59c-c1a3ce62d0e6 .text-overlay text.value{font-family:Consolas,\"Liberation Mono\",Menlo,Courier,monospace;font-size:16px}#chart-9492f707-1d64-473e-b59c-c1a3ce62d0e6 .text-overlay text.label{font-family:Consolas,\"Liberation Mono\",Menlo,Courier,monospace;font-size:10px}#chart-9492f707-1d64-473e-b59c-c1a3ce62d0e6 .tooltip{font-family:Consolas,\"Liberation Mono\",Menlo,Courier,monospace;font-size:14px}#chart-9492f707-1d64-473e-b59c-c1a3ce62d0e6 text.no_data{font-family:Consolas,\"Liberation Mono\",Menlo,Courier,monospace;font-size:64px}\n",
       "#chart-9492f707-1d64-473e-b59c-c1a3ce62d0e6{background-color:rgba(249,249,249,1)}#chart-9492f707-1d64-473e-b59c-c1a3ce62d0e6 path,#chart-9492f707-1d64-473e-b59c-c1a3ce62d0e6 line,#chart-9492f707-1d64-473e-b59c-c1a3ce62d0e6 rect,#chart-9492f707-1d64-473e-b59c-c1a3ce62d0e6 circle{-webkit-transition:150ms;-moz-transition:150ms;transition:150ms}#chart-9492f707-1d64-473e-b59c-c1a3ce62d0e6 .graph &gt; .background{fill:rgba(249,249,249,1)}#chart-9492f707-1d64-473e-b59c-c1a3ce62d0e6 .plot &gt; .background{fill:rgba(255,255,255,1)}#chart-9492f707-1d64-473e-b59c-c1a3ce62d0e6 .graph{fill:rgba(0,0,0,.87)}#chart-9492f707-1d64-473e-b59c-c1a3ce62d0e6 text.no_data{fill:rgba(0,0,0,1)}#chart-9492f707-1d64-473e-b59c-c1a3ce62d0e6 .title{fill:rgba(0,0,0,1)}#chart-9492f707-1d64-473e-b59c-c1a3ce62d0e6 .legends .legend text{fill:rgba(0,0,0,.87)}#chart-9492f707-1d64-473e-b59c-c1a3ce62d0e6 .legends .legend:hover text{fill:rgba(0,0,0,1)}#chart-9492f707-1d64-473e-b59c-c1a3ce62d0e6 .axis .line{stroke:rgba(0,0,0,1)}#chart-9492f707-1d64-473e-b59c-c1a3ce62d0e6 .axis .guide.line{stroke:rgba(0,0,0,.54)}#chart-9492f707-1d64-473e-b59c-c1a3ce62d0e6 .axis .major.line{stroke:rgba(0,0,0,.87)}#chart-9492f707-1d64-473e-b59c-c1a3ce62d0e6 .axis text.major{fill:rgba(0,0,0,1)}#chart-9492f707-1d64-473e-b59c-c1a3ce62d0e6 .axis.y .guides:hover .guide.line,#chart-9492f707-1d64-473e-b59c-c1a3ce62d0e6 .line-graph .axis.x .guides:hover .guide.line,#chart-9492f707-1d64-473e-b59c-c1a3ce62d0e6 .stackedline-graph .axis.x .guides:hover .guide.line,#chart-9492f707-1d64-473e-b59c-c1a3ce62d0e6 .xy-graph .axis.x .guides:hover .guide.line{stroke:rgba(0,0,0,1)}#chart-9492f707-1d64-473e-b59c-c1a3ce62d0e6 .axis .guides:hover text{fill:rgba(0,0,0,1)}#chart-9492f707-1d64-473e-b59c-c1a3ce62d0e6 .reactive{fill-opacity:.7;stroke-opacity:.8}#chart-9492f707-1d64-473e-b59c-c1a3ce62d0e6 .ci{stroke:rgba(0,0,0,.87)}#chart-9492f707-1d64-473e-b59c-c1a3ce62d0e6 .reactive.active,#chart-9492f707-1d64-473e-b59c-c1a3ce62d0e6 .active .reactive{fill-opacity:.8;stroke-opacity:.9;stroke-width:4}#chart-9492f707-1d64-473e-b59c-c1a3ce62d0e6 .ci .reactive.active{stroke-width:1.5}#chart-9492f707-1d64-473e-b59c-c1a3ce62d0e6 .series text{fill:rgba(0,0,0,1)}#chart-9492f707-1d64-473e-b59c-c1a3ce62d0e6 .tooltip rect{fill:rgba(255,255,255,1);stroke:rgba(0,0,0,1);-webkit-transition:opacity 150ms;-moz-transition:opacity 150ms;transition:opacity 150ms}#chart-9492f707-1d64-473e-b59c-c1a3ce62d0e6 .tooltip .label{fill:rgba(0,0,0,.87)}#chart-9492f707-1d64-473e-b59c-c1a3ce62d0e6 .tooltip .label{fill:rgba(0,0,0,.87)}#chart-9492f707-1d64-473e-b59c-c1a3ce62d0e6 .tooltip .legend{font-size:.8em;fill:rgba(0,0,0,.54)}#chart-9492f707-1d64-473e-b59c-c1a3ce62d0e6 .tooltip .x_label{font-size:.6em;fill:rgba(0,0,0,1)}#chart-9492f707-1d64-473e-b59c-c1a3ce62d0e6 .tooltip .xlink{font-size:.5em;text-decoration:underline}#chart-9492f707-1d64-473e-b59c-c1a3ce62d0e6 .tooltip .value{font-size:1.5em}#chart-9492f707-1d64-473e-b59c-c1a3ce62d0e6 .bound{font-size:.5em}#chart-9492f707-1d64-473e-b59c-c1a3ce62d0e6 .max-value{font-size:.75em;fill:rgba(0,0,0,.54)}#chart-9492f707-1d64-473e-b59c-c1a3ce62d0e6 .map-element{fill:rgba(255,255,255,1);stroke:rgba(0,0,0,.54) !important}#chart-9492f707-1d64-473e-b59c-c1a3ce62d0e6 .map-element .reactive{fill-opacity:inherit;stroke-opacity:inherit}#chart-9492f707-1d64-473e-b59c-c1a3ce62d0e6 .color-0,#chart-9492f707-1d64-473e-b59c-c1a3ce62d0e6 .color-0 a:visited{stroke:#F44336;fill:#F44336}#chart-9492f707-1d64-473e-b59c-c1a3ce62d0e6 .text-overlay .color-0 text{fill:black}\n",
       "#chart-9492f707-1d64-473e-b59c-c1a3ce62d0e6 text.no_data{text-anchor:middle}#chart-9492f707-1d64-473e-b59c-c1a3ce62d0e6 .guide.line{fill:none}#chart-9492f707-1d64-473e-b59c-c1a3ce62d0e6 .centered{text-anchor:middle}#chart-9492f707-1d64-473e-b59c-c1a3ce62d0e6 .title{text-anchor:middle}#chart-9492f707-1d64-473e-b59c-c1a3ce62d0e6 .legends .legend text{fill-opacity:1}#chart-9492f707-1d64-473e-b59c-c1a3ce62d0e6 .axis.x text{text-anchor:middle}#chart-9492f707-1d64-473e-b59c-c1a3ce62d0e6 .axis.x:not(.web) text[transform]{text-anchor:start}#chart-9492f707-1d64-473e-b59c-c1a3ce62d0e6 .axis.x:not(.web) text[transform].backwards{text-anchor:end}#chart-9492f707-1d64-473e-b59c-c1a3ce62d0e6 .axis.y text{text-anchor:end}#chart-9492f707-1d64-473e-b59c-c1a3ce62d0e6 .axis.y text[transform].backwards{text-anchor:start}#chart-9492f707-1d64-473e-b59c-c1a3ce62d0e6 .axis.y2 text{text-anchor:start}#chart-9492f707-1d64-473e-b59c-c1a3ce62d0e6 .axis.y2 text[transform].backwards{text-anchor:end}#chart-9492f707-1d64-473e-b59c-c1a3ce62d0e6 .axis .guide.line{stroke-dasharray:4,4}#chart-9492f707-1d64-473e-b59c-c1a3ce62d0e6 .axis .major.guide.line{stroke-dasharray:6,6}#chart-9492f707-1d64-473e-b59c-c1a3ce62d0e6 .horizontal .axis.y .guide.line,#chart-9492f707-1d64-473e-b59c-c1a3ce62d0e6 .horizontal .axis.y2 .guide.line,#chart-9492f707-1d64-473e-b59c-c1a3ce62d0e6 .vertical .axis.x .guide.line{opacity:0}#chart-9492f707-1d64-473e-b59c-c1a3ce62d0e6 .horizontal .axis.always_show .guide.line,#chart-9492f707-1d64-473e-b59c-c1a3ce62d0e6 .vertical .axis.always_show .guide.line{opacity:1 !important}#chart-9492f707-1d64-473e-b59c-c1a3ce62d0e6 .axis.y .guides:hover .guide.line,#chart-9492f707-1d64-473e-b59c-c1a3ce62d0e6 .axis.y2 .guides:hover .guide.line,#chart-9492f707-1d64-473e-b59c-c1a3ce62d0e6 .axis.x .guides:hover .guide.line{opacity:1}#chart-9492f707-1d64-473e-b59c-c1a3ce62d0e6 .axis .guides:hover text{opacity:1}#chart-9492f707-1d64-473e-b59c-c1a3ce62d0e6 .nofill{fill:none}#chart-9492f707-1d64-473e-b59c-c1a3ce62d0e6 .subtle-fill{fill-opacity:.2}#chart-9492f707-1d64-473e-b59c-c1a3ce62d0e6 .dot{stroke-width:1px;fill-opacity:1}#chart-9492f707-1d64-473e-b59c-c1a3ce62d0e6 .dot.active{stroke-width:5px}#chart-9492f707-1d64-473e-b59c-c1a3ce62d0e6 .dot.negative{fill:transparent}#chart-9492f707-1d64-473e-b59c-c1a3ce62d0e6 text,#chart-9492f707-1d64-473e-b59c-c1a3ce62d0e6 tspan{stroke:none !important}#chart-9492f707-1d64-473e-b59c-c1a3ce62d0e6 .series text.active{opacity:1}#chart-9492f707-1d64-473e-b59c-c1a3ce62d0e6 .tooltip rect{fill-opacity:.95;stroke-width:.5}#chart-9492f707-1d64-473e-b59c-c1a3ce62d0e6 .tooltip text{fill-opacity:1}#chart-9492f707-1d64-473e-b59c-c1a3ce62d0e6 .showable{visibility:hidden}#chart-9492f707-1d64-473e-b59c-c1a3ce62d0e6 .showable.shown{visibility:visible}#chart-9492f707-1d64-473e-b59c-c1a3ce62d0e6 .gauge-background{fill:rgba(229,229,229,1);stroke:none}#chart-9492f707-1d64-473e-b59c-c1a3ce62d0e6 .bg-lines{stroke:rgba(249,249,249,1);stroke-width:2px}</style><script type=\"text/javascript\">window.pygal = window.pygal || {};window.pygal.config = window.pygal.config || {};window.pygal.config['9492f707-1d64-473e-b59c-c1a3ce62d0e6'] = {\"allow_interruptions\": false, \"box_mode\": \"extremes\", \"classes\": [\"pygal-chart\"], \"css\": [\"file://style.css\", \"file://graph.css\"], \"defs\": [], \"disable_xml_declaration\": false, \"dots_size\": 2.5, \"dynamic_print_values\": false, \"explicit_size\": false, \"fill\": false, \"force_uri_protocol\": \"https\", \"formatter\": null, \"half_pie\": false, \"height\": 600, \"include_x_axis\": false, \"inner_radius\": 0, \"interpolate\": null, \"interpolation_parameters\": {}, \"interpolation_precision\": 250, \"inverse_y_axis\": false, \"js\": [\"//kozea.github.io/pygal.js/2.0.x/pygal-tooltips.min.js\"], \"legend_at_bottom\": false, \"legend_at_bottom_columns\": null, \"legend_box_size\": 12, \"logarithmic\": false, \"margin\": 20, \"margin_bottom\": null, \"margin_left\": null, \"margin_right\": null, \"margin_top\": null, \"max_scale\": 16, \"min_scale\": 4, \"missing_value_fill_truncation\": \"x\", \"no_data_text\": \"No data\", \"no_prefix\": false, \"order_min\": null, \"pretty_print\": false, \"print_labels\": false, \"print_values\": false, \"print_values_position\": \"center\", \"print_zeroes\": true, \"range\": null, \"rounded_bars\": null, \"secondary_range\": null, \"show_dots\": true, \"show_legend\": false, \"show_minor_x_labels\": true, \"show_minor_y_labels\": true, \"show_only_major_dots\": false, \"show_x_guides\": true, \"show_x_labels\": true, \"show_y_guides\": false, \"show_y_labels\": true, \"spacing\": 10, \"stack_from_top\": false, \"strict\": false, \"stroke\": true, \"stroke_style\": null, \"style\": {\"background\": \"rgba(249, 249, 249, 1)\", \"ci_colors\": [], \"colors\": [\"#F44336\", \"#3F51B5\", \"#009688\", \"#FFC107\", \"#FF5722\", \"#9C27B0\", \"#03A9F4\", \"#8BC34A\", \"#FF9800\", \"#E91E63\", \"#2196F3\", \"#4CAF50\", \"#FFEB3B\", \"#673AB7\", \"#00BCD4\", \"#CDDC39\", \"#9E9E9E\", \"#607D8B\"], \"font_family\": \"Consolas, \\\"Liberation Mono\\\", Menlo, Courier, monospace\", \"foreground\": \"rgba(0, 0, 0, .87)\", \"foreground_strong\": \"rgba(0, 0, 0, 1)\", \"foreground_subtle\": \"rgba(0, 0, 0, .54)\", \"guide_stroke_dasharray\": \"4,4\", \"label_font_family\": \"Consolas, \\\"Liberation Mono\\\", Menlo, Courier, monospace\", \"label_font_size\": 10, \"legend_font_family\": \"Consolas, \\\"Liberation Mono\\\", Menlo, Courier, monospace\", \"legend_font_size\": 14, \"major_guide_stroke_dasharray\": \"6,6\", \"major_label_font_family\": \"Consolas, \\\"Liberation Mono\\\", Menlo, Courier, monospace\", \"major_label_font_size\": 10, \"no_data_font_family\": \"Consolas, \\\"Liberation Mono\\\", Menlo, Courier, monospace\", \"no_data_font_size\": 64, \"opacity\": \".7\", \"opacity_hover\": \".8\", \"plot_background\": \"rgba(255, 255, 255, 1)\", \"stroke_opacity\": \".8\", \"stroke_opacity_hover\": \".9\", \"title_font_family\": \"Consolas, \\\"Liberation Mono\\\", Menlo, Courier, monospace\", \"title_font_size\": 16, \"tooltip_font_family\": \"Consolas, \\\"Liberation Mono\\\", Menlo, Courier, monospace\", \"tooltip_font_size\": 14, \"transition\": \"150ms\", \"value_background\": \"rgba(229, 229, 229, 1)\", \"value_colors\": [], \"value_font_family\": \"Consolas, \\\"Liberation Mono\\\", Menlo, Courier, monospace\", \"value_font_size\": 16, \"value_label_font_family\": \"Consolas, \\\"Liberation Mono\\\", Menlo, Courier, monospace\", \"value_label_font_size\": 10}, \"title\": \"Entwickler mit den meisten Commits\", \"tooltip_border_radius\": 0, \"tooltip_fancy_mode\": true, \"truncate_label\": null, \"truncate_legend\": null, \"width\": 800, \"x_label_rotation\": 0, \"x_labels\": [\"pimterry\", \"emeade\", \"egamma\", \"Marc Philipp\", \"Kevin Cooney\", \"Tibor Digana\", \"kbeck\", \"Stefan Birkner\", \"dsaff\", \"David Saff\"], \"x_labels_major\": null, \"x_labels_major_count\": null, \"x_labels_major_every\": null, \"x_title\": \"Anzahl der Commits\", \"xrange\": null, \"y_label_rotation\": 0, \"y_labels\": null, \"y_labels_major\": null, \"y_labels_major_count\": null, \"y_labels_major_every\": null, \"y_title\": \"Entwickler\", \"zero\": 0, \"legends\": [\" \"]}</script><script type=\"text/javascript\" xlink:href=\"https://kozea.github.io/pygal.js/2.0.x/pygal-tooltips.min.js\"/></defs><title>Entwickler mit den meisten Commits</title><g class=\"graph horizontalbar-graph horizontal\"><rect class=\"background\" height=\"600\" width=\"800\" x=\"0\" y=\"0\"/><g class=\"plot\" transform=\"translate(140, 46)\"><rect class=\"background\" height=\"488\" width=\"640.0\" x=\"0\" y=\"0\"/><g class=\"axis y\"><g class=\"guides\"><text class=\"\" x=\"-5\" y=\"458.65384615384613\">pimterry</text><title>0.05</title></g><g class=\"guides\"><text class=\"\" x=\"-5\" y=\"411.7307692307692\">emeade</text><title>0.15</title></g><g class=\"guides\"><text class=\"\" x=\"-5\" y=\"364.80769230769226\">egamma</text><title>0.25</title></g><g class=\"guides\"><text class=\"\" x=\"-5\" y=\"317.88461538461536\">Marc Philipp</text><title>0.35</title></g><g class=\"guides\"><text class=\"\" x=\"-5\" y=\"270.96153846153845\">Kevin Cooney</text><title>0.45</title></g><g class=\"guides\"><text class=\"\" x=\"-5\" y=\"224.03846153846155\">Tibor Digana</text><title>0.55</title></g><g class=\"guides\"><text class=\"\" x=\"-5\" y=\"177.11538461538458\">kbeck</text><title>0.65</title></g><g class=\"guides\"><text class=\"\" x=\"-5\" y=\"130.19230769230774\">Stefan Birkner</text><title>0.75</title></g><g class=\"guides\"><text class=\"\" x=\"-5\" y=\"83.26923076923077\">dsaff</text><title>0.85</title></g><g class=\"guides\"><text class=\"\" x=\"-5\" y=\"36.34615384615387\">David Saff</text><title>0.95</title></g></g><g class=\"axis x always_show\"><g class=\"guides\"><path class=\"axis major line\" d=\"M12.307692 0.000000 v488.000000\"/><text class=\"major\" x=\"12.30769230769231\" y=\"503.0\">0</text></g><g class=\"guides\"><path class=\"guide line\" d=\"M51.504165 0.000000 v488.000000\"/><text class=\"\" x=\"51.50416462518375\" y=\"503.0\">20</text></g><g class=\"guides\"><path class=\"guide line\" d=\"M90.700637 0.000000 v488.000000\"/><text class=\"\" x=\"90.70063694267517\" y=\"503.0\">40</text></g><g class=\"guides\"><path class=\"guide line\" d=\"M129.897109 0.000000 v488.000000\"/><text class=\"\" x=\"129.8971092601666\" y=\"503.0\">60</text></g><g class=\"guides\"><path class=\"guide line\" d=\"M169.093582 0.000000 v488.000000\"/><text class=\"\" x=\"169.09358157765803\" y=\"503.0\">80</text></g><g class=\"guides\"><path class=\"major guide line\" d=\"M208.290054 0.000000 v488.000000\"/><text class=\"major\" x=\"208.29005389514947\" y=\"503.0\">100</text></g><g class=\"guides\"><path class=\"guide line\" d=\"M247.486526 0.000000 v488.000000\"/><text class=\"\" x=\"247.48652621264088\" y=\"503.0\">120</text></g><g class=\"guides\"><path class=\"guide line\" d=\"M286.682999 0.000000 v488.000000\"/><text class=\"\" x=\"286.68299853013235\" y=\"503.0\">140</text></g><g class=\"guides\"><path class=\"guide line\" d=\"M325.879471 0.000000 v488.000000\"/><text class=\"\" x=\"325.87947084762374\" y=\"503.0\">160</text></g><g class=\"guides\"><path class=\"guide line\" d=\"M365.075943 0.000000 v488.000000\"/><text class=\"\" x=\"365.0759431651152\" y=\"503.0\">180</text></g><g class=\"guides\"><path class=\"major guide line\" d=\"M404.272415 0.000000 v488.000000\"/><text class=\"major\" x=\"404.2724154826067\" y=\"503.0\">200</text></g><g class=\"guides\"><path class=\"guide line\" d=\"M443.468888 0.000000 v488.000000\"/><text class=\"\" x=\"443.4688878000981\" y=\"503.0\">220</text></g><g class=\"guides\"><path class=\"guide line\" d=\"M482.665360 0.000000 v488.000000\"/><text class=\"\" x=\"482.66536011758956\" y=\"503.0\">240</text></g><g class=\"guides\"><path class=\"guide line\" d=\"M521.861832 0.000000 v488.000000\"/><text class=\"\" x=\"521.8618324350808\" y=\"503.0\">260</text></g><g class=\"guides\"><path class=\"guide line\" d=\"M561.058305 0.000000 v488.000000\"/><text class=\"\" x=\"561.0583047525723\" y=\"503.0\">280</text></g><g class=\"guides\"><path class=\"major guide line\" d=\"M600.254777 0.000000 v488.000000\"/><text class=\"major\" x=\"600.2547770700637\" y=\"503.0\">300</text></g></g><g class=\"series serie-0 color-0\"><g class=\"bars\"><g class=\"bar\"><rect class=\"rect reactive tooltip-trigger\" height=\"36.337230769230764\" rx=\"0\" ry=\"0\" width=\"70.55365017148458\" x=\"12.307692307692307\" y=\"436.9852307692308\"/><desc class=\"value\">36</desc><desc class=\"x centered\">47.584517393434595</desc><desc class=\"y centered\">455.15384615384613</desc><desc class=\"x_label\">pimterry</desc></g><g class=\"bar\"><rect class=\"rect reactive tooltip-trigger\" height=\"36.337230769230764\" rx=\"0\" ry=\"0\" width=\"72.51347378735916\" x=\"12.307692307692307\" y=\"390.0621538461538\"/><desc class=\"value\">37</desc><desc class=\"x centered\">48.56442920137189</desc><desc class=\"y centered\">408.23076923076917</desc><desc class=\"x_label\">emeade</desc></g><g class=\"bar\"><rect class=\"rect reactive tooltip-trigger\" height=\"36.337230769230764\" rx=\"0\" ry=\"0\" width=\"103.8706516413523\" x=\"12.307692307692307\" y=\"343.1390769230769\"/><desc class=\"value\">53</desc><desc class=\"x centered\">64.24301812836845</desc><desc class=\"y centered\">361.30769230769226</desc><desc class=\"x_label\">egamma</desc></g><g class=\"bar\"><rect class=\"rect reactive tooltip-trigger\" height=\"36.337230769230764\" rx=\"0\" ry=\"0\" width=\"170.50465458108772\" x=\"12.30769230769232\" y=\"296.216\"/><desc class=\"value\">87</desc><desc class=\"x centered\">97.56001959823618</desc><desc class=\"y centered\">314.38461538461536</desc><desc class=\"x_label\">Marc Philipp</desc></g><g class=\"bar\"><rect class=\"rect reactive tooltip-trigger\" height=\"36.337230769230764\" rx=\"0\" ry=\"0\" width=\"180.30377266046057\" x=\"12.30769230769232\" y=\"249.29292307692305\"/><desc class=\"value\">92</desc><desc class=\"x centered\">102.4595786379226</desc><desc class=\"y centered\">267.4615384615384</desc><desc class=\"x_label\">Kevin Cooney</desc></g><g class=\"bar\"><rect class=\"rect reactive tooltip-trigger\" height=\"36.337230769230764\" rx=\"0\" ry=\"0\" width=\"195.98236158745715\" x=\"12.30769230769232\" y=\"202.36984615384617\"/><desc class=\"value\">100</desc><desc class=\"x centered\">110.2988731014209</desc><desc class=\"y centered\">220.53846153846155</desc><desc class=\"x_label\">Tibor Digana</desc></g><g class=\"bar\"><rect class=\"rect reactive tooltip-trigger\" height=\"36.337230769230764\" rx=\"0\" ry=\"0\" width=\"237.13865752082316\" x=\"12.30769230769232\" y=\"155.44676923076926\"/><desc class=\"value\">121</desc><desc class=\"x centered\">130.8770210681039</desc><desc class=\"y centered\">173.61538461538464</desc><desc class=\"x_label\">kbeck</desc></g><g class=\"bar\"><rect class=\"rect reactive tooltip-trigger\" height=\"36.337230769230764\" rx=\"0\" ry=\"0\" width=\"258.6967172954434\" x=\"12.30769230769232\" y=\"108.5236923076923\"/><desc class=\"value\">132</desc><desc class=\"x centered\">141.65605095541403</desc><desc class=\"y centered\">126.69230769230768</desc><desc class=\"x_label\">Stefan Birkner</desc></g><g class=\"bar\"><rect class=\"rect reactive tooltip-trigger\" height=\"36.337230769230764\" rx=\"0\" ry=\"0\" width=\"503.6746692797648\" x=\"12.30769230769232\" y=\"61.60061538461539\"/><desc class=\"value\">257</desc><desc class=\"x centered\">264.1450269475747</desc><desc class=\"y centered\">79.76923076923077</desc><desc class=\"x_label\">dsaff</desc></g><g class=\"bar\"><rect class=\"rect reactive tooltip-trigger\" height=\"36.337230769230764\" rx=\"0\" ry=\"0\" width=\"615.3846153846155\" x=\"12.307692307692264\" y=\"14.677538461538425\"/><desc class=\"value\">314</desc><desc class=\"x centered\">320.0</desc><desc class=\"y centered\">32.84615384615381</desc><desc class=\"x_label\">David Saff</desc></g></g></g></g><g class=\"titles\"><text class=\"title plot_title\" x=\"400.0\" y=\"26\">Entwickler mit den meisten Commits</text><text class=\"title\" x=\"460.0\" y=\"580\">Anzahl der Commits</text><text class=\"title\" x=\"0\" y=\"316.0\" transform=\"rotate(-90 0.000000 290.000000)\">Entwickler</text></g><g class=\"plot overlay\" transform=\"translate(140, 46)\"><g class=\"series serie-0 color-0\"/></g><g class=\"plot text-overlay\" transform=\"translate(140, 46)\"><g class=\"series serie-0 color-0\"/></g><g class=\"plot tooltip-overlay\" transform=\"translate(140, 46)\"><g class=\"tooltip\" style=\"opacity: 0\" transform=\"translate(0 0)\"><rect class=\"tooltip-box\" height=\"0\" rx=\"0\" ry=\"0\" width=\"0\"/><g class=\"text\"/></g></g></g></svg>\n",
       "    </figure>\n",
       "  </body>\n",
       "</html>\n"
      ],
      "text/plain": [
       "<IPython.core.display.HTML object>"
      ]
     },
     "metadata": {},
     "output_type": "display_data"
    }
   ],
   "source": [
    "import pygal \n",
    "bar_chart = pygal.HorizontalBar()\n",
    "bar_chart.title = 'Entwickler mit den meisten Commits'\n",
    "bar_chart.x_title='Anzahl der Commits'\n",
    "bar_chart.y_title='Entwickler'\n",
    "bar_chart.show_legend=False\n",
    "bar_chart.x_labels= y_developers\n",
    "bar_chart.add(' ',x_commits)\n",
    "display(HTML(base_html.format(rendered_chart=bar_chart.render(is_unicode=True))))"
   ]
  },
  {
   "cell_type": "code",
   "execution_count": null,
   "metadata": {},
   "outputs": [],
   "source": []
  },
  {
   "cell_type": "code",
   "execution_count": null,
   "metadata": {},
   "outputs": [],
   "source": []
  },
  {
   "cell_type": "code",
   "execution_count": null,
   "metadata": {},
   "outputs": [],
   "source": []
  }
 ],
 "metadata": {
  "kernelspec": {
   "display_name": "Python [conda env:BeLL]",
   "language": "python",
   "name": "conda-env-BeLL-py"
  },
  "language_info": {
   "codemirror_mode": {
    "name": "ipython",
    "version": 3
   },
   "file_extension": ".py",
   "mimetype": "text/x-python",
   "name": "python",
   "nbconvert_exporter": "python",
   "pygments_lexer": "ipython3",
   "version": "3.6.4"
  }
 },
 "nbformat": 4,
 "nbformat_minor": 2
}
