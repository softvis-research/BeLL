{
 "cells": [
  {
   "cell_type": "markdown",
   "metadata": {},
   "source": [
    "# Welche Entwickler haben die meisten Commits?"
   ]
  },
  {
   "cell_type": "markdown",
   "metadata": {},
   "source": [
    "## 1. Verbindung zur Datenbank\n",
    "Es wird eine Verbindung zur Neo4j-Datenbank aufgebaut."
   ]
  },
  {
   "cell_type": "code",
   "execution_count": 6,
   "metadata": {},
   "outputs": [],
   "source": [
    "import py2neo\n",
    "\n",
    "graph = py2neo.Graph(bolt=True, host='localhost', user='neo4j', password='neo4j')"
   ]
  },
  {
   "cell_type": "markdown",
   "metadata": {},
   "source": [
    "## 2. Cypher-Abfrage\n",
    "Es wird eine Abfrage an die Datenbank gestellt. Das Ergebnis wird in einem Dataframe (pandas) gespeichert."
   ]
  },
  {
   "cell_type": "code",
   "execution_count": 7,
   "metadata": {},
   "outputs": [],
   "source": [
    "import pandas as pd\n",
    "\n",
    "query =\"MATCH (a:Author)-[:COMMITTED]->(c:Commit)-[:CONTAINS_CHANGE]->(:Change)-[:MODIFIES]->(file:File) WHERE NOT c:Merge RETURN a.name as developer, count(distinct c) as commits\"\n",
    "df = pd.DataFrame(graph.run(query).data())\n"
   ]
  },
  {
   "cell_type": "markdown",
   "metadata": {},
   "source": [
    "## 3. Datenaufbereitung\n",
    "Zur Kontrolle werden die ersten fünf Zeilen des Ergebnisses der Abfrage als Tabelle ausgegeben."
   ]
  },
  {
   "cell_type": "code",
   "execution_count": 8,
   "metadata": {},
   "outputs": [
    {
     "data": {
      "text/html": [
       "<div>\n",
       "<style scoped>\n",
       "    .dataframe tbody tr th:only-of-type {\n",
       "        vertical-align: middle;\n",
       "    }\n",
       "\n",
       "    .dataframe tbody tr th {\n",
       "        vertical-align: top;\n",
       "    }\n",
       "\n",
       "    .dataframe thead th {\n",
       "        text-align: right;\n",
       "    }\n",
       "</style>\n",
       "<table border=\"1\" class=\"dataframe\">\n",
       "  <thead>\n",
       "    <tr style=\"text-align: right;\">\n",
       "      <th></th>\n",
       "      <th>commits</th>\n",
       "      <th>developer</th>\n",
       "    </tr>\n",
       "  </thead>\n",
       "  <tbody>\n",
       "    <tr>\n",
       "      <th>0</th>\n",
       "      <td>1</td>\n",
       "      <td>Joseph Walton</td>\n",
       "    </tr>\n",
       "    <tr>\n",
       "      <th>1</th>\n",
       "      <td>23</td>\n",
       "      <td>Noel Yap</td>\n",
       "    </tr>\n",
       "    <tr>\n",
       "      <th>2</th>\n",
       "      <td>2</td>\n",
       "      <td>Robin Stevens</td>\n",
       "    </tr>\n",
       "    <tr>\n",
       "      <th>3</th>\n",
       "      <td>1</td>\n",
       "      <td>Chris Barrow</td>\n",
       "    </tr>\n",
       "    <tr>\n",
       "      <th>4</th>\n",
       "      <td>1</td>\n",
       "      <td>Arjen Stolk</td>\n",
       "    </tr>\n",
       "  </tbody>\n",
       "</table>\n",
       "</div>"
      ],
      "text/plain": [
       "   commits      developer\n",
       "0        1  Joseph Walton\n",
       "1       23       Noel Yap\n",
       "2        2  Robin Stevens\n",
       "3        1   Chris Barrow\n",
       "4        1    Arjen Stolk"
      ]
     },
     "execution_count": 8,
     "metadata": {},
     "output_type": "execute_result"
    }
   ],
   "source": [
    "df.head()"
   ]
  },
  {
   "cell_type": "markdown",
   "metadata": {},
   "source": [
    "Im folgenden Codeabschnitt wird das Dataframe absteigend entsprechend der der Anzahl der Commits (commits) sortiert und die ersten zehn Entwickler (developer) extrahiert. Die Werte werden in den Variablen <font face=\"Courier\">x_commits</font> und <font face=\"Courier\">y_developer</font> gespeichert."
   ]
  },
  {
   "cell_type": "code",
   "execution_count": 9,
   "metadata": {},
   "outputs": [
    {
     "name": "stdout",
     "output_type": "stream",
     "text": [
      "[314, 257, 132, 121, 100, 92, 87, 53, 37, 36]\n",
      "['David Saff', 'dsaff', 'Stefan Birkner', 'kbeck', 'Tibor Digana', 'Kevin Cooney', 'Marc Philipp', 'egamma', 'emeade', 'pimterry']\n",
      "     commits       developer\n",
      "121      314      David Saff\n",
      "128      257           dsaff\n",
      "171      132  Stefan Birkner\n",
      "23       121           kbeck\n",
      "131      100    Tibor Digana\n",
      "127       92    Kevin Cooney\n",
      "94        87    Marc Philipp\n",
      "29        53          egamma\n",
      "125       37          emeade\n",
      "110       36        pimterry\n"
     ]
    }
   ],
   "source": [
    "import numpy as np\n",
    "\n",
    "a=df.sort_values('commits',ascending=False)\n",
    "b=a.head(10)\n",
    "\n",
    "def x_commits(x):\n",
    "    x=b['commits'].tolist()\n",
    "    return x\n",
    "\n",
    "\n",
    "def y_developer(y):\n",
    "    y=b['developer'].tolist()\n",
    "    return(y)\n",
    "\n",
    "\n",
    "\n",
    "print(x_commits(b))\n",
    "print(y_developer(b))\n",
    "print(b)"
   ]
  },
  {
   "cell_type": "markdown",
   "metadata": {},
   "source": [
    "# 4. Visualisierung\n",
    "Die Daten werden mittels eines Bar Charts visualisiert (https://plot.ly/python/horizontal-bar-charts/, x=x_commits, y=y_developer)."
   ]
  },
  {
   "cell_type": "code",
   "execution_count": 10,
   "metadata": {},
   "outputs": [
    {
     "data": {
      "text/html": [
       "<iframe id=\"igraph\" scrolling=\"no\" style=\"border:none;\" seamless=\"seamless\" src=\"https://plot.ly/~laurabus/4.embed\" height=\"525px\" width=\"100%\"></iframe>"
      ],
      "text/plain": [
       "<plotly.tools.PlotlyDisplay object>"
      ]
     },
     "execution_count": 10,
     "metadata": {},
     "output_type": "execute_result"
    }
   ],
   "source": [
    "import plotly.plotly as py\n",
    "import plotly.graph_objs as go\n",
    "\n",
    "data = [go.Bar(\n",
    "            x=x_commits(b),\n",
    "            y=y_developer(b),\n",
    "            orientation = 'h'\n",
    ")]\n",
    "\n",
    "py.iplot(data, filename='Entwickler mit den meisten Commits')\n",
    "\n"
   ]
  },
  {
   "cell_type": "code",
   "execution_count": 12,
   "metadata": {},
   "outputs": [],
   "source": [
    "from IPython.display import display, HTML\n",
    "\n",
    "base_html = \"\"\"\n",
    "<!DOCTYPE html>\n",
    "<html>\n",
    "  <head>\n",
    "  <script type=\"text/javascript\" src=\"http://kozea.github.com/pygal.js/javascripts/svg.jquery.js\"></script>\n",
    "  <script type=\"text/javascript\" src=\"https://kozea.github.io/pygal.js/2.0.x/pygal-tooltips.min.js\"\"></script>\n",
    "  </head>\n",
    "  <body>\n",
    "    <figure>\n",
    "      {rendered_chart}\n",
    "    </figure>\n",
    "  </body>\n",
    "</html>\n",
    "\"\"\""
   ]
  },
  {
   "cell_type": "code",
   "execution_count": 14,
   "metadata": {},
   "outputs": [
    {
     "data": {
      "text/html": [
       "\n",
       "<!DOCTYPE html>\n",
       "<html>\n",
       "  <head>\n",
       "  <script type=\"text/javascript\" src=\"http://kozea.github.com/pygal.js/javascripts/svg.jquery.js\"></script>\n",
       "  <script type=\"text/javascript\" src=\"https://kozea.github.io/pygal.js/2.0.x/pygal-tooltips.min.js\"\"></script>\n",
       "  </head>\n",
       "  <body>\n",
       "    <figure>\n",
       "      <?xml version='1.0' encoding='utf-8'?>\n",
       "<svg xmlns:xlink=\"http://www.w3.org/1999/xlink\" xmlns=\"http://www.w3.org/2000/svg\" id=\"chart-0c00019b-23f5-4fb9-8643-0f180f6d7e34\" class=\"pygal-chart\" viewBox=\"0 0 800 600\"><!--Generated with pygal 2.4.0 (lxml) ©Kozea 2012-2016 on 2019-07-23--><!--http://pygal.org--><!--http://github.com/Kozea/pygal--><defs><style type=\"text/css\">#chart-0c00019b-23f5-4fb9-8643-0f180f6d7e34{-webkit-user-select:none;-webkit-font-smoothing:antialiased;font-family:Consolas,\"Liberation Mono\",Menlo,Courier,monospace}#chart-0c00019b-23f5-4fb9-8643-0f180f6d7e34 .title{font-family:Consolas,\"Liberation Mono\",Menlo,Courier,monospace;font-size:16px}#chart-0c00019b-23f5-4fb9-8643-0f180f6d7e34 .legends .legend text{font-family:Consolas,\"Liberation Mono\",Menlo,Courier,monospace;font-size:14px}#chart-0c00019b-23f5-4fb9-8643-0f180f6d7e34 .axis text{font-family:Consolas,\"Liberation Mono\",Menlo,Courier,monospace;font-size:10px}#chart-0c00019b-23f5-4fb9-8643-0f180f6d7e34 .axis text.major{font-family:Consolas,\"Liberation Mono\",Menlo,Courier,monospace;font-size:10px}#chart-0c00019b-23f5-4fb9-8643-0f180f6d7e34 .text-overlay text.value{font-family:Consolas,\"Liberation Mono\",Menlo,Courier,monospace;font-size:16px}#chart-0c00019b-23f5-4fb9-8643-0f180f6d7e34 .text-overlay text.label{font-family:Consolas,\"Liberation Mono\",Menlo,Courier,monospace;font-size:10px}#chart-0c00019b-23f5-4fb9-8643-0f180f6d7e34 .tooltip{font-family:Consolas,\"Liberation Mono\",Menlo,Courier,monospace;font-size:14px}#chart-0c00019b-23f5-4fb9-8643-0f180f6d7e34 text.no_data{font-family:Consolas,\"Liberation Mono\",Menlo,Courier,monospace;font-size:64px}\n",
       "#chart-0c00019b-23f5-4fb9-8643-0f180f6d7e34{background-color:rgba(249,249,249,1)}#chart-0c00019b-23f5-4fb9-8643-0f180f6d7e34 path,#chart-0c00019b-23f5-4fb9-8643-0f180f6d7e34 line,#chart-0c00019b-23f5-4fb9-8643-0f180f6d7e34 rect,#chart-0c00019b-23f5-4fb9-8643-0f180f6d7e34 circle{-webkit-transition:150ms;-moz-transition:150ms;transition:150ms}#chart-0c00019b-23f5-4fb9-8643-0f180f6d7e34 .graph &gt; .background{fill:rgba(249,249,249,1)}#chart-0c00019b-23f5-4fb9-8643-0f180f6d7e34 .plot &gt; .background{fill:rgba(255,255,255,1)}#chart-0c00019b-23f5-4fb9-8643-0f180f6d7e34 .graph{fill:rgba(0,0,0,.87)}#chart-0c00019b-23f5-4fb9-8643-0f180f6d7e34 text.no_data{fill:rgba(0,0,0,1)}#chart-0c00019b-23f5-4fb9-8643-0f180f6d7e34 .title{fill:rgba(0,0,0,1)}#chart-0c00019b-23f5-4fb9-8643-0f180f6d7e34 .legends .legend text{fill:rgba(0,0,0,.87)}#chart-0c00019b-23f5-4fb9-8643-0f180f6d7e34 .legends .legend:hover text{fill:rgba(0,0,0,1)}#chart-0c00019b-23f5-4fb9-8643-0f180f6d7e34 .axis .line{stroke:rgba(0,0,0,1)}#chart-0c00019b-23f5-4fb9-8643-0f180f6d7e34 .axis .guide.line{stroke:rgba(0,0,0,.54)}#chart-0c00019b-23f5-4fb9-8643-0f180f6d7e34 .axis .major.line{stroke:rgba(0,0,0,.87)}#chart-0c00019b-23f5-4fb9-8643-0f180f6d7e34 .axis text.major{fill:rgba(0,0,0,1)}#chart-0c00019b-23f5-4fb9-8643-0f180f6d7e34 .axis.y .guides:hover .guide.line,#chart-0c00019b-23f5-4fb9-8643-0f180f6d7e34 .line-graph .axis.x .guides:hover .guide.line,#chart-0c00019b-23f5-4fb9-8643-0f180f6d7e34 .stackedline-graph .axis.x .guides:hover .guide.line,#chart-0c00019b-23f5-4fb9-8643-0f180f6d7e34 .xy-graph .axis.x .guides:hover .guide.line{stroke:rgba(0,0,0,1)}#chart-0c00019b-23f5-4fb9-8643-0f180f6d7e34 .axis .guides:hover text{fill:rgba(0,0,0,1)}#chart-0c00019b-23f5-4fb9-8643-0f180f6d7e34 .reactive{fill-opacity:.7;stroke-opacity:.8}#chart-0c00019b-23f5-4fb9-8643-0f180f6d7e34 .ci{stroke:rgba(0,0,0,.87)}#chart-0c00019b-23f5-4fb9-8643-0f180f6d7e34 .reactive.active,#chart-0c00019b-23f5-4fb9-8643-0f180f6d7e34 .active .reactive{fill-opacity:.8;stroke-opacity:.9;stroke-width:4}#chart-0c00019b-23f5-4fb9-8643-0f180f6d7e34 .ci .reactive.active{stroke-width:1.5}#chart-0c00019b-23f5-4fb9-8643-0f180f6d7e34 .series text{fill:rgba(0,0,0,1)}#chart-0c00019b-23f5-4fb9-8643-0f180f6d7e34 .tooltip rect{fill:rgba(255,255,255,1);stroke:rgba(0,0,0,1);-webkit-transition:opacity 150ms;-moz-transition:opacity 150ms;transition:opacity 150ms}#chart-0c00019b-23f5-4fb9-8643-0f180f6d7e34 .tooltip .label{fill:rgba(0,0,0,.87)}#chart-0c00019b-23f5-4fb9-8643-0f180f6d7e34 .tooltip .label{fill:rgba(0,0,0,.87)}#chart-0c00019b-23f5-4fb9-8643-0f180f6d7e34 .tooltip .legend{font-size:.8em;fill:rgba(0,0,0,.54)}#chart-0c00019b-23f5-4fb9-8643-0f180f6d7e34 .tooltip .x_label{font-size:.6em;fill:rgba(0,0,0,1)}#chart-0c00019b-23f5-4fb9-8643-0f180f6d7e34 .tooltip .xlink{font-size:.5em;text-decoration:underline}#chart-0c00019b-23f5-4fb9-8643-0f180f6d7e34 .tooltip .value{font-size:1.5em}#chart-0c00019b-23f5-4fb9-8643-0f180f6d7e34 .bound{font-size:.5em}#chart-0c00019b-23f5-4fb9-8643-0f180f6d7e34 .max-value{font-size:.75em;fill:rgba(0,0,0,.54)}#chart-0c00019b-23f5-4fb9-8643-0f180f6d7e34 .map-element{fill:rgba(255,255,255,1);stroke:rgba(0,0,0,.54) !important}#chart-0c00019b-23f5-4fb9-8643-0f180f6d7e34 .map-element .reactive{fill-opacity:inherit;stroke-opacity:inherit}#chart-0c00019b-23f5-4fb9-8643-0f180f6d7e34 .color-0,#chart-0c00019b-23f5-4fb9-8643-0f180f6d7e34 .color-0 a:visited{stroke:#F44336;fill:#F44336}#chart-0c00019b-23f5-4fb9-8643-0f180f6d7e34 .color-1,#chart-0c00019b-23f5-4fb9-8643-0f180f6d7e34 .color-1 a:visited{stroke:#3F51B5;fill:#3F51B5}#chart-0c00019b-23f5-4fb9-8643-0f180f6d7e34 .color-2,#chart-0c00019b-23f5-4fb9-8643-0f180f6d7e34 .color-2 a:visited{stroke:#009688;fill:#009688}#chart-0c00019b-23f5-4fb9-8643-0f180f6d7e34 .color-3,#chart-0c00019b-23f5-4fb9-8643-0f180f6d7e34 .color-3 a:visited{stroke:#FFC107;fill:#FFC107}#chart-0c00019b-23f5-4fb9-8643-0f180f6d7e34 .color-4,#chart-0c00019b-23f5-4fb9-8643-0f180f6d7e34 .color-4 a:visited{stroke:#FF5722;fill:#FF5722}#chart-0c00019b-23f5-4fb9-8643-0f180f6d7e34 .color-5,#chart-0c00019b-23f5-4fb9-8643-0f180f6d7e34 .color-5 a:visited{stroke:#9C27B0;fill:#9C27B0}#chart-0c00019b-23f5-4fb9-8643-0f180f6d7e34 .color-6,#chart-0c00019b-23f5-4fb9-8643-0f180f6d7e34 .color-6 a:visited{stroke:#03A9F4;fill:#03A9F4}#chart-0c00019b-23f5-4fb9-8643-0f180f6d7e34 .color-7,#chart-0c00019b-23f5-4fb9-8643-0f180f6d7e34 .color-7 a:visited{stroke:#8BC34A;fill:#8BC34A}#chart-0c00019b-23f5-4fb9-8643-0f180f6d7e34 .color-8,#chart-0c00019b-23f5-4fb9-8643-0f180f6d7e34 .color-8 a:visited{stroke:#FF9800;fill:#FF9800}#chart-0c00019b-23f5-4fb9-8643-0f180f6d7e34 .color-9,#chart-0c00019b-23f5-4fb9-8643-0f180f6d7e34 .color-9 a:visited{stroke:#E91E63;fill:#E91E63}#chart-0c00019b-23f5-4fb9-8643-0f180f6d7e34 .text-overlay .color-0 text{fill:black}#chart-0c00019b-23f5-4fb9-8643-0f180f6d7e34 .text-overlay .color-1 text{fill:black}#chart-0c00019b-23f5-4fb9-8643-0f180f6d7e34 .text-overlay .color-2 text{fill:black}#chart-0c00019b-23f5-4fb9-8643-0f180f6d7e34 .text-overlay .color-3 text{fill:black}#chart-0c00019b-23f5-4fb9-8643-0f180f6d7e34 .text-overlay .color-4 text{fill:black}#chart-0c00019b-23f5-4fb9-8643-0f180f6d7e34 .text-overlay .color-5 text{fill:black}#chart-0c00019b-23f5-4fb9-8643-0f180f6d7e34 .text-overlay .color-6 text{fill:black}#chart-0c00019b-23f5-4fb9-8643-0f180f6d7e34 .text-overlay .color-7 text{fill:black}#chart-0c00019b-23f5-4fb9-8643-0f180f6d7e34 .text-overlay .color-8 text{fill:black}#chart-0c00019b-23f5-4fb9-8643-0f180f6d7e34 .text-overlay .color-9 text{fill:black}\n",
       "#chart-0c00019b-23f5-4fb9-8643-0f180f6d7e34 text.no_data{text-anchor:middle}#chart-0c00019b-23f5-4fb9-8643-0f180f6d7e34 .guide.line{fill:none}#chart-0c00019b-23f5-4fb9-8643-0f180f6d7e34 .centered{text-anchor:middle}#chart-0c00019b-23f5-4fb9-8643-0f180f6d7e34 .title{text-anchor:middle}#chart-0c00019b-23f5-4fb9-8643-0f180f6d7e34 .legends .legend text{fill-opacity:1}#chart-0c00019b-23f5-4fb9-8643-0f180f6d7e34 .axis.x text{text-anchor:middle}#chart-0c00019b-23f5-4fb9-8643-0f180f6d7e34 .axis.x:not(.web) text[transform]{text-anchor:start}#chart-0c00019b-23f5-4fb9-8643-0f180f6d7e34 .axis.x:not(.web) text[transform].backwards{text-anchor:end}#chart-0c00019b-23f5-4fb9-8643-0f180f6d7e34 .axis.y text{text-anchor:end}#chart-0c00019b-23f5-4fb9-8643-0f180f6d7e34 .axis.y text[transform].backwards{text-anchor:start}#chart-0c00019b-23f5-4fb9-8643-0f180f6d7e34 .axis.y2 text{text-anchor:start}#chart-0c00019b-23f5-4fb9-8643-0f180f6d7e34 .axis.y2 text[transform].backwards{text-anchor:end}#chart-0c00019b-23f5-4fb9-8643-0f180f6d7e34 .axis .guide.line{stroke-dasharray:4,4}#chart-0c00019b-23f5-4fb9-8643-0f180f6d7e34 .axis .major.guide.line{stroke-dasharray:6,6}#chart-0c00019b-23f5-4fb9-8643-0f180f6d7e34 .horizontal .axis.y .guide.line,#chart-0c00019b-23f5-4fb9-8643-0f180f6d7e34 .horizontal .axis.y2 .guide.line,#chart-0c00019b-23f5-4fb9-8643-0f180f6d7e34 .vertical .axis.x .guide.line{opacity:0}#chart-0c00019b-23f5-4fb9-8643-0f180f6d7e34 .horizontal .axis.always_show .guide.line,#chart-0c00019b-23f5-4fb9-8643-0f180f6d7e34 .vertical .axis.always_show .guide.line{opacity:1 !important}#chart-0c00019b-23f5-4fb9-8643-0f180f6d7e34 .axis.y .guides:hover .guide.line,#chart-0c00019b-23f5-4fb9-8643-0f180f6d7e34 .axis.y2 .guides:hover .guide.line,#chart-0c00019b-23f5-4fb9-8643-0f180f6d7e34 .axis.x .guides:hover .guide.line{opacity:1}#chart-0c00019b-23f5-4fb9-8643-0f180f6d7e34 .axis .guides:hover text{opacity:1}#chart-0c00019b-23f5-4fb9-8643-0f180f6d7e34 .nofill{fill:none}#chart-0c00019b-23f5-4fb9-8643-0f180f6d7e34 .subtle-fill{fill-opacity:.2}#chart-0c00019b-23f5-4fb9-8643-0f180f6d7e34 .dot{stroke-width:1px;fill-opacity:1}#chart-0c00019b-23f5-4fb9-8643-0f180f6d7e34 .dot.active{stroke-width:5px}#chart-0c00019b-23f5-4fb9-8643-0f180f6d7e34 .dot.negative{fill:transparent}#chart-0c00019b-23f5-4fb9-8643-0f180f6d7e34 text,#chart-0c00019b-23f5-4fb9-8643-0f180f6d7e34 tspan{stroke:none !important}#chart-0c00019b-23f5-4fb9-8643-0f180f6d7e34 .series text.active{opacity:1}#chart-0c00019b-23f5-4fb9-8643-0f180f6d7e34 .tooltip rect{fill-opacity:.95;stroke-width:.5}#chart-0c00019b-23f5-4fb9-8643-0f180f6d7e34 .tooltip text{fill-opacity:1}#chart-0c00019b-23f5-4fb9-8643-0f180f6d7e34 .showable{visibility:hidden}#chart-0c00019b-23f5-4fb9-8643-0f180f6d7e34 .showable.shown{visibility:visible}#chart-0c00019b-23f5-4fb9-8643-0f180f6d7e34 .gauge-background{fill:rgba(229,229,229,1);stroke:none}#chart-0c00019b-23f5-4fb9-8643-0f180f6d7e34 .bg-lines{stroke:rgba(249,249,249,1);stroke-width:2px}</style><script type=\"text/javascript\">window.pygal = window.pygal || {};window.pygal.config = window.pygal.config || {};window.pygal.config['0c00019b-23f5-4fb9-8643-0f180f6d7e34'] = {\"allow_interruptions\": false, \"box_mode\": \"extremes\", \"classes\": [\"pygal-chart\"], \"css\": [\"file://style.css\", \"file://graph.css\"], \"defs\": [], \"disable_xml_declaration\": false, \"dots_size\": 2.5, \"dynamic_print_values\": false, \"explicit_size\": false, \"fill\": false, \"force_uri_protocol\": \"https\", \"formatter\": null, \"half_pie\": false, \"height\": 600, \"include_x_axis\": false, \"inner_radius\": 0, \"interpolate\": null, \"interpolation_parameters\": {}, \"interpolation_precision\": 250, \"inverse_y_axis\": false, \"js\": [\"//kozea.github.io/pygal.js/2.0.x/pygal-tooltips.min.js\"], \"legend_at_bottom\": false, \"legend_at_bottom_columns\": null, \"legend_box_size\": 12, \"logarithmic\": false, \"margin\": 20, \"margin_bottom\": null, \"margin_left\": null, \"margin_right\": null, \"margin_top\": null, \"max_scale\": 16, \"min_scale\": 4, \"missing_value_fill_truncation\": \"x\", \"no_data_text\": \"No data\", \"no_prefix\": false, \"order_min\": null, \"pretty_print\": false, \"print_labels\": false, \"print_values\": false, \"print_values_position\": \"center\", \"print_zeroes\": true, \"range\": null, \"rounded_bars\": null, \"secondary_range\": null, \"show_dots\": true, \"show_legend\": true, \"show_minor_x_labels\": true, \"show_minor_y_labels\": true, \"show_only_major_dots\": false, \"show_x_guides\": true, \"show_x_labels\": true, \"show_y_guides\": false, \"show_y_labels\": true, \"spacing\": 10, \"stack_from_top\": false, \"strict\": false, \"stroke\": true, \"stroke_style\": null, \"style\": {\"background\": \"rgba(249, 249, 249, 1)\", \"ci_colors\": [], \"colors\": [\"#F44336\", \"#3F51B5\", \"#009688\", \"#FFC107\", \"#FF5722\", \"#9C27B0\", \"#03A9F4\", \"#8BC34A\", \"#FF9800\", \"#E91E63\", \"#2196F3\", \"#4CAF50\", \"#FFEB3B\", \"#673AB7\", \"#00BCD4\", \"#CDDC39\", \"#9E9E9E\", \"#607D8B\"], \"font_family\": \"Consolas, \\\"Liberation Mono\\\", Menlo, Courier, monospace\", \"foreground\": \"rgba(0, 0, 0, .87)\", \"foreground_strong\": \"rgba(0, 0, 0, 1)\", \"foreground_subtle\": \"rgba(0, 0, 0, .54)\", \"guide_stroke_dasharray\": \"4,4\", \"label_font_family\": \"Consolas, \\\"Liberation Mono\\\", Menlo, Courier, monospace\", \"label_font_size\": 10, \"legend_font_family\": \"Consolas, \\\"Liberation Mono\\\", Menlo, Courier, monospace\", \"legend_font_size\": 14, \"major_guide_stroke_dasharray\": \"6,6\", \"major_label_font_family\": \"Consolas, \\\"Liberation Mono\\\", Menlo, Courier, monospace\", \"major_label_font_size\": 10, \"no_data_font_family\": \"Consolas, \\\"Liberation Mono\\\", Menlo, Courier, monospace\", \"no_data_font_size\": 64, \"opacity\": \".7\", \"opacity_hover\": \".8\", \"plot_background\": \"rgba(255, 255, 255, 1)\", \"stroke_opacity\": \".8\", \"stroke_opacity_hover\": \".9\", \"title_font_family\": \"Consolas, \\\"Liberation Mono\\\", Menlo, Courier, monospace\", \"title_font_size\": 16, \"tooltip_font_family\": \"Consolas, \\\"Liberation Mono\\\", Menlo, Courier, monospace\", \"tooltip_font_size\": 14, \"transition\": \"150ms\", \"value_background\": \"rgba(229, 229, 229, 1)\", \"value_colors\": [], \"value_font_family\": \"Consolas, \\\"Liberation Mono\\\", Menlo, Courier, monospace\", \"value_font_size\": 16, \"value_label_font_family\": \"Consolas, \\\"Liberation Mono\\\", Menlo, Courier, monospace\", \"value_label_font_size\": 10}, \"title\": \"Entwickler mit den meisten Commits\", \"tooltip_border_radius\": 0, \"tooltip_fancy_mode\": true, \"truncate_label\": null, \"truncate_legend\": null, \"width\": 800, \"x_label_rotation\": 0, \"x_labels\": null, \"x_labels_major\": null, \"x_labels_major_count\": null, \"x_labels_major_every\": null, \"x_title\": null, \"xrange\": null, \"y_label_rotation\": 0, \"y_labels\": null, \"y_labels_major\": null, \"y_labels_major_count\": null, \"y_labels_major_every\": null, \"y_title\": null, \"zero\": 0, \"legends\": [\"David Saff\", \"dsaff\", \"Stefan Birkner\", \"kbeck\", \"Tibor Digana\", \"Kevin Cooney\", \"Marc Philipp\", \"egamma\", \"emeade\", \"pimterry\"]}</script><script type=\"text/javascript\" xlink:href=\"https://kozea.github.io/pygal.js/2.0.x/pygal-tooltips.min.js\"/></defs><title>Entwickler mit den meisten Commits</title><g class=\"graph horizontalbar-graph horizontal\"><rect class=\"background\" height=\"600\" width=\"800\" x=\"0\" y=\"0\"/><g class=\"plot\" transform=\"translate(159, 46)\"><rect class=\"background\" height=\"514\" width=\"620.4\" x=\"0\" y=\"0\"/><g class=\"axis x always_show\"><g class=\"guides\"><path class=\"axis major line\" d=\"M11.930769 0.000000 v514.000000\"/><text class=\"major\" x=\"11.930769230769233\" y=\"529.0\">0</text></g><g class=\"guides\"><path class=\"guide line\" d=\"M49.926850 0.000000 v514.000000\"/><text class=\"\" x=\"49.926849583537496\" y=\"529.0\">20</text></g><g class=\"guides\"><path class=\"guide line\" d=\"M87.922930 0.000000 v514.000000\"/><text class=\"\" x=\"87.92292993630575\" y=\"529.0\">40</text></g><g class=\"guides\"><path class=\"guide line\" d=\"M125.919010 0.000000 v514.000000\"/><text class=\"\" x=\"125.91901028907401\" y=\"529.0\">60</text></g><g class=\"guides\"><path class=\"guide line\" d=\"M163.915091 0.000000 v514.000000\"/><text class=\"\" x=\"163.91509064184226\" y=\"529.0\">80</text></g><g class=\"guides\"><path class=\"major guide line\" d=\"M201.911171 0.000000 v514.000000\"/><text class=\"major\" x=\"201.9111709946105\" y=\"529.0\">100</text></g><g class=\"guides\"><path class=\"guide line\" d=\"M239.907251 0.000000 v514.000000\"/><text class=\"\" x=\"239.90725134737875\" y=\"529.0\">120</text></g><g class=\"guides\"><path class=\"guide line\" d=\"M277.903332 0.000000 v514.000000\"/><text class=\"\" x=\"277.903331700147\" y=\"529.0\">140</text></g><g class=\"guides\"><path class=\"guide line\" d=\"M315.899412 0.000000 v514.000000\"/><text class=\"\" x=\"315.8994120529153\" y=\"529.0\">160</text></g><g class=\"guides\"><path class=\"guide line\" d=\"M353.895492 0.000000 v514.000000\"/><text class=\"\" x=\"353.8954924056835\" y=\"529.0\">180</text></g><g class=\"guides\"><path class=\"major guide line\" d=\"M391.891573 0.000000 v514.000000\"/><text class=\"major\" x=\"391.8915727584518\" y=\"529.0\">200</text></g><g class=\"guides\"><path class=\"guide line\" d=\"M429.887653 0.000000 v514.000000\"/><text class=\"\" x=\"429.88765311122006\" y=\"529.0\">220</text></g><g class=\"guides\"><path class=\"guide line\" d=\"M467.883733 0.000000 v514.000000\"/><text class=\"\" x=\"467.8837334639883\" y=\"529.0\">240</text></g><g class=\"guides\"><path class=\"guide line\" d=\"M505.879814 0.000000 v514.000000\"/><text class=\"\" x=\"505.8798138167565\" y=\"529.0\">260</text></g><g class=\"guides\"><path class=\"guide line\" d=\"M543.875894 0.000000 v514.000000\"/><text class=\"\" x=\"543.8758941695247\" y=\"529.0\">280</text></g><g class=\"guides\"><path class=\"major guide line\" d=\"M581.871975 0.000000 v514.000000\"/><text class=\"major\" x=\"581.8719745222929\" y=\"529.0\">300</text></g></g><g class=\"series serie-9 color-9\"><g class=\"bars\"><g class=\"bar\"><rect class=\"rect reactive tooltip-trigger\" height=\"38.273230769230764\" rx=\"0\" ry=\"0\" width=\"68.39294463498287\" x=\"11.93076923076923\" y=\"433.57876923076924\"/><desc class=\"value\">36</desc><desc class=\"x centered\">46.12724154826066</desc><desc class=\"y centered\">452.71538461538466</desc></g></g></g><g class=\"series serie-8 color-8\"><g class=\"bars\"><g class=\"bar\"><rect class=\"rect reactive tooltip-trigger\" height=\"38.273230769230764\" rx=\"0\" ry=\"0\" width=\"70.29274865262128\" x=\"11.93076923076923\" y=\"390.08646153846155\"/><desc class=\"value\">37</desc><desc class=\"x centered\">47.07714355707987</desc><desc class=\"y centered\">409.223076923077</desc></g></g></g><g class=\"series serie-7 color-7\"><g class=\"bars\"><g class=\"bar\"><rect class=\"rect reactive tooltip-trigger\" height=\"38.273230769230764\" rx=\"0\" ry=\"0\" width=\"100.68961293483588\" x=\"11.93076923076923\" y=\"346.59415384615386\"/><desc class=\"value\">53</desc><desc class=\"x centered\">62.27557569818717</desc><desc class=\"y centered\">365.7307692307693</desc></g></g></g><g class=\"series serie-6 color-6\"><g class=\"bars\"><g class=\"bar\"><rect class=\"rect reactive tooltip-trigger\" height=\"38.273230769230764\" rx=\"0\" ry=\"0\" width=\"165.2829495345419\" x=\"11.930769230769243\" y=\"303.10184615384617\"/><desc class=\"value\">87</desc><desc class=\"x centered\">94.5722439980402</desc><desc class=\"y centered\">322.2384615384616</desc></g></g></g><g class=\"series serie-5 color-5\"><g class=\"bars\"><g class=\"bar\"><rect class=\"rect reactive tooltip-trigger\" height=\"38.273230769230764\" rx=\"0\" ry=\"0\" width=\"174.78196962273395\" x=\"11.930769230769243\" y=\"259.6095384615385\"/><desc class=\"value\">92</desc><desc class=\"x centered\">99.32175404213622</desc><desc class=\"y centered\">278.7461538461539</desc></g></g></g><g class=\"series serie-4 color-4\"><g class=\"bars\"><g class=\"bar\"><rect class=\"rect reactive tooltip-trigger\" height=\"38.273230769230764\" rx=\"0\" ry=\"0\" width=\"189.98040176384126\" x=\"11.930769230769243\" y=\"216.11723076923084\"/><desc class=\"value\">100</desc><desc class=\"x centered\">106.92097011268987</desc><desc class=\"y centered\">235.2538461538462</desc></g></g></g><g class=\"series serie-3 color-3\"><g class=\"bars\"><g class=\"bar\"><rect class=\"rect reactive tooltip-trigger\" height=\"38.273230769230764\" rx=\"0\" ry=\"0\" width=\"229.87628613424795\" x=\"11.930769230769243\" y=\"172.62492307692315\"/><desc class=\"value\">121</desc><desc class=\"x centered\">126.86891229789322</desc><desc class=\"y centered\">191.76153846153852</desc></g></g></g><g class=\"series serie-2 color-2\"><g class=\"bars\"><g class=\"bar\"><rect class=\"rect reactive tooltip-trigger\" height=\"38.273230769230764\" rx=\"0\" ry=\"0\" width=\"250.7741303282705\" x=\"11.930769230769243\" y=\"129.13261538461546\"/><desc class=\"value\">132</desc><desc class=\"x centered\">137.31783439490448</desc><desc class=\"y centered\">148.26923076923083</desc></g></g></g><g class=\"series serie-1 color-1\"><g class=\"bars\"><g class=\"bar\"><rect class=\"rect reactive tooltip-trigger\" height=\"38.273230769230764\" rx=\"0\" ry=\"0\" width=\"488.2496325330721\" x=\"11.930769230769215\" y=\"85.64030769230776\"/><desc class=\"value\">257</desc><desc class=\"x centered\">256.0555854973053</desc><desc class=\"y centered\">104.77692307692314</desc></g></g></g><g class=\"series serie-0 color-0\"><g class=\"bars\"><g class=\"bar\"><rect class=\"rect reactive tooltip-trigger\" height=\"38.273230769230764\" rx=\"0\" ry=\"0\" width=\"596.5384615384615\" x=\"11.930769230769215\" y=\"42.14800000000007\"/><desc class=\"value\">314</desc><desc class=\"x centered\">310.2</desc><desc class=\"y centered\">61.28461538461545</desc></g></g></g></g><g class=\"titles\"><text class=\"title plot_title\" x=\"400.0\" y=\"26\">Entwickler mit den meisten Commits</text></g><g class=\"plot overlay\" transform=\"translate(159, 46)\"><g class=\"series serie-9 color-9\"/><g class=\"series serie-8 color-8\"/><g class=\"series serie-7 color-7\"/><g class=\"series serie-6 color-6\"/><g class=\"series serie-5 color-5\"/><g class=\"series serie-4 color-4\"/><g class=\"series serie-3 color-3\"/><g class=\"series serie-2 color-2\"/><g class=\"series serie-1 color-1\"/><g class=\"series serie-0 color-0\"/></g><g class=\"plot text-overlay\" transform=\"translate(159, 46)\"><g class=\"series serie-9 color-9\"/><g class=\"series serie-8 color-8\"/><g class=\"series serie-7 color-7\"/><g class=\"series serie-6 color-6\"/><g class=\"series serie-5 color-5\"/><g class=\"series serie-4 color-4\"/><g class=\"series serie-3 color-3\"/><g class=\"series serie-2 color-2\"/><g class=\"series serie-1 color-1\"/><g class=\"series serie-0 color-0\"/></g><g class=\"plot tooltip-overlay\" transform=\"translate(159, 46)\"><g class=\"tooltip\" style=\"opacity: 0\" transform=\"translate(0 0)\"><rect class=\"tooltip-box\" height=\"0\" rx=\"0\" ry=\"0\" width=\"0\"/><g class=\"text\"/></g></g><g class=\"legends\" transform=\"translate(10, 56)\"><g class=\"legend reactive activate-serie\" id=\"activate-serie-0\"><rect class=\"color-0 reactive\" height=\"12\" width=\"12\" x=\"0.0\" y=\"1.0\"/><text x=\"17.0\" y=\"11.2\">David Saff</text></g><g class=\"legend reactive activate-serie\" id=\"activate-serie-1\"><rect class=\"color-1 reactive\" height=\"12\" width=\"12\" x=\"0.0\" y=\"22.0\"/><text x=\"17.0\" y=\"32.2\">dsaff</text></g><g class=\"legend reactive activate-serie\" id=\"activate-serie-2\"><rect class=\"color-2 reactive\" height=\"12\" width=\"12\" x=\"0.0\" y=\"43.0\"/><text x=\"17.0\" y=\"53.2\">Stefan Birkner</text></g><g class=\"legend reactive activate-serie\" id=\"activate-serie-3\"><rect class=\"color-3 reactive\" height=\"12\" width=\"12\" x=\"0.0\" y=\"64.0\"/><text x=\"17.0\" y=\"74.2\">kbeck</text></g><g class=\"legend reactive activate-serie\" id=\"activate-serie-4\"><rect class=\"color-4 reactive\" height=\"12\" width=\"12\" x=\"0.0\" y=\"85.0\"/><text x=\"17.0\" y=\"95.2\">Tibor Digana</text></g><g class=\"legend reactive activate-serie\" id=\"activate-serie-5\"><rect class=\"color-5 reactive\" height=\"12\" width=\"12\" x=\"0.0\" y=\"106.0\"/><text x=\"17.0\" y=\"116.2\">Kevin Cooney</text></g><g class=\"legend reactive activate-serie\" id=\"activate-serie-6\"><rect class=\"color-6 reactive\" height=\"12\" width=\"12\" x=\"0.0\" y=\"127.0\"/><text x=\"17.0\" y=\"137.2\">Marc Philipp</text></g><g class=\"legend reactive activate-serie\" id=\"activate-serie-7\"><rect class=\"color-7 reactive\" height=\"12\" width=\"12\" x=\"0.0\" y=\"148.0\"/><text x=\"17.0\" y=\"158.2\">egamma</text></g><g class=\"legend reactive activate-serie\" id=\"activate-serie-8\"><rect class=\"color-8 reactive\" height=\"12\" width=\"12\" x=\"0.0\" y=\"169.0\"/><text x=\"17.0\" y=\"179.2\">emeade</text></g><g class=\"legend reactive activate-serie\" id=\"activate-serie-9\"><rect class=\"color-9 reactive\" height=\"12\" width=\"12\" x=\"0.0\" y=\"190.0\"/><text x=\"17.0\" y=\"200.2\">pimterry</text></g></g><g class=\"legends\" transform=\"translate(790, 56)\"/></g></svg>\n",
       "    </figure>\n",
       "  </body>\n",
       "</html>\n"
      ],
      "text/plain": [
       "<IPython.core.display.HTML object>"
      ]
     },
     "metadata": {},
     "output_type": "display_data"
    }
   ],
   "source": [
    "import pygal \n",
    "line_chart = pygal.HorizontalBar()\n",
    "line_chart.title = 'Entwickler mit den meisten Commits'\n",
    "for einzelnerEntwickler in y_developer(b):\n",
    "    index= y_developer(b).index(einzelnerEntwickler)\n",
    "    #dazugehörige frequency herausbekommen\n",
    "    anzahl=x_commits(b)[index]\n",
    "    line_chart.add(einzelnerEntwickler, anzahl)\n",
    "display(HTML(base_html.format(rendered_chart=line_chart.render(is_unicode=True))))"
   ]
  },
  {
   "cell_type": "code",
   "execution_count": null,
   "metadata": {},
   "outputs": [],
   "source": []
  },
  {
   "cell_type": "code",
   "execution_count": null,
   "metadata": {},
   "outputs": [],
   "source": []
  },
  {
   "cell_type": "code",
   "execution_count": null,
   "metadata": {},
   "outputs": [],
   "source": []
  }
 ],
 "metadata": {
  "kernelspec": {
   "display_name": "Python [conda env:BeLL]",
   "language": "python",
   "name": "conda-env-BeLL-py"
  },
  "language_info": {
   "codemirror_mode": {
    "name": "ipython",
    "version": 3
   },
   "file_extension": ".py",
   "mimetype": "text/x-python",
   "name": "python",
   "nbconvert_exporter": "python",
   "pygments_lexer": "ipython3",
   "version": "3.6.4"
  }
 },
 "nbformat": 4,
 "nbformat_minor": 2
}
