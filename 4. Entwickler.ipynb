{
 "cells": [
  {
   "cell_type": "markdown",
   "metadata": {},
   "source": [
    "# Welche Entwickler haben die meisten Commits?"
   ]
  },
  {
   "cell_type": "markdown",
   "metadata": {},
   "source": [
    "## 1. Verbindung zur Datenbank\n",
    "Es wird eine Verbindung zur Neo4j-Datenbank aufgebaut."
   ]
  },
  {
   "cell_type": "code",
   "execution_count": 1,
   "metadata": {},
   "outputs": [],
   "source": [
    "import py2neo\n",
    "\n",
    "graph = py2neo.Graph(bolt=True, host='localhost', user='neo4j', password='neo4j')"
   ]
  },
  {
   "cell_type": "markdown",
   "metadata": {},
   "source": [
    "## 2. Cypher-Abfrage\n",
    "Es wird eine Abfrage an die Datenbank gestellt. Das Ergebnis wird in einem Dataframe (pandas) gespeichert."
   ]
  },
  {
   "cell_type": "code",
   "execution_count": 2,
   "metadata": {},
   "outputs": [],
   "source": [
    "import pandas as pd\n",
    "\n",
    "query =\"MATCH (a:Author)-[:COMMITTED]->(c:Commit)-[:CONTAINS_CHANGE]->(:Change)-[:MODIFIES]->(file:File) WHERE NOT c:Merge RETURN a.name as developer, count(distinct c) as commits\"\n",
    "df = pd.DataFrame(graph.run(query).data())\n"
   ]
  },
  {
   "cell_type": "markdown",
   "metadata": {},
   "source": [
    "## 3. Datenaufbereitung\n",
    "Zur Kontrolle werden die ersten fünf Zeilen des Ergebnisses der Abfrage als Tabelle ausgegeben."
   ]
  },
  {
   "cell_type": "code",
   "execution_count": 3,
   "metadata": {},
   "outputs": [
    {
     "data": {
      "text/html": [
       "<div>\n",
       "<style scoped>\n",
       "    .dataframe tbody tr th:only-of-type {\n",
       "        vertical-align: middle;\n",
       "    }\n",
       "\n",
       "    .dataframe tbody tr th {\n",
       "        vertical-align: top;\n",
       "    }\n",
       "\n",
       "    .dataframe thead th {\n",
       "        text-align: right;\n",
       "    }\n",
       "</style>\n",
       "<table border=\"1\" class=\"dataframe\">\n",
       "  <thead>\n",
       "    <tr style=\"text-align: right;\">\n",
       "      <th></th>\n",
       "      <th>commits</th>\n",
       "      <th>developer</th>\n",
       "    </tr>\n",
       "  </thead>\n",
       "  <tbody>\n",
       "    <tr>\n",
       "      <th>0</th>\n",
       "      <td>1</td>\n",
       "      <td>Joseph Walton</td>\n",
       "    </tr>\n",
       "    <tr>\n",
       "      <th>1</th>\n",
       "      <td>23</td>\n",
       "      <td>Noel Yap</td>\n",
       "    </tr>\n",
       "    <tr>\n",
       "      <th>2</th>\n",
       "      <td>2</td>\n",
       "      <td>Robin Stevens</td>\n",
       "    </tr>\n",
       "    <tr>\n",
       "      <th>3</th>\n",
       "      <td>1</td>\n",
       "      <td>Chris Barrow</td>\n",
       "    </tr>\n",
       "    <tr>\n",
       "      <th>4</th>\n",
       "      <td>1</td>\n",
       "      <td>Arjen Stolk</td>\n",
       "    </tr>\n",
       "  </tbody>\n",
       "</table>\n",
       "</div>"
      ],
      "text/plain": [
       "   commits      developer\n",
       "0        1  Joseph Walton\n",
       "1       23       Noel Yap\n",
       "2        2  Robin Stevens\n",
       "3        1   Chris Barrow\n",
       "4        1    Arjen Stolk"
      ]
     },
     "execution_count": 3,
     "metadata": {},
     "output_type": "execute_result"
    }
   ],
   "source": [
    "df.head()"
   ]
  },
  {
   "cell_type": "markdown",
   "metadata": {},
   "source": [
    "Im folgenden Codeabschnitt wird das Dataframe absteigend entsprechend der Anzahl der Commits mit der Methode ```sort_values``` sortiert und die ersten 10 Zeilen im Dataframe ```developer_df``` abgebildet (https://www.data-science-architect.de/selektieren-von-daten-in-dataframes/)."
   ]
  },
  {
   "cell_type": "code",
   "execution_count": 4,
   "metadata": {},
   "outputs": [
    {
     "data": {
      "text/html": [
       "<div>\n",
       "<style scoped>\n",
       "    .dataframe tbody tr th:only-of-type {\n",
       "        vertical-align: middle;\n",
       "    }\n",
       "\n",
       "    .dataframe tbody tr th {\n",
       "        vertical-align: top;\n",
       "    }\n",
       "\n",
       "    .dataframe thead th {\n",
       "        text-align: right;\n",
       "    }\n",
       "</style>\n",
       "<table border=\"1\" class=\"dataframe\">\n",
       "  <thead>\n",
       "    <tr style=\"text-align: right;\">\n",
       "      <th></th>\n",
       "      <th>commits</th>\n",
       "      <th>developer</th>\n",
       "    </tr>\n",
       "  </thead>\n",
       "  <tbody>\n",
       "    <tr>\n",
       "      <th>121</th>\n",
       "      <td>314</td>\n",
       "      <td>David Saff</td>\n",
       "    </tr>\n",
       "    <tr>\n",
       "      <th>128</th>\n",
       "      <td>257</td>\n",
       "      <td>dsaff</td>\n",
       "    </tr>\n",
       "    <tr>\n",
       "      <th>171</th>\n",
       "      <td>132</td>\n",
       "      <td>Stefan Birkner</td>\n",
       "    </tr>\n",
       "    <tr>\n",
       "      <th>23</th>\n",
       "      <td>121</td>\n",
       "      <td>kbeck</td>\n",
       "    </tr>\n",
       "    <tr>\n",
       "      <th>131</th>\n",
       "      <td>100</td>\n",
       "      <td>Tibor Digana</td>\n",
       "    </tr>\n",
       "    <tr>\n",
       "      <th>127</th>\n",
       "      <td>92</td>\n",
       "      <td>Kevin Cooney</td>\n",
       "    </tr>\n",
       "    <tr>\n",
       "      <th>94</th>\n",
       "      <td>87</td>\n",
       "      <td>Marc Philipp</td>\n",
       "    </tr>\n",
       "    <tr>\n",
       "      <th>29</th>\n",
       "      <td>53</td>\n",
       "      <td>egamma</td>\n",
       "    </tr>\n",
       "    <tr>\n",
       "      <th>125</th>\n",
       "      <td>37</td>\n",
       "      <td>emeade</td>\n",
       "    </tr>\n",
       "    <tr>\n",
       "      <th>110</th>\n",
       "      <td>36</td>\n",
       "      <td>pimterry</td>\n",
       "    </tr>\n",
       "  </tbody>\n",
       "</table>\n",
       "</div>"
      ],
      "text/plain": [
       "     commits       developer\n",
       "121      314      David Saff\n",
       "128      257           dsaff\n",
       "171      132  Stefan Birkner\n",
       "23       121           kbeck\n",
       "131      100    Tibor Digana\n",
       "127       92    Kevin Cooney\n",
       "94        87    Marc Philipp\n",
       "29        53          egamma\n",
       "125       37          emeade\n",
       "110       36        pimterry"
      ]
     },
     "execution_count": 4,
     "metadata": {},
     "output_type": "execute_result"
    }
   ],
   "source": [
    "# Sortiere das Dataframe nach der Anzahl der Commits (commits).\n",
    "df = df.sort_values('commits', ascending=False)\n",
    "\n",
    "# Extrahiere die ersten zehn Spalten und speichere sie im Dataframe developer_df.\n",
    "developer_df = df[0:10]\n",
    "developer_df.head(10)\n"
   ]
  },
  {
   "cell_type": "markdown",
   "metadata": {},
   "source": [
    "# 4. Visualisierung\n",
    "Die Daten werden mittels eines Bar Charts visualisiert (https://plot.ly/python/horizontal-bar-charts/, x=x_commits, y=y_developer)."
   ]
  },
  {
   "cell_type": "code",
   "execution_count": 5,
   "metadata": {},
   "outputs": [],
   "source": [
    "from IPython.display import display, HTML\n",
    "\n",
    "base_html = \"\"\"\n",
    "<!DOCTYPE html>\n",
    "<html>\n",
    "  <head>\n",
    "  <script type=\"text/javascript\" src=\"http://kozea.github.com/pygal.js/javascripts/svg.jquery.js\"></script>\n",
    "  <script type=\"text/javascript\" src=\"https://kozea.github.io/pygal.js/2.0.x/pygal-tooltips.min.js\"\"></script>\n",
    "  </head>\n",
    "  <body>\n",
    "    <figure>\n",
    "      {rendered_chart}\n",
    "    </figure>\n",
    "  </body>\n",
    "</html>\n",
    "\"\"\""
   ]
  },
  {
   "cell_type": "code",
   "execution_count": 6,
   "metadata": {},
   "outputs": [
    {
     "data": {
      "text/html": [
       "\n",
       "<!DOCTYPE html>\n",
       "<html>\n",
       "  <head>\n",
       "  <script type=\"text/javascript\" src=\"http://kozea.github.com/pygal.js/javascripts/svg.jquery.js\"></script>\n",
       "  <script type=\"text/javascript\" src=\"https://kozea.github.io/pygal.js/2.0.x/pygal-tooltips.min.js\"\"></script>\n",
       "  </head>\n",
       "  <body>\n",
       "    <figure>\n",
       "      <?xml version='1.0' encoding='utf-8'?>\n",
       "<svg xmlns:xlink=\"http://www.w3.org/1999/xlink\" xmlns=\"http://www.w3.org/2000/svg\" id=\"chart-f5219106-95a2-492d-9ff5-6952dea3f541\" class=\"pygal-chart\" viewBox=\"0 0 800 600\"><!--Generated with pygal 2.4.0 (lxml) ©Kozea 2012-2016 on 2019-11-30--><!--http://pygal.org--><!--http://github.com/Kozea/pygal--><defs><style type=\"text/css\">#chart-f5219106-95a2-492d-9ff5-6952dea3f541{-webkit-user-select:none;-webkit-font-smoothing:antialiased;font-family:Consolas,\"Liberation Mono\",Menlo,Courier,monospace}#chart-f5219106-95a2-492d-9ff5-6952dea3f541 .title{font-family:Consolas,\"Liberation Mono\",Menlo,Courier,monospace;font-size:16px}#chart-f5219106-95a2-492d-9ff5-6952dea3f541 .legends .legend text{font-family:Consolas,\"Liberation Mono\",Menlo,Courier,monospace;font-size:14px}#chart-f5219106-95a2-492d-9ff5-6952dea3f541 .axis text{font-family:Consolas,\"Liberation Mono\",Menlo,Courier,monospace;font-size:10px}#chart-f5219106-95a2-492d-9ff5-6952dea3f541 .axis text.major{font-family:Consolas,\"Liberation Mono\",Menlo,Courier,monospace;font-size:10px}#chart-f5219106-95a2-492d-9ff5-6952dea3f541 .text-overlay text.value{font-family:Consolas,\"Liberation Mono\",Menlo,Courier,monospace;font-size:16px}#chart-f5219106-95a2-492d-9ff5-6952dea3f541 .text-overlay text.label{font-family:Consolas,\"Liberation Mono\",Menlo,Courier,monospace;font-size:10px}#chart-f5219106-95a2-492d-9ff5-6952dea3f541 .tooltip{font-family:Consolas,\"Liberation Mono\",Menlo,Courier,monospace;font-size:14px}#chart-f5219106-95a2-492d-9ff5-6952dea3f541 text.no_data{font-family:Consolas,\"Liberation Mono\",Menlo,Courier,monospace;font-size:64px}\n",
       "#chart-f5219106-95a2-492d-9ff5-6952dea3f541{background-color:rgba(249,249,249,1)}#chart-f5219106-95a2-492d-9ff5-6952dea3f541 path,#chart-f5219106-95a2-492d-9ff5-6952dea3f541 line,#chart-f5219106-95a2-492d-9ff5-6952dea3f541 rect,#chart-f5219106-95a2-492d-9ff5-6952dea3f541 circle{-webkit-transition:150ms;-moz-transition:150ms;transition:150ms}#chart-f5219106-95a2-492d-9ff5-6952dea3f541 .graph &gt; .background{fill:rgba(249,249,249,1)}#chart-f5219106-95a2-492d-9ff5-6952dea3f541 .plot &gt; .background{fill:rgba(255,255,255,1)}#chart-f5219106-95a2-492d-9ff5-6952dea3f541 .graph{fill:rgba(0,0,0,.87)}#chart-f5219106-95a2-492d-9ff5-6952dea3f541 text.no_data{fill:rgba(0,0,0,1)}#chart-f5219106-95a2-492d-9ff5-6952dea3f541 .title{fill:rgba(0,0,0,1)}#chart-f5219106-95a2-492d-9ff5-6952dea3f541 .legends .legend text{fill:rgba(0,0,0,.87)}#chart-f5219106-95a2-492d-9ff5-6952dea3f541 .legends .legend:hover text{fill:rgba(0,0,0,1)}#chart-f5219106-95a2-492d-9ff5-6952dea3f541 .axis .line{stroke:rgba(0,0,0,1)}#chart-f5219106-95a2-492d-9ff5-6952dea3f541 .axis .guide.line{stroke:rgba(0,0,0,.54)}#chart-f5219106-95a2-492d-9ff5-6952dea3f541 .axis .major.line{stroke:rgba(0,0,0,.87)}#chart-f5219106-95a2-492d-9ff5-6952dea3f541 .axis text.major{fill:rgba(0,0,0,1)}#chart-f5219106-95a2-492d-9ff5-6952dea3f541 .axis.y .guides:hover .guide.line,#chart-f5219106-95a2-492d-9ff5-6952dea3f541 .line-graph .axis.x .guides:hover .guide.line,#chart-f5219106-95a2-492d-9ff5-6952dea3f541 .stackedline-graph .axis.x .guides:hover .guide.line,#chart-f5219106-95a2-492d-9ff5-6952dea3f541 .xy-graph .axis.x .guides:hover .guide.line{stroke:rgba(0,0,0,1)}#chart-f5219106-95a2-492d-9ff5-6952dea3f541 .axis .guides:hover text{fill:rgba(0,0,0,1)}#chart-f5219106-95a2-492d-9ff5-6952dea3f541 .reactive{fill-opacity:.7;stroke-opacity:.8}#chart-f5219106-95a2-492d-9ff5-6952dea3f541 .ci{stroke:rgba(0,0,0,.87)}#chart-f5219106-95a2-492d-9ff5-6952dea3f541 .reactive.active,#chart-f5219106-95a2-492d-9ff5-6952dea3f541 .active .reactive{fill-opacity:.8;stroke-opacity:.9;stroke-width:4}#chart-f5219106-95a2-492d-9ff5-6952dea3f541 .ci .reactive.active{stroke-width:1.5}#chart-f5219106-95a2-492d-9ff5-6952dea3f541 .series text{fill:rgba(0,0,0,1)}#chart-f5219106-95a2-492d-9ff5-6952dea3f541 .tooltip rect{fill:rgba(255,255,255,1);stroke:rgba(0,0,0,1);-webkit-transition:opacity 150ms;-moz-transition:opacity 150ms;transition:opacity 150ms}#chart-f5219106-95a2-492d-9ff5-6952dea3f541 .tooltip .label{fill:rgba(0,0,0,.87)}#chart-f5219106-95a2-492d-9ff5-6952dea3f541 .tooltip .label{fill:rgba(0,0,0,.87)}#chart-f5219106-95a2-492d-9ff5-6952dea3f541 .tooltip .legend{font-size:.8em;fill:rgba(0,0,0,.54)}#chart-f5219106-95a2-492d-9ff5-6952dea3f541 .tooltip .x_label{font-size:.6em;fill:rgba(0,0,0,1)}#chart-f5219106-95a2-492d-9ff5-6952dea3f541 .tooltip .xlink{font-size:.5em;text-decoration:underline}#chart-f5219106-95a2-492d-9ff5-6952dea3f541 .tooltip .value{font-size:1.5em}#chart-f5219106-95a2-492d-9ff5-6952dea3f541 .bound{font-size:.5em}#chart-f5219106-95a2-492d-9ff5-6952dea3f541 .max-value{font-size:.75em;fill:rgba(0,0,0,.54)}#chart-f5219106-95a2-492d-9ff5-6952dea3f541 .map-element{fill:rgba(255,255,255,1);stroke:rgba(0,0,0,.54) !important}#chart-f5219106-95a2-492d-9ff5-6952dea3f541 .map-element .reactive{fill-opacity:inherit;stroke-opacity:inherit}#chart-f5219106-95a2-492d-9ff5-6952dea3f541 .color-0,#chart-f5219106-95a2-492d-9ff5-6952dea3f541 .color-0 a:visited{stroke:#F44336;fill:#F44336}#chart-f5219106-95a2-492d-9ff5-6952dea3f541 .color-1,#chart-f5219106-95a2-492d-9ff5-6952dea3f541 .color-1 a:visited{stroke:#3F51B5;fill:#3F51B5}#chart-f5219106-95a2-492d-9ff5-6952dea3f541 .color-2,#chart-f5219106-95a2-492d-9ff5-6952dea3f541 .color-2 a:visited{stroke:#009688;fill:#009688}#chart-f5219106-95a2-492d-9ff5-6952dea3f541 .color-3,#chart-f5219106-95a2-492d-9ff5-6952dea3f541 .color-3 a:visited{stroke:#FFC107;fill:#FFC107}#chart-f5219106-95a2-492d-9ff5-6952dea3f541 .color-4,#chart-f5219106-95a2-492d-9ff5-6952dea3f541 .color-4 a:visited{stroke:#FF5722;fill:#FF5722}#chart-f5219106-95a2-492d-9ff5-6952dea3f541 .color-5,#chart-f5219106-95a2-492d-9ff5-6952dea3f541 .color-5 a:visited{stroke:#9C27B0;fill:#9C27B0}#chart-f5219106-95a2-492d-9ff5-6952dea3f541 .color-6,#chart-f5219106-95a2-492d-9ff5-6952dea3f541 .color-6 a:visited{stroke:#03A9F4;fill:#03A9F4}#chart-f5219106-95a2-492d-9ff5-6952dea3f541 .color-7,#chart-f5219106-95a2-492d-9ff5-6952dea3f541 .color-7 a:visited{stroke:#8BC34A;fill:#8BC34A}#chart-f5219106-95a2-492d-9ff5-6952dea3f541 .color-8,#chart-f5219106-95a2-492d-9ff5-6952dea3f541 .color-8 a:visited{stroke:#FF9800;fill:#FF9800}#chart-f5219106-95a2-492d-9ff5-6952dea3f541 .color-9,#chart-f5219106-95a2-492d-9ff5-6952dea3f541 .color-9 a:visited{stroke:#E91E63;fill:#E91E63}#chart-f5219106-95a2-492d-9ff5-6952dea3f541 .text-overlay .color-0 text{fill:black}#chart-f5219106-95a2-492d-9ff5-6952dea3f541 .text-overlay .color-1 text{fill:black}#chart-f5219106-95a2-492d-9ff5-6952dea3f541 .text-overlay .color-2 text{fill:black}#chart-f5219106-95a2-492d-9ff5-6952dea3f541 .text-overlay .color-3 text{fill:black}#chart-f5219106-95a2-492d-9ff5-6952dea3f541 .text-overlay .color-4 text{fill:black}#chart-f5219106-95a2-492d-9ff5-6952dea3f541 .text-overlay .color-5 text{fill:black}#chart-f5219106-95a2-492d-9ff5-6952dea3f541 .text-overlay .color-6 text{fill:black}#chart-f5219106-95a2-492d-9ff5-6952dea3f541 .text-overlay .color-7 text{fill:black}#chart-f5219106-95a2-492d-9ff5-6952dea3f541 .text-overlay .color-8 text{fill:black}#chart-f5219106-95a2-492d-9ff5-6952dea3f541 .text-overlay .color-9 text{fill:black}\n",
       "#chart-f5219106-95a2-492d-9ff5-6952dea3f541 text.no_data{text-anchor:middle}#chart-f5219106-95a2-492d-9ff5-6952dea3f541 .guide.line{fill:none}#chart-f5219106-95a2-492d-9ff5-6952dea3f541 .centered{text-anchor:middle}#chart-f5219106-95a2-492d-9ff5-6952dea3f541 .title{text-anchor:middle}#chart-f5219106-95a2-492d-9ff5-6952dea3f541 .legends .legend text{fill-opacity:1}#chart-f5219106-95a2-492d-9ff5-6952dea3f541 .axis.x text{text-anchor:middle}#chart-f5219106-95a2-492d-9ff5-6952dea3f541 .axis.x:not(.web) text[transform]{text-anchor:start}#chart-f5219106-95a2-492d-9ff5-6952dea3f541 .axis.x:not(.web) text[transform].backwards{text-anchor:end}#chart-f5219106-95a2-492d-9ff5-6952dea3f541 .axis.y text{text-anchor:end}#chart-f5219106-95a2-492d-9ff5-6952dea3f541 .axis.y text[transform].backwards{text-anchor:start}#chart-f5219106-95a2-492d-9ff5-6952dea3f541 .axis.y2 text{text-anchor:start}#chart-f5219106-95a2-492d-9ff5-6952dea3f541 .axis.y2 text[transform].backwards{text-anchor:end}#chart-f5219106-95a2-492d-9ff5-6952dea3f541 .axis .guide.line{stroke-dasharray:4,4}#chart-f5219106-95a2-492d-9ff5-6952dea3f541 .axis .major.guide.line{stroke-dasharray:6,6}#chart-f5219106-95a2-492d-9ff5-6952dea3f541 .horizontal .axis.y .guide.line,#chart-f5219106-95a2-492d-9ff5-6952dea3f541 .horizontal .axis.y2 .guide.line,#chart-f5219106-95a2-492d-9ff5-6952dea3f541 .vertical .axis.x .guide.line{opacity:0}#chart-f5219106-95a2-492d-9ff5-6952dea3f541 .horizontal .axis.always_show .guide.line,#chart-f5219106-95a2-492d-9ff5-6952dea3f541 .vertical .axis.always_show .guide.line{opacity:1 !important}#chart-f5219106-95a2-492d-9ff5-6952dea3f541 .axis.y .guides:hover .guide.line,#chart-f5219106-95a2-492d-9ff5-6952dea3f541 .axis.y2 .guides:hover .guide.line,#chart-f5219106-95a2-492d-9ff5-6952dea3f541 .axis.x .guides:hover .guide.line{opacity:1}#chart-f5219106-95a2-492d-9ff5-6952dea3f541 .axis .guides:hover text{opacity:1}#chart-f5219106-95a2-492d-9ff5-6952dea3f541 .nofill{fill:none}#chart-f5219106-95a2-492d-9ff5-6952dea3f541 .subtle-fill{fill-opacity:.2}#chart-f5219106-95a2-492d-9ff5-6952dea3f541 .dot{stroke-width:1px;fill-opacity:1}#chart-f5219106-95a2-492d-9ff5-6952dea3f541 .dot.active{stroke-width:5px}#chart-f5219106-95a2-492d-9ff5-6952dea3f541 .dot.negative{fill:transparent}#chart-f5219106-95a2-492d-9ff5-6952dea3f541 text,#chart-f5219106-95a2-492d-9ff5-6952dea3f541 tspan{stroke:none !important}#chart-f5219106-95a2-492d-9ff5-6952dea3f541 .series text.active{opacity:1}#chart-f5219106-95a2-492d-9ff5-6952dea3f541 .tooltip rect{fill-opacity:.95;stroke-width:.5}#chart-f5219106-95a2-492d-9ff5-6952dea3f541 .tooltip text{fill-opacity:1}#chart-f5219106-95a2-492d-9ff5-6952dea3f541 .showable{visibility:hidden}#chart-f5219106-95a2-492d-9ff5-6952dea3f541 .showable.shown{visibility:visible}#chart-f5219106-95a2-492d-9ff5-6952dea3f541 .gauge-background{fill:rgba(229,229,229,1);stroke:none}#chart-f5219106-95a2-492d-9ff5-6952dea3f541 .bg-lines{stroke:rgba(249,249,249,1);stroke-width:2px}</style><script type=\"text/javascript\">window.pygal = window.pygal || {};window.pygal.config = window.pygal.config || {};window.pygal.config['f5219106-95a2-492d-9ff5-6952dea3f541'] = {\"allow_interruptions\": false, \"box_mode\": \"extremes\", \"classes\": [\"pygal-chart\"], \"css\": [\"file://style.css\", \"file://graph.css\"], \"defs\": [], \"disable_xml_declaration\": false, \"dots_size\": 2.5, \"dynamic_print_values\": false, \"explicit_size\": false, \"fill\": true, \"force_uri_protocol\": \"https\", \"formatter\": null, \"half_pie\": false, \"height\": 600, \"include_x_axis\": false, \"inner_radius\": 0, \"interpolate\": null, \"interpolation_parameters\": {}, \"interpolation_precision\": 250, \"inverse_y_axis\": false, \"js\": [\"//kozea.github.io/pygal.js/2.0.x/pygal-tooltips.min.js\"], \"legend_at_bottom\": true, \"legend_at_bottom_columns\": 2, \"legend_box_size\": 12, \"logarithmic\": false, \"margin\": 20, \"margin_bottom\": null, \"margin_left\": null, \"margin_right\": null, \"margin_top\": null, \"max_scale\": 16, \"min_scale\": 4, \"missing_value_fill_truncation\": \"x\", \"no_data_text\": \"No data\", \"no_prefix\": false, \"order_min\": null, \"pretty_print\": false, \"print_labels\": false, \"print_values\": false, \"print_values_position\": \"center\", \"print_zeroes\": true, \"range\": null, \"rounded_bars\": null, \"secondary_range\": null, \"show_dots\": true, \"show_legend\": true, \"show_minor_x_labels\": true, \"show_minor_y_labels\": true, \"show_only_major_dots\": false, \"show_x_guides\": true, \"show_x_labels\": true, \"show_y_guides\": false, \"show_y_labels\": true, \"spacing\": 10, \"stack_from_top\": false, \"strict\": false, \"stroke\": true, \"stroke_style\": null, \"style\": {\"background\": \"rgba(249, 249, 249, 1)\", \"ci_colors\": [], \"colors\": [\"#F44336\", \"#3F51B5\", \"#009688\", \"#FFC107\", \"#FF5722\", \"#9C27B0\", \"#03A9F4\", \"#8BC34A\", \"#FF9800\", \"#E91E63\", \"#2196F3\", \"#4CAF50\", \"#FFEB3B\", \"#673AB7\", \"#00BCD4\", \"#CDDC39\", \"#9E9E9E\", \"#607D8B\"], \"font_family\": \"Consolas, \\\"Liberation Mono\\\", Menlo, Courier, monospace\", \"foreground\": \"rgba(0, 0, 0, .87)\", \"foreground_strong\": \"rgba(0, 0, 0, 1)\", \"foreground_subtle\": \"rgba(0, 0, 0, .54)\", \"guide_stroke_dasharray\": \"4,4\", \"label_font_family\": \"Consolas, \\\"Liberation Mono\\\", Menlo, Courier, monospace\", \"label_font_size\": 10, \"legend_font_family\": \"Consolas, \\\"Liberation Mono\\\", Menlo, Courier, monospace\", \"legend_font_size\": 14, \"major_guide_stroke_dasharray\": \"6,6\", \"major_label_font_family\": \"Consolas, \\\"Liberation Mono\\\", Menlo, Courier, monospace\", \"major_label_font_size\": 10, \"no_data_font_family\": \"Consolas, \\\"Liberation Mono\\\", Menlo, Courier, monospace\", \"no_data_font_size\": 64, \"opacity\": \".7\", \"opacity_hover\": \".8\", \"plot_background\": \"rgba(255, 255, 255, 1)\", \"stroke_opacity\": \".8\", \"stroke_opacity_hover\": \".9\", \"title_font_family\": \"Consolas, \\\"Liberation Mono\\\", Menlo, Courier, monospace\", \"title_font_size\": 16, \"tooltip_font_family\": \"Consolas, \\\"Liberation Mono\\\", Menlo, Courier, monospace\", \"tooltip_font_size\": 14, \"transition\": \"150ms\", \"value_background\": \"rgba(229, 229, 229, 1)\", \"value_colors\": [], \"value_font_family\": \"Consolas, \\\"Liberation Mono\\\", Menlo, Courier, monospace\", \"value_font_size\": 16, \"value_label_font_family\": \"Consolas, \\\"Liberation Mono\\\", Menlo, Courier, monospace\", \"value_label_font_size\": 10}, \"title\": \"Entwickler mit den meisten Commits\", \"tooltip_border_radius\": 0, \"tooltip_fancy_mode\": true, \"truncate_label\": null, \"truncate_legend\": null, \"width\": 800, \"x_label_rotation\": 0, \"x_labels\": null, \"x_labels_major\": null, \"x_labels_major_count\": null, \"x_labels_major_every\": null, \"x_title\": null, \"xrange\": null, \"y_label_rotation\": 0, \"y_labels\": null, \"y_labels_major\": null, \"y_labels_major_count\": null, \"y_labels_major_every\": null, \"y_title\": null, \"zero\": 0, \"legends\": [\"David Saff\", \"dsaff\", \"Stefan Birkner\", \"kbeck\", \"Tibor Digana\", \"Kevin Cooney\", \"Marc Philipp\", \"egamma\", \"emeade\", \"pimterry\"]}</script><script type=\"text/javascript\" xlink:href=\"https://kozea.github.io/pygal.js/2.0.x/pygal-tooltips.min.js\"/></defs><title>Entwickler mit den meisten Commits</title><g class=\"graph horizontalbar-graph horizontal\"><rect class=\"background\" height=\"600\" width=\"800\" x=\"0\" y=\"0\"/><g class=\"plot\" transform=\"translate(20, 46)\"><rect class=\"background\" height=\"406.0\" width=\"760\" x=\"0\" y=\"0\"/><g class=\"axis x always_show\"><g class=\"guides\"><path class=\"axis major line\" d=\"M14.615385 0.000000 v406.000000\"/><text class=\"major\" x=\"14.615384615384619\" y=\"421.0\">0</text></g><g class=\"guides\"><path class=\"guide line\" d=\"M61.161195 0.000000 v406.000000\"/><text class=\"\" x=\"61.16119549240569\" y=\"421.0\">20</text></g><g class=\"guides\"><path class=\"guide line\" d=\"M107.707006 0.000000 v406.000000\"/><text class=\"\" x=\"107.70700636942678\" y=\"421.0\">40</text></g><g class=\"guides\"><path class=\"guide line\" d=\"M154.252817 0.000000 v406.000000\"/><text class=\"\" x=\"154.25281724644785\" y=\"421.0\">60</text></g><g class=\"guides\"><path class=\"guide line\" d=\"M200.798628 0.000000 v406.000000\"/><text class=\"\" x=\"200.79862812346894\" y=\"421.0\">80</text></g><g class=\"guides\"><path class=\"major guide line\" d=\"M247.344439 0.000000 v406.000000\"/><text class=\"major\" x=\"247.34443900049\" y=\"421.0\">100</text></g><g class=\"guides\"><path class=\"guide line\" d=\"M293.890250 0.000000 v406.000000\"/><text class=\"\" x=\"293.8902498775111\" y=\"421.0\">120</text></g><g class=\"guides\"><path class=\"guide line\" d=\"M340.436061 0.000000 v406.000000\"/><text class=\"\" x=\"340.43606075453215\" y=\"421.0\">140</text></g><g class=\"guides\"><path class=\"guide line\" d=\"M386.981872 0.000000 v406.000000\"/><text class=\"\" x=\"386.98187163155325\" y=\"421.0\">160</text></g><g class=\"guides\"><path class=\"guide line\" d=\"M433.527683 0.000000 v406.000000\"/><text class=\"\" x=\"433.5276825085743\" y=\"421.0\">180</text></g><g class=\"guides\"><path class=\"major guide line\" d=\"M480.073493 0.000000 v406.000000\"/><text class=\"major\" x=\"480.0734933855953\" y=\"421.0\">200</text></g><g class=\"guides\"><path class=\"guide line\" d=\"M526.619304 0.000000 v406.000000\"/><text class=\"\" x=\"526.6193042626164\" y=\"421.0\">220</text></g><g class=\"guides\"><path class=\"guide line\" d=\"M573.165115 0.000000 v406.000000\"/><text class=\"\" x=\"573.1651151396375\" y=\"421.0\">240</text></g><g class=\"guides\"><path class=\"guide line\" d=\"M619.710926 0.000000 v406.000000\"/><text class=\"\" x=\"619.7109260166586\" y=\"421.0\">260</text></g><g class=\"guides\"><path class=\"guide line\" d=\"M666.256737 0.000000 v406.000000\"/><text class=\"\" x=\"666.2567368936797\" y=\"421.0\">280</text></g><g class=\"guides\"><path class=\"major guide line\" d=\"M712.802548 0.000000 v406.000000\"/><text class=\"major\" x=\"712.8025477707007\" y=\"421.0\">300</text></g></g><g class=\"series serie-9 color-9\"><g class=\"bars\"><g class=\"bar\"><rect class=\"rect reactive tooltip-trigger\" height=\"30.231384615384616\" rx=\"0\" ry=\"0\" width=\"83.78245957863794\" x=\"14.615384615384613\" y=\"342.4766153846154\"/><desc class=\"value\">36</desc><desc class=\"x centered\">56.50661440470358</desc><desc class=\"y centered\">357.5923076923077</desc></g></g></g><g class=\"series serie-8 color-8\"><g class=\"bars\"><g class=\"bar\"><rect class=\"rect reactive tooltip-trigger\" height=\"30.231384615384616\" rx=\"0\" ry=\"0\" width=\"86.109750122489\" x=\"14.615384615384613\" y=\"308.1227692307692\"/><desc class=\"value\">37</desc><desc class=\"x centered\">57.670259676629115</desc><desc class=\"y centered\">323.23846153846154</desc></g></g></g><g class=\"series serie-7 color-7\"><g class=\"bars\"><g class=\"bar\"><rect class=\"rect reactive tooltip-trigger\" height=\"30.231384615384616\" rx=\"0\" ry=\"0\" width=\"123.34639882410588\" x=\"14.615384615384613\" y=\"273.7689230769231\"/><desc class=\"value\">53</desc><desc class=\"x centered\">76.28858402743755</desc><desc class=\"y centered\">288.8846153846154</desc></g></g></g><g class=\"series serie-6 color-6\"><g class=\"bars\"><g class=\"bar\"><rect class=\"rect reactive tooltip-trigger\" height=\"30.231384615384616\" rx=\"0\" ry=\"0\" width=\"202.4742773150417\" x=\"14.615384615384613\" y=\"239.41507692307692\"/><desc class=\"value\">87</desc><desc class=\"x centered\">115.85252327290546</desc><desc class=\"y centered\">254.53076923076924</desc></g></g></g><g class=\"series serie-5 color-5\"><g class=\"bars\"><g class=\"bar\"><rect class=\"rect reactive tooltip-trigger\" height=\"30.231384615384616\" rx=\"0\" ry=\"0\" width=\"214.11073003429695\" x=\"14.615384615384613\" y=\"205.06123076923075\"/><desc class=\"value\">92</desc><desc class=\"x centered\">121.67074963253309</desc><desc class=\"y centered\">220.17692307692306</desc></g></g></g><g class=\"series serie-4 color-4\"><g class=\"bars\"><g class=\"bar\"><rect class=\"rect reactive tooltip-trigger\" height=\"30.231384615384616\" rx=\"0\" ry=\"0\" width=\"232.7290543851054\" x=\"14.615384615384613\" y=\"170.7073846153846\"/><desc class=\"value\">100</desc><desc class=\"x centered\">130.9799118079373</desc><desc class=\"y centered\">185.8230769230769</desc></g></g></g><g class=\"series serie-3 color-3\"><g class=\"bars\"><g class=\"bar\"><rect class=\"rect reactive tooltip-trigger\" height=\"30.231384615384616\" rx=\"0\" ry=\"0\" width=\"281.6021558059775\" x=\"14.615384615384642\" y=\"136.35353846153842\"/><desc class=\"value\">121</desc><desc class=\"x centered\">155.41646251837338</desc><desc class=\"y centered\">151.46923076923073</desc></g></g></g><g class=\"series serie-2 color-2\"><g class=\"bars\"><g class=\"bar\"><rect class=\"rect reactive tooltip-trigger\" height=\"30.231384615384616\" rx=\"0\" ry=\"0\" width=\"307.20235178833906\" x=\"14.615384615384642\" y=\"101.99969230769229\"/><desc class=\"value\">132</desc><desc class=\"x centered\">168.21656050955417</desc><desc class=\"y centered\">117.11538461538458</desc></g></g></g><g class=\"series serie-1 color-1\"><g class=\"bars\"><g class=\"bar\"><rect class=\"rect reactive tooltip-trigger\" height=\"30.231384615384616\" rx=\"0\" ry=\"0\" width=\"598.1136697697208\" x=\"14.615384615384642\" y=\"67.64584615384614\"/><desc class=\"value\">257</desc><desc class=\"x centered\">313.67221950024503</desc><desc class=\"y centered\">82.76153846153844</desc></g></g></g><g class=\"series serie-0 color-0\"><g class=\"bars\"><g class=\"bar\"><rect class=\"rect reactive tooltip-trigger\" height=\"30.231384615384616\" rx=\"0\" ry=\"0\" width=\"730.7692307692308\" x=\"14.615384615384642\" y=\"33.29199999999996\"/><desc class=\"value\">314</desc><desc class=\"x centered\">380.00000000000006</desc><desc class=\"y centered\">48.40769230769227</desc></g></g></g></g><g class=\"titles\"><text class=\"title plot_title\" x=\"400.0\" y=\"26\">Entwickler mit den meisten Commits</text></g><g class=\"plot overlay\" transform=\"translate(20, 46)\"><g class=\"series serie-9 color-9\"/><g class=\"series serie-8 color-8\"/><g class=\"series serie-7 color-7\"/><g class=\"series serie-6 color-6\"/><g class=\"series serie-5 color-5\"/><g class=\"series serie-4 color-4\"/><g class=\"series serie-3 color-3\"/><g class=\"series serie-2 color-2\"/><g class=\"series serie-1 color-1\"/><g class=\"series serie-0 color-0\"/></g><g class=\"plot text-overlay\" transform=\"translate(20, 46)\"><g class=\"series serie-9 color-9\"/><g class=\"series serie-8 color-8\"/><g class=\"series serie-7 color-7\"/><g class=\"series serie-6 color-6\"/><g class=\"series serie-5 color-5\"/><g class=\"series serie-4 color-4\"/><g class=\"series serie-3 color-3\"/><g class=\"series serie-2 color-2\"/><g class=\"series serie-1 color-1\"/><g class=\"series serie-0 color-0\"/></g><g class=\"plot tooltip-overlay\" transform=\"translate(20, 46)\"><g class=\"tooltip\" style=\"opacity: 0\" transform=\"translate(0 0)\"><rect class=\"tooltip-box\" height=\"0\" rx=\"0\" ry=\"0\" width=\"0\"/><g class=\"text\"/></g></g><g class=\"legends\" transform=\"translate(30, 482)\"><g class=\"legend reactive activate-serie\" id=\"activate-serie-0\"><rect class=\"color-0 reactive\" height=\"12\" width=\"12\" x=\"0.0\" y=\"1.0\"/><text x=\"17.0\" y=\"11.2\">David Saff</text></g><g class=\"legend reactive activate-serie\" id=\"activate-serie-1\"><rect class=\"color-1 reactive\" height=\"12\" width=\"12\" x=\"380.0\" y=\"1.0\"/><text x=\"397.0\" y=\"11.2\">dsaff</text></g><g class=\"legend reactive activate-serie\" id=\"activate-serie-2\"><rect class=\"color-2 reactive\" height=\"12\" width=\"12\" x=\"0.0\" y=\"22.0\"/><text x=\"17.0\" y=\"32.2\">Stefan Birkner</text></g><g class=\"legend reactive activate-serie\" id=\"activate-serie-3\"><rect class=\"color-3 reactive\" height=\"12\" width=\"12\" x=\"380.0\" y=\"22.0\"/><text x=\"397.0\" y=\"32.2\">kbeck</text></g><g class=\"legend reactive activate-serie\" id=\"activate-serie-4\"><rect class=\"color-4 reactive\" height=\"12\" width=\"12\" x=\"0.0\" y=\"43.0\"/><text x=\"17.0\" y=\"53.2\">Tibor Digana</text></g><g class=\"legend reactive activate-serie\" id=\"activate-serie-5\"><rect class=\"color-5 reactive\" height=\"12\" width=\"12\" x=\"380.0\" y=\"43.0\"/><text x=\"397.0\" y=\"53.2\">Kevin Cooney</text></g><g class=\"legend reactive activate-serie\" id=\"activate-serie-6\"><rect class=\"color-6 reactive\" height=\"12\" width=\"12\" x=\"0.0\" y=\"64.0\"/><text x=\"17.0\" y=\"74.2\">Marc Philipp</text></g><g class=\"legend reactive activate-serie\" id=\"activate-serie-7\"><rect class=\"color-7 reactive\" height=\"12\" width=\"12\" x=\"380.0\" y=\"64.0\"/><text x=\"397.0\" y=\"74.2\">egamma</text></g><g class=\"legend reactive activate-serie\" id=\"activate-serie-8\"><rect class=\"color-8 reactive\" height=\"12\" width=\"12\" x=\"0.0\" y=\"85.0\"/><text x=\"17.0\" y=\"95.2\">emeade</text></g><g class=\"legend reactive activate-serie\" id=\"activate-serie-9\"><rect class=\"color-9 reactive\" height=\"12\" width=\"12\" x=\"380.0\" y=\"85.0\"/><text x=\"397.0\" y=\"95.2\">pimterry</text></g></g></g></svg>\n",
       "    </figure>\n",
       "  </body>\n",
       "</html>\n"
      ],
      "text/plain": [
       "<IPython.core.display.HTML object>"
      ]
     },
     "metadata": {},
     "output_type": "display_data"
    }
   ],
   "source": [
    "# Erstelle Bar Chart.\n",
    "import pygal\n",
    "bar_chart = pygal.HorizontalBar(show_legend=True, human_readable=True, \n",
    "fill=True, legend_at_bottom=True, legend_at_bottom_columns=2)\n",
    "bar_chart.title = 'Entwickler mit den meisten Commits'\n",
    "for index, row in developer_df.iterrows():\n",
    "     bar_chart.add(row['developer'],[{\"value\": row['commits']}])\n",
    "display(HTML(base_html.format(rendered_chart=bar_chart.render(is_unicode=True))))\n"
   ]
  },
  {
   "cell_type": "code",
   "execution_count": null,
   "metadata": {},
   "outputs": [],
   "source": []
  }
 ],
 "metadata": {
  "kernelspec": {
   "display_name": "Python [conda env:BeLL]",
   "language": "python",
   "name": "conda-env-BeLL-py"
  },
  "language_info": {
   "codemirror_mode": {
    "name": "ipython",
    "version": 3
   },
   "file_extension": ".py",
   "mimetype": "text/x-python",
   "name": "python",
   "nbconvert_exporter": "python",
   "pygments_lexer": "ipython3",
   "version": "3.6.4"
  }
 },
 "nbformat": 4,
 "nbformat_minor": 2
}
