{
 "cells": [
  {
   "cell_type": "markdown",
   "metadata": {},
   "source": [
    "# Welche Entwickler haben die meisten Commits?"
   ]
  },
  {
   "cell_type": "markdown",
   "metadata": {},
   "source": [
    "## 1. Verbindung zur Datenbank\n",
    "Es wird eine Verbindung zur Neo4j-Datenbank aufgebaut."
   ]
  },
  {
   "cell_type": "code",
   "execution_count": 23,
   "metadata": {},
   "outputs": [],
   "source": [
    "import py2neo\n",
    "\n",
    "graph = py2neo.Graph(bolt=True, host='localhost', user='neo4j', password='neo4j')"
   ]
  },
  {
   "cell_type": "markdown",
   "metadata": {},
   "source": [
    "## 2. Cypher-Abfrage\n",
    "Es wird eine Abfrage an die Datenbank gestellt. Das Ergebnis wird in einem Dataframe (pandas) gespeichert."
   ]
  },
  {
   "cell_type": "code",
   "execution_count": 24,
   "metadata": {},
   "outputs": [
    {
     "ename": "ConnectionAbortedError",
     "evalue": "[WinError 10053] Eine bestehende Verbindung wurde softwaregesteuert\r\ndurch den Hostcomputer abgebrochen",
     "output_type": "error",
     "traceback": [
      "\u001b[1;31m---------------------------------------------------------------------------\u001b[0m",
      "\u001b[1;31mConnectionAbortedError\u001b[0m                    Traceback (most recent call last)",
      "\u001b[1;32m<ipython-input-24-57d6c710c36b>\u001b[0m in \u001b[0;36m<module>\u001b[1;34m()\u001b[0m\n\u001b[0;32m      2\u001b[0m \u001b[1;33m\u001b[0m\u001b[0m\n\u001b[0;32m      3\u001b[0m \u001b[0mquery\u001b[0m \u001b[1;33m=\u001b[0m\u001b[1;34m\"MATCH (a:Author)-[:COMMITTED]->(c:Commit)-[:CONTAINS_CHANGE]->(:Change)-[:MODIFIES]->(file:File) WHERE NOT c:Merge RETURN a.name as developer, count(distinct c) as commits\"\u001b[0m\u001b[1;33m\u001b[0m\u001b[0m\n\u001b[1;32m----> 4\u001b[1;33m \u001b[0mdf\u001b[0m \u001b[1;33m=\u001b[0m \u001b[0mpd\u001b[0m\u001b[1;33m.\u001b[0m\u001b[0mDataFrame\u001b[0m\u001b[1;33m(\u001b[0m\u001b[0mgraph\u001b[0m\u001b[1;33m.\u001b[0m\u001b[0mrun\u001b[0m\u001b[1;33m(\u001b[0m\u001b[0mquery\u001b[0m\u001b[1;33m)\u001b[0m\u001b[1;33m.\u001b[0m\u001b[0mdata\u001b[0m\u001b[1;33m(\u001b[0m\u001b[1;33m)\u001b[0m\u001b[1;33m)\u001b[0m\u001b[1;33m\u001b[0m\u001b[0m\n\u001b[0m",
      "\u001b[1;32m~\\Anaconda3\\envs\\BeLL\\lib\\site-packages\\py2neo\\database\\__init__.py\u001b[0m in \u001b[0;36mrun\u001b[1;34m(self, statement, parameters, **kwparameters)\u001b[0m\n\u001b[0;32m    729\u001b[0m         \u001b[1;33m:\u001b[0m\u001b[1;32mreturn\u001b[0m\u001b[1;33m:\u001b[0m\u001b[1;33m\u001b[0m\u001b[0m\n\u001b[0;32m    730\u001b[0m         \"\"\"\n\u001b[1;32m--> 731\u001b[1;33m         \u001b[1;32mreturn\u001b[0m \u001b[0mself\u001b[0m\u001b[1;33m.\u001b[0m\u001b[0mbegin\u001b[0m\u001b[1;33m(\u001b[0m\u001b[0mautocommit\u001b[0m\u001b[1;33m=\u001b[0m\u001b[1;32mTrue\u001b[0m\u001b[1;33m)\u001b[0m\u001b[1;33m.\u001b[0m\u001b[0mrun\u001b[0m\u001b[1;33m(\u001b[0m\u001b[0mstatement\u001b[0m\u001b[1;33m,\u001b[0m \u001b[0mparameters\u001b[0m\u001b[1;33m,\u001b[0m \u001b[1;33m**\u001b[0m\u001b[0mkwparameters\u001b[0m\u001b[1;33m)\u001b[0m\u001b[1;33m\u001b[0m\u001b[0m\n\u001b[0m\u001b[0;32m    732\u001b[0m \u001b[1;33m\u001b[0m\u001b[0m\n\u001b[0;32m    733\u001b[0m     \u001b[1;32mdef\u001b[0m \u001b[0mseparate\u001b[0m\u001b[1;33m(\u001b[0m\u001b[0mself\u001b[0m\u001b[1;33m,\u001b[0m \u001b[0msubgraph\u001b[0m\u001b[1;33m)\u001b[0m\u001b[1;33m:\u001b[0m\u001b[1;33m\u001b[0m\u001b[0m\n",
      "\u001b[1;32m~\\Anaconda3\\envs\\BeLL\\lib\\site-packages\\py2neo\\database\\__init__.py\u001b[0m in \u001b[0;36mrun\u001b[1;34m(self, statement, parameters, **kwparameters)\u001b[0m\n\u001b[0;32m   1275\u001b[0m         \u001b[0mself\u001b[0m\u001b[1;33m.\u001b[0m\u001b[0msources\u001b[0m\u001b[1;33m.\u001b[0m\u001b[0mappend\u001b[0m\u001b[1;33m(\u001b[0m\u001b[0msource\u001b[0m\u001b[1;33m)\u001b[0m\u001b[1;33m\u001b[0m\u001b[0m\n\u001b[0;32m   1276\u001b[0m         \u001b[1;32mif\u001b[0m \u001b[0mself\u001b[0m\u001b[1;33m.\u001b[0m\u001b[0mautocommit\u001b[0m\u001b[1;33m:\u001b[0m\u001b[1;33m\u001b[0m\u001b[0m\n\u001b[1;32m-> 1277\u001b[1;33m             \u001b[0mself\u001b[0m\u001b[1;33m.\u001b[0m\u001b[0mfinish\u001b[0m\u001b[1;33m(\u001b[0m\u001b[1;33m)\u001b[0m\u001b[1;33m\u001b[0m\u001b[0m\n\u001b[0m\u001b[0;32m   1278\u001b[0m         \u001b[1;32mreturn\u001b[0m \u001b[0mCursor\u001b[0m\u001b[1;33m(\u001b[0m\u001b[0msource\u001b[0m\u001b[1;33m)\u001b[0m\u001b[1;33m\u001b[0m\u001b[0m\n\u001b[0;32m   1279\u001b[0m \u001b[1;33m\u001b[0m\u001b[0m\n",
      "\u001b[1;32m~\\Anaconda3\\envs\\BeLL\\lib\\site-packages\\py2neo\\database\\__init__.py\u001b[0m in \u001b[0;36mfinish\u001b[1;34m(self)\u001b[0m\n\u001b[0;32m   1294\u001b[0m \u001b[1;33m\u001b[0m\u001b[0m\n\u001b[0;32m   1295\u001b[0m     \u001b[1;32mdef\u001b[0m \u001b[0mfinish\u001b[0m\u001b[1;33m(\u001b[0m\u001b[0mself\u001b[0m\u001b[1;33m)\u001b[0m\u001b[1;33m:\u001b[0m\u001b[1;33m\u001b[0m\u001b[0m\n\u001b[1;32m-> 1296\u001b[1;33m         \u001b[0mself\u001b[0m\u001b[1;33m.\u001b[0m\u001b[0m_sync\u001b[0m\u001b[1;33m(\u001b[0m\u001b[1;33m)\u001b[0m\u001b[1;33m\u001b[0m\u001b[0m\n\u001b[0m\u001b[0;32m   1297\u001b[0m         \u001b[0mTransaction\u001b[0m\u001b[1;33m.\u001b[0m\u001b[0mfinish\u001b[0m\u001b[1;33m(\u001b[0m\u001b[0mself\u001b[0m\u001b[1;33m)\u001b[0m\u001b[1;33m\u001b[0m\u001b[0m\n\u001b[0;32m   1298\u001b[0m         \u001b[0mself\u001b[0m\u001b[1;33m.\u001b[0m\u001b[0msession\u001b[0m\u001b[1;33m.\u001b[0m\u001b[0mclose\u001b[0m\u001b[1;33m(\u001b[0m\u001b[1;33m)\u001b[0m\u001b[1;33m\u001b[0m\u001b[0m\n",
      "\u001b[1;32m~\\Anaconda3\\envs\\BeLL\\lib\\site-packages\\py2neo\\database\\__init__.py\u001b[0m in \u001b[0;36m_sync\u001b[1;34m(self)\u001b[0m\n\u001b[0;32m   1280\u001b[0m     \u001b[1;32mdef\u001b[0m \u001b[0m_sync\u001b[0m\u001b[1;33m(\u001b[0m\u001b[0mself\u001b[0m\u001b[1;33m)\u001b[0m\u001b[1;33m:\u001b[0m\u001b[1;33m\u001b[0m\u001b[0m\n\u001b[0;32m   1281\u001b[0m         \u001b[0mconnection\u001b[0m \u001b[1;33m=\u001b[0m \u001b[0mself\u001b[0m\u001b[1;33m.\u001b[0m\u001b[0msession\u001b[0m\u001b[1;33m.\u001b[0m\u001b[0mconnection\u001b[0m\u001b[1;33m\u001b[0m\u001b[0m\n\u001b[1;32m-> 1282\u001b[1;33m         \u001b[0mconnection\u001b[0m\u001b[1;33m.\u001b[0m\u001b[0msend\u001b[0m\u001b[1;33m(\u001b[0m\u001b[1;33m)\u001b[0m\u001b[1;33m\u001b[0m\u001b[0m\n\u001b[0m\u001b[0;32m   1283\u001b[0m         \u001b[1;32mwhile\u001b[0m \u001b[0mself\u001b[0m\u001b[1;33m.\u001b[0m\u001b[0msources\u001b[0m\u001b[1;33m:\u001b[0m\u001b[1;33m\u001b[0m\u001b[0m\n\u001b[0;32m   1284\u001b[0m             \u001b[0msource\u001b[0m \u001b[1;33m=\u001b[0m \u001b[0mself\u001b[0m\u001b[1;33m.\u001b[0m\u001b[0msources\u001b[0m\u001b[1;33m.\u001b[0m\u001b[0mpop\u001b[0m\u001b[1;33m(\u001b[0m\u001b[1;36m0\u001b[0m\u001b[1;33m)\u001b[0m\u001b[1;33m\u001b[0m\u001b[0m\n",
      "\u001b[1;32m~\\Anaconda3\\envs\\BeLL\\lib\\site-packages\\py2neo\\packages\\neo4j\\v1\\bolt.py\u001b[0m in \u001b[0;36msend\u001b[1;34m(self)\u001b[0m\n\u001b[0;32m    308\u001b[0m         \u001b[1;32mif\u001b[0m \u001b[0mself\u001b[0m\u001b[1;33m.\u001b[0m\u001b[0mdefunct\u001b[0m\u001b[1;33m:\u001b[0m\u001b[1;33m\u001b[0m\u001b[0m\n\u001b[0;32m    309\u001b[0m             \u001b[1;32mraise\u001b[0m \u001b[0mProtocolError\u001b[0m\u001b[1;33m(\u001b[0m\u001b[1;34m\"Cannot write to a defunct connection\"\u001b[0m\u001b[1;33m)\u001b[0m\u001b[1;33m\u001b[0m\u001b[0m\n\u001b[1;32m--> 310\u001b[1;33m         \u001b[0mself\u001b[0m\u001b[1;33m.\u001b[0m\u001b[0mchannel\u001b[0m\u001b[1;33m.\u001b[0m\u001b[0msend\u001b[0m\u001b[1;33m(\u001b[0m\u001b[1;33m)\u001b[0m\u001b[1;33m\u001b[0m\u001b[0m\n\u001b[0m\u001b[0;32m    311\u001b[0m \u001b[1;33m\u001b[0m\u001b[0m\n\u001b[0;32m    312\u001b[0m     \u001b[1;32mdef\u001b[0m \u001b[0mfetch\u001b[0m\u001b[1;33m(\u001b[0m\u001b[0mself\u001b[0m\u001b[1;33m)\u001b[0m\u001b[1;33m:\u001b[0m\u001b[1;33m\u001b[0m\u001b[0m\n",
      "\u001b[1;32m~\\Anaconda3\\envs\\BeLL\\lib\\site-packages\\py2neo\\packages\\neo4j\\v1\\bolt.py\u001b[0m in \u001b[0;36msend\u001b[1;34m(self)\u001b[0m\n\u001b[0;32m    139\u001b[0m         \u001b[1;32mif\u001b[0m \u001b[0m__debug__\u001b[0m\u001b[1;33m:\u001b[0m\u001b[1;33m\u001b[0m\u001b[0m\n\u001b[0;32m    140\u001b[0m             \u001b[0mlog_debug\u001b[0m\u001b[1;33m(\u001b[0m\u001b[1;34m\"C: %s\"\u001b[0m\u001b[1;33m,\u001b[0m \u001b[1;34m\":\"\u001b[0m\u001b[1;33m.\u001b[0m\u001b[0mjoin\u001b[0m\u001b[1;33m(\u001b[0m\u001b[0mmap\u001b[0m\u001b[1;33m(\u001b[0m\u001b[0mhex2\u001b[0m\u001b[1;33m,\u001b[0m \u001b[0mdata\u001b[0m\u001b[1;33m)\u001b[0m\u001b[1;33m)\u001b[0m\u001b[1;33m)\u001b[0m\u001b[1;33m\u001b[0m\u001b[0m\n\u001b[1;32m--> 141\u001b[1;33m         \u001b[0mself\u001b[0m\u001b[1;33m.\u001b[0m\u001b[0msocket\u001b[0m\u001b[1;33m.\u001b[0m\u001b[0msendall\u001b[0m\u001b[1;33m(\u001b[0m\u001b[0mdata\u001b[0m\u001b[1;33m)\u001b[0m\u001b[1;33m\u001b[0m\u001b[0m\n\u001b[0m\u001b[0;32m    142\u001b[0m \u001b[1;33m\u001b[0m\u001b[0m\n\u001b[0;32m    143\u001b[0m         \u001b[0mself\u001b[0m\u001b[1;33m.\u001b[0m\u001b[0mraw\u001b[0m\u001b[1;33m.\u001b[0m\u001b[0mseek\u001b[0m\u001b[1;33m(\u001b[0m\u001b[0mself\u001b[0m\u001b[1;33m.\u001b[0m\u001b[0mraw\u001b[0m\u001b[1;33m.\u001b[0m\u001b[0mtruncate\u001b[0m\u001b[1;33m(\u001b[0m\u001b[1;36m0\u001b[0m\u001b[1;33m)\u001b[0m\u001b[1;33m)\u001b[0m\u001b[1;33m\u001b[0m\u001b[0m\n",
      "\u001b[1;31mConnectionAbortedError\u001b[0m: [WinError 10053] Eine bestehende Verbindung wurde softwaregesteuert\r\ndurch den Hostcomputer abgebrochen"
     ]
    }
   ],
   "source": [
    "import pandas as pd\n",
    "\n",
    "query =\"MATCH (a:Author)-[:COMMITTED]->(c:Commit)-[:CONTAINS_CHANGE]->(:Change)-[:MODIFIES]->(file:File) WHERE NOT c:Merge RETURN a.name as developer, count(distinct c) as commits\"\n",
    "df = pd.DataFrame(graph.run(query).data())\n"
   ]
  },
  {
   "cell_type": "markdown",
   "metadata": {},
   "source": [
    "## 3. Datenaufbereitung\n",
    "Zur Kontrolle werden die ersten fünf Zeilen des Ergebnisses der Abfrage als Tabelle ausgegeben."
   ]
  },
  {
   "cell_type": "code",
   "execution_count": 14,
   "metadata": {},
   "outputs": [
    {
     "data": {
      "text/html": [
       "<div>\n",
       "<style scoped>\n",
       "    .dataframe tbody tr th:only-of-type {\n",
       "        vertical-align: middle;\n",
       "    }\n",
       "\n",
       "    .dataframe tbody tr th {\n",
       "        vertical-align: top;\n",
       "    }\n",
       "\n",
       "    .dataframe thead th {\n",
       "        text-align: right;\n",
       "    }\n",
       "</style>\n",
       "<table border=\"1\" class=\"dataframe\">\n",
       "  <thead>\n",
       "    <tr style=\"text-align: right;\">\n",
       "      <th></th>\n",
       "      <th>commits</th>\n",
       "      <th>developer</th>\n",
       "    </tr>\n",
       "  </thead>\n",
       "  <tbody>\n",
       "    <tr>\n",
       "      <th>0</th>\n",
       "      <td>1</td>\n",
       "      <td>XIAO XI LIU</td>\n",
       "    </tr>\n",
       "    <tr>\n",
       "      <th>1</th>\n",
       "      <td>1</td>\n",
       "      <td>Thomas Risberg</td>\n",
       "    </tr>\n",
       "    <tr>\n",
       "      <th>2</th>\n",
       "      <td>1</td>\n",
       "      <td>Attilio</td>\n",
       "    </tr>\n",
       "    <tr>\n",
       "      <th>3</th>\n",
       "      <td>1</td>\n",
       "      <td>AndrejGajdos</td>\n",
       "    </tr>\n",
       "    <tr>\n",
       "      <th>4</th>\n",
       "      <td>1</td>\n",
       "      <td>Bram Luyten</td>\n",
       "    </tr>\n",
       "  </tbody>\n",
       "</table>\n",
       "</div>"
      ],
      "text/plain": [
       "   commits       developer\n",
       "0        1     XIAO XI LIU\n",
       "1        1  Thomas Risberg\n",
       "2        1         Attilio\n",
       "3        1    AndrejGajdos\n",
       "4        1     Bram Luyten"
      ]
     },
     "execution_count": 14,
     "metadata": {},
     "output_type": "execute_result"
    }
   ],
   "source": [
    "df.head()"
   ]
  },
  {
   "cell_type": "markdown",
   "metadata": {},
   "source": [
    "Im folgenden Codeabschnitt wird das Dataframe absteigend entsprechend der der Anzahl der Commits (commits) sortiert und die ersten zehn Entwickler (developer) extrahiert. Die Werte werden in den Variablen <font face=\"Courier\">x_commits</font> und <font face=\"Courier\">y_developers</font> gespeichert."
   ]
  },
  {
   "cell_type": "code",
   "execution_count": 15,
   "metadata": {},
   "outputs": [],
   "source": [
    "import numpy as np\n",
    "# Sortiere Zeilen des Dataframes aufsteigend ihrer Anzahl der Commits in neuem Dataframe.\n",
    "sorted_commits=df.sort_values('commits',ascending=False)\n",
    "# Extrahiere die ersten 10 Zeilen dieses Dataframes in neuem Dataframe.\n",
    "top10_commits=sorted_commits.head(10)\n",
    "\n",
    "# Hole Werte aus Spalten aus Dataframe. Umwandlung dieser Werte in list Objekt.\n",
    "x_commits=top10_commits['commits'].tolist()\n",
    "y_developers=top10_commits['developer'].tolist()\n"
   ]
  },
  {
   "cell_type": "markdown",
   "metadata": {},
   "source": [
    "# 4. Visualisierung\n",
    "Die Daten werden mittels eines Bar Charts visualisiert (https://plot.ly/python/horizontal-bar-charts/, x=x_commits, y=y_developer)."
   ]
  },
  {
   "cell_type": "code",
   "execution_count": 16,
   "metadata": {},
   "outputs": [],
   "source": [
    "from IPython.display import display, HTML\n",
    "\n",
    "base_html = \"\"\"\n",
    "<!DOCTYPE html>\n",
    "<html>\n",
    "  <head>\n",
    "  <script type=\"text/javascript\" src=\"http://kozea.github.com/pygal.js/javascripts/svg.jquery.js\"></script>\n",
    "  <script type=\"text/javascript\" src=\"https://kozea.github.io/pygal.js/2.0.x/pygal-tooltips.min.js\"\"></script>\n",
    "  </head>\n",
    "  <body>\n",
    "    <figure>\n",
    "      {rendered_chart}\n",
    "    </figure>\n",
    "  </body>\n",
    "</html>\n",
    "\"\"\""
   ]
  },
  {
   "cell_type": "code",
   "execution_count": 22,
   "metadata": {},
   "outputs": [
    {
     "data": {
      "text/html": [
       "\n",
       "<!DOCTYPE html>\n",
       "<html>\n",
       "  <head>\n",
       "  <script type=\"text/javascript\" src=\"http://kozea.github.com/pygal.js/javascripts/svg.jquery.js\"></script>\n",
       "  <script type=\"text/javascript\" src=\"https://kozea.github.io/pygal.js/2.0.x/pygal-tooltips.min.js\"\"></script>\n",
       "  </head>\n",
       "  <body>\n",
       "    <figure>\n",
       "      <?xml version='1.0' encoding='utf-8'?>\n",
       "<svg xmlns:xlink=\"http://www.w3.org/1999/xlink\" xmlns=\"http://www.w3.org/2000/svg\" id=\"chart-03f8553f-9d07-4bfe-bee9-ad2b7016159a\" class=\"pygal-chart\" viewBox=\"0 0 800 600\"><!--Generated with pygal 2.4.0 (lxml) ©Kozea 2012-2016 on 2019-10-07--><!--http://pygal.org--><!--http://github.com/Kozea/pygal--><defs><style type=\"text/css\">#chart-03f8553f-9d07-4bfe-bee9-ad2b7016159a{-webkit-user-select:none;-webkit-font-smoothing:antialiased;font-family:Consolas,\"Liberation Mono\",Menlo,Courier,monospace}#chart-03f8553f-9d07-4bfe-bee9-ad2b7016159a .title{font-family:Consolas,\"Liberation Mono\",Menlo,Courier,monospace;font-size:16px}#chart-03f8553f-9d07-4bfe-bee9-ad2b7016159a .legends .legend text{font-family:Consolas,\"Liberation Mono\",Menlo,Courier,monospace;font-size:14px}#chart-03f8553f-9d07-4bfe-bee9-ad2b7016159a .axis text{font-family:Consolas,\"Liberation Mono\",Menlo,Courier,monospace;font-size:10px}#chart-03f8553f-9d07-4bfe-bee9-ad2b7016159a .axis text.major{font-family:Consolas,\"Liberation Mono\",Menlo,Courier,monospace;font-size:10px}#chart-03f8553f-9d07-4bfe-bee9-ad2b7016159a .text-overlay text.value{font-family:Consolas,\"Liberation Mono\",Menlo,Courier,monospace;font-size:16px}#chart-03f8553f-9d07-4bfe-bee9-ad2b7016159a .text-overlay text.label{font-family:Consolas,\"Liberation Mono\",Menlo,Courier,monospace;font-size:10px}#chart-03f8553f-9d07-4bfe-bee9-ad2b7016159a .tooltip{font-family:Consolas,\"Liberation Mono\",Menlo,Courier,monospace;font-size:14px}#chart-03f8553f-9d07-4bfe-bee9-ad2b7016159a text.no_data{font-family:Consolas,\"Liberation Mono\",Menlo,Courier,monospace;font-size:64px}\n",
       "#chart-03f8553f-9d07-4bfe-bee9-ad2b7016159a{background-color:rgba(249,249,249,1)}#chart-03f8553f-9d07-4bfe-bee9-ad2b7016159a path,#chart-03f8553f-9d07-4bfe-bee9-ad2b7016159a line,#chart-03f8553f-9d07-4bfe-bee9-ad2b7016159a rect,#chart-03f8553f-9d07-4bfe-bee9-ad2b7016159a circle{-webkit-transition:150ms;-moz-transition:150ms;transition:150ms}#chart-03f8553f-9d07-4bfe-bee9-ad2b7016159a .graph &gt; .background{fill:rgba(249,249,249,1)}#chart-03f8553f-9d07-4bfe-bee9-ad2b7016159a .plot &gt; .background{fill:rgba(255,255,255,1)}#chart-03f8553f-9d07-4bfe-bee9-ad2b7016159a .graph{fill:rgba(0,0,0,.87)}#chart-03f8553f-9d07-4bfe-bee9-ad2b7016159a text.no_data{fill:rgba(0,0,0,1)}#chart-03f8553f-9d07-4bfe-bee9-ad2b7016159a .title{fill:rgba(0,0,0,1)}#chart-03f8553f-9d07-4bfe-bee9-ad2b7016159a .legends .legend text{fill:rgba(0,0,0,.87)}#chart-03f8553f-9d07-4bfe-bee9-ad2b7016159a .legends .legend:hover text{fill:rgba(0,0,0,1)}#chart-03f8553f-9d07-4bfe-bee9-ad2b7016159a .axis .line{stroke:rgba(0,0,0,1)}#chart-03f8553f-9d07-4bfe-bee9-ad2b7016159a .axis .guide.line{stroke:rgba(0,0,0,.54)}#chart-03f8553f-9d07-4bfe-bee9-ad2b7016159a .axis .major.line{stroke:rgba(0,0,0,.87)}#chart-03f8553f-9d07-4bfe-bee9-ad2b7016159a .axis text.major{fill:rgba(0,0,0,1)}#chart-03f8553f-9d07-4bfe-bee9-ad2b7016159a .axis.y .guides:hover .guide.line,#chart-03f8553f-9d07-4bfe-bee9-ad2b7016159a .line-graph .axis.x .guides:hover .guide.line,#chart-03f8553f-9d07-4bfe-bee9-ad2b7016159a .stackedline-graph .axis.x .guides:hover .guide.line,#chart-03f8553f-9d07-4bfe-bee9-ad2b7016159a .xy-graph .axis.x .guides:hover .guide.line{stroke:rgba(0,0,0,1)}#chart-03f8553f-9d07-4bfe-bee9-ad2b7016159a .axis .guides:hover text{fill:rgba(0,0,0,1)}#chart-03f8553f-9d07-4bfe-bee9-ad2b7016159a .reactive{fill-opacity:.7;stroke-opacity:.8}#chart-03f8553f-9d07-4bfe-bee9-ad2b7016159a .ci{stroke:rgba(0,0,0,.87)}#chart-03f8553f-9d07-4bfe-bee9-ad2b7016159a .reactive.active,#chart-03f8553f-9d07-4bfe-bee9-ad2b7016159a .active .reactive{fill-opacity:.8;stroke-opacity:.9;stroke-width:4}#chart-03f8553f-9d07-4bfe-bee9-ad2b7016159a .ci .reactive.active{stroke-width:1.5}#chart-03f8553f-9d07-4bfe-bee9-ad2b7016159a .series text{fill:rgba(0,0,0,1)}#chart-03f8553f-9d07-4bfe-bee9-ad2b7016159a .tooltip rect{fill:rgba(255,255,255,1);stroke:rgba(0,0,0,1);-webkit-transition:opacity 150ms;-moz-transition:opacity 150ms;transition:opacity 150ms}#chart-03f8553f-9d07-4bfe-bee9-ad2b7016159a .tooltip .label{fill:rgba(0,0,0,.87)}#chart-03f8553f-9d07-4bfe-bee9-ad2b7016159a .tooltip .label{fill:rgba(0,0,0,.87)}#chart-03f8553f-9d07-4bfe-bee9-ad2b7016159a .tooltip .legend{font-size:.8em;fill:rgba(0,0,0,.54)}#chart-03f8553f-9d07-4bfe-bee9-ad2b7016159a .tooltip .x_label{font-size:.6em;fill:rgba(0,0,0,1)}#chart-03f8553f-9d07-4bfe-bee9-ad2b7016159a .tooltip .xlink{font-size:.5em;text-decoration:underline}#chart-03f8553f-9d07-4bfe-bee9-ad2b7016159a .tooltip .value{font-size:1.5em}#chart-03f8553f-9d07-4bfe-bee9-ad2b7016159a .bound{font-size:.5em}#chart-03f8553f-9d07-4bfe-bee9-ad2b7016159a .max-value{font-size:.75em;fill:rgba(0,0,0,.54)}#chart-03f8553f-9d07-4bfe-bee9-ad2b7016159a .map-element{fill:rgba(255,255,255,1);stroke:rgba(0,0,0,.54) !important}#chart-03f8553f-9d07-4bfe-bee9-ad2b7016159a .map-element .reactive{fill-opacity:inherit;stroke-opacity:inherit}#chart-03f8553f-9d07-4bfe-bee9-ad2b7016159a .color-0,#chart-03f8553f-9d07-4bfe-bee9-ad2b7016159a .color-0 a:visited{stroke:#F44336;fill:#F44336}#chart-03f8553f-9d07-4bfe-bee9-ad2b7016159a .text-overlay .color-0 text{fill:black}\n",
       "#chart-03f8553f-9d07-4bfe-bee9-ad2b7016159a text.no_data{text-anchor:middle}#chart-03f8553f-9d07-4bfe-bee9-ad2b7016159a .guide.line{fill:none}#chart-03f8553f-9d07-4bfe-bee9-ad2b7016159a .centered{text-anchor:middle}#chart-03f8553f-9d07-4bfe-bee9-ad2b7016159a .title{text-anchor:middle}#chart-03f8553f-9d07-4bfe-bee9-ad2b7016159a .legends .legend text{fill-opacity:1}#chart-03f8553f-9d07-4bfe-bee9-ad2b7016159a .axis.x text{text-anchor:middle}#chart-03f8553f-9d07-4bfe-bee9-ad2b7016159a .axis.x:not(.web) text[transform]{text-anchor:start}#chart-03f8553f-9d07-4bfe-bee9-ad2b7016159a .axis.x:not(.web) text[transform].backwards{text-anchor:end}#chart-03f8553f-9d07-4bfe-bee9-ad2b7016159a .axis.y text{text-anchor:end}#chart-03f8553f-9d07-4bfe-bee9-ad2b7016159a .axis.y text[transform].backwards{text-anchor:start}#chart-03f8553f-9d07-4bfe-bee9-ad2b7016159a .axis.y2 text{text-anchor:start}#chart-03f8553f-9d07-4bfe-bee9-ad2b7016159a .axis.y2 text[transform].backwards{text-anchor:end}#chart-03f8553f-9d07-4bfe-bee9-ad2b7016159a .axis .guide.line{stroke-dasharray:4,4}#chart-03f8553f-9d07-4bfe-bee9-ad2b7016159a .axis .major.guide.line{stroke-dasharray:6,6}#chart-03f8553f-9d07-4bfe-bee9-ad2b7016159a .horizontal .axis.y .guide.line,#chart-03f8553f-9d07-4bfe-bee9-ad2b7016159a .horizontal .axis.y2 .guide.line,#chart-03f8553f-9d07-4bfe-bee9-ad2b7016159a .vertical .axis.x .guide.line{opacity:0}#chart-03f8553f-9d07-4bfe-bee9-ad2b7016159a .horizontal .axis.always_show .guide.line,#chart-03f8553f-9d07-4bfe-bee9-ad2b7016159a .vertical .axis.always_show .guide.line{opacity:1 !important}#chart-03f8553f-9d07-4bfe-bee9-ad2b7016159a .axis.y .guides:hover .guide.line,#chart-03f8553f-9d07-4bfe-bee9-ad2b7016159a .axis.y2 .guides:hover .guide.line,#chart-03f8553f-9d07-4bfe-bee9-ad2b7016159a .axis.x .guides:hover .guide.line{opacity:1}#chart-03f8553f-9d07-4bfe-bee9-ad2b7016159a .axis .guides:hover text{opacity:1}#chart-03f8553f-9d07-4bfe-bee9-ad2b7016159a .nofill{fill:none}#chart-03f8553f-9d07-4bfe-bee9-ad2b7016159a .subtle-fill{fill-opacity:.2}#chart-03f8553f-9d07-4bfe-bee9-ad2b7016159a .dot{stroke-width:1px;fill-opacity:1}#chart-03f8553f-9d07-4bfe-bee9-ad2b7016159a .dot.active{stroke-width:5px}#chart-03f8553f-9d07-4bfe-bee9-ad2b7016159a .dot.negative{fill:transparent}#chart-03f8553f-9d07-4bfe-bee9-ad2b7016159a text,#chart-03f8553f-9d07-4bfe-bee9-ad2b7016159a tspan{stroke:none !important}#chart-03f8553f-9d07-4bfe-bee9-ad2b7016159a .series text.active{opacity:1}#chart-03f8553f-9d07-4bfe-bee9-ad2b7016159a .tooltip rect{fill-opacity:.95;stroke-width:.5}#chart-03f8553f-9d07-4bfe-bee9-ad2b7016159a .tooltip text{fill-opacity:1}#chart-03f8553f-9d07-4bfe-bee9-ad2b7016159a .showable{visibility:hidden}#chart-03f8553f-9d07-4bfe-bee9-ad2b7016159a .showable.shown{visibility:visible}#chart-03f8553f-9d07-4bfe-bee9-ad2b7016159a .gauge-background{fill:rgba(229,229,229,1);stroke:none}#chart-03f8553f-9d07-4bfe-bee9-ad2b7016159a .bg-lines{stroke:rgba(249,249,249,1);stroke-width:2px}</style><script type=\"text/javascript\">window.pygal = window.pygal || {};window.pygal.config = window.pygal.config || {};window.pygal.config['03f8553f-9d07-4bfe-bee9-ad2b7016159a'] = {\"allow_interruptions\": false, \"box_mode\": \"extremes\", \"classes\": [\"pygal-chart\"], \"css\": [\"file://style.css\", \"file://graph.css\"], \"defs\": [], \"disable_xml_declaration\": false, \"dots_size\": 2.5, \"dynamic_print_values\": false, \"explicit_size\": false, \"fill\": false, \"force_uri_protocol\": \"https\", \"formatter\": null, \"half_pie\": false, \"height\": 600, \"include_x_axis\": false, \"inner_radius\": 0, \"interpolate\": null, \"interpolation_parameters\": {}, \"interpolation_precision\": 250, \"inverse_y_axis\": false, \"js\": [\"//kozea.github.io/pygal.js/2.0.x/pygal-tooltips.min.js\"], \"legend_at_bottom\": false, \"legend_at_bottom_columns\": null, \"legend_box_size\": 12, \"logarithmic\": false, \"margin\": 20, \"margin_bottom\": null, \"margin_left\": null, \"margin_right\": null, \"margin_top\": null, \"max_scale\": 16, \"min_scale\": 4, \"missing_value_fill_truncation\": \"x\", \"no_data_text\": \"No data\", \"no_prefix\": false, \"order_min\": null, \"pretty_print\": false, \"print_labels\": false, \"print_values\": false, \"print_values_position\": \"center\", \"print_zeroes\": true, \"range\": null, \"rounded_bars\": null, \"secondary_range\": null, \"show_dots\": true, \"show_legend\": false, \"show_minor_x_labels\": true, \"show_minor_y_labels\": true, \"show_only_major_dots\": false, \"show_x_guides\": true, \"show_x_labels\": true, \"show_y_guides\": false, \"show_y_labels\": true, \"spacing\": 10, \"stack_from_top\": false, \"strict\": false, \"stroke\": true, \"stroke_style\": null, \"style\": {\"background\": \"rgba(249, 249, 249, 1)\", \"ci_colors\": [], \"colors\": [\"#F44336\", \"#3F51B5\", \"#009688\", \"#FFC107\", \"#FF5722\", \"#9C27B0\", \"#03A9F4\", \"#8BC34A\", \"#FF9800\", \"#E91E63\", \"#2196F3\", \"#4CAF50\", \"#FFEB3B\", \"#673AB7\", \"#00BCD4\", \"#CDDC39\", \"#9E9E9E\", \"#607D8B\"], \"font_family\": \"Consolas, \\\"Liberation Mono\\\", Menlo, Courier, monospace\", \"foreground\": \"rgba(0, 0, 0, .87)\", \"foreground_strong\": \"rgba(0, 0, 0, 1)\", \"foreground_subtle\": \"rgba(0, 0, 0, .54)\", \"guide_stroke_dasharray\": \"4,4\", \"label_font_family\": \"Consolas, \\\"Liberation Mono\\\", Menlo, Courier, monospace\", \"label_font_size\": 10, \"legend_font_family\": \"Consolas, \\\"Liberation Mono\\\", Menlo, Courier, monospace\", \"legend_font_size\": 14, \"major_guide_stroke_dasharray\": \"6,6\", \"major_label_font_family\": \"Consolas, \\\"Liberation Mono\\\", Menlo, Courier, monospace\", \"major_label_font_size\": 10, \"no_data_font_family\": \"Consolas, \\\"Liberation Mono\\\", Menlo, Courier, monospace\", \"no_data_font_size\": 64, \"opacity\": \".7\", \"opacity_hover\": \".8\", \"plot_background\": \"rgba(255, 255, 255, 1)\", \"stroke_opacity\": \".8\", \"stroke_opacity_hover\": \".9\", \"title_font_family\": \"Consolas, \\\"Liberation Mono\\\", Menlo, Courier, monospace\", \"title_font_size\": 16, \"tooltip_font_family\": \"Consolas, \\\"Liberation Mono\\\", Menlo, Courier, monospace\", \"tooltip_font_size\": 14, \"transition\": \"150ms\", \"value_background\": \"rgba(229, 229, 229, 1)\", \"value_colors\": [], \"value_font_family\": \"Consolas, \\\"Liberation Mono\\\", Menlo, Courier, monospace\", \"value_font_size\": 16, \"value_label_font_family\": \"Consolas, \\\"Liberation Mono\\\", Menlo, Courier, monospace\", \"value_label_font_size\": 10}, \"title\": \"Entwickler mit den meisten Commits\", \"tooltip_border_radius\": 0, \"tooltip_fancy_mode\": true, \"truncate_label\": null, \"truncate_legend\": null, \"width\": 800, \"x_label_rotation\": 0, \"x_labels\": [\"Mic\", \"Dirk Mahler\", \"Antoine Rey\", \"michaelisvy\", \"Keith Donald\", \"Costin Leau\", \"Markus Harrer\", \"Tomas Repel\", \"Thibault Duchateau\", \"Gordon Dickens\"], \"x_labels_major\": null, \"x_labels_major_count\": null, \"x_labels_major_every\": null, \"x_title\": \"Anzahl der Commits\", \"xrange\": null, \"y_label_rotation\": 0, \"y_labels\": null, \"y_labels_major\": null, \"y_labels_major_count\": null, \"y_labels_major_every\": null, \"y_title\": \"Entwickler\", \"zero\": 0, \"legends\": [\" \"]}</script><script type=\"text/javascript\" xlink:href=\"https://kozea.github.io/pygal.js/2.0.x/pygal-tooltips.min.js\"/></defs><title>Entwickler mit den meisten Commits</title><g class=\"graph horizontalbar-graph horizontal\"><rect class=\"background\" height=\"600\" width=\"800\" x=\"0\" y=\"0\"/><g class=\"plot\" transform=\"translate(164, 46)\"><rect class=\"background\" height=\"488\" width=\"616.0\" x=\"0\" y=\"0\"/><g class=\"axis y\"><g class=\"guides\"><text class=\"\" x=\"-5\" y=\"458.65384615384613\">Mic</text><title>0.05</title></g><g class=\"guides\"><text class=\"\" x=\"-5\" y=\"411.7307692307692\">Dirk Mahler</text><title>0.15</title></g><g class=\"guides\"><text class=\"\" x=\"-5\" y=\"364.80769230769226\">Antoine Rey</text><title>0.25</title></g><g class=\"guides\"><text class=\"\" x=\"-5\" y=\"317.88461538461536\">michaelisvy</text><title>0.35</title></g><g class=\"guides\"><text class=\"\" x=\"-5\" y=\"270.96153846153845\">Keith Donald</text><title>0.45</title></g><g class=\"guides\"><text class=\"\" x=\"-5\" y=\"224.03846153846155\">Costin Leau</text><title>0.55</title></g><g class=\"guides\"><text class=\"\" x=\"-5\" y=\"177.11538461538458\">Markus Harrer</text><title>0.65</title></g><g class=\"guides\"><text class=\"\" x=\"-5\" y=\"130.19230769230774\">Tomas Repel</text><title>0.75</title></g><g class=\"guides\"><text class=\"\" x=\"-5\" y=\"83.26923076923077\">Thibault Duchateau</text><title>0.85</title></g><g class=\"guides\"><text class=\"\" x=\"-5\" y=\"36.34615384615387\">Gordon Dickens</text><title>0.95</title></g></g><g class=\"axis x always_show\"><g class=\"guides\"><path class=\"axis major line\" d=\"M11.846154 0.000000 v488.000000\"/><text class=\"major\" x=\"11.846153846153847\" y=\"503.0\">0</text></g><g class=\"guides\"><path class=\"guide line\" d=\"M69.351755 0.000000 v488.000000\"/><text class=\"\" x=\"69.35175504107542\" y=\"503.0\">20</text></g><g class=\"guides\"><path class=\"guide line\" d=\"M126.857356 0.000000 v488.000000\"/><text class=\"\" x=\"126.857356235997\" y=\"503.0\">40</text></g><g class=\"guides\"><path class=\"guide line\" d=\"M184.362957 0.000000 v488.000000\"/><text class=\"\" x=\"184.3629574309186\" y=\"503.0\">60</text></g><g class=\"guides\"><path class=\"guide line\" d=\"M241.868559 0.000000 v488.000000\"/><text class=\"\" x=\"241.8685586258402\" y=\"503.0\">80</text></g><g class=\"guides\"><path class=\"major guide line\" d=\"M299.374160 0.000000 v488.000000\"/><text class=\"major\" x=\"299.3741598207618\" y=\"503.0\">100</text></g><g class=\"guides\"><path class=\"guide line\" d=\"M356.879761 0.000000 v488.000000\"/><text class=\"\" x=\"356.8797610156833\" y=\"503.0\">120</text></g><g class=\"guides\"><path class=\"guide line\" d=\"M414.385362 0.000000 v488.000000\"/><text class=\"\" x=\"414.3853622106049\" y=\"503.0\">140</text></g><g class=\"guides\"><path class=\"guide line\" d=\"M471.890963 0.000000 v488.000000\"/><text class=\"\" x=\"471.89096340552646\" y=\"503.0\">160</text></g><g class=\"guides\"><path class=\"guide line\" d=\"M529.396565 0.000000 v488.000000\"/><text class=\"\" x=\"529.3965646004481\" y=\"503.0\">180</text></g><g class=\"guides\"><path class=\"major guide line\" d=\"M586.902166 0.000000 v488.000000\"/><text class=\"major\" x=\"586.9021657953697\" y=\"503.0\">200</text></g></g><g class=\"series serie-0 color-0\"><g class=\"bars\"><g class=\"bar\"><rect class=\"rect reactive tooltip-trigger\" height=\"36.337230769230764\" rx=\"0\" ry=\"0\" width=\"592.3076923076923\" x=\"11.846153846153811\" y=\"436.9852307692308\"/><desc class=\"value\">206</desc><desc class=\"x centered\">307.99999999999994</desc><desc class=\"y centered\">455.15384615384613</desc><desc class=\"x_label\">Mic</desc></g><g class=\"bar\"><rect class=\"rect reactive tooltip-trigger\" height=\"36.337230769230764\" rx=\"0\" ry=\"0\" width=\"235.7729648991785\" x=\"11.84615384615384\" y=\"390.0621538461538\"/><desc class=\"value\">82</desc><desc class=\"x centered\">129.73263629574308</desc><desc class=\"y centered\">408.23076923076917</desc><desc class=\"x_label\">Dirk Mahler</desc></g><g class=\"bar\"><rect class=\"rect reactive tooltip-trigger\" height=\"36.337230769230764\" rx=\"0\" ry=\"0\" width=\"215.64600448095595\" x=\"11.84615384615384\" y=\"343.1390769230769\"/><desc class=\"value\">75</desc><desc class=\"x centered\">119.66915608663182</desc><desc class=\"y centered\">361.30769230769226</desc><desc class=\"x_label\">Antoine Rey</desc></g><g class=\"bar\"><rect class=\"rect reactive tooltip-trigger\" height=\"36.337230769230764\" rx=\"0\" ry=\"0\" width=\"178.26736370425692\" x=\"11.84615384615384\" y=\"296.216\"/><desc class=\"value\">62</desc><desc class=\"x centered\">100.9798356982823</desc><desc class=\"y centered\">314.38461538461536</desc><desc class=\"x_label\">michaelisvy</desc></g><g class=\"bar\"><rect class=\"rect reactive tooltip-trigger\" height=\"36.337230769230764\" rx=\"0\" ry=\"0\" width=\"100.63480209111276\" x=\"11.84615384615384\" y=\"249.29292307692305\"/><desc class=\"value\">35</desc><desc class=\"x centered\">62.16355489171022</desc><desc class=\"y centered\">267.4615384615384</desc><desc class=\"x_label\">Keith Donald</desc></g><g class=\"bar\"><rect class=\"rect reactive tooltip-trigger\" height=\"36.337230769230764\" rx=\"0\" ry=\"0\" width=\"80.50784167289021\" x=\"11.84615384615384\" y=\"202.36984615384617\"/><desc class=\"value\">28</desc><desc class=\"x centered\">52.100074682598944</desc><desc class=\"y centered\">220.53846153846155</desc><desc class=\"x_label\">Costin Leau</desc></g><g class=\"bar\"><rect class=\"rect reactive tooltip-trigger\" height=\"36.337230769230764\" rx=\"0\" ry=\"0\" width=\"14.376400298730399\" x=\"11.846153846153847\" y=\"155.44676923076926\"/><desc class=\"value\">5</desc><desc class=\"x centered\">19.034353995519048</desc><desc class=\"y centered\">173.61538461538464</desc><desc class=\"x_label\">Markus Harrer</desc></g><g class=\"bar\"><rect class=\"rect reactive tooltip-trigger\" height=\"36.337230769230764\" rx=\"0\" ry=\"0\" width=\"14.376400298730399\" x=\"11.846153846153847\" y=\"108.5236923076923\"/><desc class=\"value\">5</desc><desc class=\"x centered\">19.034353995519048</desc><desc class=\"y centered\">126.69230769230768</desc><desc class=\"x_label\">Tomas Repel</desc></g><g class=\"bar\"><rect class=\"rect reactive tooltip-trigger\" height=\"36.337230769230764\" rx=\"0\" ry=\"0\" width=\"14.376400298730399\" x=\"11.846153846153847\" y=\"61.60061538461539\"/><desc class=\"value\">5</desc><desc class=\"x centered\">19.034353995519048</desc><desc class=\"y centered\">79.76923076923077</desc><desc class=\"x_label\">Thibault Duchateau</desc></g><g class=\"bar\"><rect class=\"rect reactive tooltip-trigger\" height=\"36.337230769230764\" rx=\"0\" ry=\"0\" width=\"14.376400298730399\" x=\"11.846153846153847\" y=\"14.677538461538425\"/><desc class=\"value\">5</desc><desc class=\"x centered\">19.034353995519048</desc><desc class=\"y centered\">32.84615384615381</desc><desc class=\"x_label\">Gordon Dickens</desc></g></g></g></g><g class=\"titles\"><text class=\"title plot_title\" x=\"400.0\" y=\"26\">Entwickler mit den meisten Commits</text><text class=\"title\" x=\"472.0\" y=\"580\">Anzahl der Commits</text><text class=\"title\" x=\"0\" y=\"316.0\" transform=\"rotate(-90 0.000000 290.000000)\">Entwickler</text></g><g class=\"plot overlay\" transform=\"translate(164, 46)\"><g class=\"series serie-0 color-0\"/></g><g class=\"plot text-overlay\" transform=\"translate(164, 46)\"><g class=\"series serie-0 color-0\"/></g><g class=\"plot tooltip-overlay\" transform=\"translate(164, 46)\"><g class=\"tooltip\" style=\"opacity: 0\" transform=\"translate(0 0)\"><rect class=\"tooltip-box\" height=\"0\" rx=\"0\" ry=\"0\" width=\"0\"/><g class=\"text\"/></g></g></g></svg>\n",
       "    </figure>\n",
       "  </body>\n",
       "</html>\n"
      ],
      "text/plain": [
       "<IPython.core.display.HTML object>"
      ]
     },
     "metadata": {},
     "output_type": "display_data"
    }
   ],
   "source": [
    "import pygal \n",
    "line_chart = pygal.HorizontalBar()\n",
    "line_chart.title = 'Entwickler mit den meisten Commits'\n",
    "line_chart.x_title='Anzahl der Commits'\n",
    "line_chart.y_title='Entwickler'\n",
    "line_chart.show_legend=False\n",
    "line_chart.x_labels= y_developers\n",
    "line_chart.add(' ',x_commits)\n",
    "display(HTML(base_html.format(rendered_chart=line_chart.render(is_unicode=True))))"
   ]
  },
  {
   "cell_type": "code",
   "execution_count": null,
   "metadata": {},
   "outputs": [],
   "source": []
  },
  {
   "cell_type": "code",
   "execution_count": null,
   "metadata": {},
   "outputs": [],
   "source": []
  },
  {
   "cell_type": "code",
   "execution_count": null,
   "metadata": {},
   "outputs": [],
   "source": []
  }
 ],
 "metadata": {
  "kernelspec": {
   "display_name": "Python [conda env:BeLL]",
   "language": "python",
   "name": "conda-env-BeLL-py"
  },
  "language_info": {
   "codemirror_mode": {
    "name": "ipython",
    "version": 3
   },
   "file_extension": ".py",
   "mimetype": "text/x-python",
   "name": "python",
   "nbconvert_exporter": "python",
   "pygments_lexer": "ipython3",
   "version": "3.6.4"
  }
 },
 "nbformat": 4,
 "nbformat_minor": 2
}
