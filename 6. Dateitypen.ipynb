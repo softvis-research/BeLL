{
 "cells": [
  {
   "cell_type": "markdown",
   "metadata": {},
   "source": [
    "# Welche Dateitypen gibt es?"
   ]
  },
  {
   "cell_type": "markdown",
   "metadata": {},
   "source": [
    "## 1. Verbindung zur Datenbank\n",
    "Es wird eine Verbindung zur Neo4j-Datenbank aufgebaut."
   ]
  },
  {
   "cell_type": "code",
   "execution_count": 1,
   "metadata": {},
   "outputs": [],
   "source": [
    "import py2neo\n",
    "\n",
    "graph = py2neo.Graph(bolt=True, host='localhost', user='neo4j', password='neo4j')"
   ]
  },
  {
   "cell_type": "markdown",
   "metadata": {},
   "source": [
    "## 2. Cypher-Abfrage\n",
    "Es wird eine Abfrage an die Datenbank gestellt. Das Ergebnis wird in einem Dataframe (pandas) gespeichert."
   ]
  },
  {
   "cell_type": "code",
   "execution_count": 2,
   "metadata": {},
   "outputs": [],
   "source": [
    "import pandas as pd\n",
    "\n",
    "query =\"MATCH (f:Git:File) RETURN f.relativePath as relativePath\"\n",
    "df = pd.DataFrame(graph.run(query).data())\n"
   ]
  },
  {
   "cell_type": "markdown",
   "metadata": {},
   "source": [
    "## 3. Datenaufbereitung\n",
    "Zur Kontrolle werden die ersten fünf Zeilen des Ergebnisses der Abfrage als Tabelle ausgegeben."
   ]
  },
  {
   "cell_type": "code",
   "execution_count": 3,
   "metadata": {},
   "outputs": [
    {
     "data": {
      "text/html": [
       "<div>\n",
       "<style scoped>\n",
       "    .dataframe tbody tr th:only-of-type {\n",
       "        vertical-align: middle;\n",
       "    }\n",
       "\n",
       "    .dataframe tbody tr th {\n",
       "        vertical-align: top;\n",
       "    }\n",
       "\n",
       "    .dataframe thead th {\n",
       "        text-align: right;\n",
       "    }\n",
       "</style>\n",
       "<table border=\"1\" class=\"dataframe\">\n",
       "  <thead>\n",
       "    <tr style=\"text-align: right;\">\n",
       "      <th></th>\n",
       "      <th>relativePath</th>\n",
       "    </tr>\n",
       "  </thead>\n",
       "  <tbody>\n",
       "    <tr>\n",
       "      <th>0</th>\n",
       "      <td>src/main/webapp/bower_components/bootstrap/js/...</td>\n",
       "    </tr>\n",
       "    <tr>\n",
       "      <th>1</th>\n",
       "      <td>src/main/webapp/bower_components/bootstrap/les...</td>\n",
       "    </tr>\n",
       "    <tr>\n",
       "      <th>2</th>\n",
       "      <td>src/main/webapp/bower_components/jquery/src/se...</td>\n",
       "    </tr>\n",
       "    <tr>\n",
       "      <th>3</th>\n",
       "      <td>src/main/webapp/bower_components/bootstrap/les...</td>\n",
       "    </tr>\n",
       "    <tr>\n",
       "      <th>4</th>\n",
       "      <td>src/main/webapp/bower_components/angular-resou...</td>\n",
       "    </tr>\n",
       "  </tbody>\n",
       "</table>\n",
       "</div>"
      ],
      "text/plain": [
       "                                        relativePath\n",
       "0  src/main/webapp/bower_components/bootstrap/js/...\n",
       "1  src/main/webapp/bower_components/bootstrap/les...\n",
       "2  src/main/webapp/bower_components/jquery/src/se...\n",
       "3  src/main/webapp/bower_components/bootstrap/les...\n",
       "4  src/main/webapp/bower_components/angular-resou..."
      ]
     },
     "execution_count": 3,
     "metadata": {},
     "output_type": "execute_result"
    }
   ],
   "source": [
    "df.head()"
   ]
  },
  {
   "cell_type": "markdown",
   "metadata": {},
   "source": [
    "Der folgende Codeabschnitt extrahiert die verschiedenen Dateitypen entsprechend der Dateiendung und zählt deren Häufigkeit. Die Dateitypen werden in der Variable <font face=\"Courier\">datatype</font> und deren Häufigkeit in der Variable <font face=\"Courier\">frequency</font> gespeichert."
   ]
  },
  {
   "cell_type": "code",
   "execution_count": 4,
   "metadata": {},
   "outputs": [
    {
     "name": "stdout",
     "output_type": "stream",
     "text": [
      "['js', 'png', 'java', 'css', 'less', 'html', 'xml', 'json', 'jsp', 'md', 'gif', 'txt', 'php', 'adoc', 'properties', 'mustache', 'prefs', 'jpg', 'map', 'tag', 'gitignore', 'svg', 'jshintrc', 'graphml', 'yml', 'sql', 'woff', 'ttf', 'eot', 'plantuml', 'classpath', 'springBeans', 'ico', 'project', 'component', 'editorconfig', 'xsd', 'name', 'jmx', 'jshintignore', 'csslintrc', 'scss', 'bowerrc', 'iml', 'pdf', 'jsdtscope', 'config', 'gitmodules', 'dtd', 'container', 'jar', 'mailmap', 'log', 'cmd', 'tern-project', 'gitattributes', 'coffee', 'gzip', 'ts', 'woff2']\n",
      "[1277, 475, 225, 133, 127, 108, 82, 68, 39, 35, 33, 32, 23, 19, 18, 18, 14, 13, 13, 9, 6, 6, 6, 5, 5, 4, 3, 3, 3, 3, 2, 2, 2, 2, 2, 2, 2, 1, 1, 1, 1, 1, 1, 1, 1, 1, 1, 1, 1, 1, 1, 1, 1, 1, 1, 1, 1, 1, 1, 1]\n"
     ]
    }
   ],
   "source": [
    "# Extrahiere Dataypes aus Spalte des Dataframes.\n",
    "datatypes = df['relativePath'].str.rsplit('.', 1).str[1]\n",
    "# Erstelle series Objekt mit zählen der einzelnen Datentypen zugeordnet den einzelnen Dateitypen.\n",
    "series = datatypes.value_counts()\n",
    "# Umwandeln der series Spalten in list Objekte.\n",
    "datatype = list(series.index)\n",
    "frequency = list(series)\n",
    "print(datatype)\n",
    "print(frequency)\n",
    "# Erzeuge die Kategorie \"andere\", in der alle Dateitypen gesammelt werden, die weniger oder genau 20 mal auftauchen\n",
    "andere = 0\n",
    "for wert in frequency[:]:\n",
    "    index = frequency.index(wert)\n",
    "    if wert <= 20:\n",
    "        andere += wert\n",
    "        datatype.remove(datatype[index])\n",
    "        frequency.remove(wert)\n",
    "frequency.append(andere)\n",
    "datatype.append(\"andere\")\n",
    "\n",
    "\n"
   ]
  },
  {
   "cell_type": "markdown",
   "metadata": {},
   "source": [
    "## 4. Visualisierung\n",
    "Die Daten werden mittels eines Pie Charts visualisiert (https://plot.ly/python/pie-charts/, labels=datatype, values=frequency)."
   ]
  },
  {
   "cell_type": "markdown",
   "metadata": {},
   "source": [
    "## 4. Visualisierung\n",
    "Die Daten werden mittels eines Pie Charts visualisiert (https://plot.ly/python/pie-charts/, labels=datatype, values=frequency).\n",
    "\n"
   ]
  },
  {
   "cell_type": "code",
   "execution_count": 5,
   "metadata": {},
   "outputs": [],
   "source": [
    "from IPython.display import display, HTML\n",
    "\n",
    "base_html = \"\"\"\n",
    "<!DOCTYPE html>\n",
    "<html>\n",
    "  <head>\n",
    "  <script type=\"text/javascript\" src=\"http://kozea.github.com/pygal.js/javascripts/svg.jquery.js\"></script>\n",
    "  <script type=\"text/javascript\" src=\"https://kozea.github.io/pygal.js/2.0.x/pygal-tooltips.min.js\"\"></script>\n",
    "  </head>\n",
    "  <body>\n",
    "    <figure>\n",
    "      {rendered_chart}\n",
    "    </figure>\n",
    "  </body>\n",
    "</html>\n",
    "\"\"\""
   ]
  },
  {
   "cell_type": "code",
   "execution_count": 6,
   "metadata": {},
   "outputs": [
    {
     "data": {
      "text/html": [
       "\n",
       "<!DOCTYPE html>\n",
       "<html>\n",
       "  <head>\n",
       "  <script type=\"text/javascript\" src=\"http://kozea.github.com/pygal.js/javascripts/svg.jquery.js\"></script>\n",
       "  <script type=\"text/javascript\" src=\"https://kozea.github.io/pygal.js/2.0.x/pygal-tooltips.min.js\"\"></script>\n",
       "  </head>\n",
       "  <body>\n",
       "    <figure>\n",
       "      <?xml version='1.0' encoding='utf-8'?>\n",
       "<svg xmlns:xlink=\"http://www.w3.org/1999/xlink\" xmlns=\"http://www.w3.org/2000/svg\" id=\"chart-67c24917-e770-4192-9f8b-17005b4d78e7\" class=\"pygal-chart\" viewBox=\"0 0 800 600\"><!--Generated with pygal 2.4.0 (lxml) ©Kozea 2012-2016 on 2019-10-07--><!--http://pygal.org--><!--http://github.com/Kozea/pygal--><defs><style type=\"text/css\">#chart-67c24917-e770-4192-9f8b-17005b4d78e7{-webkit-user-select:none;-webkit-font-smoothing:antialiased;font-family:Consolas,\"Liberation Mono\",Menlo,Courier,monospace}#chart-67c24917-e770-4192-9f8b-17005b4d78e7 .title{font-family:Consolas,\"Liberation Mono\",Menlo,Courier,monospace;font-size:16px}#chart-67c24917-e770-4192-9f8b-17005b4d78e7 .legends .legend text{font-family:Consolas,\"Liberation Mono\",Menlo,Courier,monospace;font-size:14px}#chart-67c24917-e770-4192-9f8b-17005b4d78e7 .axis text{font-family:Consolas,\"Liberation Mono\",Menlo,Courier,monospace;font-size:10px}#chart-67c24917-e770-4192-9f8b-17005b4d78e7 .axis text.major{font-family:Consolas,\"Liberation Mono\",Menlo,Courier,monospace;font-size:10px}#chart-67c24917-e770-4192-9f8b-17005b4d78e7 .text-overlay text.value{font-family:Consolas,\"Liberation Mono\",Menlo,Courier,monospace;font-size:16px}#chart-67c24917-e770-4192-9f8b-17005b4d78e7 .text-overlay text.label{font-family:Consolas,\"Liberation Mono\",Menlo,Courier,monospace;font-size:10px}#chart-67c24917-e770-4192-9f8b-17005b4d78e7 .tooltip{font-family:Consolas,\"Liberation Mono\",Menlo,Courier,monospace;font-size:14px}#chart-67c24917-e770-4192-9f8b-17005b4d78e7 text.no_data{font-family:Consolas,\"Liberation Mono\",Menlo,Courier,monospace;font-size:64px}\n",
       "#chart-67c24917-e770-4192-9f8b-17005b4d78e7{background-color:rgba(249,249,249,1)}#chart-67c24917-e770-4192-9f8b-17005b4d78e7 path,#chart-67c24917-e770-4192-9f8b-17005b4d78e7 line,#chart-67c24917-e770-4192-9f8b-17005b4d78e7 rect,#chart-67c24917-e770-4192-9f8b-17005b4d78e7 circle{-webkit-transition:150ms;-moz-transition:150ms;transition:150ms}#chart-67c24917-e770-4192-9f8b-17005b4d78e7 .graph &gt; .background{fill:rgba(249,249,249,1)}#chart-67c24917-e770-4192-9f8b-17005b4d78e7 .plot &gt; .background{fill:rgba(255,255,255,1)}#chart-67c24917-e770-4192-9f8b-17005b4d78e7 .graph{fill:rgba(0,0,0,.87)}#chart-67c24917-e770-4192-9f8b-17005b4d78e7 text.no_data{fill:rgba(0,0,0,1)}#chart-67c24917-e770-4192-9f8b-17005b4d78e7 .title{fill:rgba(0,0,0,1)}#chart-67c24917-e770-4192-9f8b-17005b4d78e7 .legends .legend text{fill:rgba(0,0,0,.87)}#chart-67c24917-e770-4192-9f8b-17005b4d78e7 .legends .legend:hover text{fill:rgba(0,0,0,1)}#chart-67c24917-e770-4192-9f8b-17005b4d78e7 .axis .line{stroke:rgba(0,0,0,1)}#chart-67c24917-e770-4192-9f8b-17005b4d78e7 .axis .guide.line{stroke:rgba(0,0,0,.54)}#chart-67c24917-e770-4192-9f8b-17005b4d78e7 .axis .major.line{stroke:rgba(0,0,0,.87)}#chart-67c24917-e770-4192-9f8b-17005b4d78e7 .axis text.major{fill:rgba(0,0,0,1)}#chart-67c24917-e770-4192-9f8b-17005b4d78e7 .axis.y .guides:hover .guide.line,#chart-67c24917-e770-4192-9f8b-17005b4d78e7 .line-graph .axis.x .guides:hover .guide.line,#chart-67c24917-e770-4192-9f8b-17005b4d78e7 .stackedline-graph .axis.x .guides:hover .guide.line,#chart-67c24917-e770-4192-9f8b-17005b4d78e7 .xy-graph .axis.x .guides:hover .guide.line{stroke:rgba(0,0,0,1)}#chart-67c24917-e770-4192-9f8b-17005b4d78e7 .axis .guides:hover text{fill:rgba(0,0,0,1)}#chart-67c24917-e770-4192-9f8b-17005b4d78e7 .reactive{fill-opacity:.7;stroke-opacity:.8}#chart-67c24917-e770-4192-9f8b-17005b4d78e7 .ci{stroke:rgba(0,0,0,.87)}#chart-67c24917-e770-4192-9f8b-17005b4d78e7 .reactive.active,#chart-67c24917-e770-4192-9f8b-17005b4d78e7 .active .reactive{fill-opacity:.8;stroke-opacity:.9;stroke-width:4}#chart-67c24917-e770-4192-9f8b-17005b4d78e7 .ci .reactive.active{stroke-width:1.5}#chart-67c24917-e770-4192-9f8b-17005b4d78e7 .series text{fill:rgba(0,0,0,1)}#chart-67c24917-e770-4192-9f8b-17005b4d78e7 .tooltip rect{fill:rgba(255,255,255,1);stroke:rgba(0,0,0,1);-webkit-transition:opacity 150ms;-moz-transition:opacity 150ms;transition:opacity 150ms}#chart-67c24917-e770-4192-9f8b-17005b4d78e7 .tooltip .label{fill:rgba(0,0,0,.87)}#chart-67c24917-e770-4192-9f8b-17005b4d78e7 .tooltip .label{fill:rgba(0,0,0,.87)}#chart-67c24917-e770-4192-9f8b-17005b4d78e7 .tooltip .legend{font-size:.8em;fill:rgba(0,0,0,.54)}#chart-67c24917-e770-4192-9f8b-17005b4d78e7 .tooltip .x_label{font-size:.6em;fill:rgba(0,0,0,1)}#chart-67c24917-e770-4192-9f8b-17005b4d78e7 .tooltip .xlink{font-size:.5em;text-decoration:underline}#chart-67c24917-e770-4192-9f8b-17005b4d78e7 .tooltip .value{font-size:1.5em}#chart-67c24917-e770-4192-9f8b-17005b4d78e7 .bound{font-size:.5em}#chart-67c24917-e770-4192-9f8b-17005b4d78e7 .max-value{font-size:.75em;fill:rgba(0,0,0,.54)}#chart-67c24917-e770-4192-9f8b-17005b4d78e7 .map-element{fill:rgba(255,255,255,1);stroke:rgba(0,0,0,.54) !important}#chart-67c24917-e770-4192-9f8b-17005b4d78e7 .map-element .reactive{fill-opacity:inherit;stroke-opacity:inherit}#chart-67c24917-e770-4192-9f8b-17005b4d78e7 .color-0,#chart-67c24917-e770-4192-9f8b-17005b4d78e7 .color-0 a:visited{stroke:#F44336;fill:#F44336}#chart-67c24917-e770-4192-9f8b-17005b4d78e7 .color-1,#chart-67c24917-e770-4192-9f8b-17005b4d78e7 .color-1 a:visited{stroke:#3F51B5;fill:#3F51B5}#chart-67c24917-e770-4192-9f8b-17005b4d78e7 .color-2,#chart-67c24917-e770-4192-9f8b-17005b4d78e7 .color-2 a:visited{stroke:#009688;fill:#009688}#chart-67c24917-e770-4192-9f8b-17005b4d78e7 .color-3,#chart-67c24917-e770-4192-9f8b-17005b4d78e7 .color-3 a:visited{stroke:#FFC107;fill:#FFC107}#chart-67c24917-e770-4192-9f8b-17005b4d78e7 .color-4,#chart-67c24917-e770-4192-9f8b-17005b4d78e7 .color-4 a:visited{stroke:#FF5722;fill:#FF5722}#chart-67c24917-e770-4192-9f8b-17005b4d78e7 .color-5,#chart-67c24917-e770-4192-9f8b-17005b4d78e7 .color-5 a:visited{stroke:#9C27B0;fill:#9C27B0}#chart-67c24917-e770-4192-9f8b-17005b4d78e7 .color-6,#chart-67c24917-e770-4192-9f8b-17005b4d78e7 .color-6 a:visited{stroke:#03A9F4;fill:#03A9F4}#chart-67c24917-e770-4192-9f8b-17005b4d78e7 .color-7,#chart-67c24917-e770-4192-9f8b-17005b4d78e7 .color-7 a:visited{stroke:#8BC34A;fill:#8BC34A}#chart-67c24917-e770-4192-9f8b-17005b4d78e7 .color-8,#chart-67c24917-e770-4192-9f8b-17005b4d78e7 .color-8 a:visited{stroke:#FF9800;fill:#FF9800}#chart-67c24917-e770-4192-9f8b-17005b4d78e7 .color-9,#chart-67c24917-e770-4192-9f8b-17005b4d78e7 .color-9 a:visited{stroke:#E91E63;fill:#E91E63}#chart-67c24917-e770-4192-9f8b-17005b4d78e7 .color-10,#chart-67c24917-e770-4192-9f8b-17005b4d78e7 .color-10 a:visited{stroke:#2196F3;fill:#2196F3}#chart-67c24917-e770-4192-9f8b-17005b4d78e7 .color-11,#chart-67c24917-e770-4192-9f8b-17005b4d78e7 .color-11 a:visited{stroke:#4CAF50;fill:#4CAF50}#chart-67c24917-e770-4192-9f8b-17005b4d78e7 .color-12,#chart-67c24917-e770-4192-9f8b-17005b4d78e7 .color-12 a:visited{stroke:#FFEB3B;fill:#FFEB3B}#chart-67c24917-e770-4192-9f8b-17005b4d78e7 .color-13,#chart-67c24917-e770-4192-9f8b-17005b4d78e7 .color-13 a:visited{stroke:#673AB7;fill:#673AB7}#chart-67c24917-e770-4192-9f8b-17005b4d78e7 .text-overlay .color-0 text{fill:black}#chart-67c24917-e770-4192-9f8b-17005b4d78e7 .text-overlay .color-1 text{fill:black}#chart-67c24917-e770-4192-9f8b-17005b4d78e7 .text-overlay .color-2 text{fill:black}#chart-67c24917-e770-4192-9f8b-17005b4d78e7 .text-overlay .color-3 text{fill:black}#chart-67c24917-e770-4192-9f8b-17005b4d78e7 .text-overlay .color-4 text{fill:black}#chart-67c24917-e770-4192-9f8b-17005b4d78e7 .text-overlay .color-5 text{fill:black}#chart-67c24917-e770-4192-9f8b-17005b4d78e7 .text-overlay .color-6 text{fill:black}#chart-67c24917-e770-4192-9f8b-17005b4d78e7 .text-overlay .color-7 text{fill:black}#chart-67c24917-e770-4192-9f8b-17005b4d78e7 .text-overlay .color-8 text{fill:black}#chart-67c24917-e770-4192-9f8b-17005b4d78e7 .text-overlay .color-9 text{fill:black}#chart-67c24917-e770-4192-9f8b-17005b4d78e7 .text-overlay .color-10 text{fill:black}#chart-67c24917-e770-4192-9f8b-17005b4d78e7 .text-overlay .color-11 text{fill:black}#chart-67c24917-e770-4192-9f8b-17005b4d78e7 .text-overlay .color-12 text{fill:black}#chart-67c24917-e770-4192-9f8b-17005b4d78e7 .text-overlay .color-13 text{fill:black}\n",
       "#chart-67c24917-e770-4192-9f8b-17005b4d78e7 text.no_data{text-anchor:middle}#chart-67c24917-e770-4192-9f8b-17005b4d78e7 .guide.line{fill:none}#chart-67c24917-e770-4192-9f8b-17005b4d78e7 .centered{text-anchor:middle}#chart-67c24917-e770-4192-9f8b-17005b4d78e7 .title{text-anchor:middle}#chart-67c24917-e770-4192-9f8b-17005b4d78e7 .legends .legend text{fill-opacity:1}#chart-67c24917-e770-4192-9f8b-17005b4d78e7 .axis.x text{text-anchor:middle}#chart-67c24917-e770-4192-9f8b-17005b4d78e7 .axis.x:not(.web) text[transform]{text-anchor:start}#chart-67c24917-e770-4192-9f8b-17005b4d78e7 .axis.x:not(.web) text[transform].backwards{text-anchor:end}#chart-67c24917-e770-4192-9f8b-17005b4d78e7 .axis.y text{text-anchor:end}#chart-67c24917-e770-4192-9f8b-17005b4d78e7 .axis.y text[transform].backwards{text-anchor:start}#chart-67c24917-e770-4192-9f8b-17005b4d78e7 .axis.y2 text{text-anchor:start}#chart-67c24917-e770-4192-9f8b-17005b4d78e7 .axis.y2 text[transform].backwards{text-anchor:end}#chart-67c24917-e770-4192-9f8b-17005b4d78e7 .axis .guide.line{stroke-dasharray:4,4}#chart-67c24917-e770-4192-9f8b-17005b4d78e7 .axis .major.guide.line{stroke-dasharray:6,6}#chart-67c24917-e770-4192-9f8b-17005b4d78e7 .horizontal .axis.y .guide.line,#chart-67c24917-e770-4192-9f8b-17005b4d78e7 .horizontal .axis.y2 .guide.line,#chart-67c24917-e770-4192-9f8b-17005b4d78e7 .vertical .axis.x .guide.line{opacity:0}#chart-67c24917-e770-4192-9f8b-17005b4d78e7 .horizontal .axis.always_show .guide.line,#chart-67c24917-e770-4192-9f8b-17005b4d78e7 .vertical .axis.always_show .guide.line{opacity:1 !important}#chart-67c24917-e770-4192-9f8b-17005b4d78e7 .axis.y .guides:hover .guide.line,#chart-67c24917-e770-4192-9f8b-17005b4d78e7 .axis.y2 .guides:hover .guide.line,#chart-67c24917-e770-4192-9f8b-17005b4d78e7 .axis.x .guides:hover .guide.line{opacity:1}#chart-67c24917-e770-4192-9f8b-17005b4d78e7 .axis .guides:hover text{opacity:1}#chart-67c24917-e770-4192-9f8b-17005b4d78e7 .nofill{fill:none}#chart-67c24917-e770-4192-9f8b-17005b4d78e7 .subtle-fill{fill-opacity:.2}#chart-67c24917-e770-4192-9f8b-17005b4d78e7 .dot{stroke-width:1px;fill-opacity:1}#chart-67c24917-e770-4192-9f8b-17005b4d78e7 .dot.active{stroke-width:5px}#chart-67c24917-e770-4192-9f8b-17005b4d78e7 .dot.negative{fill:transparent}#chart-67c24917-e770-4192-9f8b-17005b4d78e7 text,#chart-67c24917-e770-4192-9f8b-17005b4d78e7 tspan{stroke:none !important}#chart-67c24917-e770-4192-9f8b-17005b4d78e7 .series text.active{opacity:1}#chart-67c24917-e770-4192-9f8b-17005b4d78e7 .tooltip rect{fill-opacity:.95;stroke-width:.5}#chart-67c24917-e770-4192-9f8b-17005b4d78e7 .tooltip text{fill-opacity:1}#chart-67c24917-e770-4192-9f8b-17005b4d78e7 .showable{visibility:hidden}#chart-67c24917-e770-4192-9f8b-17005b4d78e7 .showable.shown{visibility:visible}#chart-67c24917-e770-4192-9f8b-17005b4d78e7 .gauge-background{fill:rgba(229,229,229,1);stroke:none}#chart-67c24917-e770-4192-9f8b-17005b4d78e7 .bg-lines{stroke:rgba(249,249,249,1);stroke-width:2px}</style><script type=\"text/javascript\">window.pygal = window.pygal || {};window.pygal.config = window.pygal.config || {};window.pygal.config['67c24917-e770-4192-9f8b-17005b4d78e7'] = {\"allow_interruptions\": false, \"box_mode\": \"extremes\", \"classes\": [\"pygal-chart\"], \"css\": [\"file://style.css\", \"file://graph.css\"], \"defs\": [], \"disable_xml_declaration\": false, \"dots_size\": 2.5, \"dynamic_print_values\": false, \"explicit_size\": false, \"fill\": false, \"force_uri_protocol\": \"https\", \"formatter\": null, \"half_pie\": false, \"height\": 600, \"include_x_axis\": false, \"inner_radius\": 0, \"interpolate\": null, \"interpolation_parameters\": {}, \"interpolation_precision\": 250, \"inverse_y_axis\": false, \"js\": [\"//kozea.github.io/pygal.js/2.0.x/pygal-tooltips.min.js\"], \"legend_at_bottom\": false, \"legend_at_bottom_columns\": null, \"legend_box_size\": 12, \"logarithmic\": false, \"margin\": 20, \"margin_bottom\": null, \"margin_left\": null, \"margin_right\": null, \"margin_top\": null, \"max_scale\": 16, \"min_scale\": 4, \"missing_value_fill_truncation\": \"x\", \"no_data_text\": \"No data\", \"no_prefix\": false, \"order_min\": null, \"pretty_print\": false, \"print_labels\": false, \"print_values\": false, \"print_values_position\": \"center\", \"print_zeroes\": true, \"range\": null, \"rounded_bars\": null, \"secondary_range\": null, \"show_dots\": true, \"show_legend\": true, \"show_minor_x_labels\": true, \"show_minor_y_labels\": true, \"show_only_major_dots\": false, \"show_x_guides\": false, \"show_x_labels\": true, \"show_y_guides\": true, \"show_y_labels\": true, \"spacing\": 10, \"stack_from_top\": false, \"strict\": false, \"stroke\": true, \"stroke_style\": null, \"style\": {\"background\": \"rgba(249, 249, 249, 1)\", \"ci_colors\": [], \"colors\": [\"#F44336\", \"#3F51B5\", \"#009688\", \"#FFC107\", \"#FF5722\", \"#9C27B0\", \"#03A9F4\", \"#8BC34A\", \"#FF9800\", \"#E91E63\", \"#2196F3\", \"#4CAF50\", \"#FFEB3B\", \"#673AB7\", \"#00BCD4\", \"#CDDC39\", \"#9E9E9E\", \"#607D8B\"], \"font_family\": \"Consolas, \\\"Liberation Mono\\\", Menlo, Courier, monospace\", \"foreground\": \"rgba(0, 0, 0, .87)\", \"foreground_strong\": \"rgba(0, 0, 0, 1)\", \"foreground_subtle\": \"rgba(0, 0, 0, .54)\", \"guide_stroke_dasharray\": \"4,4\", \"label_font_family\": \"Consolas, \\\"Liberation Mono\\\", Menlo, Courier, monospace\", \"label_font_size\": 10, \"legend_font_family\": \"Consolas, \\\"Liberation Mono\\\", Menlo, Courier, monospace\", \"legend_font_size\": 14, \"major_guide_stroke_dasharray\": \"6,6\", \"major_label_font_family\": \"Consolas, \\\"Liberation Mono\\\", Menlo, Courier, monospace\", \"major_label_font_size\": 10, \"no_data_font_family\": \"Consolas, \\\"Liberation Mono\\\", Menlo, Courier, monospace\", \"no_data_font_size\": 64, \"opacity\": \".7\", \"opacity_hover\": \".8\", \"plot_background\": \"rgba(255, 255, 255, 1)\", \"stroke_opacity\": \".8\", \"stroke_opacity_hover\": \".9\", \"title_font_family\": \"Consolas, \\\"Liberation Mono\\\", Menlo, Courier, monospace\", \"title_font_size\": 16, \"tooltip_font_family\": \"Consolas, \\\"Liberation Mono\\\", Menlo, Courier, monospace\", \"tooltip_font_size\": 14, \"transition\": \"150ms\", \"value_background\": \"rgba(229, 229, 229, 1)\", \"value_colors\": [], \"value_font_family\": \"Consolas, \\\"Liberation Mono\\\", Menlo, Courier, monospace\", \"value_font_size\": 16, \"value_label_font_family\": \"Consolas, \\\"Liberation Mono\\\", Menlo, Courier, monospace\", \"value_label_font_size\": 10}, \"title\": \"Dateitypen\", \"tooltip_border_radius\": 0, \"tooltip_fancy_mode\": true, \"truncate_label\": null, \"truncate_legend\": null, \"width\": 800, \"x_label_rotation\": 0, \"x_labels\": null, \"x_labels_major\": null, \"x_labels_major_count\": null, \"x_labels_major_every\": null, \"x_title\": null, \"xrange\": null, \"y_label_rotation\": 0, \"y_labels\": null, \"y_labels_major\": null, \"y_labels_major_count\": null, \"y_labels_major_every\": null, \"y_title\": null, \"zero\": 0, \"legends\": [\"js\", \"png\", \"java\", \"css\", \"less\", \"html\", \"xml\", \"json\", \"jsp\", \"md\", \"gif\", \"txt\", \"php\", \"andere\"]}</script><script type=\"text/javascript\" xlink:href=\"https://kozea.github.io/pygal.js/2.0.x/pygal-tooltips.min.js\"/></defs><title>Dateitypen</title><g class=\"graph pie-graph vertical\"><rect class=\"background\" height=\"600\" width=\"800\" x=\"0\" y=\"0\"/><g class=\"plot\" transform=\"translate(92, 46)\"><rect class=\"background\" height=\"534\" width=\"687.6\" x=\"0\" y=\"0\"/><g class=\"series serie-0 color-0\"><g class=\"slices\"><g class=\"slice\"><path class=\"slice reactive tooltip-trigger\" d=\"M343.800000 26.700000 A240.300000 240.300000 0 0 1 419.016122 495.224944 L343.800000 267.000000 A0.000000 0.000000 0 0 0 343.800000 267.000000 z\"/><desc class=\"value\">1277</desc><desc class=\"x centered\">462.4310161850894</desc><desc class=\"y centered\">247.9551975885004</desc></g></g></g><g class=\"series serie-1 color-1\"><g class=\"slices\"><g class=\"slice\"><path class=\"slice reactive tooltip-trigger\" d=\"M419.016122 495.224944 A240.300000 240.300000 0 0 1 183.231764 445.779002 L343.800000 267.000000 A0.000000 0.000000 0 0 0 343.800000 267.000000 z\"/><desc class=\"value\">475</desc><desc class=\"x centered\">319.13995588219564</desc><desc class=\"y centered\">384.5921116576616</desc></g></g></g><g class=\"series serie-2 color-2\"><g class=\"slices\"><g class=\"slice\"><path class=\"slice reactive tooltip-trigger\" d=\"M183.231764 445.779002 A240.300000 240.300000 0 0 1 117.382437 347.493335 L343.800000 267.000000 A0.000000 0.000000 0 0 0 343.800000 267.000000 z\"/><desc class=\"value\">225</desc><desc class=\"x centered\">243.9820153460489</desc><desc class=\"y centered\">333.8759481399971</desc></g></g></g><g class=\"series serie-3 color-3\"><g class=\"slices\"><g class=\"slice\"><path class=\"slice reactive tooltip-trigger\" d=\"M117.382437 347.493335 A240.300000 240.300000 0 0 1 103.771413 278.417854 L343.800000 267.000000 A0.000000 0.000000 0 0 0 343.800000 267.000000 z\"/><desc class=\"value\">133</desc><desc class=\"x centered\">225.91673321725605</desc><desc class=\"y centered\">290.22838592387376</desc></g></g></g><g class=\"series serie-4 color-4\"><g class=\"slices\"><g class=\"slice\"><path class=\"slice reactive tooltip-trigger\" d=\"M103.771413 278.417854 A240.300000 240.300000 0 0 1 110.006846 211.458565 L343.800000 267.000000 A0.000000 0.000000 0 0 0 343.800000 267.000000 z\"/><desc class=\"value\">127</desc><desc class=\"x centered\">224.16759716060818</desc><desc class=\"y centered\">255.8595022160821</desc></g></g></g><g class=\"series serie-5 color-5\"><g class=\"slices\"><g class=\"slice\"><path class=\"slice reactive tooltip-trigger\" d=\"M110.006846 211.458565 A240.300000 240.300000 0 0 1 129.775612 157.740440 L343.800000 267.000000 A0.000000 0.000000 0 0 0 343.800000 267.000000 z\"/><desc class=\"value\">108</desc><desc class=\"x centered\">231.04301909072132</desc><desc class=\"y centered\">225.50438871127986</desc></g></g></g><g class=\"series serie-6 color-6\"><g class=\"slices\"><g class=\"slice\"><path class=\"slice reactive tooltip-trigger\" d=\"M129.775612 157.740440 A240.300000 240.300000 0 0 1 152.982147 120.943035 L343.800000 267.000000 A0.000000 0.000000 0 0 0 343.800000 267.000000 z\"/><desc class=\"value\">82</desc><desc class=\"x centered\">242.17222062423073</desc><desc class=\"y centered\">202.90774649655418</desc></g></g></g><g class=\"series serie-7 color-7\"><g class=\"slices\"><g class=\"slice\"><path class=\"slice reactive tooltip-trigger\" d=\"M152.982147 120.943035 A240.300000 240.300000 0 0 1 177.009524 94.011483 L343.800000 267.000000 A0.000000 0.000000 0 0 0 343.800000 267.000000 z\"/><desc class=\"value\">68</desc><desc class=\"x centered\">254.14474869643738</desc><desc class=\"y centered\">187.01276093216478</desc></g></g></g><g class=\"series serie-8 color-8\"><g class=\"slices\"><g class=\"slice\"><path class=\"slice reactive tooltip-trigger\" d=\"M177.009524 94.011483 A240.300000 240.300000 0 0 1 192.526147 80.290837 L343.800000 267.000000 A0.000000 0.000000 0 0 0 343.800000 267.000000 z\"/><desc class=\"value\">39</desc><desc class=\"x centered\">264.20996700432914</desc><desc class=\"y centered\">176.99194953923273</desc></g></g></g><g class=\"series serie-9 color-9\"><g class=\"slices\"><g class=\"slice\"><path class=\"slice reactive tooltip-trigger\" d=\"M192.526147 80.290837 A240.300000 240.300000 0 0 1 207.411779 69.155760 L343.800000 267.000000 A0.000000 0.000000 0 0 0 343.800000 267.000000 z\"/><desc class=\"value\">35</desc><desc class=\"x centered\">271.83062333937954</desc><desc class=\"y centered\">170.78965064463313</desc></g></g></g><g class=\"series serie-10 color-10\"><g class=\"slices\"><g class=\"slice\"><path class=\"slice reactive tooltip-trigger\" d=\"M207.411779 69.155760 A240.300000 240.300000 0 0 1 222.196013 59.740355 L343.800000 267.000000 A0.000000 0.000000 0 0 0 343.800000 267.000000 z\"/><desc class=\"value\">33</desc><desc class=\"x centered\">279.2590105493283</desc><desc class=\"y centered\">165.6566076119006</desc></g></g></g><g class=\"series serie-11 color-11\"><g class=\"slices\"><g class=\"slice\"><path class=\"slice reactive tooltip-trigger\" d=\"M222.196013 59.740355 A240.300000 240.300000 0 0 1 237.150899 51.662917 L343.800000 267.000000 A0.000000 0.000000 0 0 0 343.800000 267.000000 z\"/><desc class=\"value\">32</desc><desc class=\"x centered\">286.7010087129937</desc><desc class=\"y centered\">161.28468562215605</desc></g></g></g><g class=\"series serie-12 color-12\"><g class=\"slices\"><g class=\"slice\"><path class=\"slice reactive tooltip-trigger\" d=\"M237.150899 51.662917 A240.300000 240.300000 0 0 1 248.233735 46.520570 L343.800000 267.000000 A0.000000 0.000000 0 0 0 343.800000 267.000000 z\"/><desc class=\"value\">23</desc><desc class=\"x centered\">293.22981498672704</desc><desc class=\"y centered\">158.01064782409549</desc></g></g></g><g class=\"series serie-13 color-13\"><g class=\"slices\"><g class=\"slice\"><path class=\"slice reactive tooltip-trigger\" d=\"M248.233735 46.520570 A240.300000 240.300000 0 0 1 343.800000 26.700000 L343.800000 267.000000 A0.000000 0.000000 0 0 0 343.800000 267.000000 z\"/><desc class=\"value\">185</desc><desc class=\"x centered\">319.3999923717915</desc><desc class=\"y centered\">149.35365654750095</desc></g></g></g></g><g class=\"titles\"><text class=\"title plot_title\" x=\"400.0\" y=\"26\">Dateitypen</text></g><g class=\"plot overlay\" transform=\"translate(92, 46)\"><g class=\"series serie-0 color-0\"/><g class=\"series serie-1 color-1\"/><g class=\"series serie-2 color-2\"/><g class=\"series serie-3 color-3\"/><g class=\"series serie-4 color-4\"/><g class=\"series serie-5 color-5\"/><g class=\"series serie-6 color-6\"/><g class=\"series serie-7 color-7\"/><g class=\"series serie-8 color-8\"/><g class=\"series serie-9 color-9\"/><g class=\"series serie-10 color-10\"/><g class=\"series serie-11 color-11\"/><g class=\"series serie-12 color-12\"/><g class=\"series serie-13 color-13\"/></g><g class=\"plot text-overlay\" transform=\"translate(92, 46)\"><g class=\"series serie-0 color-0\"/><g class=\"series serie-1 color-1\"/><g class=\"series serie-2 color-2\"/><g class=\"series serie-3 color-3\"/><g class=\"series serie-4 color-4\"/><g class=\"series serie-5 color-5\"/><g class=\"series serie-6 color-6\"/><g class=\"series serie-7 color-7\"/><g class=\"series serie-8 color-8\"/><g class=\"series serie-9 color-9\"/><g class=\"series serie-10 color-10\"/><g class=\"series serie-11 color-11\"/><g class=\"series serie-12 color-12\"/><g class=\"series serie-13 color-13\"/></g><g class=\"plot tooltip-overlay\" transform=\"translate(92, 46)\"><g class=\"tooltip\" style=\"opacity: 0\" transform=\"translate(0 0)\"><rect class=\"tooltip-box\" height=\"0\" rx=\"0\" ry=\"0\" width=\"0\"/><g class=\"text\"/></g></g><g class=\"legends\" transform=\"translate(10, 56)\"><g class=\"legend reactive activate-serie\" id=\"activate-serie-0\"><rect class=\"color-0 reactive\" height=\"12\" width=\"12\" x=\"0.0\" y=\"1.0\"/><text x=\"17.0\" y=\"11.2\">js</text></g><g class=\"legend reactive activate-serie\" id=\"activate-serie-1\"><rect class=\"color-1 reactive\" height=\"12\" width=\"12\" x=\"0.0\" y=\"22.0\"/><text x=\"17.0\" y=\"32.2\">png</text></g><g class=\"legend reactive activate-serie\" id=\"activate-serie-2\"><rect class=\"color-2 reactive\" height=\"12\" width=\"12\" x=\"0.0\" y=\"43.0\"/><text x=\"17.0\" y=\"53.2\">java</text></g><g class=\"legend reactive activate-serie\" id=\"activate-serie-3\"><rect class=\"color-3 reactive\" height=\"12\" width=\"12\" x=\"0.0\" y=\"64.0\"/><text x=\"17.0\" y=\"74.2\">css</text></g><g class=\"legend reactive activate-serie\" id=\"activate-serie-4\"><rect class=\"color-4 reactive\" height=\"12\" width=\"12\" x=\"0.0\" y=\"85.0\"/><text x=\"17.0\" y=\"95.2\">less</text></g><g class=\"legend reactive activate-serie\" id=\"activate-serie-5\"><rect class=\"color-5 reactive\" height=\"12\" width=\"12\" x=\"0.0\" y=\"106.0\"/><text x=\"17.0\" y=\"116.2\">html</text></g><g class=\"legend reactive activate-serie\" id=\"activate-serie-6\"><rect class=\"color-6 reactive\" height=\"12\" width=\"12\" x=\"0.0\" y=\"127.0\"/><text x=\"17.0\" y=\"137.2\">xml</text></g><g class=\"legend reactive activate-serie\" id=\"activate-serie-7\"><rect class=\"color-7 reactive\" height=\"12\" width=\"12\" x=\"0.0\" y=\"148.0\"/><text x=\"17.0\" y=\"158.2\">json</text></g><g class=\"legend reactive activate-serie\" id=\"activate-serie-8\"><rect class=\"color-8 reactive\" height=\"12\" width=\"12\" x=\"0.0\" y=\"169.0\"/><text x=\"17.0\" y=\"179.2\">jsp</text></g><g class=\"legend reactive activate-serie\" id=\"activate-serie-9\"><rect class=\"color-9 reactive\" height=\"12\" width=\"12\" x=\"0.0\" y=\"190.0\"/><text x=\"17.0\" y=\"200.2\">md</text></g><g class=\"legend reactive activate-serie\" id=\"activate-serie-10\"><rect class=\"color-10 reactive\" height=\"12\" width=\"12\" x=\"0.0\" y=\"211.0\"/><text x=\"17.0\" y=\"221.2\">gif</text></g><g class=\"legend reactive activate-serie\" id=\"activate-serie-11\"><rect class=\"color-11 reactive\" height=\"12\" width=\"12\" x=\"0.0\" y=\"232.0\"/><text x=\"17.0\" y=\"242.2\">txt</text></g><g class=\"legend reactive activate-serie\" id=\"activate-serie-12\"><rect class=\"color-12 reactive\" height=\"12\" width=\"12\" x=\"0.0\" y=\"253.0\"/><text x=\"17.0\" y=\"263.2\">php</text></g><g class=\"legend reactive activate-serie\" id=\"activate-serie-13\"><rect class=\"color-13 reactive\" height=\"12\" width=\"12\" x=\"0.0\" y=\"274.0\"/><text x=\"17.0\" y=\"284.2\">andere</text></g></g><g class=\"legends\" transform=\"translate(790, 56)\"/></g></svg>\n",
       "    </figure>\n",
       "  </body>\n",
       "</html>\n"
      ],
      "text/plain": [
       "<IPython.core.display.HTML object>"
      ]
     },
     "metadata": {},
     "output_type": "display_data"
    }
   ],
   "source": [
    "import pygal \n",
    "pie_chart = pygal.Pie()\n",
    "pie_chart.title = 'Dateitypen'\n",
    "for einzelneDateitypen in datatype:\n",
    "    index= datatype.index(einzelneDateitypen)\n",
    "    anzahl=frequency[index]\n",
    "    pie_chart.add(einzelneDateitypen, anzahl)\n",
    "display(HTML(base_html.format(rendered_chart=pie_chart.render(is_unicode=True))))"
   ]
  },
  {
   "cell_type": "code",
   "execution_count": null,
   "metadata": {},
   "outputs": [],
   "source": []
  },
  {
   "cell_type": "code",
   "execution_count": null,
   "metadata": {},
   "outputs": [],
   "source": []
  }
 ],
 "metadata": {
  "kernelspec": {
   "display_name": "Python [conda env:BeLL]",
   "language": "python",
   "name": "conda-env-BeLL-py"
  },
  "language_info": {
   "codemirror_mode": {
    "name": "ipython",
    "version": 3
   },
   "file_extension": ".py",
   "mimetype": "text/x-python",
   "name": "python",
   "nbconvert_exporter": "python",
   "pygments_lexer": "ipython3",
   "version": "3.6.4"
  }
 },
 "nbformat": 4,
 "nbformat_minor": 2
}
