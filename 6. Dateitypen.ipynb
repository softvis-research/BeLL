{
 "cells": [
  {
   "cell_type": "markdown",
   "metadata": {},
   "source": [
    "# Welche Dateitypen gibt es?"
   ]
  },
  {
   "cell_type": "markdown",
   "metadata": {},
   "source": [
    "## 1. Verbindung zur Datenbank\n",
    "Es wird eine Verbindung zur Neo4j-Datenbank aufgebaut."
   ]
  },
  {
   "cell_type": "code",
   "execution_count": 2,
   "metadata": {},
   "outputs": [],
   "source": [
    "import py2neo\n",
    "\n",
    "graph = py2neo.Graph(bolt=True, host='localhost', user='neo4j', password='neo4j')"
   ]
  },
  {
   "cell_type": "markdown",
   "metadata": {},
   "source": [
    "## 2. Cypher-Abfrage\n",
    "Es wird eine Abfrage an die Datenbank gestellt. Das Ergebnis wird in einem Dataframe (pandas) gespeichert."
   ]
  },
  {
   "cell_type": "code",
   "execution_count": 3,
   "metadata": {},
   "outputs": [],
   "source": [
    "import pandas as pd\n",
    "\n",
    "query =\"MATCH (f:Git:File) RETURN f.relativePath as relativePath\"\n",
    "df = pd.DataFrame(graph.run(query).data())\n"
   ]
  },
  {
   "cell_type": "markdown",
   "metadata": {},
   "source": [
    "## 3. Datenaufbereitung\n",
    "Zur Kontrolle werden die ersten fünf Zeilen des Ergebnisses der Abfrage als Tabelle ausgegeben."
   ]
  },
  {
   "cell_type": "code",
   "execution_count": 4,
   "metadata": {},
   "outputs": [
    {
     "data": {
      "text/html": [
       "<div>\n",
       "<style scoped>\n",
       "    .dataframe tbody tr th:only-of-type {\n",
       "        vertical-align: middle;\n",
       "    }\n",
       "\n",
       "    .dataframe tbody tr th {\n",
       "        vertical-align: top;\n",
       "    }\n",
       "\n",
       "    .dataframe thead th {\n",
       "        text-align: right;\n",
       "    }\n",
       "</style>\n",
       "<table border=\"1\" class=\"dataframe\">\n",
       "  <thead>\n",
       "    <tr style=\"text-align: right;\">\n",
       "      <th></th>\n",
       "      <th>relativePath</th>\n",
       "    </tr>\n",
       "  </thead>\n",
       "  <tbody>\n",
       "    <tr>\n",
       "      <th>0</th>\n",
       "      <td>None</td>\n",
       "    </tr>\n",
       "    <tr>\n",
       "      <th>1</th>\n",
       "      <td>src/test/java/junit/samples/ListTest.java</td>\n",
       "    </tr>\n",
       "    <tr>\n",
       "      <th>2</th>\n",
       "      <td>src/main/java/org/junit/rules/ExpectedExceptio...</td>\n",
       "    </tr>\n",
       "    <tr>\n",
       "      <th>3</th>\n",
       "      <td>src/test/java/org/junit/rules/ExpectedExceptio...</td>\n",
       "    </tr>\n",
       "    <tr>\n",
       "      <th>4</th>\n",
       "      <td>src/test/java/org/junit/tests/running/methods/...</td>\n",
       "    </tr>\n",
       "  </tbody>\n",
       "</table>\n",
       "</div>"
      ],
      "text/plain": [
       "                                        relativePath\n",
       "0                                               None\n",
       "1          src/test/java/junit/samples/ListTest.java\n",
       "2  src/main/java/org/junit/rules/ExpectedExceptio...\n",
       "3  src/test/java/org/junit/rules/ExpectedExceptio...\n",
       "4  src/test/java/org/junit/tests/running/methods/..."
      ]
     },
     "execution_count": 4,
     "metadata": {},
     "output_type": "execute_result"
    }
   ],
   "source": [
    "df.head()"
   ]
  },
  {
   "cell_type": "markdown",
   "metadata": {},
   "source": [
    "Der folgende Codeabschnitt extrahiert die verschiedenen Dateitypen entsprechend der Dateiendung und zählt deren Häufigkeit. Die Dateitypen werden in der Variable <font face=\"Courier\">datatype</font> und deren Häufigkeit in der Variable <font face=\"Courier\">frequency</font> gespeichert."
   ]
  },
  {
   "cell_type": "code",
   "execution_count": 48,
   "metadata": {},
   "outputs": [
    {
     "name": "stdout",
     "output_type": "stream",
     "text": [
      "['java', 'yml', 'xml', 'md', 'txt', 'cmd', 'jar', 'mvnw', 'fml', 'html', 'prefs', 'sh', 'svg', 'htm', 'pl', 'js', 'css', 'rb', 'gif', 'png', 'asc', 'ant', 'zip', 'txt~', 'GIF', 'arx', 'class']\n",
      "['1383', '1', '14', '17', '21', '1', '19', '1', '1', '80', '2', '6', '1', '11', '1', '3', '6', '1', '36', '1', '1', '9', '2', '1', '8', '1', '41', '']\n"
     ]
    }
   ],
   "source": [
    "\n",
    "data=df['relativePath'].tolist()\n",
    "liste=[]\n",
    "\n",
    "for element in data:\n",
    "    if element == None :                                #weil erster typ none typ war -> hat nicht funktioniert\n",
    "        data.remove(element)\n",
    "\n",
    "for element in data:\n",
    "    s=element.split('.')[-1]       #extrahieren der dateitypen\n",
    "    liste.append(s)\n",
    "\n",
    "for element in liste:\n",
    "    if len(element)>=6:\n",
    "        liste.remove(element)\n",
    "\n",
    "\n",
    "\n",
    "\n",
    "datatype=[]\n",
    "for f in liste:\n",
    "    if f not in datatype:\n",
    "        datatype.append(f)\n",
    "for element in datatype:        #zwar wiederholung aber ein langes war noch drin\n",
    "    if len(element)>=6:\n",
    "        datatype.remove(element)\n",
    "print(datatype)\n",
    "\n",
    "number=[]\n",
    "n=''\n",
    "for g in datatype:\n",
    "    c=liste.count(g)\n",
    "    n+=str(c)+' '\n",
    "frequency=n.split(' ')\n",
    "print(frequency)\n"
   ]
  },
  {
   "cell_type": "markdown",
   "metadata": {},
   "source": [
    "## 4. Visualisierung\n",
    "Die Daten werden mittels eines Pie Charts visualisiert (https://plot.ly/python/pie-charts/, labels=datatype, values=frequency)."
   ]
  },
  {
   "cell_type": "markdown",
   "metadata": {},
   "source": [
    "## 4. Visualisierung\n",
    "Die Daten werden mittels eines Pie Charts visualisiert (https://plot.ly/python/pie-charts/, labels=datatype, values=frequency).\n",
    "\n"
   ]
  },
  {
   "cell_type": "code",
   "execution_count": 49,
   "metadata": {},
   "outputs": [
    {
     "data": {
      "text/html": [
       "<iframe id=\"igraph\" scrolling=\"no\" style=\"border:none;\" seamless=\"seamless\" src=\"https://plot.ly/~laurabus/21.embed\" height=\"525px\" width=\"100%\"></iframe>"
      ],
      "text/plain": [
       "<plotly.tools.PlotlyDisplay object>"
      ]
     },
     "execution_count": 49,
     "metadata": {},
     "output_type": "execute_result"
    }
   ],
   "source": [
    "import plotly.plotly as py\n",
    "import plotly.graph_objs as go\n",
    "\n",
    "labels = datatype\n",
    "values = frequency\n",
    "\n",
    "trace = go.Pie(labels=labels, values=values)\n",
    "\n",
    "py.iplot([trace], filename='basic_pie_chart')"
   ]
  },
  {
   "cell_type": "code",
   "execution_count": null,
   "metadata": {},
   "outputs": [],
   "source": [
    "    "
   ]
  },
  {
   "cell_type": "code",
   "execution_count": null,
   "metadata": {},
   "outputs": [],
   "source": []
  }
 ],
 "metadata": {
  "kernelspec": {
   "display_name": "Python [conda env:BeLL]",
   "language": "python",
   "name": "conda-env-BeLL-py"
  },
  "language_info": {
   "codemirror_mode": {
    "name": "ipython",
    "version": 3
   },
   "file_extension": ".py",
   "mimetype": "text/x-python",
   "name": "python",
   "nbconvert_exporter": "python",
   "pygments_lexer": "ipython3",
   "version": "3.6.4"
  }
 },
 "nbformat": 4,
 "nbformat_minor": 2
}
