{
 "cells": [
  {
   "cell_type": "markdown",
   "metadata": {},
   "source": [
    "# Welche Dateitypen gibt es?"
   ]
  },
  {
   "cell_type": "markdown",
   "metadata": {},
   "source": [
    "## 1. Verbindung zur Datenbank\n",
    "Es wird eine Verbindung zur Neo4j-Datenbank aufgebaut."
   ]
  },
  {
   "cell_type": "code",
   "execution_count": 1,
   "metadata": {},
   "outputs": [],
   "source": [
    "import py2neo\n",
    "\n",
    "graph = py2neo.Graph(bolt=True, host='localhost', user='neo4j', password='neo4j')"
   ]
  },
  {
   "cell_type": "markdown",
   "metadata": {},
   "source": [
    "## 2. Cypher-Abfrage\n",
    "Es wird eine Abfrage an die Datenbank gestellt. Das Ergebnis wird in einem Dataframe (pandas) gespeichert."
   ]
  },
  {
   "cell_type": "code",
   "execution_count": 2,
   "metadata": {},
   "outputs": [],
   "source": [
    "import pandas as pd\n",
    "\n",
    "query =\"MATCH (f:Git:File) RETURN f.relativePath as relativePath\"\n",
    "df = pd.DataFrame(graph.run(query).data())\n"
   ]
  },
  {
   "cell_type": "markdown",
   "metadata": {},
   "source": [
    "## 3. Datenaufbereitung\n",
    "Zur Kontrolle werden die ersten fünf Zeilen des Ergebnisses der Abfrage als Tabelle ausgegeben."
   ]
  },
  {
   "cell_type": "code",
   "execution_count": 3,
   "metadata": {},
   "outputs": [
    {
     "data": {
      "text/html": [
       "<div>\n",
       "<style scoped>\n",
       "    .dataframe tbody tr th:only-of-type {\n",
       "        vertical-align: middle;\n",
       "    }\n",
       "\n",
       "    .dataframe tbody tr th {\n",
       "        vertical-align: top;\n",
       "    }\n",
       "\n",
       "    .dataframe thead th {\n",
       "        text-align: right;\n",
       "    }\n",
       "</style>\n",
       "<table border=\"1\" class=\"dataframe\">\n",
       "  <thead>\n",
       "    <tr style=\"text-align: right;\">\n",
       "      <th></th>\n",
       "      <th>relativePath</th>\n",
       "    </tr>\n",
       "  </thead>\n",
       "  <tbody>\n",
       "    <tr>\n",
       "      <th>0</th>\n",
       "      <td>None</td>\n",
       "    </tr>\n",
       "    <tr>\n",
       "      <th>1</th>\n",
       "      <td>src/test/java/junit/samples/ListTest.java</td>\n",
       "    </tr>\n",
       "    <tr>\n",
       "      <th>2</th>\n",
       "      <td>src/main/java/org/junit/rules/ExpectedExceptio...</td>\n",
       "    </tr>\n",
       "    <tr>\n",
       "      <th>3</th>\n",
       "      <td>src/test/java/org/junit/rules/ExpectedExceptio...</td>\n",
       "    </tr>\n",
       "    <tr>\n",
       "      <th>4</th>\n",
       "      <td>src/test/java/org/junit/tests/running/methods/...</td>\n",
       "    </tr>\n",
       "  </tbody>\n",
       "</table>\n",
       "</div>"
      ],
      "text/plain": [
       "                                        relativePath\n",
       "0                                               None\n",
       "1          src/test/java/junit/samples/ListTest.java\n",
       "2  src/main/java/org/junit/rules/ExpectedExceptio...\n",
       "3  src/test/java/org/junit/rules/ExpectedExceptio...\n",
       "4  src/test/java/org/junit/tests/running/methods/..."
      ]
     },
     "execution_count": 3,
     "metadata": {},
     "output_type": "execute_result"
    }
   ],
   "source": [
    "df.head()"
   ]
  },
  {
   "cell_type": "markdown",
   "metadata": {},
   "source": [
    "Der folgende Codeabschnitt extrahiert die verschiedenen Dateitypen entsprechend der Dateiendung und zählt deren Häufigkeit. Die Dateitypen werden in der Variable <font face=\"Courier\">datatype</font> und deren Häufigkeit in der Variable <font face=\"Courier\">frequency</font> gespeichert."
   ]
  },
  {
   "cell_type": "code",
   "execution_count": 4,
   "metadata": {},
   "outputs": [
    {
     "name": "stdout",
     "output_type": "stream",
     "text": [
      "[1383, 80, 41, 36, 21, 126]\n",
      "['java', 'html', 'class', 'gif', 'txt', 'andere']\n"
     ]
    }
   ],
   "source": [
    "# Extrahiere Dateitypen aus Spalte des Dataframes.\n",
    "datatypes = df['relativePath'].str.rsplit('.', 1).str[1]\n",
    "\n",
    "# Zähle die Anzahl der Dateitypen und bilde diese in einem Series-Objekt ab.\n",
    "series = datatypes.value_counts()\n",
    "\n",
    "# Erzeuge zwei Listen aus dem Series-Objekt.\n",
    "datatype = list(series.index)\n",
    "frequency = list(series)\n",
    "\n",
    "# Erzeuge die Kategorie \"andere\", in der alle Dateitypen gesammelt werden, die weniger oder genau 20 mal auftauchen.\n",
    "andere = 0\n",
    "for wert in frequency[:]:\n",
    "    index = frequency.index(wert)\n",
    "    if wert <= 20:\n",
    "        andere += wert\n",
    "        datatype.remove(datatype[index])\n",
    "        frequency.remove(wert)\n",
    "frequency.append(andere)\n",
    "datatype.append(\"andere\")\n",
    "\n",
    "print(frequency)\n",
    "print(datatype)\n"
   ]
  },
  {
   "cell_type": "markdown",
   "metadata": {},
   "source": [
    "## 4. Visualisierung\n",
    "Die Daten werden mittels eines Pie Charts visualisiert.\n",
    "\n"
   ]
  },
  {
   "cell_type": "code",
   "execution_count": 5,
   "metadata": {},
   "outputs": [],
   "source": [
    "from IPython.display import display, HTML\n",
    "\n",
    "base_html = \"\"\"\n",
    "<!DOCTYPE html>\n",
    "<html>\n",
    "  <head>\n",
    "  <script type=\"text/javascript\" src=\"http://kozea.github.com/pygal.js/javascripts/svg.jquery.js\"></script>\n",
    "  <script type=\"text/javascript\" src=\"https://kozea.github.io/pygal.js/2.0.x/pygal-tooltips.min.js\"\"></script>\n",
    "  </head>\n",
    "  <body>\n",
    "    <figure>\n",
    "      {rendered_chart}\n",
    "    </figure>\n",
    "  </body>\n",
    "</html>\n",
    "\"\"\""
   ]
  },
  {
   "cell_type": "code",
   "execution_count": 6,
   "metadata": {},
   "outputs": [
    {
     "data": {
      "text/html": [
       "\n",
       "<!DOCTYPE html>\n",
       "<html>\n",
       "  <head>\n",
       "  <script type=\"text/javascript\" src=\"http://kozea.github.com/pygal.js/javascripts/svg.jquery.js\"></script>\n",
       "  <script type=\"text/javascript\" src=\"https://kozea.github.io/pygal.js/2.0.x/pygal-tooltips.min.js\"\"></script>\n",
       "  </head>\n",
       "  <body>\n",
       "    <figure>\n",
       "      <?xml version='1.0' encoding='utf-8'?>\n",
       "<svg xmlns:xlink=\"http://www.w3.org/1999/xlink\" xmlns=\"http://www.w3.org/2000/svg\" id=\"chart-61f3e04e-d6f3-4474-b98b-7cb56d596e3f\" class=\"pygal-chart\" viewBox=\"0 0 800 600\"><!--Generated with pygal 2.4.0 (lxml) ©Kozea 2012-2016 on 2019-11-30--><!--http://pygal.org--><!--http://github.com/Kozea/pygal--><defs><style type=\"text/css\">#chart-61f3e04e-d6f3-4474-b98b-7cb56d596e3f{-webkit-user-select:none;-webkit-font-smoothing:antialiased;font-family:Consolas,\"Liberation Mono\",Menlo,Courier,monospace}#chart-61f3e04e-d6f3-4474-b98b-7cb56d596e3f .title{font-family:Consolas,\"Liberation Mono\",Menlo,Courier,monospace;font-size:16px}#chart-61f3e04e-d6f3-4474-b98b-7cb56d596e3f .legends .legend text{font-family:Consolas,\"Liberation Mono\",Menlo,Courier,monospace;font-size:14px}#chart-61f3e04e-d6f3-4474-b98b-7cb56d596e3f .axis text{font-family:Consolas,\"Liberation Mono\",Menlo,Courier,monospace;font-size:10px}#chart-61f3e04e-d6f3-4474-b98b-7cb56d596e3f .axis text.major{font-family:Consolas,\"Liberation Mono\",Menlo,Courier,monospace;font-size:10px}#chart-61f3e04e-d6f3-4474-b98b-7cb56d596e3f .text-overlay text.value{font-family:Consolas,\"Liberation Mono\",Menlo,Courier,monospace;font-size:16px}#chart-61f3e04e-d6f3-4474-b98b-7cb56d596e3f .text-overlay text.label{font-family:Consolas,\"Liberation Mono\",Menlo,Courier,monospace;font-size:10px}#chart-61f3e04e-d6f3-4474-b98b-7cb56d596e3f .tooltip{font-family:Consolas,\"Liberation Mono\",Menlo,Courier,monospace;font-size:14px}#chart-61f3e04e-d6f3-4474-b98b-7cb56d596e3f text.no_data{font-family:Consolas,\"Liberation Mono\",Menlo,Courier,monospace;font-size:64px}\n",
       "#chart-61f3e04e-d6f3-4474-b98b-7cb56d596e3f{background-color:rgba(249,249,249,1)}#chart-61f3e04e-d6f3-4474-b98b-7cb56d596e3f path,#chart-61f3e04e-d6f3-4474-b98b-7cb56d596e3f line,#chart-61f3e04e-d6f3-4474-b98b-7cb56d596e3f rect,#chart-61f3e04e-d6f3-4474-b98b-7cb56d596e3f circle{-webkit-transition:150ms;-moz-transition:150ms;transition:150ms}#chart-61f3e04e-d6f3-4474-b98b-7cb56d596e3f .graph &gt; .background{fill:rgba(249,249,249,1)}#chart-61f3e04e-d6f3-4474-b98b-7cb56d596e3f .plot &gt; .background{fill:rgba(255,255,255,1)}#chart-61f3e04e-d6f3-4474-b98b-7cb56d596e3f .graph{fill:rgba(0,0,0,.87)}#chart-61f3e04e-d6f3-4474-b98b-7cb56d596e3f text.no_data{fill:rgba(0,0,0,1)}#chart-61f3e04e-d6f3-4474-b98b-7cb56d596e3f .title{fill:rgba(0,0,0,1)}#chart-61f3e04e-d6f3-4474-b98b-7cb56d596e3f .legends .legend text{fill:rgba(0,0,0,.87)}#chart-61f3e04e-d6f3-4474-b98b-7cb56d596e3f .legends .legend:hover text{fill:rgba(0,0,0,1)}#chart-61f3e04e-d6f3-4474-b98b-7cb56d596e3f .axis .line{stroke:rgba(0,0,0,1)}#chart-61f3e04e-d6f3-4474-b98b-7cb56d596e3f .axis .guide.line{stroke:rgba(0,0,0,.54)}#chart-61f3e04e-d6f3-4474-b98b-7cb56d596e3f .axis .major.line{stroke:rgba(0,0,0,.87)}#chart-61f3e04e-d6f3-4474-b98b-7cb56d596e3f .axis text.major{fill:rgba(0,0,0,1)}#chart-61f3e04e-d6f3-4474-b98b-7cb56d596e3f .axis.y .guides:hover .guide.line,#chart-61f3e04e-d6f3-4474-b98b-7cb56d596e3f .line-graph .axis.x .guides:hover .guide.line,#chart-61f3e04e-d6f3-4474-b98b-7cb56d596e3f .stackedline-graph .axis.x .guides:hover .guide.line,#chart-61f3e04e-d6f3-4474-b98b-7cb56d596e3f .xy-graph .axis.x .guides:hover .guide.line{stroke:rgba(0,0,0,1)}#chart-61f3e04e-d6f3-4474-b98b-7cb56d596e3f .axis .guides:hover text{fill:rgba(0,0,0,1)}#chart-61f3e04e-d6f3-4474-b98b-7cb56d596e3f .reactive{fill-opacity:.7;stroke-opacity:.8}#chart-61f3e04e-d6f3-4474-b98b-7cb56d596e3f .ci{stroke:rgba(0,0,0,.87)}#chart-61f3e04e-d6f3-4474-b98b-7cb56d596e3f .reactive.active,#chart-61f3e04e-d6f3-4474-b98b-7cb56d596e3f .active .reactive{fill-opacity:.8;stroke-opacity:.9;stroke-width:4}#chart-61f3e04e-d6f3-4474-b98b-7cb56d596e3f .ci .reactive.active{stroke-width:1.5}#chart-61f3e04e-d6f3-4474-b98b-7cb56d596e3f .series text{fill:rgba(0,0,0,1)}#chart-61f3e04e-d6f3-4474-b98b-7cb56d596e3f .tooltip rect{fill:rgba(255,255,255,1);stroke:rgba(0,0,0,1);-webkit-transition:opacity 150ms;-moz-transition:opacity 150ms;transition:opacity 150ms}#chart-61f3e04e-d6f3-4474-b98b-7cb56d596e3f .tooltip .label{fill:rgba(0,0,0,.87)}#chart-61f3e04e-d6f3-4474-b98b-7cb56d596e3f .tooltip .label{fill:rgba(0,0,0,.87)}#chart-61f3e04e-d6f3-4474-b98b-7cb56d596e3f .tooltip .legend{font-size:.8em;fill:rgba(0,0,0,.54)}#chart-61f3e04e-d6f3-4474-b98b-7cb56d596e3f .tooltip .x_label{font-size:.6em;fill:rgba(0,0,0,1)}#chart-61f3e04e-d6f3-4474-b98b-7cb56d596e3f .tooltip .xlink{font-size:.5em;text-decoration:underline}#chart-61f3e04e-d6f3-4474-b98b-7cb56d596e3f .tooltip .value{font-size:1.5em}#chart-61f3e04e-d6f3-4474-b98b-7cb56d596e3f .bound{font-size:.5em}#chart-61f3e04e-d6f3-4474-b98b-7cb56d596e3f .max-value{font-size:.75em;fill:rgba(0,0,0,.54)}#chart-61f3e04e-d6f3-4474-b98b-7cb56d596e3f .map-element{fill:rgba(255,255,255,1);stroke:rgba(0,0,0,.54) !important}#chart-61f3e04e-d6f3-4474-b98b-7cb56d596e3f .map-element .reactive{fill-opacity:inherit;stroke-opacity:inherit}#chart-61f3e04e-d6f3-4474-b98b-7cb56d596e3f .color-0,#chart-61f3e04e-d6f3-4474-b98b-7cb56d596e3f .color-0 a:visited{stroke:#F44336;fill:#F44336}#chart-61f3e04e-d6f3-4474-b98b-7cb56d596e3f .color-1,#chart-61f3e04e-d6f3-4474-b98b-7cb56d596e3f .color-1 a:visited{stroke:#3F51B5;fill:#3F51B5}#chart-61f3e04e-d6f3-4474-b98b-7cb56d596e3f .color-2,#chart-61f3e04e-d6f3-4474-b98b-7cb56d596e3f .color-2 a:visited{stroke:#009688;fill:#009688}#chart-61f3e04e-d6f3-4474-b98b-7cb56d596e3f .color-3,#chart-61f3e04e-d6f3-4474-b98b-7cb56d596e3f .color-3 a:visited{stroke:#FFC107;fill:#FFC107}#chart-61f3e04e-d6f3-4474-b98b-7cb56d596e3f .color-4,#chart-61f3e04e-d6f3-4474-b98b-7cb56d596e3f .color-4 a:visited{stroke:#FF5722;fill:#FF5722}#chart-61f3e04e-d6f3-4474-b98b-7cb56d596e3f .color-5,#chart-61f3e04e-d6f3-4474-b98b-7cb56d596e3f .color-5 a:visited{stroke:#9C27B0;fill:#9C27B0}#chart-61f3e04e-d6f3-4474-b98b-7cb56d596e3f .text-overlay .color-0 text{fill:black}#chart-61f3e04e-d6f3-4474-b98b-7cb56d596e3f .text-overlay .color-1 text{fill:black}#chart-61f3e04e-d6f3-4474-b98b-7cb56d596e3f .text-overlay .color-2 text{fill:black}#chart-61f3e04e-d6f3-4474-b98b-7cb56d596e3f .text-overlay .color-3 text{fill:black}#chart-61f3e04e-d6f3-4474-b98b-7cb56d596e3f .text-overlay .color-4 text{fill:black}#chart-61f3e04e-d6f3-4474-b98b-7cb56d596e3f .text-overlay .color-5 text{fill:black}\n",
       "#chart-61f3e04e-d6f3-4474-b98b-7cb56d596e3f text.no_data{text-anchor:middle}#chart-61f3e04e-d6f3-4474-b98b-7cb56d596e3f .guide.line{fill:none}#chart-61f3e04e-d6f3-4474-b98b-7cb56d596e3f .centered{text-anchor:middle}#chart-61f3e04e-d6f3-4474-b98b-7cb56d596e3f .title{text-anchor:middle}#chart-61f3e04e-d6f3-4474-b98b-7cb56d596e3f .legends .legend text{fill-opacity:1}#chart-61f3e04e-d6f3-4474-b98b-7cb56d596e3f .axis.x text{text-anchor:middle}#chart-61f3e04e-d6f3-4474-b98b-7cb56d596e3f .axis.x:not(.web) text[transform]{text-anchor:start}#chart-61f3e04e-d6f3-4474-b98b-7cb56d596e3f .axis.x:not(.web) text[transform].backwards{text-anchor:end}#chart-61f3e04e-d6f3-4474-b98b-7cb56d596e3f .axis.y text{text-anchor:end}#chart-61f3e04e-d6f3-4474-b98b-7cb56d596e3f .axis.y text[transform].backwards{text-anchor:start}#chart-61f3e04e-d6f3-4474-b98b-7cb56d596e3f .axis.y2 text{text-anchor:start}#chart-61f3e04e-d6f3-4474-b98b-7cb56d596e3f .axis.y2 text[transform].backwards{text-anchor:end}#chart-61f3e04e-d6f3-4474-b98b-7cb56d596e3f .axis .guide.line{stroke-dasharray:4,4}#chart-61f3e04e-d6f3-4474-b98b-7cb56d596e3f .axis .major.guide.line{stroke-dasharray:6,6}#chart-61f3e04e-d6f3-4474-b98b-7cb56d596e3f .horizontal .axis.y .guide.line,#chart-61f3e04e-d6f3-4474-b98b-7cb56d596e3f .horizontal .axis.y2 .guide.line,#chart-61f3e04e-d6f3-4474-b98b-7cb56d596e3f .vertical .axis.x .guide.line{opacity:0}#chart-61f3e04e-d6f3-4474-b98b-7cb56d596e3f .horizontal .axis.always_show .guide.line,#chart-61f3e04e-d6f3-4474-b98b-7cb56d596e3f .vertical .axis.always_show .guide.line{opacity:1 !important}#chart-61f3e04e-d6f3-4474-b98b-7cb56d596e3f .axis.y .guides:hover .guide.line,#chart-61f3e04e-d6f3-4474-b98b-7cb56d596e3f .axis.y2 .guides:hover .guide.line,#chart-61f3e04e-d6f3-4474-b98b-7cb56d596e3f .axis.x .guides:hover .guide.line{opacity:1}#chart-61f3e04e-d6f3-4474-b98b-7cb56d596e3f .axis .guides:hover text{opacity:1}#chart-61f3e04e-d6f3-4474-b98b-7cb56d596e3f .nofill{fill:none}#chart-61f3e04e-d6f3-4474-b98b-7cb56d596e3f .subtle-fill{fill-opacity:.2}#chart-61f3e04e-d6f3-4474-b98b-7cb56d596e3f .dot{stroke-width:1px;fill-opacity:1}#chart-61f3e04e-d6f3-4474-b98b-7cb56d596e3f .dot.active{stroke-width:5px}#chart-61f3e04e-d6f3-4474-b98b-7cb56d596e3f .dot.negative{fill:transparent}#chart-61f3e04e-d6f3-4474-b98b-7cb56d596e3f text,#chart-61f3e04e-d6f3-4474-b98b-7cb56d596e3f tspan{stroke:none !important}#chart-61f3e04e-d6f3-4474-b98b-7cb56d596e3f .series text.active{opacity:1}#chart-61f3e04e-d6f3-4474-b98b-7cb56d596e3f .tooltip rect{fill-opacity:.95;stroke-width:.5}#chart-61f3e04e-d6f3-4474-b98b-7cb56d596e3f .tooltip text{fill-opacity:1}#chart-61f3e04e-d6f3-4474-b98b-7cb56d596e3f .showable{visibility:hidden}#chart-61f3e04e-d6f3-4474-b98b-7cb56d596e3f .showable.shown{visibility:visible}#chart-61f3e04e-d6f3-4474-b98b-7cb56d596e3f .gauge-background{fill:rgba(229,229,229,1);stroke:none}#chart-61f3e04e-d6f3-4474-b98b-7cb56d596e3f .bg-lines{stroke:rgba(249,249,249,1);stroke-width:2px}</style><script type=\"text/javascript\">window.pygal = window.pygal || {};window.pygal.config = window.pygal.config || {};window.pygal.config['61f3e04e-d6f3-4474-b98b-7cb56d596e3f'] = {\"allow_interruptions\": false, \"box_mode\": \"extremes\", \"classes\": [\"pygal-chart\"], \"css\": [\"file://style.css\", \"file://graph.css\"], \"defs\": [], \"disable_xml_declaration\": false, \"dots_size\": 2.5, \"dynamic_print_values\": false, \"explicit_size\": false, \"fill\": false, \"force_uri_protocol\": \"https\", \"formatter\": null, \"half_pie\": false, \"height\": 600, \"include_x_axis\": false, \"inner_radius\": 0, \"interpolate\": null, \"interpolation_parameters\": {}, \"interpolation_precision\": 250, \"inverse_y_axis\": false, \"js\": [\"//kozea.github.io/pygal.js/2.0.x/pygal-tooltips.min.js\"], \"legend_at_bottom\": false, \"legend_at_bottom_columns\": null, \"legend_box_size\": 12, \"logarithmic\": false, \"margin\": 20, \"margin_bottom\": null, \"margin_left\": null, \"margin_right\": null, \"margin_top\": null, \"max_scale\": 16, \"min_scale\": 4, \"missing_value_fill_truncation\": \"x\", \"no_data_text\": \"No data\", \"no_prefix\": false, \"order_min\": null, \"pretty_print\": false, \"print_labels\": false, \"print_values\": false, \"print_values_position\": \"center\", \"print_zeroes\": true, \"range\": null, \"rounded_bars\": null, \"secondary_range\": null, \"show_dots\": true, \"show_legend\": true, \"show_minor_x_labels\": true, \"show_minor_y_labels\": true, \"show_only_major_dots\": false, \"show_x_guides\": false, \"show_x_labels\": true, \"show_y_guides\": true, \"show_y_labels\": true, \"spacing\": 10, \"stack_from_top\": false, \"strict\": false, \"stroke\": true, \"stroke_style\": null, \"style\": {\"background\": \"rgba(249, 249, 249, 1)\", \"ci_colors\": [], \"colors\": [\"#F44336\", \"#3F51B5\", \"#009688\", \"#FFC107\", \"#FF5722\", \"#9C27B0\", \"#03A9F4\", \"#8BC34A\", \"#FF9800\", \"#E91E63\", \"#2196F3\", \"#4CAF50\", \"#FFEB3B\", \"#673AB7\", \"#00BCD4\", \"#CDDC39\", \"#9E9E9E\", \"#607D8B\"], \"font_family\": \"Consolas, \\\"Liberation Mono\\\", Menlo, Courier, monospace\", \"foreground\": \"rgba(0, 0, 0, .87)\", \"foreground_strong\": \"rgba(0, 0, 0, 1)\", \"foreground_subtle\": \"rgba(0, 0, 0, .54)\", \"guide_stroke_dasharray\": \"4,4\", \"label_font_family\": \"Consolas, \\\"Liberation Mono\\\", Menlo, Courier, monospace\", \"label_font_size\": 10, \"legend_font_family\": \"Consolas, \\\"Liberation Mono\\\", Menlo, Courier, monospace\", \"legend_font_size\": 14, \"major_guide_stroke_dasharray\": \"6,6\", \"major_label_font_family\": \"Consolas, \\\"Liberation Mono\\\", Menlo, Courier, monospace\", \"major_label_font_size\": 10, \"no_data_font_family\": \"Consolas, \\\"Liberation Mono\\\", Menlo, Courier, monospace\", \"no_data_font_size\": 64, \"opacity\": \".7\", \"opacity_hover\": \".8\", \"plot_background\": \"rgba(255, 255, 255, 1)\", \"stroke_opacity\": \".8\", \"stroke_opacity_hover\": \".9\", \"title_font_family\": \"Consolas, \\\"Liberation Mono\\\", Menlo, Courier, monospace\", \"title_font_size\": 16, \"tooltip_font_family\": \"Consolas, \\\"Liberation Mono\\\", Menlo, Courier, monospace\", \"tooltip_font_size\": 14, \"transition\": \"150ms\", \"value_background\": \"rgba(229, 229, 229, 1)\", \"value_colors\": [], \"value_font_family\": \"Consolas, \\\"Liberation Mono\\\", Menlo, Courier, monospace\", \"value_font_size\": 16, \"value_label_font_family\": \"Consolas, \\\"Liberation Mono\\\", Menlo, Courier, monospace\", \"value_label_font_size\": 10}, \"title\": \"Dateitypen\", \"tooltip_border_radius\": 0, \"tooltip_fancy_mode\": true, \"truncate_label\": null, \"truncate_legend\": null, \"width\": 800, \"x_label_rotation\": 0, \"x_labels\": null, \"x_labels_major\": null, \"x_labels_major_count\": null, \"x_labels_major_every\": null, \"x_title\": null, \"xrange\": null, \"y_label_rotation\": 0, \"y_labels\": null, \"y_labels_major\": null, \"y_labels_major_count\": null, \"y_labels_major_every\": null, \"y_title\": null, \"zero\": 0, \"legends\": [\"java\", \"html\", \"class\", \"gif\", \"txt\", \"andere\"]}</script><script type=\"text/javascript\" xlink:href=\"https://kozea.github.io/pygal.js/2.0.x/pygal-tooltips.min.js\"/></defs><title>Dateitypen</title><g class=\"graph pie-graph vertical\"><rect class=\"background\" height=\"600\" width=\"800\" x=\"0\" y=\"0\"/><g class=\"plot\" transform=\"translate(92, 46)\"><rect class=\"background\" height=\"534\" width=\"687.6\" x=\"0\" y=\"0\"/><g class=\"series serie-0 color-0\"><g class=\"slices\"><g class=\"slice\"><path class=\"slice reactive tooltip-trigger\" d=\"M343.800000 26.700000 A240.300000 240.300000 0 1 1 126.240670 164.960654 L343.800000 267.000000 A0.000000 0.000000 0 1 0 343.800000 267.000000 z\"/><desc class=\"value\">1383</desc><desc class=\"x centered\">408.2438080923323</desc><desc class=\"y centered\">368.40521731429135</desc></g></g></g><g class=\"series serie-1 color-1\"><g class=\"slices\"><g class=\"slice\"><path class=\"slice reactive tooltip-trigger\" d=\"M126.240670 164.960654 A240.300000 240.300000 0 0 1 165.782318 105.588121 L343.800000 267.000000 A0.000000 0.000000 0 0 0 343.800000 267.000000 z\"/><desc class=\"value\">80</desc><desc class=\"x centered\">243.79804058509285</desc><desc class=\"y centered\">200.3994698731364</desc></g></g></g><g class=\"series serie-2 color-2\"><g class=\"slices\"><g class=\"slice\"><path class=\"slice reactive tooltip-trigger\" d=\"M165.782318 105.588121 A240.300000 240.300000 0 0 1 192.406283 80.388016 L343.800000 267.000000 A0.000000 0.000000 0 0 0 343.800000 267.000000 z\"/><desc class=\"value\">41</desc><desc class=\"x centered\">261.2065243886847</desc><desc class=\"y centered\">179.7398127068073</desc></g></g></g><g class=\"series serie-3 color-3\"><g class=\"slices\"><g class=\"slice\"><path class=\"slice reactive tooltip-trigger\" d=\"M192.406283 80.388016 A240.300000 240.300000 0 0 1 218.711323 61.824678 L343.800000 267.000000 A0.000000 0.000000 0 0 0 343.800000 267.000000 z\"/><desc class=\"value\">36</desc><desc class=\"x centered\">274.52378123029473</desc><desc class=\"y centered\">168.83265302061005</desc></g></g></g><g class=\"series serie-4 color-4\"><g class=\"slices\"><g class=\"slice\"><path class=\"slice reactive tooltip-trigger\" d=\"M218.711323 61.824678 A240.300000 240.300000 0 0 1 235.124949 52.678225 L343.800000 267.000000 A0.000000 0.000000 0 0 0 343.800000 267.000000 z\"/><desc class=\"value\">21</desc><desc class=\"x centered\">285.314350960501</desc><desc class=\"y centered\">162.0454795807796</desc></g></g></g><g class=\"series serie-5 color-5\"><g class=\"slices\"><g class=\"slice\"><path class=\"slice reactive tooltip-trigger\" d=\"M235.124949 52.678225 A240.300000 240.300000 0 0 1 343.800000 26.700000 L343.800000 267.000000 A0.000000 0.000000 0 0 0 343.800000 267.000000 z\"/><desc class=\"value\">126</desc><desc class=\"x centered\">315.8657748206737</desc><desc class=\"y centered\">150.14238765219147</desc></g></g></g></g><g class=\"titles\"><text class=\"title plot_title\" x=\"400.0\" y=\"26\">Dateitypen</text></g><g class=\"plot overlay\" transform=\"translate(92, 46)\"><g class=\"series serie-0 color-0\"/><g class=\"series serie-1 color-1\"/><g class=\"series serie-2 color-2\"/><g class=\"series serie-3 color-3\"/><g class=\"series serie-4 color-4\"/><g class=\"series serie-5 color-5\"/></g><g class=\"plot text-overlay\" transform=\"translate(92, 46)\"><g class=\"series serie-0 color-0\"/><g class=\"series serie-1 color-1\"/><g class=\"series serie-2 color-2\"/><g class=\"series serie-3 color-3\"/><g class=\"series serie-4 color-4\"/><g class=\"series serie-5 color-5\"/></g><g class=\"plot tooltip-overlay\" transform=\"translate(92, 46)\"><g class=\"tooltip\" style=\"opacity: 0\" transform=\"translate(0 0)\"><rect class=\"tooltip-box\" height=\"0\" rx=\"0\" ry=\"0\" width=\"0\"/><g class=\"text\"/></g></g><g class=\"legends\" transform=\"translate(10, 56)\"><g class=\"legend reactive activate-serie\" id=\"activate-serie-0\"><rect class=\"color-0 reactive\" height=\"12\" width=\"12\" x=\"0.0\" y=\"1.0\"/><text x=\"17.0\" y=\"11.2\">java</text></g><g class=\"legend reactive activate-serie\" id=\"activate-serie-1\"><rect class=\"color-1 reactive\" height=\"12\" width=\"12\" x=\"0.0\" y=\"22.0\"/><text x=\"17.0\" y=\"32.2\">html</text></g><g class=\"legend reactive activate-serie\" id=\"activate-serie-2\"><rect class=\"color-2 reactive\" height=\"12\" width=\"12\" x=\"0.0\" y=\"43.0\"/><text x=\"17.0\" y=\"53.2\">class</text></g><g class=\"legend reactive activate-serie\" id=\"activate-serie-3\"><rect class=\"color-3 reactive\" height=\"12\" width=\"12\" x=\"0.0\" y=\"64.0\"/><text x=\"17.0\" y=\"74.2\">gif</text></g><g class=\"legend reactive activate-serie\" id=\"activate-serie-4\"><rect class=\"color-4 reactive\" height=\"12\" width=\"12\" x=\"0.0\" y=\"85.0\"/><text x=\"17.0\" y=\"95.2\">txt</text></g><g class=\"legend reactive activate-serie\" id=\"activate-serie-5\"><rect class=\"color-5 reactive\" height=\"12\" width=\"12\" x=\"0.0\" y=\"106.0\"/><text x=\"17.0\" y=\"116.2\">andere</text></g></g><g class=\"legends\" transform=\"translate(790, 56)\"/></g></svg>\n",
       "    </figure>\n",
       "  </body>\n",
       "</html>\n"
      ],
      "text/plain": [
       "<IPython.core.display.HTML object>"
      ]
     },
     "metadata": {},
     "output_type": "display_data"
    }
   ],
   "source": [
    "# Erstelle Pie Chart.\n",
    "import pygal \n",
    "pie_chart = pygal.Pie()\n",
    "pie_chart.title = 'Dateitypen'\n",
    "for einzelneDateitypen in datatype:\n",
    "    index= datatype.index(einzelneDateitypen)\n",
    "    anzahl=frequency[index]\n",
    "    pie_chart.add(einzelneDateitypen, anzahl)\n",
    "display(HTML(base_html.format(rendered_chart=pie_chart.render(is_unicode=True))))"
   ]
  }
 ],
 "metadata": {
  "kernelspec": {
   "display_name": "Python [conda env:BeLL]",
   "language": "python",
   "name": "conda-env-BeLL-py"
  },
  "language_info": {
   "codemirror_mode": {
    "name": "ipython",
    "version": 3
   },
   "file_extension": ".py",
   "mimetype": "text/x-python",
   "name": "python",
   "nbconvert_exporter": "python",
   "pygments_lexer": "ipython3",
   "version": "3.6.4"
  }
 },
 "nbformat": 4,
 "nbformat_minor": 2
}
