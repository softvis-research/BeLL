{
 "cells": [
  {
   "cell_type": "markdown",
   "metadata": {},
   "source": [
    "# Welche Programmierverstöße gibt es?"
   ]
  },
  {
   "cell_type": "markdown",
   "metadata": {},
   "source": [
    "## 1. Verbindung zur Datenbank\n",
    "Es wird eine Verbindung zur Neo4j-Datenbank aufgebaut."
   ]
  },
  {
   "cell_type": "code",
   "execution_count": 1,
   "metadata": {},
   "outputs": [],
   "source": [
    "import py2neo\n",
    "\n",
    "graph = py2neo.Graph(bolt=True, host='localhost', user='neo4j', password='neo4j')"
   ]
  },
  {
   "cell_type": "markdown",
   "metadata": {},
   "source": [
    "## 2. Cypher-Abfrage\n",
    "Es wird eine Abfrage an die Datenbank gestellt. Das Ergebnis wird in einem Dataframe (pandas) gespeichert."
   ]
  },
  {
   "cell_type": "code",
   "execution_count": 2,
   "metadata": {},
   "outputs": [],
   "source": [
    "import pandas as pd\n",
    "\n",
    "query =\"MATCH (:Report)-[:HAS_FILE]->(file:File:Pmd)-[:HAS_VIOLATION]->(violation:Violation) RETURN  violation.ruleSet as category, count(violation.ruleSet) as frequency\"\n",
    "df = pd.DataFrame(graph.run(query).data())\n"
   ]
  },
  {
   "cell_type": "markdown",
   "metadata": {},
   "source": [
    "## 3. Datenaufbereitung\n",
    "Zur Kontrolle werden die ersten fünf Zeilen des Ergebnisses der Abfrage als Tabelle ausgegeben."
   ]
  },
  {
   "cell_type": "code",
   "execution_count": 3,
   "metadata": {},
   "outputs": [
    {
     "data": {
      "text/html": [
       "<div>\n",
       "<style scoped>\n",
       "    .dataframe tbody tr th:only-of-type {\n",
       "        vertical-align: middle;\n",
       "    }\n",
       "\n",
       "    .dataframe tbody tr th {\n",
       "        vertical-align: top;\n",
       "    }\n",
       "\n",
       "    .dataframe thead th {\n",
       "        text-align: right;\n",
       "    }\n",
       "</style>\n",
       "<table border=\"1\" class=\"dataframe\">\n",
       "  <thead>\n",
       "    <tr style=\"text-align: right;\">\n",
       "      <th></th>\n",
       "      <th>category</th>\n",
       "      <th>frequency</th>\n",
       "    </tr>\n",
       "  </thead>\n",
       "  <tbody>\n",
       "    <tr>\n",
       "      <th>0</th>\n",
       "      <td>Code Style</td>\n",
       "      <td>2</td>\n",
       "    </tr>\n",
       "    <tr>\n",
       "      <th>1</th>\n",
       "      <td>Best Practices</td>\n",
       "      <td>8</td>\n",
       "    </tr>\n",
       "  </tbody>\n",
       "</table>\n",
       "</div>"
      ],
      "text/plain": [
       "         category  frequency\n",
       "0      Code Style          2\n",
       "1  Best Practices          8"
      ]
     },
     "execution_count": 3,
     "metadata": {},
     "output_type": "execute_result"
    }
   ],
   "source": [
    "df.head()"
   ]
  },
  {
   "cell_type": "markdown",
   "metadata": {},
   "source": [
    "## 4. Visualisierung\n",
    "Die Daten werden mittels eines Radar Charts visualisiert (https://plot.ly/python/radar-chart/, r=frequency, theta=category)."
   ]
  },
  {
   "cell_type": "code",
   "execution_count": 4,
   "metadata": {},
   "outputs": [],
   "source": [
    "from IPython.display import display, HTML\n",
    "\n",
    "base_html = \"\"\"\n",
    "<!DOCTYPE html>\n",
    "<html>\n",
    "  <head>\n",
    "  <script type=\"text/javascript\" src=\"http://kozea.github.com/pygal.js/javascripts/svg.jquery.js\"></script>\n",
    "  <script type=\"text/javascript\" src=\"https://kozea.github.io/pygal.js/2.0.x/pygal-tooltips.min.js\"\"></script>\n",
    "  </head>\n",
    "  <body>\n",
    "    <figure>\n",
    "      {rendered_chart}\n",
    "    </figure>\n",
    "  </body>\n",
    "</html>\n",
    "\"\"\""
   ]
  },
  {
   "cell_type": "code",
   "execution_count": 7,
   "metadata": {},
   "outputs": [
    {
     "data": {
      "text/html": [
       "\n",
       "<!DOCTYPE html>\n",
       "<html>\n",
       "  <head>\n",
       "  <script type=\"text/javascript\" src=\"http://kozea.github.com/pygal.js/javascripts/svg.jquery.js\"></script>\n",
       "  <script type=\"text/javascript\" src=\"https://kozea.github.io/pygal.js/2.0.x/pygal-tooltips.min.js\"\"></script>\n",
       "  </head>\n",
       "  <body>\n",
       "    <figure>\n",
       "      <?xml version='1.0' encoding='utf-8'?>\n",
       "<svg xmlns:xlink=\"http://www.w3.org/1999/xlink\" xmlns=\"http://www.w3.org/2000/svg\" id=\"chart-39ad041c-ef7c-47c9-bed6-96c835f0327d\" class=\"pygal-chart\" viewBox=\"0 0 800 600\"><!--Generated with pygal 2.4.0 (lxml) ©Kozea 2012-2016 on 2019-10-07--><!--http://pygal.org--><!--http://github.com/Kozea/pygal--><defs><style type=\"text/css\">#chart-39ad041c-ef7c-47c9-bed6-96c835f0327d{-webkit-user-select:none;-webkit-font-smoothing:antialiased;font-family:Consolas,\"Liberation Mono\",Menlo,Courier,monospace}#chart-39ad041c-ef7c-47c9-bed6-96c835f0327d .title{font-family:Consolas,\"Liberation Mono\",Menlo,Courier,monospace;font-size:16px}#chart-39ad041c-ef7c-47c9-bed6-96c835f0327d .legends .legend text{font-family:Consolas,\"Liberation Mono\",Menlo,Courier,monospace;font-size:14px}#chart-39ad041c-ef7c-47c9-bed6-96c835f0327d .axis text{font-family:Consolas,\"Liberation Mono\",Menlo,Courier,monospace;font-size:10px}#chart-39ad041c-ef7c-47c9-bed6-96c835f0327d .axis text.major{font-family:Consolas,\"Liberation Mono\",Menlo,Courier,monospace;font-size:10px}#chart-39ad041c-ef7c-47c9-bed6-96c835f0327d .text-overlay text.value{font-family:Consolas,\"Liberation Mono\",Menlo,Courier,monospace;font-size:16px}#chart-39ad041c-ef7c-47c9-bed6-96c835f0327d .text-overlay text.label{font-family:Consolas,\"Liberation Mono\",Menlo,Courier,monospace;font-size:10px}#chart-39ad041c-ef7c-47c9-bed6-96c835f0327d .tooltip{font-family:Consolas,\"Liberation Mono\",Menlo,Courier,monospace;font-size:14px}#chart-39ad041c-ef7c-47c9-bed6-96c835f0327d text.no_data{font-family:Consolas,\"Liberation Mono\",Menlo,Courier,monospace;font-size:64px}\n",
       "#chart-39ad041c-ef7c-47c9-bed6-96c835f0327d{background-color:rgba(249,249,249,1)}#chart-39ad041c-ef7c-47c9-bed6-96c835f0327d path,#chart-39ad041c-ef7c-47c9-bed6-96c835f0327d line,#chart-39ad041c-ef7c-47c9-bed6-96c835f0327d rect,#chart-39ad041c-ef7c-47c9-bed6-96c835f0327d circle{-webkit-transition:150ms;-moz-transition:150ms;transition:150ms}#chart-39ad041c-ef7c-47c9-bed6-96c835f0327d .graph &gt; .background{fill:rgba(249,249,249,1)}#chart-39ad041c-ef7c-47c9-bed6-96c835f0327d .plot &gt; .background{fill:rgba(255,255,255,1)}#chart-39ad041c-ef7c-47c9-bed6-96c835f0327d .graph{fill:rgba(0,0,0,.87)}#chart-39ad041c-ef7c-47c9-bed6-96c835f0327d text.no_data{fill:rgba(0,0,0,1)}#chart-39ad041c-ef7c-47c9-bed6-96c835f0327d .title{fill:rgba(0,0,0,1)}#chart-39ad041c-ef7c-47c9-bed6-96c835f0327d .legends .legend text{fill:rgba(0,0,0,.87)}#chart-39ad041c-ef7c-47c9-bed6-96c835f0327d .legends .legend:hover text{fill:rgba(0,0,0,1)}#chart-39ad041c-ef7c-47c9-bed6-96c835f0327d .axis .line{stroke:rgba(0,0,0,1)}#chart-39ad041c-ef7c-47c9-bed6-96c835f0327d .axis .guide.line{stroke:rgba(0,0,0,.54)}#chart-39ad041c-ef7c-47c9-bed6-96c835f0327d .axis .major.line{stroke:rgba(0,0,0,.87)}#chart-39ad041c-ef7c-47c9-bed6-96c835f0327d .axis text.major{fill:rgba(0,0,0,1)}#chart-39ad041c-ef7c-47c9-bed6-96c835f0327d .axis.y .guides:hover .guide.line,#chart-39ad041c-ef7c-47c9-bed6-96c835f0327d .line-graph .axis.x .guides:hover .guide.line,#chart-39ad041c-ef7c-47c9-bed6-96c835f0327d .stackedline-graph .axis.x .guides:hover .guide.line,#chart-39ad041c-ef7c-47c9-bed6-96c835f0327d .xy-graph .axis.x .guides:hover .guide.line{stroke:rgba(0,0,0,1)}#chart-39ad041c-ef7c-47c9-bed6-96c835f0327d .axis .guides:hover text{fill:rgba(0,0,0,1)}#chart-39ad041c-ef7c-47c9-bed6-96c835f0327d .reactive{fill-opacity:.7;stroke-opacity:.8}#chart-39ad041c-ef7c-47c9-bed6-96c835f0327d .ci{stroke:rgba(0,0,0,.87)}#chart-39ad041c-ef7c-47c9-bed6-96c835f0327d .reactive.active,#chart-39ad041c-ef7c-47c9-bed6-96c835f0327d .active .reactive{fill-opacity:.8;stroke-opacity:.9;stroke-width:4}#chart-39ad041c-ef7c-47c9-bed6-96c835f0327d .ci .reactive.active{stroke-width:1.5}#chart-39ad041c-ef7c-47c9-bed6-96c835f0327d .series text{fill:rgba(0,0,0,1)}#chart-39ad041c-ef7c-47c9-bed6-96c835f0327d .tooltip rect{fill:rgba(255,255,255,1);stroke:rgba(0,0,0,1);-webkit-transition:opacity 150ms;-moz-transition:opacity 150ms;transition:opacity 150ms}#chart-39ad041c-ef7c-47c9-bed6-96c835f0327d .tooltip .label{fill:rgba(0,0,0,.87)}#chart-39ad041c-ef7c-47c9-bed6-96c835f0327d .tooltip .label{fill:rgba(0,0,0,.87)}#chart-39ad041c-ef7c-47c9-bed6-96c835f0327d .tooltip .legend{font-size:.8em;fill:rgba(0,0,0,.54)}#chart-39ad041c-ef7c-47c9-bed6-96c835f0327d .tooltip .x_label{font-size:.6em;fill:rgba(0,0,0,1)}#chart-39ad041c-ef7c-47c9-bed6-96c835f0327d .tooltip .xlink{font-size:.5em;text-decoration:underline}#chart-39ad041c-ef7c-47c9-bed6-96c835f0327d .tooltip .value{font-size:1.5em}#chart-39ad041c-ef7c-47c9-bed6-96c835f0327d .bound{font-size:.5em}#chart-39ad041c-ef7c-47c9-bed6-96c835f0327d .max-value{font-size:.75em;fill:rgba(0,0,0,.54)}#chart-39ad041c-ef7c-47c9-bed6-96c835f0327d .map-element{fill:rgba(255,255,255,1);stroke:rgba(0,0,0,.54) !important}#chart-39ad041c-ef7c-47c9-bed6-96c835f0327d .map-element .reactive{fill-opacity:inherit;stroke-opacity:inherit}#chart-39ad041c-ef7c-47c9-bed6-96c835f0327d .color-0,#chart-39ad041c-ef7c-47c9-bed6-96c835f0327d .color-0 a:visited{stroke:#F44336;fill:#F44336}#chart-39ad041c-ef7c-47c9-bed6-96c835f0327d .text-overlay .color-0 text{fill:black}\n",
       "#chart-39ad041c-ef7c-47c9-bed6-96c835f0327d text.no_data{text-anchor:middle}#chart-39ad041c-ef7c-47c9-bed6-96c835f0327d .guide.line{fill:none}#chart-39ad041c-ef7c-47c9-bed6-96c835f0327d .centered{text-anchor:middle}#chart-39ad041c-ef7c-47c9-bed6-96c835f0327d .title{text-anchor:middle}#chart-39ad041c-ef7c-47c9-bed6-96c835f0327d .legends .legend text{fill-opacity:1}#chart-39ad041c-ef7c-47c9-bed6-96c835f0327d .axis.x text{text-anchor:middle}#chart-39ad041c-ef7c-47c9-bed6-96c835f0327d .axis.x:not(.web) text[transform]{text-anchor:start}#chart-39ad041c-ef7c-47c9-bed6-96c835f0327d .axis.x:not(.web) text[transform].backwards{text-anchor:end}#chart-39ad041c-ef7c-47c9-bed6-96c835f0327d .axis.y text{text-anchor:end}#chart-39ad041c-ef7c-47c9-bed6-96c835f0327d .axis.y text[transform].backwards{text-anchor:start}#chart-39ad041c-ef7c-47c9-bed6-96c835f0327d .axis.y2 text{text-anchor:start}#chart-39ad041c-ef7c-47c9-bed6-96c835f0327d .axis.y2 text[transform].backwards{text-anchor:end}#chart-39ad041c-ef7c-47c9-bed6-96c835f0327d .axis .guide.line{stroke-dasharray:4,4}#chart-39ad041c-ef7c-47c9-bed6-96c835f0327d .axis .major.guide.line{stroke-dasharray:6,6}#chart-39ad041c-ef7c-47c9-bed6-96c835f0327d .horizontal .axis.y .guide.line,#chart-39ad041c-ef7c-47c9-bed6-96c835f0327d .horizontal .axis.y2 .guide.line,#chart-39ad041c-ef7c-47c9-bed6-96c835f0327d .vertical .axis.x .guide.line{opacity:0}#chart-39ad041c-ef7c-47c9-bed6-96c835f0327d .horizontal .axis.always_show .guide.line,#chart-39ad041c-ef7c-47c9-bed6-96c835f0327d .vertical .axis.always_show .guide.line{opacity:1 !important}#chart-39ad041c-ef7c-47c9-bed6-96c835f0327d .axis.y .guides:hover .guide.line,#chart-39ad041c-ef7c-47c9-bed6-96c835f0327d .axis.y2 .guides:hover .guide.line,#chart-39ad041c-ef7c-47c9-bed6-96c835f0327d .axis.x .guides:hover .guide.line{opacity:1}#chart-39ad041c-ef7c-47c9-bed6-96c835f0327d .axis .guides:hover text{opacity:1}#chart-39ad041c-ef7c-47c9-bed6-96c835f0327d .nofill{fill:none}#chart-39ad041c-ef7c-47c9-bed6-96c835f0327d .subtle-fill{fill-opacity:.2}#chart-39ad041c-ef7c-47c9-bed6-96c835f0327d .dot{stroke-width:1px;fill-opacity:1}#chart-39ad041c-ef7c-47c9-bed6-96c835f0327d .dot.active{stroke-width:5px}#chart-39ad041c-ef7c-47c9-bed6-96c835f0327d .dot.negative{fill:transparent}#chart-39ad041c-ef7c-47c9-bed6-96c835f0327d text,#chart-39ad041c-ef7c-47c9-bed6-96c835f0327d tspan{stroke:none !important}#chart-39ad041c-ef7c-47c9-bed6-96c835f0327d .series text.active{opacity:1}#chart-39ad041c-ef7c-47c9-bed6-96c835f0327d .tooltip rect{fill-opacity:.95;stroke-width:.5}#chart-39ad041c-ef7c-47c9-bed6-96c835f0327d .tooltip text{fill-opacity:1}#chart-39ad041c-ef7c-47c9-bed6-96c835f0327d .showable{visibility:hidden}#chart-39ad041c-ef7c-47c9-bed6-96c835f0327d .showable.shown{visibility:visible}#chart-39ad041c-ef7c-47c9-bed6-96c835f0327d .gauge-background{fill:rgba(229,229,229,1);stroke:none}#chart-39ad041c-ef7c-47c9-bed6-96c835f0327d .bg-lines{stroke:rgba(249,249,249,1);stroke-width:2px}</style><script type=\"text/javascript\">window.pygal = window.pygal || {};window.pygal.config = window.pygal.config || {};window.pygal.config['39ad041c-ef7c-47c9-bed6-96c835f0327d'] = {\"allow_interruptions\": false, \"box_mode\": \"extremes\", \"classes\": [\"pygal-chart\"], \"css\": [\"file://style.css\", \"file://graph.css\"], \"defs\": [], \"disable_xml_declaration\": false, \"dots_size\": 2.5, \"dynamic_print_values\": false, \"explicit_size\": false, \"fill\": false, \"force_uri_protocol\": \"https\", \"formatter\": null, \"half_pie\": false, \"height\": 600, \"include_x_axis\": false, \"inner_radius\": 0, \"interpolate\": null, \"interpolation_parameters\": {}, \"interpolation_precision\": 250, \"inverse_y_axis\": false, \"js\": [\"//kozea.github.io/pygal.js/2.0.x/pygal-tooltips.min.js\"], \"legend_at_bottom\": false, \"legend_at_bottom_columns\": null, \"legend_box_size\": 12, \"logarithmic\": false, \"margin\": 20, \"margin_bottom\": null, \"margin_left\": null, \"margin_right\": null, \"margin_top\": null, \"max_scale\": 16, \"min_scale\": 4, \"missing_value_fill_truncation\": \"x\", \"no_data_text\": \"No data\", \"no_prefix\": false, \"order_min\": null, \"pretty_print\": false, \"print_labels\": false, \"print_values\": false, \"print_values_position\": \"center\", \"print_zeroes\": true, \"range\": null, \"rounded_bars\": null, \"secondary_range\": null, \"show_dots\": true, \"show_legend\": true, \"show_minor_x_labels\": true, \"show_minor_y_labels\": true, \"show_only_major_dots\": false, \"show_x_guides\": false, \"show_x_labels\": true, \"show_y_guides\": true, \"show_y_labels\": true, \"spacing\": 10, \"stack_from_top\": false, \"strict\": false, \"stroke\": true, \"stroke_style\": null, \"style\": {\"background\": \"rgba(249, 249, 249, 1)\", \"ci_colors\": [], \"colors\": [\"#F44336\", \"#3F51B5\", \"#009688\", \"#FFC107\", \"#FF5722\", \"#9C27B0\", \"#03A9F4\", \"#8BC34A\", \"#FF9800\", \"#E91E63\", \"#2196F3\", \"#4CAF50\", \"#FFEB3B\", \"#673AB7\", \"#00BCD4\", \"#CDDC39\", \"#9E9E9E\", \"#607D8B\"], \"font_family\": \"Consolas, \\\"Liberation Mono\\\", Menlo, Courier, monospace\", \"foreground\": \"rgba(0, 0, 0, .87)\", \"foreground_strong\": \"rgba(0, 0, 0, 1)\", \"foreground_subtle\": \"rgba(0, 0, 0, .54)\", \"guide_stroke_dasharray\": \"4,4\", \"label_font_family\": \"Consolas, \\\"Liberation Mono\\\", Menlo, Courier, monospace\", \"label_font_size\": 10, \"legend_font_family\": \"Consolas, \\\"Liberation Mono\\\", Menlo, Courier, monospace\", \"legend_font_size\": 14, \"major_guide_stroke_dasharray\": \"6,6\", \"major_label_font_family\": \"Consolas, \\\"Liberation Mono\\\", Menlo, Courier, monospace\", \"major_label_font_size\": 10, \"no_data_font_family\": \"Consolas, \\\"Liberation Mono\\\", Menlo, Courier, monospace\", \"no_data_font_size\": 64, \"opacity\": \".7\", \"opacity_hover\": \".8\", \"plot_background\": \"rgba(255, 255, 255, 1)\", \"stroke_opacity\": \".8\", \"stroke_opacity_hover\": \".9\", \"title_font_family\": \"Consolas, \\\"Liberation Mono\\\", Menlo, Courier, monospace\", \"title_font_size\": 16, \"tooltip_font_family\": \"Consolas, \\\"Liberation Mono\\\", Menlo, Courier, monospace\", \"tooltip_font_size\": 14, \"transition\": \"150ms\", \"value_background\": \"rgba(229, 229, 229, 1)\", \"value_colors\": [], \"value_font_family\": \"Consolas, \\\"Liberation Mono\\\", Menlo, Courier, monospace\", \"value_font_size\": 16, \"value_label_font_family\": \"Consolas, \\\"Liberation Mono\\\", Menlo, Courier, monospace\", \"value_label_font_size\": 10}, \"title\": \"Programmierverst\\u00f6\\u00dfe\", \"tooltip_border_radius\": 0, \"tooltip_fancy_mode\": true, \"truncate_label\": null, \"truncate_legend\": null, \"width\": 800, \"x_label_rotation\": 0, \"x_labels\": [\"Code Style\", \"Best Practices\"], \"x_labels_major\": null, \"x_labels_major_count\": null, \"x_labels_major_every\": null, \"x_title\": null, \"xrange\": null, \"y_label_rotation\": 0, \"y_labels\": null, \"y_labels_major\": null, \"y_labels_major_count\": null, \"y_labels_major_every\": null, \"y_title\": null, \"zero\": 0, \"legends\": [\"Anzahl der Programmierverst\\u00f6\\u00dfe\"]}</script><script type=\"text/javascript\" xlink:href=\"https://kozea.github.io/pygal.js/2.0.x/pygal-tooltips.min.js\"/></defs><title>Programmierverstöße</title><g class=\"graph radar-graph vertical\"><rect class=\"background\" height=\"600\" width=\"800\" x=\"0\" y=\"0\"/><g class=\"plot\" transform=\"translate(188, 46)\"><rect class=\"background\" height=\"514\" width=\"592.0\" x=\"0\" y=\"0\"/><g class=\"axis y web\"><g class=\"guides\"><path class=\"guide line\" d=\"M296.000000 19.037037 L296.000000 494.962963 296.000000 19.037037 Z\"/><text class=\"\" x=\"291.0\" y=\"19.03703703703701\">8</text><title>8</title></g><g class=\"guides\"><path class=\"guide line\" d=\"M296.000000 48.782407 L296.000000 465.217593 296.000000 48.782407 Z\"/><text class=\"\" x=\"291.0\" y=\"48.78240740740745\">7</text><title>7</title></g><g class=\"guides\"><path class=\"guide line\" d=\"M296.000000 78.527778 L296.000000 435.472222 296.000000 78.527778 Z\"/><text class=\"\" x=\"291.0\" y=\"78.52777777777783\">6</text><title>6</title></g><g class=\"guides\"><path class=\"major guide line\" d=\"M296.000000 108.273148 L296.000000 405.726852 296.000000 108.273148 Z\"/><text class=\"major\" x=\"291.0\" y=\"108.27314814814815\">5</text><title>5</title></g><g class=\"guides\"><path class=\"guide line\" d=\"M296.000000 138.018519 L296.000000 375.981481 296.000000 138.018519 Z\"/><text class=\"\" x=\"291.0\" y=\"138.01851851851853\">4</text><title>4</title></g><g class=\"guides\"><path class=\"guide line\" d=\"M296.000000 167.763889 L296.000000 346.236111 296.000000 167.763889 Z\"/><text class=\"\" x=\"291.0\" y=\"167.7638888888889\">3</text><title>3</title></g><g class=\"guides\"><path class=\"guide line\" d=\"M296.000000 197.509259 L296.000000 316.490741 296.000000 197.509259 Z\"/><text class=\"\" x=\"291.0\" y=\"197.5092592592593\">2</text><title>2</title></g><g class=\"guides\"><path class=\"guide line\" d=\"M296.000000 227.254630 L296.000000 286.745370 296.000000 227.254630 Z\"/><text class=\"\" x=\"291.0\" y=\"227.25462962962962\">1</text><title>1</title></g><g class=\"guides\"><path class=\"major guide line\" d=\"M296.000000 257.000000 L296.000000 257.000000 296.000000 257.000000 Z\"/><text class=\"major\" x=\"291.0\" y=\"257.0\">0</text><title>0</title></g></g><g class=\"axis x web\"><g class=\"guides\"><path class=\"line\" d=\"M296.000000 257.000000 L296.000000 19.037037\"/><text class=\"\" x=\"296.0\" y=\"5.140000000000043\" transform=\"rotate(0.000000 296.000000 5.140000)\">Code Style</text><title>1.570796327</title></g><g class=\"guides\"><path class=\"line\" d=\"M296.000000 257.000000 L296.000000 494.962963\"/><text class=\"\" x=\"295.99999999999994\" y=\"508.86\" transform=\"rotate(-360.000000 296.000000 508.860000)\">Best Practices</text><title>4.71238898</title></g></g><g class=\"series serie-0 color-0\"><path class=\"line reactive nofill\" d=\"M296.000000 197.509259 L296.000000 494.962963 Z\"/></g></g><g class=\"titles\"><text class=\"title plot_title\" x=\"400.0\" y=\"26\">Programmierverstöße</text></g><g class=\"plot overlay\" transform=\"translate(188, 46)\"><g class=\"series serie-0 color-0\"><g class=\"dots\"><circle class=\"dot reactive tooltip-trigger\" cx=\"296.0\" cy=\"197.5092592592593\" r=\"2.5\"/><desc class=\"value\">2</desc><desc class=\"x \">296.0</desc><desc class=\"y \">197.5092592592593</desc><desc class=\"x_label\">Code Style</desc></g><g class=\"dots\"><circle class=\"dot reactive tooltip-trigger\" cx=\"295.99999999999994\" cy=\"494.96296296296293\" r=\"2.5\"/><desc class=\"value\">8</desc><desc class=\"x top\">295.99999999999994</desc><desc class=\"y top\">494.96296296296293</desc><desc class=\"x_label\">Best Practices</desc></g></g></g><g class=\"plot text-overlay\" transform=\"translate(188, 46)\"><g class=\"series serie-0 color-0\"/></g><g class=\"plot tooltip-overlay\" transform=\"translate(188, 46)\"><g class=\"tooltip\" style=\"opacity: 0\" transform=\"translate(0 0)\"><rect class=\"tooltip-box\" height=\"0\" rx=\"0\" ry=\"0\" width=\"0\"/><g class=\"text\"/></g></g><g class=\"legends\" transform=\"translate(10, 56)\"><g class=\"legend reactive activate-serie\" id=\"activate-serie-0\"><rect class=\"color-0 reactive\" height=\"12\" width=\"12\" x=\"0.0\" y=\"1.0\"/><text x=\"17.0\" y=\"11.2\">Anzahl der Pro…</text><title>Anzahl der Programmierverstöße</title></g></g><g class=\"legends\" transform=\"translate(790, 56)\"/></g></svg>\n",
       "    </figure>\n",
       "  </body>\n",
       "</html>\n"
      ],
      "text/plain": [
       "<IPython.core.display.HTML object>"
      ]
     },
     "metadata": {},
     "output_type": "display_data"
    }
   ],
   "source": [
    "# Hole Werte aus Spalten aus Dataframe. Umwandlung dieser Werte in list Objekt.\n",
    "frequency=df['frequency'].tolist()\n",
    "category=df['category'].tolist()\n",
    "\n",
    "import pygal\n",
    "radar_chart = pygal.Radar()\n",
    "radar_chart.title = 'Programmierverstöße'\n",
    "radar_chart.x_labels = category\n",
    "radar_chart.add('Anzahl der Programmierverstöße', frequency)\n",
    "\n",
    "display(HTML(base_html.format(rendered_chart=radar_chart.render(is_unicode=True))))"
   ]
  },
  {
   "cell_type": "code",
   "execution_count": null,
   "metadata": {},
   "outputs": [],
   "source": [
    "for einzelneKategorie in category:\n",
    "    index= category.index(einzelneKategorie)\n",
    "    #dazugehörige frequency herausbekommen\n",
    "    häufigkeit=frequency[index]\n",
    "    radar_chart.add(einzelneKategorie,häufigkeit)"
   ]
  },
  {
   "cell_type": "code",
   "execution_count": null,
   "metadata": {},
   "outputs": [],
   "source": []
  },
  {
   "cell_type": "code",
   "execution_count": null,
   "metadata": {},
   "outputs": [],
   "source": []
  }
 ],
 "metadata": {
  "kernelspec": {
   "display_name": "Python [conda env:BeLL]",
   "language": "python",
   "name": "conda-env-BeLL-py"
  },
  "language_info": {
   "codemirror_mode": {
    "name": "ipython",
    "version": 3
   },
   "file_extension": ".py",
   "mimetype": "text/x-python",
   "name": "python",
   "nbconvert_exporter": "python",
   "pygments_lexer": "ipython3",
   "version": "3.6.4"
  }
 },
 "nbformat": 4,
 "nbformat_minor": 2
}
