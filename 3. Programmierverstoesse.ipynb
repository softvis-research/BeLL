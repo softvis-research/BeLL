{
 "cells": [
  {
   "cell_type": "markdown",
   "metadata": {},
   "source": [
    "# Welche Programmierverstöße gibt es?"
   ]
  },
  {
   "cell_type": "markdown",
   "metadata": {},
   "source": [
    "## 1. Verbindung zur Datenbank\n",
    "Es wird eine Verbindung zur Neo4j-Datenbank aufgebaut."
   ]
  },
  {
   "cell_type": "code",
   "execution_count": 8,
   "metadata": {},
   "outputs": [],
   "source": [
    "import py2neo\n",
    "\n",
    "graph = py2neo.Graph(bolt=True, host='localhost', user='neo4j', password='neo4j')"
   ]
  },
  {
   "cell_type": "markdown",
   "metadata": {},
   "source": [
    "## 2. Cypher-Abfrage\n",
    "Es wird eine Abfrage an die Datenbank gestellt. Das Ergebnis wird in einem Dataframe (pandas) gespeichert."
   ]
  },
  {
   "cell_type": "code",
   "execution_count": 9,
   "metadata": {},
   "outputs": [],
   "source": [
    "import pandas as pd\n",
    "\n",
    "query =\"MATCH (:Report)-[:HAS_FILE]->(file:File:Pmd)-[:HAS_VIOLATION]->(violation:Violation) RETURN  violation.ruleSet as category, count(violation.ruleSet) as frequency\"\n",
    "df = pd.DataFrame(graph.run(query).data())\n"
   ]
  },
  {
   "cell_type": "markdown",
   "metadata": {},
   "source": [
    "## 3. Datenaufbereitung\n",
    "Zur Kontrolle werden die ersten fünf Zeilen des Ergebnisses der Abfrage als Tabelle ausgegeben."
   ]
  },
  {
   "cell_type": "code",
   "execution_count": 10,
   "metadata": {},
   "outputs": [
    {
     "data": {
      "text/html": [
       "<div>\n",
       "<style scoped>\n",
       "    .dataframe tbody tr th:only-of-type {\n",
       "        vertical-align: middle;\n",
       "    }\n",
       "\n",
       "    .dataframe tbody tr th {\n",
       "        vertical-align: top;\n",
       "    }\n",
       "\n",
       "    .dataframe thead th {\n",
       "        text-align: right;\n",
       "    }\n",
       "</style>\n",
       "<table border=\"1\" class=\"dataframe\">\n",
       "  <thead>\n",
       "    <tr style=\"text-align: right;\">\n",
       "      <th></th>\n",
       "      <th>category</th>\n",
       "      <th>frequency</th>\n",
       "    </tr>\n",
       "  </thead>\n",
       "  <tbody>\n",
       "    <tr>\n",
       "      <th>0</th>\n",
       "      <td>Code Style</td>\n",
       "      <td>27</td>\n",
       "    </tr>\n",
       "    <tr>\n",
       "      <th>1</th>\n",
       "      <td>Multithreading</td>\n",
       "      <td>1</td>\n",
       "    </tr>\n",
       "    <tr>\n",
       "      <th>2</th>\n",
       "      <td>Best Practices</td>\n",
       "      <td>4</td>\n",
       "    </tr>\n",
       "    <tr>\n",
       "      <th>3</th>\n",
       "      <td>Design</td>\n",
       "      <td>1</td>\n",
       "    </tr>\n",
       "    <tr>\n",
       "      <th>4</th>\n",
       "      <td>Error Prone</td>\n",
       "      <td>32</td>\n",
       "    </tr>\n",
       "  </tbody>\n",
       "</table>\n",
       "</div>"
      ],
      "text/plain": [
       "         category  frequency\n",
       "0      Code Style         27\n",
       "1  Multithreading          1\n",
       "2  Best Practices          4\n",
       "3          Design          1\n",
       "4     Error Prone         32"
      ]
     },
     "execution_count": 10,
     "metadata": {},
     "output_type": "execute_result"
    }
   ],
   "source": [
    "df.head()"
   ]
  },
  {
   "cell_type": "markdown",
   "metadata": {},
   "source": [
    "## 4. Visualisierung\n",
    "Die Daten werden mittels eines Radar Charts visualisiert (https://plot.ly/python/radar-chart/, r=frequency, theta=category)."
   ]
  },
  {
   "cell_type": "code",
   "execution_count": 11,
   "metadata": {},
   "outputs": [
    {
     "data": {
      "text/html": [
       "<iframe id=\"igraph\" scrolling=\"no\" style=\"border:none;\" seamless=\"seamless\" src=\"https://plot.ly/~laurabus/17.embed\" height=\"525px\" width=\"100%\"></iframe>"
      ],
      "text/plain": [
       "<plotly.tools.PlotlyDisplay object>"
      ]
     },
     "execution_count": 11,
     "metadata": {},
     "output_type": "execute_result"
    }
   ],
   "source": [
    "\n",
    "frequency=df['frequency'].tolist()\n",
    "\n",
    "\n",
    "category=df['category'].tolist()\n",
    "\n",
    "import plotly.plotly as py\n",
    "import plotly.graph_objs as go\n",
    "\n",
    "data = [go.Scatterpolar(\n",
    "  r = frequency,\n",
    "  theta = category,\n",
    "  fill = 'toself'\n",
    ")]\n",
    "\n",
    "layout = go.Layout(\n",
    "  polar = dict(\n",
    "    radialaxis = dict(\n",
    "      visible = True,\n",
    "      range = [0, 50]\n",
    "    )\n",
    "  ),\n",
    "  showlegend = False\n",
    ")\n",
    "\n",
    "fig = go.Figure(data=data, layout=layout)\n",
    "py.iplot(fig, filename = \"radar\")"
   ]
  },
  {
   "cell_type": "code",
   "execution_count": 13,
   "metadata": {},
   "outputs": [],
   "source": [
    "from IPython.display import display, HTML\n",
    "\n",
    "base_html = \"\"\"\n",
    "<!DOCTYPE html>\n",
    "<html>\n",
    "  <head>\n",
    "  <script type=\"text/javascript\" src=\"http://kozea.github.com/pygal.js/javascripts/svg.jquery.js\"></script>\n",
    "  <script type=\"text/javascript\" src=\"https://kozea.github.io/pygal.js/2.0.x/pygal-tooltips.min.js\"\"></script>\n",
    "  </head>\n",
    "  <body>\n",
    "    <figure>\n",
    "      {rendered_chart}\n",
    "    </figure>\n",
    "  </body>\n",
    "</html>\n",
    "\"\"\""
   ]
  },
  {
   "cell_type": "code",
   "execution_count": 16,
   "metadata": {},
   "outputs": [
    {
     "data": {
      "text/html": [
       "\n",
       "<!DOCTYPE html>\n",
       "<html>\n",
       "  <head>\n",
       "  <script type=\"text/javascript\" src=\"http://kozea.github.com/pygal.js/javascripts/svg.jquery.js\"></script>\n",
       "  <script type=\"text/javascript\" src=\"https://kozea.github.io/pygal.js/2.0.x/pygal-tooltips.min.js\"\"></script>\n",
       "  </head>\n",
       "  <body>\n",
       "    <figure>\n",
       "      <?xml version='1.0' encoding='utf-8'?>\n",
       "<svg xmlns:xlink=\"http://www.w3.org/1999/xlink\" xmlns=\"http://www.w3.org/2000/svg\" id=\"chart-505727e8-f975-4b32-8a8c-de76e30af844\" class=\"pygal-chart\" viewBox=\"0 0 800 600\"><!--Generated with pygal 2.4.0 (lxml) ©Kozea 2012-2016 on 2019-07-23--><!--http://pygal.org--><!--http://github.com/Kozea/pygal--><defs><style type=\"text/css\">#chart-505727e8-f975-4b32-8a8c-de76e30af844{-webkit-user-select:none;-webkit-font-smoothing:antialiased;font-family:Consolas,\"Liberation Mono\",Menlo,Courier,monospace}#chart-505727e8-f975-4b32-8a8c-de76e30af844 .title{font-family:Consolas,\"Liberation Mono\",Menlo,Courier,monospace;font-size:16px}#chart-505727e8-f975-4b32-8a8c-de76e30af844 .legends .legend text{font-family:Consolas,\"Liberation Mono\",Menlo,Courier,monospace;font-size:14px}#chart-505727e8-f975-4b32-8a8c-de76e30af844 .axis text{font-family:Consolas,\"Liberation Mono\",Menlo,Courier,monospace;font-size:10px}#chart-505727e8-f975-4b32-8a8c-de76e30af844 .axis text.major{font-family:Consolas,\"Liberation Mono\",Menlo,Courier,monospace;font-size:10px}#chart-505727e8-f975-4b32-8a8c-de76e30af844 .text-overlay text.value{font-family:Consolas,\"Liberation Mono\",Menlo,Courier,monospace;font-size:16px}#chart-505727e8-f975-4b32-8a8c-de76e30af844 .text-overlay text.label{font-family:Consolas,\"Liberation Mono\",Menlo,Courier,monospace;font-size:10px}#chart-505727e8-f975-4b32-8a8c-de76e30af844 .tooltip{font-family:Consolas,\"Liberation Mono\",Menlo,Courier,monospace;font-size:14px}#chart-505727e8-f975-4b32-8a8c-de76e30af844 text.no_data{font-family:Consolas,\"Liberation Mono\",Menlo,Courier,monospace;font-size:64px}\n",
       "#chart-505727e8-f975-4b32-8a8c-de76e30af844{background-color:rgba(249,249,249,1)}#chart-505727e8-f975-4b32-8a8c-de76e30af844 path,#chart-505727e8-f975-4b32-8a8c-de76e30af844 line,#chart-505727e8-f975-4b32-8a8c-de76e30af844 rect,#chart-505727e8-f975-4b32-8a8c-de76e30af844 circle{-webkit-transition:150ms;-moz-transition:150ms;transition:150ms}#chart-505727e8-f975-4b32-8a8c-de76e30af844 .graph &gt; .background{fill:rgba(249,249,249,1)}#chart-505727e8-f975-4b32-8a8c-de76e30af844 .plot &gt; .background{fill:rgba(255,255,255,1)}#chart-505727e8-f975-4b32-8a8c-de76e30af844 .graph{fill:rgba(0,0,0,.87)}#chart-505727e8-f975-4b32-8a8c-de76e30af844 text.no_data{fill:rgba(0,0,0,1)}#chart-505727e8-f975-4b32-8a8c-de76e30af844 .title{fill:rgba(0,0,0,1)}#chart-505727e8-f975-4b32-8a8c-de76e30af844 .legends .legend text{fill:rgba(0,0,0,.87)}#chart-505727e8-f975-4b32-8a8c-de76e30af844 .legends .legend:hover text{fill:rgba(0,0,0,1)}#chart-505727e8-f975-4b32-8a8c-de76e30af844 .axis .line{stroke:rgba(0,0,0,1)}#chart-505727e8-f975-4b32-8a8c-de76e30af844 .axis .guide.line{stroke:rgba(0,0,0,.54)}#chart-505727e8-f975-4b32-8a8c-de76e30af844 .axis .major.line{stroke:rgba(0,0,0,.87)}#chart-505727e8-f975-4b32-8a8c-de76e30af844 .axis text.major{fill:rgba(0,0,0,1)}#chart-505727e8-f975-4b32-8a8c-de76e30af844 .axis.y .guides:hover .guide.line,#chart-505727e8-f975-4b32-8a8c-de76e30af844 .line-graph .axis.x .guides:hover .guide.line,#chart-505727e8-f975-4b32-8a8c-de76e30af844 .stackedline-graph .axis.x .guides:hover .guide.line,#chart-505727e8-f975-4b32-8a8c-de76e30af844 .xy-graph .axis.x .guides:hover .guide.line{stroke:rgba(0,0,0,1)}#chart-505727e8-f975-4b32-8a8c-de76e30af844 .axis .guides:hover text{fill:rgba(0,0,0,1)}#chart-505727e8-f975-4b32-8a8c-de76e30af844 .reactive{fill-opacity:.7;stroke-opacity:.8}#chart-505727e8-f975-4b32-8a8c-de76e30af844 .ci{stroke:rgba(0,0,0,.87)}#chart-505727e8-f975-4b32-8a8c-de76e30af844 .reactive.active,#chart-505727e8-f975-4b32-8a8c-de76e30af844 .active .reactive{fill-opacity:.8;stroke-opacity:.9;stroke-width:4}#chart-505727e8-f975-4b32-8a8c-de76e30af844 .ci .reactive.active{stroke-width:1.5}#chart-505727e8-f975-4b32-8a8c-de76e30af844 .series text{fill:rgba(0,0,0,1)}#chart-505727e8-f975-4b32-8a8c-de76e30af844 .tooltip rect{fill:rgba(255,255,255,1);stroke:rgba(0,0,0,1);-webkit-transition:opacity 150ms;-moz-transition:opacity 150ms;transition:opacity 150ms}#chart-505727e8-f975-4b32-8a8c-de76e30af844 .tooltip .label{fill:rgba(0,0,0,.87)}#chart-505727e8-f975-4b32-8a8c-de76e30af844 .tooltip .label{fill:rgba(0,0,0,.87)}#chart-505727e8-f975-4b32-8a8c-de76e30af844 .tooltip .legend{font-size:.8em;fill:rgba(0,0,0,.54)}#chart-505727e8-f975-4b32-8a8c-de76e30af844 .tooltip .x_label{font-size:.6em;fill:rgba(0,0,0,1)}#chart-505727e8-f975-4b32-8a8c-de76e30af844 .tooltip .xlink{font-size:.5em;text-decoration:underline}#chart-505727e8-f975-4b32-8a8c-de76e30af844 .tooltip .value{font-size:1.5em}#chart-505727e8-f975-4b32-8a8c-de76e30af844 .bound{font-size:.5em}#chart-505727e8-f975-4b32-8a8c-de76e30af844 .max-value{font-size:.75em;fill:rgba(0,0,0,.54)}#chart-505727e8-f975-4b32-8a8c-de76e30af844 .map-element{fill:rgba(255,255,255,1);stroke:rgba(0,0,0,.54) !important}#chart-505727e8-f975-4b32-8a8c-de76e30af844 .map-element .reactive{fill-opacity:inherit;stroke-opacity:inherit}#chart-505727e8-f975-4b32-8a8c-de76e30af844 .color-0,#chart-505727e8-f975-4b32-8a8c-de76e30af844 .color-0 a:visited{stroke:#F44336;fill:#F44336}#chart-505727e8-f975-4b32-8a8c-de76e30af844 .text-overlay .color-0 text{fill:black}\n",
       "#chart-505727e8-f975-4b32-8a8c-de76e30af844 text.no_data{text-anchor:middle}#chart-505727e8-f975-4b32-8a8c-de76e30af844 .guide.line{fill:none}#chart-505727e8-f975-4b32-8a8c-de76e30af844 .centered{text-anchor:middle}#chart-505727e8-f975-4b32-8a8c-de76e30af844 .title{text-anchor:middle}#chart-505727e8-f975-4b32-8a8c-de76e30af844 .legends .legend text{fill-opacity:1}#chart-505727e8-f975-4b32-8a8c-de76e30af844 .axis.x text{text-anchor:middle}#chart-505727e8-f975-4b32-8a8c-de76e30af844 .axis.x:not(.web) text[transform]{text-anchor:start}#chart-505727e8-f975-4b32-8a8c-de76e30af844 .axis.x:not(.web) text[transform].backwards{text-anchor:end}#chart-505727e8-f975-4b32-8a8c-de76e30af844 .axis.y text{text-anchor:end}#chart-505727e8-f975-4b32-8a8c-de76e30af844 .axis.y text[transform].backwards{text-anchor:start}#chart-505727e8-f975-4b32-8a8c-de76e30af844 .axis.y2 text{text-anchor:start}#chart-505727e8-f975-4b32-8a8c-de76e30af844 .axis.y2 text[transform].backwards{text-anchor:end}#chart-505727e8-f975-4b32-8a8c-de76e30af844 .axis .guide.line{stroke-dasharray:4,4}#chart-505727e8-f975-4b32-8a8c-de76e30af844 .axis .major.guide.line{stroke-dasharray:6,6}#chart-505727e8-f975-4b32-8a8c-de76e30af844 .horizontal .axis.y .guide.line,#chart-505727e8-f975-4b32-8a8c-de76e30af844 .horizontal .axis.y2 .guide.line,#chart-505727e8-f975-4b32-8a8c-de76e30af844 .vertical .axis.x .guide.line{opacity:0}#chart-505727e8-f975-4b32-8a8c-de76e30af844 .horizontal .axis.always_show .guide.line,#chart-505727e8-f975-4b32-8a8c-de76e30af844 .vertical .axis.always_show .guide.line{opacity:1 !important}#chart-505727e8-f975-4b32-8a8c-de76e30af844 .axis.y .guides:hover .guide.line,#chart-505727e8-f975-4b32-8a8c-de76e30af844 .axis.y2 .guides:hover .guide.line,#chart-505727e8-f975-4b32-8a8c-de76e30af844 .axis.x .guides:hover .guide.line{opacity:1}#chart-505727e8-f975-4b32-8a8c-de76e30af844 .axis .guides:hover text{opacity:1}#chart-505727e8-f975-4b32-8a8c-de76e30af844 .nofill{fill:none}#chart-505727e8-f975-4b32-8a8c-de76e30af844 .subtle-fill{fill-opacity:.2}#chart-505727e8-f975-4b32-8a8c-de76e30af844 .dot{stroke-width:1px;fill-opacity:1}#chart-505727e8-f975-4b32-8a8c-de76e30af844 .dot.active{stroke-width:5px}#chart-505727e8-f975-4b32-8a8c-de76e30af844 .dot.negative{fill:transparent}#chart-505727e8-f975-4b32-8a8c-de76e30af844 text,#chart-505727e8-f975-4b32-8a8c-de76e30af844 tspan{stroke:none !important}#chart-505727e8-f975-4b32-8a8c-de76e30af844 .series text.active{opacity:1}#chart-505727e8-f975-4b32-8a8c-de76e30af844 .tooltip rect{fill-opacity:.95;stroke-width:.5}#chart-505727e8-f975-4b32-8a8c-de76e30af844 .tooltip text{fill-opacity:1}#chart-505727e8-f975-4b32-8a8c-de76e30af844 .showable{visibility:hidden}#chart-505727e8-f975-4b32-8a8c-de76e30af844 .showable.shown{visibility:visible}#chart-505727e8-f975-4b32-8a8c-de76e30af844 .gauge-background{fill:rgba(229,229,229,1);stroke:none}#chart-505727e8-f975-4b32-8a8c-de76e30af844 .bg-lines{stroke:rgba(249,249,249,1);stroke-width:2px}</style><script type=\"text/javascript\">window.pygal = window.pygal || {};window.pygal.config = window.pygal.config || {};window.pygal.config['505727e8-f975-4b32-8a8c-de76e30af844'] = {\"allow_interruptions\": false, \"box_mode\": \"extremes\", \"classes\": [\"pygal-chart\"], \"css\": [\"file://style.css\", \"file://graph.css\"], \"defs\": [], \"disable_xml_declaration\": false, \"dots_size\": 2.5, \"dynamic_print_values\": false, \"explicit_size\": false, \"fill\": false, \"force_uri_protocol\": \"https\", \"formatter\": null, \"half_pie\": false, \"height\": 600, \"include_x_axis\": false, \"inner_radius\": 0, \"interpolate\": null, \"interpolation_parameters\": {}, \"interpolation_precision\": 250, \"inverse_y_axis\": false, \"js\": [\"//kozea.github.io/pygal.js/2.0.x/pygal-tooltips.min.js\"], \"legend_at_bottom\": false, \"legend_at_bottom_columns\": null, \"legend_box_size\": 12, \"logarithmic\": false, \"margin\": 20, \"margin_bottom\": null, \"margin_left\": null, \"margin_right\": null, \"margin_top\": null, \"max_scale\": 16, \"min_scale\": 4, \"missing_value_fill_truncation\": \"x\", \"no_data_text\": \"No data\", \"no_prefix\": false, \"order_min\": null, \"pretty_print\": false, \"print_labels\": false, \"print_values\": false, \"print_values_position\": \"center\", \"print_zeroes\": true, \"range\": null, \"rounded_bars\": null, \"secondary_range\": null, \"show_dots\": true, \"show_legend\": true, \"show_minor_x_labels\": true, \"show_minor_y_labels\": true, \"show_only_major_dots\": false, \"show_x_guides\": false, \"show_x_labels\": true, \"show_y_guides\": true, \"show_y_labels\": true, \"spacing\": 10, \"stack_from_top\": false, \"strict\": false, \"stroke\": true, \"stroke_style\": null, \"style\": {\"background\": \"rgba(249, 249, 249, 1)\", \"ci_colors\": [], \"colors\": [\"#F44336\", \"#3F51B5\", \"#009688\", \"#FFC107\", \"#FF5722\", \"#9C27B0\", \"#03A9F4\", \"#8BC34A\", \"#FF9800\", \"#E91E63\", \"#2196F3\", \"#4CAF50\", \"#FFEB3B\", \"#673AB7\", \"#00BCD4\", \"#CDDC39\", \"#9E9E9E\", \"#607D8B\"], \"font_family\": \"Consolas, \\\"Liberation Mono\\\", Menlo, Courier, monospace\", \"foreground\": \"rgba(0, 0, 0, .87)\", \"foreground_strong\": \"rgba(0, 0, 0, 1)\", \"foreground_subtle\": \"rgba(0, 0, 0, .54)\", \"guide_stroke_dasharray\": \"4,4\", \"label_font_family\": \"Consolas, \\\"Liberation Mono\\\", Menlo, Courier, monospace\", \"label_font_size\": 10, \"legend_font_family\": \"Consolas, \\\"Liberation Mono\\\", Menlo, Courier, monospace\", \"legend_font_size\": 14, \"major_guide_stroke_dasharray\": \"6,6\", \"major_label_font_family\": \"Consolas, \\\"Liberation Mono\\\", Menlo, Courier, monospace\", \"major_label_font_size\": 10, \"no_data_font_family\": \"Consolas, \\\"Liberation Mono\\\", Menlo, Courier, monospace\", \"no_data_font_size\": 64, \"opacity\": \".7\", \"opacity_hover\": \".8\", \"plot_background\": \"rgba(255, 255, 255, 1)\", \"stroke_opacity\": \".8\", \"stroke_opacity_hover\": \".9\", \"title_font_family\": \"Consolas, \\\"Liberation Mono\\\", Menlo, Courier, monospace\", \"title_font_size\": 16, \"tooltip_font_family\": \"Consolas, \\\"Liberation Mono\\\", Menlo, Courier, monospace\", \"tooltip_font_size\": 14, \"transition\": \"150ms\", \"value_background\": \"rgba(229, 229, 229, 1)\", \"value_colors\": [], \"value_font_family\": \"Consolas, \\\"Liberation Mono\\\", Menlo, Courier, monospace\", \"value_font_size\": 16, \"value_label_font_family\": \"Consolas, \\\"Liberation Mono\\\", Menlo, Courier, monospace\", \"value_label_font_size\": 10}, \"title\": \"Programmierverst\\u00f6\\u00dfe\", \"tooltip_border_radius\": 0, \"tooltip_fancy_mode\": true, \"truncate_label\": null, \"truncate_legend\": null, \"width\": 800, \"x_label_rotation\": 0, \"x_labels\": [\"Code Style\", \"Multithreading\", \"Best Practices\", \"Design\", \"Error Prone\"], \"x_labels_major\": null, \"x_labels_major_count\": null, \"x_labels_major_every\": null, \"x_title\": null, \"xrange\": null, \"y_label_rotation\": 0, \"y_labels\": null, \"y_labels_major\": null, \"y_labels_major_count\": null, \"y_labels_major_every\": null, \"y_title\": null, \"zero\": 0, \"legends\": [\"Anzahl der Programmierverst\\u00f6\\u00dfe\"]}</script><script type=\"text/javascript\" xlink:href=\"https://kozea.github.io/pygal.js/2.0.x/pygal-tooltips.min.js\"/></defs><title>Programmierverstöße</title><g class=\"graph radar-graph vertical\"><rect class=\"background\" height=\"600\" width=\"800\" x=\"0\" y=\"0\"/><g class=\"plot\" transform=\"translate(190, 46)\"><rect class=\"background\" height=\"514\" width=\"590.0\" x=\"0\" y=\"0\"/><g class=\"axis y web\"><g class=\"guides\"><path class=\"guide line\" d=\"M295.000000 19.037037 L35.220674 183.465400 134.447547 449.516081 455.552453 449.516081 554.779326 183.465400 295.000000 19.037037 Z\"/><text class=\"\" x=\"290.0\" y=\"19.03703703703701\">32</text><title>32</title></g><g class=\"guides\"><path class=\"guide line\" d=\"M295.000000 48.782407 L67.693090 192.657225 154.516603 425.451571 435.483397 425.451571 522.306910 192.657225 295.000000 48.782407 Z\"/><text class=\"\" x=\"290.0\" y=\"48.78240740740745\">28</text><title>28</title></g><g class=\"guides\"><path class=\"guide line\" d=\"M295.000000 78.527778 L100.165505 201.849050 174.585660 401.387061 415.414340 401.387061 489.834495 201.849050 295.000000 78.527778 Z\"/><text class=\"\" x=\"290.0\" y=\"78.52777777777783\">24</text><title>24</title></g><g class=\"guides\"><path class=\"major guide line\" d=\"M295.000000 108.273148 L132.637921 211.040875 194.654717 377.322551 395.345283 377.322551 457.362079 211.040875 295.000000 108.273148 Z\"/><text class=\"major\" x=\"290.0\" y=\"108.27314814814815\">20</text><title>20</title></g><g class=\"guides\"><path class=\"guide line\" d=\"M295.000000 138.018519 L165.110337 220.232700 214.723773 353.258041 375.276227 353.258041 424.889663 220.232700 295.000000 138.018519 Z\"/><text class=\"\" x=\"290.0\" y=\"138.01851851851853\">16</text><title>16</title></g><g class=\"guides\"><path class=\"guide line\" d=\"M295.000000 167.763889 L197.582753 229.424525 234.792830 329.193530 355.207170 329.193530 392.417247 229.424525 295.000000 167.763889 Z\"/><text class=\"\" x=\"290.0\" y=\"167.7638888888889\">12</text><title>12</title></g><g class=\"guides\"><path class=\"guide line\" d=\"M295.000000 197.509259 L230.055168 238.616350 254.861887 305.129020 335.138113 305.129020 359.944832 238.616350 295.000000 197.509259 Z\"/><text class=\"\" x=\"290.0\" y=\"197.5092592592593\">8</text><title>8</title></g><g class=\"guides\"><path class=\"guide line\" d=\"M295.000000 227.254630 L262.527584 247.808175 274.930943 281.064510 315.069057 281.064510 327.472416 247.808175 295.000000 227.254630 Z\"/><text class=\"\" x=\"290.0\" y=\"227.25462962962962\">4</text><title>4</title></g><g class=\"guides\"><path class=\"major guide line\" d=\"M295.000000 257.000000 L295.000000 257.000000 295.000000 257.000000 295.000000 257.000000 295.000000 257.000000 295.000000 257.000000 Z\"/><text class=\"major\" x=\"290.0\" y=\"257.0\">0</text><title>0</title></g></g><g class=\"axis x web\"><g class=\"guides\"><path class=\"line\" d=\"M295.000000 257.000000 L295.000000 19.037037\"/><text class=\"\" x=\"295.0\" y=\"5.140000000000043\" transform=\"rotate(0.000000 295.000000 5.140000)\">Code Style</text><title>1.570796327</title></g><g class=\"guides\"><path class=\"line\" d=\"M295.000000 257.000000 L35.220674 183.465400\"/><text class=\"\" x=\"20.049561139071155\" y=\"179.1709797967257\" transform=\"rotate(-72.000000 20.049561 179.170980)\">Multithreading</text><title>2.827433388</title></g><g class=\"guides\"><path class=\"line\" d=\"M295.000000 257.000000 L134.447547 449.516081\"/><text class=\"\" x=\"125.07128356224601\" y=\"460.75902020327425\" transform=\"rotate(-324.000000 125.071284 460.759020)\">Best Practices</text><title>4.08407045</title></g><g class=\"guides\"><path class=\"line\" d=\"M295.000000 257.000000 L455.552453 449.516081\"/><text class=\"\" x=\"464.9287164377539\" y=\"460.7590202032743\" transform=\"rotate(-396.000000 464.928716 460.759020)\">Design</text><title>5.340707511</title></g><g class=\"guides\"><path class=\"line\" d=\"M295.000000 257.000000 L554.779326 183.465400\"/><text class=\"\" x=\"569.9504388609289\" y=\"179.17097979672576\" transform=\"rotate(-288.000000 569.950439 179.170980)\">Error Prone</text><title>6.597344573</title></g></g><g class=\"series serie-0 color-0\"><path class=\"line reactive nofill\" d=\"M295.000000 56.218750 L286.881896 254.702044 274.930943 281.064510 300.017264 263.016128 554.779326 183.465400 Z\"/></g></g><g class=\"titles\"><text class=\"title plot_title\" x=\"400.0\" y=\"26\">Programmierverstöße</text></g><g class=\"plot overlay\" transform=\"translate(190, 46)\"><g class=\"series serie-0 color-0\"><g class=\"dots\"><circle class=\"dot reactive tooltip-trigger\" cx=\"295.0\" cy=\"56.21875\" r=\"2.5\"/><desc class=\"value\">27</desc><desc class=\"x \">295.0</desc><desc class=\"y \">56.21875</desc><desc class=\"x_label\">Code Style</desc></g><g class=\"dots\"><circle class=\"dot reactive tooltip-trigger\" cx=\"286.88189605592964\" cy=\"254.70204376289462\" r=\"2.5\"/><desc class=\"value\">1</desc><desc class=\"x \">286.88189605592964</desc><desc class=\"y \">254.70204376289462</desc><desc class=\"x_label\">Multithreading</desc></g><g class=\"dots\"><circle class=\"dot reactive tooltip-trigger\" cx=\"274.9309433534399\" cy=\"281.06451013360663\" r=\"2.5\"/><desc class=\"value\">4</desc><desc class=\"x top\">274.9309433534399</desc><desc class=\"y top\">281.06451013360663</desc><desc class=\"x_label\">Best Practices</desc></g><g class=\"dots\"><circle class=\"dot reactive tooltip-trigger\" cx=\"300.01726416164\" cy=\"263.0161275334017\" r=\"2.5\"/><desc class=\"value\">1</desc><desc class=\"x left top\">300.01726416164</desc><desc class=\"y left top\">263.0161275334017</desc><desc class=\"x_label\">Design</desc></g><g class=\"dots\"><circle class=\"dot reactive tooltip-trigger\" cx=\"554.7793262102504\" cy=\"183.4654004126283\" r=\"2.5\"/><desc class=\"value\">32</desc><desc class=\"x left\">554.7793262102504</desc><desc class=\"y left\">183.4654004126283</desc><desc class=\"x_label\">Error Prone</desc></g></g></g><g class=\"plot text-overlay\" transform=\"translate(190, 46)\"><g class=\"series serie-0 color-0\"/></g><g class=\"plot tooltip-overlay\" transform=\"translate(190, 46)\"><g class=\"tooltip\" style=\"opacity: 0\" transform=\"translate(0 0)\"><rect class=\"tooltip-box\" height=\"0\" rx=\"0\" ry=\"0\" width=\"0\"/><g class=\"text\"/></g></g><g class=\"legends\" transform=\"translate(10, 56)\"><g class=\"legend reactive activate-serie\" id=\"activate-serie-0\"><rect class=\"color-0 reactive\" height=\"12\" width=\"12\" x=\"0.0\" y=\"1.0\"/><text x=\"17.0\" y=\"11.2\">Anzahl der Pro…</text><title>Anzahl der Programmierverstöße</title></g></g><g class=\"legends\" transform=\"translate(790, 56)\"/></g></svg>\n",
       "    </figure>\n",
       "  </body>\n",
       "</html>\n"
      ],
      "text/plain": [
       "<IPython.core.display.HTML object>"
      ]
     },
     "metadata": {},
     "output_type": "display_data"
    }
   ],
   "source": [
    "import pygal\n",
    "radar_chart = pygal.Radar()\n",
    "radar_chart.title = 'Programmierverstöße'\n",
    "radar_chart.x_labels = category\n",
    "radar_chart.add('Anzahl der Programmierverstöße', frequency)\n",
    "\n",
    "display(HTML(base_html.format(rendered_chart=radar_chart.render(is_unicode=True))))"
   ]
  },
  {
   "cell_type": "code",
   "execution_count": null,
   "metadata": {},
   "outputs": [],
   "source": [
    "for einzelneKategorie in category:\n",
    "    index= category.index(einzelneKategorie)\n",
    "    #dazugehörige frequency herausbekommen\n",
    "    häufigkeit=frequency[index]\n",
    "    radar_chart.add(einzelneKategorie,häufigkeit)"
   ]
  },
  {
   "cell_type": "code",
   "execution_count": null,
   "metadata": {},
   "outputs": [],
   "source": []
  },
  {
   "cell_type": "code",
   "execution_count": null,
   "metadata": {},
   "outputs": [],
   "source": []
  }
 ],
 "metadata": {
  "kernelspec": {
   "display_name": "Python [conda env:BeLL]",
   "language": "python",
   "name": "conda-env-BeLL-py"
  },
  "language_info": {
   "codemirror_mode": {
    "name": "ipython",
    "version": 3
   },
   "file_extension": ".py",
   "mimetype": "text/x-python",
   "name": "python",
   "nbconvert_exporter": "python",
   "pygments_lexer": "ipython3",
   "version": "3.6.4"
  }
 },
 "nbformat": 4,
 "nbformat_minor": 2
}
