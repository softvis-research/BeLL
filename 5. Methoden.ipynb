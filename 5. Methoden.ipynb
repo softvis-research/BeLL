{
 "cells": [
  {
   "cell_type": "markdown",
   "metadata": {
    "extensions": {
     "jupyter_dashboards": {
      "version": 1,
      "views": {
       "grid_default": {
        "col": 0,
        "height": 4,
        "hidden": false,
        "row": 0,
        "width": 4
       },
       "report_default": {
        "hidden": false
       }
      }
     }
    }
   },
   "source": [
    "# Was sind die größten und komplexesten Methoden?"
   ]
  },
  {
   "cell_type": "markdown",
   "metadata": {
    "extensions": {
     "jupyter_dashboards": {
      "version": 1,
      "views": {
       "grid_default": {
        "col": 4,
        "height": 4,
        "hidden": false,
        "row": 0,
        "width": 4
       },
       "report_default": {
        "hidden": false
       }
      }
     }
    }
   },
   "source": [
    "## 1. Verbindung zur Datenbank\n",
    "Es wird eine Verbindung zur Neo4j-Datenbank aufgebaut."
   ]
  },
  {
   "cell_type": "code",
   "execution_count": 1,
   "metadata": {
    "extensions": {
     "jupyter_dashboards": {
      "version": 1,
      "views": {
       "grid_default": {
        "hidden": true
       },
       "report_default": {
        "hidden": true
       }
      }
     }
    }
   },
   "outputs": [],
   "source": [
    "import py2neo\n",
    "\n",
    "graph = py2neo.Graph(bolt=True, host='localhost', user='neo4j', password='neo4j')"
   ]
  },
  {
   "cell_type": "markdown",
   "metadata": {
    "extensions": {
     "jupyter_dashboards": {
      "version": 1,
      "views": {
       "grid_default": {
        "col": 0,
        "height": 4,
        "hidden": false,
        "row": 4,
        "width": 12
       },
       "report_default": {
        "hidden": false
       }
      }
     }
    }
   },
   "source": [
    "## 2. Cypher-Abfrage\n",
    "Es wird eine Abfrage an die Datenbank gestellt. Das Ergebnis wird in einem Dataframe (pandas) gespeichert."
   ]
  },
  {
   "cell_type": "code",
   "execution_count": 2,
   "metadata": {
    "extensions": {
     "jupyter_dashboards": {
      "version": 1,
      "views": {
       "grid_default": {
        "hidden": true
       },
       "report_default": {
        "hidden": true
       }
      }
     }
    }
   },
   "outputs": [],
   "source": [
    "import pandas as pd\n",
    "\n",
    "query =\"MATCH (t:Type)-[:HAS_SOURCE]->(f), (t)-[:DECLARES]->(m:Method) RETURN DISTINCT t.fqn as type, m.signature as signature,  m.effectiveLineCount as loc, m.cyclomaticComplexity as complexity\"\n",
    "df = pd.DataFrame(graph.run(query).data())\n"
   ]
  },
  {
   "cell_type": "markdown",
   "metadata": {
    "extensions": {
     "jupyter_dashboards": {
      "version": 1,
      "views": {
       "grid_default": {
        "col": 8,
        "height": 4,
        "hidden": false,
        "row": 0,
        "width": 4
       },
       "report_default": {
        "hidden": false
       }
      }
     }
    }
   },
   "source": [
    "## 3. Datenaufbereitung\n",
    "Zur Kontrolle werden die ersten fünf Zeilen des Ergebnisses der Abfrage als Tabelle ausgegeben."
   ]
  },
  {
   "cell_type": "code",
   "execution_count": 3,
   "metadata": {
    "extensions": {
     "jupyter_dashboards": {
      "version": 1,
      "views": {
       "grid_default": {
        "col": 0,
        "height": 7,
        "hidden": false,
        "row": 8,
        "width": 8
       },
       "report_default": {
        "hidden": false
       }
      }
     }
    }
   },
   "outputs": [
    {
     "data": {
      "text/html": [
       "<div>\n",
       "<style scoped>\n",
       "    .dataframe tbody tr th:only-of-type {\n",
       "        vertical-align: middle;\n",
       "    }\n",
       "\n",
       "    .dataframe tbody tr th {\n",
       "        vertical-align: top;\n",
       "    }\n",
       "\n",
       "    .dataframe thead th {\n",
       "        text-align: right;\n",
       "    }\n",
       "</style>\n",
       "<table border=\"1\" class=\"dataframe\">\n",
       "  <thead>\n",
       "    <tr style=\"text-align: right;\">\n",
       "      <th></th>\n",
       "      <th>complexity</th>\n",
       "      <th>loc</th>\n",
       "      <th>signature</th>\n",
       "      <th>type</th>\n",
       "    </tr>\n",
       "  </thead>\n",
       "  <tbody>\n",
       "    <tr>\n",
       "      <th>0</th>\n",
       "      <td>1.0</td>\n",
       "      <td>5.0</td>\n",
       "      <td>void correctCallbacksCalled()</td>\n",
       "      <td>org.junit.rules.TestWatcherTest$Callbacks</td>\n",
       "    </tr>\n",
       "    <tr>\n",
       "      <th>1</th>\n",
       "      <td>1.0</td>\n",
       "      <td>1.0</td>\n",
       "      <td>void &lt;init&gt;()</td>\n",
       "      <td>org.junit.rules.TestWatcherTest$Callbacks</td>\n",
       "    </tr>\n",
       "    <tr>\n",
       "      <th>2</th>\n",
       "      <td>1.0</td>\n",
       "      <td>21.0</td>\n",
       "      <td>void testWatcherDoesNotModifyResult()</td>\n",
       "      <td>org.junit.rules.TestWatcherTest$Callbacks</td>\n",
       "    </tr>\n",
       "    <tr>\n",
       "      <th>3</th>\n",
       "      <td>1.0</td>\n",
       "      <td>1.0</td>\n",
       "      <td>org.junit.rules.TestRule access$0()</td>\n",
       "      <td>org.junit.rules.TestWatcherTest$Callbacks</td>\n",
       "    </tr>\n",
       "    <tr>\n",
       "      <th>4</th>\n",
       "      <td>1.0</td>\n",
       "      <td>17.0</td>\n",
       "      <td>java.lang.Object[][] parameters()</td>\n",
       "      <td>org.junit.rules.TestWatcherTest$Callbacks</td>\n",
       "    </tr>\n",
       "  </tbody>\n",
       "</table>\n",
       "</div>"
      ],
      "text/plain": [
       "   complexity   loc                              signature  \\\n",
       "0         1.0   5.0          void correctCallbacksCalled()   \n",
       "1         1.0   1.0                          void <init>()   \n",
       "2         1.0  21.0  void testWatcherDoesNotModifyResult()   \n",
       "3         1.0   1.0    org.junit.rules.TestRule access$0()   \n",
       "4         1.0  17.0      java.lang.Object[][] parameters()   \n",
       "\n",
       "                                        type  \n",
       "0  org.junit.rules.TestWatcherTest$Callbacks  \n",
       "1  org.junit.rules.TestWatcherTest$Callbacks  \n",
       "2  org.junit.rules.TestWatcherTest$Callbacks  \n",
       "3  org.junit.rules.TestWatcherTest$Callbacks  \n",
       "4  org.junit.rules.TestWatcherTest$Callbacks  "
      ]
     },
     "execution_count": 3,
     "metadata": {},
     "output_type": "execute_result"
    }
   ],
   "source": [
    "df.head()"
   ]
  },
  {
   "cell_type": "markdown",
   "metadata": {
    "extensions": {
     "jupyter_dashboards": {
      "version": 1,
      "views": {
       "grid_default": {
        "col": 0,
        "height": 4,
        "hidden": false,
        "row": 15,
        "width": 12
       },
       "report_default": {
        "hidden": false
       }
      }
     }
    }
   },
   "source": [
    "Im folgenden Codeabschnitt wird das Dataframe absteigend entsprechend der Anzahl der Quelltextzeilen (loc) mit der Methode ```sort_values``` sortiert und die ersten 10 Zeilen der Spalten ```loc```, ```signature``` und ```type``` im Dataframe ```loc_df``` abgebildet (https://www.data-science-architect.de/selektieren-von-daten-in-dataframes/)."
   ]
  },
  {
   "cell_type": "code",
   "execution_count": 4,
   "metadata": {
    "extensions": {
     "jupyter_dashboards": {
      "version": 1,
      "views": {
       "grid_default": {
        "col": 0,
        "height": 30,
        "hidden": false,
        "row": 19,
        "width": 4
       },
       "report_default": {
        "hidden": false
       }
      }
     }
    }
   },
   "outputs": [
    {
     "data": {
      "text/html": [
       "<div>\n",
       "<style scoped>\n",
       "    .dataframe tbody tr th:only-of-type {\n",
       "        vertical-align: middle;\n",
       "    }\n",
       "\n",
       "    .dataframe tbody tr th {\n",
       "        vertical-align: top;\n",
       "    }\n",
       "\n",
       "    .dataframe thead th {\n",
       "        text-align: right;\n",
       "    }\n",
       "</style>\n",
       "<table border=\"1\" class=\"dataframe\">\n",
       "  <thead>\n",
       "    <tr style=\"text-align: right;\">\n",
       "      <th></th>\n",
       "      <th>loc</th>\n",
       "      <th>signature</th>\n",
       "      <th>type</th>\n",
       "    </tr>\n",
       "  </thead>\n",
       "  <tbody>\n",
       "    <tr>\n",
       "      <th>1121</th>\n",
       "      <td>60.0</td>\n",
       "      <td>java.lang.Object[][] testsWithEventMatcher()</td>\n",
       "      <td>org.junit.rules.ErrorCollectorTest</td>\n",
       "    </tr>\n",
       "    <tr>\n",
       "      <th>1123</th>\n",
       "      <td>55.0</td>\n",
       "      <td>java.util.Collection testsWithEventMatcher()</td>\n",
       "      <td>org.junit.rules.ExpectedExceptionTest</td>\n",
       "    </tr>\n",
       "    <tr>\n",
       "      <th>937</th>\n",
       "      <td>35.0</td>\n",
       "      <td>void arrayEquals(java.lang.String,java.lang.Ob...</td>\n",
       "      <td>org.junit.internal.ComparisonCriteria</td>\n",
       "    </tr>\n",
       "    <tr>\n",
       "      <th>3525</th>\n",
       "      <td>34.0</td>\n",
       "      <td>junit.framework.Test getTest(java.lang.String)</td>\n",
       "      <td>junit.runner.BaseTestRunner</td>\n",
       "    </tr>\n",
       "    <tr>\n",
       "      <th>3477</th>\n",
       "      <td>29.0</td>\n",
       "      <td>java.lang.Object createTestUsingFieldInjection()</td>\n",
       "      <td>org.junit.runners.parameterized.BlockJUnit4Cla...</td>\n",
       "    </tr>\n",
       "    <tr>\n",
       "      <th>5731</th>\n",
       "      <td>28.0</td>\n",
       "      <td>void &lt;clinit&gt;()</td>\n",
       "      <td>org.junit.internal.runners.rules.RuleMemberVal...</td>\n",
       "    </tr>\n",
       "    <tr>\n",
       "      <th>3082</th>\n",
       "      <td>26.0</td>\n",
       "      <td>void setUp()</td>\n",
       "      <td>junit.tests.runner.StackFilterTest</td>\n",
       "    </tr>\n",
       "    <tr>\n",
       "      <th>3916</th>\n",
       "      <td>25.0</td>\n",
       "      <td>junit.framework.TestResult start(java.lang.Str...</td>\n",
       "      <td>junit.textui.TestRunner</td>\n",
       "    </tr>\n",
       "    <tr>\n",
       "      <th>3464</th>\n",
       "      <td>24.0</td>\n",
       "      <td>void validateFields(java.util.List)</td>\n",
       "      <td>org.junit.runners.parameterized.BlockJUnit4Cla...</td>\n",
       "    </tr>\n",
       "    <tr>\n",
       "      <th>4604</th>\n",
       "      <td>24.0</td>\n",
       "      <td>void usesPassedInClassObject()</td>\n",
       "      <td>org.junit.tests.experimental.max.DescriptionTest</td>\n",
       "    </tr>\n",
       "  </tbody>\n",
       "</table>\n",
       "</div>"
      ],
      "text/plain": [
       "       loc                                          signature  \\\n",
       "1121  60.0       java.lang.Object[][] testsWithEventMatcher()   \n",
       "1123  55.0       java.util.Collection testsWithEventMatcher()   \n",
       "937   35.0  void arrayEquals(java.lang.String,java.lang.Ob...   \n",
       "3525  34.0     junit.framework.Test getTest(java.lang.String)   \n",
       "3477  29.0   java.lang.Object createTestUsingFieldInjection()   \n",
       "5731  28.0                                    void <clinit>()   \n",
       "3082  26.0                                       void setUp()   \n",
       "3916  25.0  junit.framework.TestResult start(java.lang.Str...   \n",
       "3464  24.0                void validateFields(java.util.List)   \n",
       "4604  24.0                     void usesPassedInClassObject()   \n",
       "\n",
       "                                                   type  \n",
       "1121                 org.junit.rules.ErrorCollectorTest  \n",
       "1123              org.junit.rules.ExpectedExceptionTest  \n",
       "937               org.junit.internal.ComparisonCriteria  \n",
       "3525                        junit.runner.BaseTestRunner  \n",
       "3477  org.junit.runners.parameterized.BlockJUnit4Cla...  \n",
       "5731  org.junit.internal.runners.rules.RuleMemberVal...  \n",
       "3082                 junit.tests.runner.StackFilterTest  \n",
       "3916                            junit.textui.TestRunner  \n",
       "3464  org.junit.runners.parameterized.BlockJUnit4Cla...  \n",
       "4604   org.junit.tests.experimental.max.DescriptionTest  "
      ]
     },
     "execution_count": 4,
     "metadata": {},
     "output_type": "execute_result"
    }
   ],
   "source": [
    "# Sortiere das Dataframe nach der Anzahl der Quelltextzeilen (loc).\n",
    "df = df.sort_values('loc',ascending=False)\n",
    "# Extrahiere die Spalten loc, signature und type und speichere sie im Dataframe loc_df.\n",
    "loc_df = df[['loc','signature','type']][0:10]\n",
    "loc_df.head(10)"
   ]
  },
  {
   "cell_type": "markdown",
   "metadata": {
    "extensions": {
     "jupyter_dashboards": {
      "version": 1,
      "views": {
       "grid_default": {
        "col": 0,
        "height": 4,
        "hidden": false,
        "row": 49,
        "width": 12
       },
       "report_default": {
        "hidden": false
       }
      }
     }
    }
   },
   "source": [
    "Im folgenden Codeabschnitt wird das Dataframe absteigend entsprechend der Komplexität (complexity) mit der Methode ```sort_values``` sortiert und die ersten 10 Zeilen der Spalten ```complexity```, ```signature``` und ```type``` im Dataframe ```complexity_df``` abgebildet (https://www.data-science-architect.de/selektieren-von-daten-in-dataframes/)."
   ]
  },
  {
   "cell_type": "code",
   "execution_count": 5,
   "metadata": {
    "extensions": {
     "jupyter_dashboards": {
      "version": 1,
      "views": {
       "grid_default": {
        "col": 4,
        "height": 26,
        "hidden": false,
        "row": 19,
        "width": 4
       },
       "report_default": {
        "hidden": false
       }
      }
     }
    }
   },
   "outputs": [
    {
     "data": {
      "text/html": [
       "<div>\n",
       "<style scoped>\n",
       "    .dataframe tbody tr th:only-of-type {\n",
       "        vertical-align: middle;\n",
       "    }\n",
       "\n",
       "    .dataframe tbody tr th {\n",
       "        vertical-align: top;\n",
       "    }\n",
       "\n",
       "    .dataframe thead th {\n",
       "        text-align: right;\n",
       "    }\n",
       "</style>\n",
       "<table border=\"1\" class=\"dataframe\">\n",
       "  <thead>\n",
       "    <tr style=\"text-align: right;\">\n",
       "      <th></th>\n",
       "      <th>complexity</th>\n",
       "      <th>signature</th>\n",
       "      <th>type</th>\n",
       "    </tr>\n",
       "  </thead>\n",
       "  <tbody>\n",
       "    <tr>\n",
       "      <th>937</th>\n",
       "      <td>18.0</td>\n",
       "      <td>void arrayEquals(java.lang.String,java.lang.Ob...</td>\n",
       "      <td>org.junit.internal.ComparisonCriteria</td>\n",
       "    </tr>\n",
       "    <tr>\n",
       "      <th>5375</th>\n",
       "      <td>13.0</td>\n",
       "      <td>java.lang.String[] parseOptions(java.lang.Stri...</td>\n",
       "      <td>org.junit.runner.JUnitCommandLineParseResult</td>\n",
       "    </tr>\n",
       "    <tr>\n",
       "      <th>3916</th>\n",
       "      <td>13.0</td>\n",
       "      <td>junit.framework.TestResult start(java.lang.Str...</td>\n",
       "      <td>junit.textui.TestRunner</td>\n",
       "    </tr>\n",
       "    <tr>\n",
       "      <th>3517</th>\n",
       "      <td>12.0</td>\n",
       "      <td>void readPreferences()</td>\n",
       "      <td>junit.runner.BaseTestRunner</td>\n",
       "    </tr>\n",
       "    <tr>\n",
       "      <th>5939</th>\n",
       "      <td>12.0</td>\n",
       "      <td>void evaluate()</td>\n",
       "      <td>org.junit.internal.runners.statements.RunAfters</td>\n",
       "    </tr>\n",
       "    <tr>\n",
       "      <th>3162</th>\n",
       "      <td>12.0</td>\n",
       "      <td>void execTest(java.lang.String,boolean)</td>\n",
       "      <td>junit.tests.runner.TextRunnerTest</td>\n",
       "    </tr>\n",
       "    <tr>\n",
       "      <th>3464</th>\n",
       "      <td>12.0</td>\n",
       "      <td>void validateFields(java.util.List)</td>\n",
       "      <td>org.junit.runners.parameterized.BlockJUnit4Cla...</td>\n",
       "    </tr>\n",
       "    <tr>\n",
       "      <th>3529</th>\n",
       "      <td>11.0</td>\n",
       "      <td>java.lang.String processArguments(java.lang.St...</td>\n",
       "      <td>junit.runner.BaseTestRunner</td>\n",
       "    </tr>\n",
       "    <tr>\n",
       "      <th>5875</th>\n",
       "      <td>10.0</td>\n",
       "      <td>java.util.List getCauseStackTraceLines(java.la...</td>\n",
       "      <td>org.junit.internal.Throwables</td>\n",
       "    </tr>\n",
       "    <tr>\n",
       "      <th>5126</th>\n",
       "      <td>10.0</td>\n",
       "      <td>java.io.File newFolder(java.lang.String[])</td>\n",
       "      <td>org.junit.rules.TemporaryFolder</td>\n",
       "    </tr>\n",
       "  </tbody>\n",
       "</table>\n",
       "</div>"
      ],
      "text/plain": [
       "      complexity                                          signature  \\\n",
       "937         18.0  void arrayEquals(java.lang.String,java.lang.Ob...   \n",
       "5375        13.0  java.lang.String[] parseOptions(java.lang.Stri...   \n",
       "3916        13.0  junit.framework.TestResult start(java.lang.Str...   \n",
       "3517        12.0                             void readPreferences()   \n",
       "5939        12.0                                    void evaluate()   \n",
       "3162        12.0            void execTest(java.lang.String,boolean)   \n",
       "3464        12.0                void validateFields(java.util.List)   \n",
       "3529        11.0  java.lang.String processArguments(java.lang.St...   \n",
       "5875        10.0  java.util.List getCauseStackTraceLines(java.la...   \n",
       "5126        10.0         java.io.File newFolder(java.lang.String[])   \n",
       "\n",
       "                                                   type  \n",
       "937               org.junit.internal.ComparisonCriteria  \n",
       "5375       org.junit.runner.JUnitCommandLineParseResult  \n",
       "3916                            junit.textui.TestRunner  \n",
       "3517                        junit.runner.BaseTestRunner  \n",
       "5939    org.junit.internal.runners.statements.RunAfters  \n",
       "3162                  junit.tests.runner.TextRunnerTest  \n",
       "3464  org.junit.runners.parameterized.BlockJUnit4Cla...  \n",
       "3529                        junit.runner.BaseTestRunner  \n",
       "5875                      org.junit.internal.Throwables  \n",
       "5126                    org.junit.rules.TemporaryFolder  "
      ]
     },
     "execution_count": 5,
     "metadata": {},
     "output_type": "execute_result"
    }
   ],
   "source": [
    "# Sortiere das Dataframe nach der zyklomatischen Komplexität (complexity).\n",
    "df = df.sort_values('complexity',ascending=False)\n",
    "\n",
    "# Extrahiere die Spalten complexity, signature und type und speichere sie im Dataframe complexity_df.\n",
    "complexity_df = df[['complexity','signature','type']][0:10]\n",
    "complexity_df.head(10)\n"
   ]
  },
  {
   "cell_type": "markdown",
   "metadata": {
    "extensions": {
     "jupyter_dashboards": {
      "version": 1,
      "views": {
       "grid_default": {
        "col": 0,
        "height": 4,
        "hidden": false,
        "row": 53,
        "width": 12
       },
       "report_default": {
        "hidden": false
       }
      }
     }
    }
   },
   "source": [
    "## 4. Visualisierung\n",
    "Die größten und komplexesten Methoden werden jeweils mit einem horizontalen Balkendiagramm visualisiert."
   ]
  },
  {
   "cell_type": "code",
   "execution_count": 6,
   "metadata": {},
   "outputs": [],
   "source": [
    "from IPython.display import display, HTML\n",
    "\n",
    "base_html = \"\"\"\n",
    "<!DOCTYPE html>\n",
    "<html>\n",
    "  <head>\n",
    "  <script type=\"text/javascript\" src=\"http://kozea.github.com/pygal.js/javascripts/svg.jquery.js\"></script>\n",
    "  <script type=\"text/javascript\" src=\"https://kozea.github.io/pygal.js/2.0.x/pygal-tooltips.min.js\"\"></script>\n",
    "  </head>\n",
    "  <body>\n",
    "    <figure>\n",
    "      {rendered_chart}\n",
    "    </figure>\n",
    "  </body>\n",
    "</html>\n",
    "\"\"\""
   ]
  },
  {
   "cell_type": "code",
   "execution_count": 7,
   "metadata": {},
   "outputs": [
    {
     "data": {
      "text/html": [
       "\n",
       "<!DOCTYPE html>\n",
       "<html>\n",
       "  <head>\n",
       "  <script type=\"text/javascript\" src=\"http://kozea.github.com/pygal.js/javascripts/svg.jquery.js\"></script>\n",
       "  <script type=\"text/javascript\" src=\"https://kozea.github.io/pygal.js/2.0.x/pygal-tooltips.min.js\"\"></script>\n",
       "  </head>\n",
       "  <body>\n",
       "    <figure>\n",
       "      <?xml version='1.0' encoding='utf-8'?>\n",
       "<svg xmlns:xlink=\"http://www.w3.org/1999/xlink\" xmlns=\"http://www.w3.org/2000/svg\" id=\"chart-91b1cc82-0be6-4182-9978-deb517b440eb\" class=\"pygal-chart\" viewBox=\"0 0 800 600\"><!--Generated with pygal 2.4.0 (lxml) ©Kozea 2012-2016 on 2019-11-30--><!--http://pygal.org--><!--http://github.com/Kozea/pygal--><defs><style type=\"text/css\">#chart-91b1cc82-0be6-4182-9978-deb517b440eb{-webkit-user-select:none;-webkit-font-smoothing:antialiased;font-family:Consolas,\"Liberation Mono\",Menlo,Courier,monospace}#chart-91b1cc82-0be6-4182-9978-deb517b440eb .title{font-family:Consolas,\"Liberation Mono\",Menlo,Courier,monospace;font-size:16px}#chart-91b1cc82-0be6-4182-9978-deb517b440eb .legends .legend text{font-family:Consolas,\"Liberation Mono\",Menlo,Courier,monospace;font-size:14px}#chart-91b1cc82-0be6-4182-9978-deb517b440eb .axis text{font-family:Consolas,\"Liberation Mono\",Menlo,Courier,monospace;font-size:10px}#chart-91b1cc82-0be6-4182-9978-deb517b440eb .axis text.major{font-family:Consolas,\"Liberation Mono\",Menlo,Courier,monospace;font-size:10px}#chart-91b1cc82-0be6-4182-9978-deb517b440eb .text-overlay text.value{font-family:Consolas,\"Liberation Mono\",Menlo,Courier,monospace;font-size:16px}#chart-91b1cc82-0be6-4182-9978-deb517b440eb .text-overlay text.label{font-family:Consolas,\"Liberation Mono\",Menlo,Courier,monospace;font-size:10px}#chart-91b1cc82-0be6-4182-9978-deb517b440eb .tooltip{font-family:Consolas,\"Liberation Mono\",Menlo,Courier,monospace;font-size:14px}#chart-91b1cc82-0be6-4182-9978-deb517b440eb text.no_data{font-family:Consolas,\"Liberation Mono\",Menlo,Courier,monospace;font-size:64px}\n",
       "#chart-91b1cc82-0be6-4182-9978-deb517b440eb{background-color:rgba(249,249,249,1)}#chart-91b1cc82-0be6-4182-9978-deb517b440eb path,#chart-91b1cc82-0be6-4182-9978-deb517b440eb line,#chart-91b1cc82-0be6-4182-9978-deb517b440eb rect,#chart-91b1cc82-0be6-4182-9978-deb517b440eb circle{-webkit-transition:150ms;-moz-transition:150ms;transition:150ms}#chart-91b1cc82-0be6-4182-9978-deb517b440eb .graph &gt; .background{fill:rgba(249,249,249,1)}#chart-91b1cc82-0be6-4182-9978-deb517b440eb .plot &gt; .background{fill:rgba(255,255,255,1)}#chart-91b1cc82-0be6-4182-9978-deb517b440eb .graph{fill:rgba(0,0,0,.87)}#chart-91b1cc82-0be6-4182-9978-deb517b440eb text.no_data{fill:rgba(0,0,0,1)}#chart-91b1cc82-0be6-4182-9978-deb517b440eb .title{fill:rgba(0,0,0,1)}#chart-91b1cc82-0be6-4182-9978-deb517b440eb .legends .legend text{fill:rgba(0,0,0,.87)}#chart-91b1cc82-0be6-4182-9978-deb517b440eb .legends .legend:hover text{fill:rgba(0,0,0,1)}#chart-91b1cc82-0be6-4182-9978-deb517b440eb .axis .line{stroke:rgba(0,0,0,1)}#chart-91b1cc82-0be6-4182-9978-deb517b440eb .axis .guide.line{stroke:rgba(0,0,0,.54)}#chart-91b1cc82-0be6-4182-9978-deb517b440eb .axis .major.line{stroke:rgba(0,0,0,.87)}#chart-91b1cc82-0be6-4182-9978-deb517b440eb .axis text.major{fill:rgba(0,0,0,1)}#chart-91b1cc82-0be6-4182-9978-deb517b440eb .axis.y .guides:hover .guide.line,#chart-91b1cc82-0be6-4182-9978-deb517b440eb .line-graph .axis.x .guides:hover .guide.line,#chart-91b1cc82-0be6-4182-9978-deb517b440eb .stackedline-graph .axis.x .guides:hover .guide.line,#chart-91b1cc82-0be6-4182-9978-deb517b440eb .xy-graph .axis.x .guides:hover .guide.line{stroke:rgba(0,0,0,1)}#chart-91b1cc82-0be6-4182-9978-deb517b440eb .axis .guides:hover text{fill:rgba(0,0,0,1)}#chart-91b1cc82-0be6-4182-9978-deb517b440eb .reactive{fill-opacity:.7;stroke-opacity:.8}#chart-91b1cc82-0be6-4182-9978-deb517b440eb .ci{stroke:rgba(0,0,0,.87)}#chart-91b1cc82-0be6-4182-9978-deb517b440eb .reactive.active,#chart-91b1cc82-0be6-4182-9978-deb517b440eb .active .reactive{fill-opacity:.8;stroke-opacity:.9;stroke-width:4}#chart-91b1cc82-0be6-4182-9978-deb517b440eb .ci .reactive.active{stroke-width:1.5}#chart-91b1cc82-0be6-4182-9978-deb517b440eb .series text{fill:rgba(0,0,0,1)}#chart-91b1cc82-0be6-4182-9978-deb517b440eb .tooltip rect{fill:rgba(255,255,255,1);stroke:rgba(0,0,0,1);-webkit-transition:opacity 150ms;-moz-transition:opacity 150ms;transition:opacity 150ms}#chart-91b1cc82-0be6-4182-9978-deb517b440eb .tooltip .label{fill:rgba(0,0,0,.87)}#chart-91b1cc82-0be6-4182-9978-deb517b440eb .tooltip .label{fill:rgba(0,0,0,.87)}#chart-91b1cc82-0be6-4182-9978-deb517b440eb .tooltip .legend{font-size:.8em;fill:rgba(0,0,0,.54)}#chart-91b1cc82-0be6-4182-9978-deb517b440eb .tooltip .x_label{font-size:.6em;fill:rgba(0,0,0,1)}#chart-91b1cc82-0be6-4182-9978-deb517b440eb .tooltip .xlink{font-size:.5em;text-decoration:underline}#chart-91b1cc82-0be6-4182-9978-deb517b440eb .tooltip .value{font-size:1.5em}#chart-91b1cc82-0be6-4182-9978-deb517b440eb .bound{font-size:.5em}#chart-91b1cc82-0be6-4182-9978-deb517b440eb .max-value{font-size:.75em;fill:rgba(0,0,0,.54)}#chart-91b1cc82-0be6-4182-9978-deb517b440eb .map-element{fill:rgba(255,255,255,1);stroke:rgba(0,0,0,.54) !important}#chart-91b1cc82-0be6-4182-9978-deb517b440eb .map-element .reactive{fill-opacity:inherit;stroke-opacity:inherit}#chart-91b1cc82-0be6-4182-9978-deb517b440eb .color-0,#chart-91b1cc82-0be6-4182-9978-deb517b440eb .color-0 a:visited{stroke:#F44336;fill:#F44336}#chart-91b1cc82-0be6-4182-9978-deb517b440eb .color-1,#chart-91b1cc82-0be6-4182-9978-deb517b440eb .color-1 a:visited{stroke:#3F51B5;fill:#3F51B5}#chart-91b1cc82-0be6-4182-9978-deb517b440eb .color-2,#chart-91b1cc82-0be6-4182-9978-deb517b440eb .color-2 a:visited{stroke:#009688;fill:#009688}#chart-91b1cc82-0be6-4182-9978-deb517b440eb .color-3,#chart-91b1cc82-0be6-4182-9978-deb517b440eb .color-3 a:visited{stroke:#FFC107;fill:#FFC107}#chart-91b1cc82-0be6-4182-9978-deb517b440eb .color-4,#chart-91b1cc82-0be6-4182-9978-deb517b440eb .color-4 a:visited{stroke:#FF5722;fill:#FF5722}#chart-91b1cc82-0be6-4182-9978-deb517b440eb .color-5,#chart-91b1cc82-0be6-4182-9978-deb517b440eb .color-5 a:visited{stroke:#9C27B0;fill:#9C27B0}#chart-91b1cc82-0be6-4182-9978-deb517b440eb .color-6,#chart-91b1cc82-0be6-4182-9978-deb517b440eb .color-6 a:visited{stroke:#03A9F4;fill:#03A9F4}#chart-91b1cc82-0be6-4182-9978-deb517b440eb .color-7,#chart-91b1cc82-0be6-4182-9978-deb517b440eb .color-7 a:visited{stroke:#8BC34A;fill:#8BC34A}#chart-91b1cc82-0be6-4182-9978-deb517b440eb .color-8,#chart-91b1cc82-0be6-4182-9978-deb517b440eb .color-8 a:visited{stroke:#FF9800;fill:#FF9800}#chart-91b1cc82-0be6-4182-9978-deb517b440eb .color-9,#chart-91b1cc82-0be6-4182-9978-deb517b440eb .color-9 a:visited{stroke:#E91E63;fill:#E91E63}#chart-91b1cc82-0be6-4182-9978-deb517b440eb .text-overlay .color-0 text{fill:black}#chart-91b1cc82-0be6-4182-9978-deb517b440eb .text-overlay .color-1 text{fill:black}#chart-91b1cc82-0be6-4182-9978-deb517b440eb .text-overlay .color-2 text{fill:black}#chart-91b1cc82-0be6-4182-9978-deb517b440eb .text-overlay .color-3 text{fill:black}#chart-91b1cc82-0be6-4182-9978-deb517b440eb .text-overlay .color-4 text{fill:black}#chart-91b1cc82-0be6-4182-9978-deb517b440eb .text-overlay .color-5 text{fill:black}#chart-91b1cc82-0be6-4182-9978-deb517b440eb .text-overlay .color-6 text{fill:black}#chart-91b1cc82-0be6-4182-9978-deb517b440eb .text-overlay .color-7 text{fill:black}#chart-91b1cc82-0be6-4182-9978-deb517b440eb .text-overlay .color-8 text{fill:black}#chart-91b1cc82-0be6-4182-9978-deb517b440eb .text-overlay .color-9 text{fill:black}\n",
       "#chart-91b1cc82-0be6-4182-9978-deb517b440eb text.no_data{text-anchor:middle}#chart-91b1cc82-0be6-4182-9978-deb517b440eb .guide.line{fill:none}#chart-91b1cc82-0be6-4182-9978-deb517b440eb .centered{text-anchor:middle}#chart-91b1cc82-0be6-4182-9978-deb517b440eb .title{text-anchor:middle}#chart-91b1cc82-0be6-4182-9978-deb517b440eb .legends .legend text{fill-opacity:1}#chart-91b1cc82-0be6-4182-9978-deb517b440eb .axis.x text{text-anchor:middle}#chart-91b1cc82-0be6-4182-9978-deb517b440eb .axis.x:not(.web) text[transform]{text-anchor:start}#chart-91b1cc82-0be6-4182-9978-deb517b440eb .axis.x:not(.web) text[transform].backwards{text-anchor:end}#chart-91b1cc82-0be6-4182-9978-deb517b440eb .axis.y text{text-anchor:end}#chart-91b1cc82-0be6-4182-9978-deb517b440eb .axis.y text[transform].backwards{text-anchor:start}#chart-91b1cc82-0be6-4182-9978-deb517b440eb .axis.y2 text{text-anchor:start}#chart-91b1cc82-0be6-4182-9978-deb517b440eb .axis.y2 text[transform].backwards{text-anchor:end}#chart-91b1cc82-0be6-4182-9978-deb517b440eb .axis .guide.line{stroke-dasharray:4,4}#chart-91b1cc82-0be6-4182-9978-deb517b440eb .axis .major.guide.line{stroke-dasharray:6,6}#chart-91b1cc82-0be6-4182-9978-deb517b440eb .horizontal .axis.y .guide.line,#chart-91b1cc82-0be6-4182-9978-deb517b440eb .horizontal .axis.y2 .guide.line,#chart-91b1cc82-0be6-4182-9978-deb517b440eb .vertical .axis.x .guide.line{opacity:0}#chart-91b1cc82-0be6-4182-9978-deb517b440eb .horizontal .axis.always_show .guide.line,#chart-91b1cc82-0be6-4182-9978-deb517b440eb .vertical .axis.always_show .guide.line{opacity:1 !important}#chart-91b1cc82-0be6-4182-9978-deb517b440eb .axis.y .guides:hover .guide.line,#chart-91b1cc82-0be6-4182-9978-deb517b440eb .axis.y2 .guides:hover .guide.line,#chart-91b1cc82-0be6-4182-9978-deb517b440eb .axis.x .guides:hover .guide.line{opacity:1}#chart-91b1cc82-0be6-4182-9978-deb517b440eb .axis .guides:hover text{opacity:1}#chart-91b1cc82-0be6-4182-9978-deb517b440eb .nofill{fill:none}#chart-91b1cc82-0be6-4182-9978-deb517b440eb .subtle-fill{fill-opacity:.2}#chart-91b1cc82-0be6-4182-9978-deb517b440eb .dot{stroke-width:1px;fill-opacity:1}#chart-91b1cc82-0be6-4182-9978-deb517b440eb .dot.active{stroke-width:5px}#chart-91b1cc82-0be6-4182-9978-deb517b440eb .dot.negative{fill:transparent}#chart-91b1cc82-0be6-4182-9978-deb517b440eb text,#chart-91b1cc82-0be6-4182-9978-deb517b440eb tspan{stroke:none !important}#chart-91b1cc82-0be6-4182-9978-deb517b440eb .series text.active{opacity:1}#chart-91b1cc82-0be6-4182-9978-deb517b440eb .tooltip rect{fill-opacity:.95;stroke-width:.5}#chart-91b1cc82-0be6-4182-9978-deb517b440eb .tooltip text{fill-opacity:1}#chart-91b1cc82-0be6-4182-9978-deb517b440eb .showable{visibility:hidden}#chart-91b1cc82-0be6-4182-9978-deb517b440eb .showable.shown{visibility:visible}#chart-91b1cc82-0be6-4182-9978-deb517b440eb .gauge-background{fill:rgba(229,229,229,1);stroke:none}#chart-91b1cc82-0be6-4182-9978-deb517b440eb .bg-lines{stroke:rgba(249,249,249,1);stroke-width:2px}</style><script type=\"text/javascript\">window.pygal = window.pygal || {};window.pygal.config = window.pygal.config || {};window.pygal.config['91b1cc82-0be6-4182-9978-deb517b440eb'] = {\"allow_interruptions\": false, \"box_mode\": \"extremes\", \"classes\": [\"pygal-chart\"], \"css\": [\"file://style.css\", \"file://graph.css\"], \"defs\": [], \"disable_xml_declaration\": false, \"dots_size\": 2.5, \"dynamic_print_values\": false, \"explicit_size\": false, \"fill\": true, \"force_uri_protocol\": \"https\", \"formatter\": null, \"half_pie\": false, \"height\": 600, \"include_x_axis\": false, \"inner_radius\": 0, \"interpolate\": null, \"interpolation_parameters\": {}, \"interpolation_precision\": 250, \"inverse_y_axis\": false, \"js\": [\"//kozea.github.io/pygal.js/2.0.x/pygal-tooltips.min.js\"], \"legend_at_bottom\": true, \"legend_at_bottom_columns\": 2, \"legend_box_size\": 12, \"logarithmic\": false, \"margin\": 20, \"margin_bottom\": null, \"margin_left\": null, \"margin_right\": null, \"margin_top\": null, \"max_scale\": 16, \"min_scale\": 4, \"missing_value_fill_truncation\": \"x\", \"no_data_text\": \"No data\", \"no_prefix\": false, \"order_min\": null, \"pretty_print\": false, \"print_labels\": false, \"print_values\": false, \"print_values_position\": \"center\", \"print_zeroes\": true, \"range\": null, \"rounded_bars\": null, \"secondary_range\": null, \"show_dots\": true, \"show_legend\": true, \"show_minor_x_labels\": true, \"show_minor_y_labels\": true, \"show_only_major_dots\": false, \"show_x_guides\": true, \"show_x_labels\": true, \"show_y_guides\": false, \"show_y_labels\": true, \"spacing\": 10, \"stack_from_top\": false, \"strict\": false, \"stroke\": true, \"stroke_style\": null, \"style\": {\"background\": \"rgba(249, 249, 249, 1)\", \"ci_colors\": [], \"colors\": [\"#F44336\", \"#3F51B5\", \"#009688\", \"#FFC107\", \"#FF5722\", \"#9C27B0\", \"#03A9F4\", \"#8BC34A\", \"#FF9800\", \"#E91E63\", \"#2196F3\", \"#4CAF50\", \"#FFEB3B\", \"#673AB7\", \"#00BCD4\", \"#CDDC39\", \"#9E9E9E\", \"#607D8B\"], \"font_family\": \"Consolas, \\\"Liberation Mono\\\", Menlo, Courier, monospace\", \"foreground\": \"rgba(0, 0, 0, .87)\", \"foreground_strong\": \"rgba(0, 0, 0, 1)\", \"foreground_subtle\": \"rgba(0, 0, 0, .54)\", \"guide_stroke_dasharray\": \"4,4\", \"label_font_family\": \"Consolas, \\\"Liberation Mono\\\", Menlo, Courier, monospace\", \"label_font_size\": 10, \"legend_font_family\": \"Consolas, \\\"Liberation Mono\\\", Menlo, Courier, monospace\", \"legend_font_size\": 14, \"major_guide_stroke_dasharray\": \"6,6\", \"major_label_font_family\": \"Consolas, \\\"Liberation Mono\\\", Menlo, Courier, monospace\", \"major_label_font_size\": 10, \"no_data_font_family\": \"Consolas, \\\"Liberation Mono\\\", Menlo, Courier, monospace\", \"no_data_font_size\": 64, \"opacity\": \".7\", \"opacity_hover\": \".8\", \"plot_background\": \"rgba(255, 255, 255, 1)\", \"stroke_opacity\": \".8\", \"stroke_opacity_hover\": \".9\", \"title_font_family\": \"Consolas, \\\"Liberation Mono\\\", Menlo, Courier, monospace\", \"title_font_size\": 16, \"tooltip_font_family\": \"Consolas, \\\"Liberation Mono\\\", Menlo, Courier, monospace\", \"tooltip_font_size\": 14, \"transition\": \"150ms\", \"value_background\": \"rgba(229, 229, 229, 1)\", \"value_colors\": [], \"value_font_family\": \"Consolas, \\\"Liberation Mono\\\", Menlo, Courier, monospace\", \"value_font_size\": 16, \"value_label_font_family\": \"Consolas, \\\"Liberation Mono\\\", Menlo, Courier, monospace\", \"value_label_font_size\": 10}, \"title\": \"Gr\\u00f6\\u00dfte Methoden\", \"tooltip_border_radius\": 0, \"tooltip_fancy_mode\": true, \"truncate_label\": null, \"truncate_legend\": null, \"width\": 800, \"x_label_rotation\": 0, \"x_labels\": null, \"x_labels_major\": null, \"x_labels_major_count\": null, \"x_labels_major_every\": null, \"x_title\": null, \"xrange\": null, \"y_label_rotation\": 0, \"y_labels\": null, \"y_labels_major\": null, \"y_labels_major_count\": null, \"y_labels_major_every\": null, \"y_title\": null, \"zero\": 0, \"legends\": [\"org.junit.rules.ErrorCollectorTest\", \"org.junit.rules.ExpectedExceptionTest\", \"org.junit.internal.ComparisonCriteria\", \"junit.runner.BaseTestRunner\", \"org.junit.runners.parameterized.BlockJUnit4ClassRunnerWithParameters\", \"org.junit.internal.runners.rules.RuleMemberValidator\", \"junit.tests.runner.StackFilterTest\", \"junit.textui.TestRunner\", \"org.junit.runners.parameterized.BlockJUnit4ClassRunnerWithParameters\", \"org.junit.tests.experimental.max.DescriptionTest\"]}</script><script type=\"text/javascript\" xlink:href=\"https://kozea.github.io/pygal.js/2.0.x/pygal-tooltips.min.js\"/></defs><title>Größte Methoden</title><g class=\"graph horizontalbar-graph horizontal\"><rect class=\"background\" height=\"600\" width=\"800\" x=\"0\" y=\"0\"/><g class=\"plot\" transform=\"translate(20, 46)\"><rect class=\"background\" height=\"406.0\" width=\"760\" x=\"0\" y=\"0\"/><g class=\"axis x always_show\"><g class=\"guides\"><path class=\"axis major line\" d=\"M14.615385 0.000000 v406.000000\"/><text class=\"major\" x=\"14.615384615384613\" y=\"421.0\">0</text></g><g class=\"guides\"><path class=\"guide line\" d=\"M136.410256 0.000000 v406.000000\"/><text class=\"\" x=\"136.4102564102564\" y=\"421.0\">10</text></g><g class=\"guides\"><path class=\"guide line\" d=\"M258.205128 0.000000 v406.000000\"/><text class=\"\" x=\"258.2051282051282\" y=\"421.0\">20</text></g><g class=\"guides\"><path class=\"guide line\" d=\"M380.000000 0.000000 v406.000000\"/><text class=\"\" x=\"379.99999999999994\" y=\"421.0\">30</text></g><g class=\"guides\"><path class=\"guide line\" d=\"M501.794872 0.000000 v406.000000\"/><text class=\"\" x=\"501.7948717948718\" y=\"421.0\">40</text></g><g class=\"guides\"><path class=\"major guide line\" d=\"M623.589744 0.000000 v406.000000\"/><text class=\"major\" x=\"623.5897435897435\" y=\"421.0\">50</text></g><g class=\"guides\"><path class=\"guide line\" d=\"M745.384615 0.000000 v406.000000\"/><text class=\"\" x=\"745.3846153846154\" y=\"421.0\">60</text></g></g><g class=\"series serie-9 color-9\"><g class=\"bars\"><g class=\"bar\"><desc class=\"label\">void usesPassedInClassObject()</desc><rect class=\"rect reactive tooltip-trigger\" height=\"30.231384615384616\" rx=\"0\" ry=\"0\" width=\"292.30769230769226\" x=\"14.615384615384642\" y=\"342.4766153846154\"/><desc class=\"value\">24</desc><desc class=\"x centered\">160.76923076923077</desc><desc class=\"y centered\">357.5923076923077</desc></g></g></g><g class=\"series serie-8 color-8\"><g class=\"bars\"><g class=\"bar\"><desc class=\"label\">void validateFields(java.util.List)</desc><rect class=\"rect reactive tooltip-trigger\" height=\"30.231384615384616\" rx=\"0\" ry=\"0\" width=\"292.30769230769226\" x=\"14.615384615384642\" y=\"308.1227692307692\"/><desc class=\"value\">24</desc><desc class=\"x centered\">160.76923076923077</desc><desc class=\"y centered\">323.23846153846154</desc></g></g></g><g class=\"series serie-7 color-7\"><g class=\"bars\"><g class=\"bar\"><desc class=\"label\">junit.framework.TestResult start(java.lang.String[])</desc><rect class=\"rect reactive tooltip-trigger\" height=\"30.231384615384616\" rx=\"0\" ry=\"0\" width=\"304.48717948717945\" x=\"14.615384615384642\" y=\"273.7689230769231\"/><desc class=\"value\">25</desc><desc class=\"x centered\">166.85897435897436</desc><desc class=\"y centered\">288.8846153846154</desc></g></g></g><g class=\"series serie-6 color-6\"><g class=\"bars\"><g class=\"bar\"><desc class=\"label\">void setUp()</desc><rect class=\"rect reactive tooltip-trigger\" height=\"30.231384615384616\" rx=\"0\" ry=\"0\" width=\"316.66666666666663\" x=\"14.615384615384642\" y=\"239.41507692307692\"/><desc class=\"value\">26</desc><desc class=\"x centered\">172.94871794871796</desc><desc class=\"y centered\">254.53076923076924</desc></g></g></g><g class=\"series serie-5 color-5\"><g class=\"bars\"><g class=\"bar\"><desc class=\"label\">void &lt;clinit&gt;()</desc><rect class=\"rect reactive tooltip-trigger\" height=\"30.231384615384616\" rx=\"0\" ry=\"0\" width=\"341.025641025641\" x=\"14.615384615384642\" y=\"205.06123076923075\"/><desc class=\"value\">28</desc><desc class=\"x centered\">185.12820512820514</desc><desc class=\"y centered\">220.17692307692306</desc></g></g></g><g class=\"series serie-4 color-4\"><g class=\"bars\"><g class=\"bar\"><desc class=\"label\">java.lang.Object createTestUsingFieldInjection()</desc><rect class=\"rect reactive tooltip-trigger\" height=\"30.231384615384616\" rx=\"0\" ry=\"0\" width=\"353.2051282051282\" x=\"14.615384615384585\" y=\"170.7073846153846\"/><desc class=\"value\">29</desc><desc class=\"x centered\">191.21794871794867</desc><desc class=\"y centered\">185.8230769230769</desc></g></g></g><g class=\"series serie-3 color-3\"><g class=\"bars\"><g class=\"bar\"><desc class=\"label\">junit.framework.Test getTest(java.lang.String)</desc><rect class=\"rect reactive tooltip-trigger\" height=\"30.231384615384616\" rx=\"0\" ry=\"0\" width=\"414.1025641025641\" x=\"14.615384615384642\" y=\"136.35353846153842\"/><desc class=\"value\">34</desc><desc class=\"x centered\">221.66666666666669</desc><desc class=\"y centered\">151.46923076923073</desc></g></g></g><g class=\"series serie-2 color-2\"><g class=\"bars\"><g class=\"bar\"><desc class=\"label\">void arrayEquals(java.lang.String,java.lang.Object,java.lang.Object,boolean)</desc><rect class=\"rect reactive tooltip-trigger\" height=\"30.231384615384616\" rx=\"0\" ry=\"0\" width=\"426.28205128205127\" x=\"14.615384615384642\" y=\"101.99969230769229\"/><desc class=\"value\">35</desc><desc class=\"x centered\">227.75641025641028</desc><desc class=\"y centered\">117.11538461538458</desc></g></g></g><g class=\"series serie-1 color-1\"><g class=\"bars\"><g class=\"bar\"><desc class=\"label\">java.util.Collection testsWithEventMatcher()</desc><rect class=\"rect reactive tooltip-trigger\" height=\"30.231384615384616\" rx=\"0\" ry=\"0\" width=\"669.8717948717948\" x=\"14.615384615384642\" y=\"67.64584615384614\"/><desc class=\"value\">55</desc><desc class=\"x centered\">349.55128205128204</desc><desc class=\"y centered\">82.76153846153844</desc></g></g></g><g class=\"series serie-0 color-0\"><g class=\"bars\"><g class=\"bar\"><desc class=\"label\">java.lang.Object[][] testsWithEventMatcher()</desc><rect class=\"rect reactive tooltip-trigger\" height=\"30.231384615384616\" rx=\"0\" ry=\"0\" width=\"730.7692307692307\" x=\"14.615384615384642\" y=\"33.29199999999996\"/><desc class=\"value\">60</desc><desc class=\"x centered\">380.0</desc><desc class=\"y centered\">48.40769230769227</desc></g></g></g></g><g class=\"titles\"><text class=\"title plot_title\" x=\"400.0\" y=\"26\">Größte Methoden</text></g><g class=\"plot overlay\" transform=\"translate(20, 46)\"><g class=\"series serie-9 color-9\"/><g class=\"series serie-8 color-8\"/><g class=\"series serie-7 color-7\"/><g class=\"series serie-6 color-6\"/><g class=\"series serie-5 color-5\"/><g class=\"series serie-4 color-4\"/><g class=\"series serie-3 color-3\"/><g class=\"series serie-2 color-2\"/><g class=\"series serie-1 color-1\"/><g class=\"series serie-0 color-0\"/></g><g class=\"plot text-overlay\" transform=\"translate(20, 46)\"><g class=\"series serie-9 color-9\"/><g class=\"series serie-8 color-8\"/><g class=\"series serie-7 color-7\"/><g class=\"series serie-6 color-6\"/><g class=\"series serie-5 color-5\"/><g class=\"series serie-4 color-4\"/><g class=\"series serie-3 color-3\"/><g class=\"series serie-2 color-2\"/><g class=\"series serie-1 color-1\"/><g class=\"series serie-0 color-0\"/></g><g class=\"plot tooltip-overlay\" transform=\"translate(20, 46)\"><g class=\"tooltip\" style=\"opacity: 0\" transform=\"translate(0 0)\"><rect class=\"tooltip-box\" height=\"0\" rx=\"0\" ry=\"0\" width=\"0\"/><g class=\"text\"/></g></g><g class=\"legends\" transform=\"translate(30, 482)\"><g class=\"legend reactive activate-serie\" id=\"activate-serie-0\"><rect class=\"color-0 reactive\" height=\"12\" width=\"12\" x=\"0.0\" y=\"1.0\"/><text x=\"17.0\" y=\"11.2\">org.junit.rules.ErrorCollectorTest</text></g><g class=\"legend reactive activate-serie\" id=\"activate-serie-1\"><rect class=\"color-1 reactive\" height=\"12\" width=\"12\" x=\"380.0\" y=\"1.0\"/><text x=\"397.0\" y=\"11.2\">org.junit.rules.ExpectedExceptionTest</text></g><g class=\"legend reactive activate-serie\" id=\"activate-serie-2\"><rect class=\"color-2 reactive\" height=\"12\" width=\"12\" x=\"0.0\" y=\"22.0\"/><text x=\"17.0\" y=\"32.2\">org.junit.internal.ComparisonCriteria</text></g><g class=\"legend reactive activate-serie\" id=\"activate-serie-3\"><rect class=\"color-3 reactive\" height=\"12\" width=\"12\" x=\"380.0\" y=\"22.0\"/><text x=\"397.0\" y=\"32.2\">junit.runner.BaseTestRunner</text></g><g class=\"legend reactive activate-serie\" id=\"activate-serie-4\"><rect class=\"color-4 reactive\" height=\"12\" width=\"12\" x=\"0.0\" y=\"43.0\"/><text x=\"17.0\" y=\"53.2\">org.junit.runners.parameterized.BlockJUnit…</text><title>org.junit.runners.parameterized.BlockJUnit4ClassRunnerWithParameters</title></g><g class=\"legend reactive activate-serie\" id=\"activate-serie-5\"><rect class=\"color-5 reactive\" height=\"12\" width=\"12\" x=\"380.0\" y=\"43.0\"/><text x=\"397.0\" y=\"53.2\">org.junit.internal.runners.rules.RuleMembe…</text><title>org.junit.internal.runners.rules.RuleMemberValidator</title></g><g class=\"legend reactive activate-serie\" id=\"activate-serie-6\"><rect class=\"color-6 reactive\" height=\"12\" width=\"12\" x=\"0.0\" y=\"64.0\"/><text x=\"17.0\" y=\"74.2\">junit.tests.runner.StackFilterTest</text></g><g class=\"legend reactive activate-serie\" id=\"activate-serie-7\"><rect class=\"color-7 reactive\" height=\"12\" width=\"12\" x=\"380.0\" y=\"64.0\"/><text x=\"397.0\" y=\"74.2\">junit.textui.TestRunner</text></g><g class=\"legend reactive activate-serie\" id=\"activate-serie-8\"><rect class=\"color-8 reactive\" height=\"12\" width=\"12\" x=\"0.0\" y=\"85.0\"/><text x=\"17.0\" y=\"95.2\">org.junit.runners.parameterized.BlockJUnit…</text><title>org.junit.runners.parameterized.BlockJUnit4ClassRunnerWithParameters</title></g><g class=\"legend reactive activate-serie\" id=\"activate-serie-9\"><rect class=\"color-9 reactive\" height=\"12\" width=\"12\" x=\"380.0\" y=\"85.0\"/><text x=\"397.0\" y=\"95.2\">org.junit.tests.experimental.max.Descripti…</text><title>org.junit.tests.experimental.max.DescriptionTest</title></g></g></g></svg>\n",
       "    </figure>\n",
       "  </body>\n",
       "</html>\n"
      ],
      "text/plain": [
       "<IPython.core.display.HTML object>"
      ]
     },
     "metadata": {},
     "output_type": "display_data"
    }
   ],
   "source": [
    "# Erstelle Bar Chart für loc.\n",
    "import pygal\n",
    "bar_chart = pygal.HorizontalBar(show_legend=True, human_readable=True, fill=True, legend_at_bottom=True, legend_at_bottom_columns=2)\n",
    "bar_chart.title = 'Größte Methoden'\n",
    "for index, row in loc_df.iterrows():\n",
    "    bar_chart.add(row['type'],[{\"value\": row['loc'], \"label\": row['signature']}])\n",
    "display(HTML(base_html.format(rendered_chart=bar_chart.render(is_unicode=True))))"
   ]
  },
  {
   "cell_type": "code",
   "execution_count": 8,
   "metadata": {},
   "outputs": [
    {
     "data": {
      "text/html": [
       "\n",
       "<!DOCTYPE html>\n",
       "<html>\n",
       "  <head>\n",
       "  <script type=\"text/javascript\" src=\"http://kozea.github.com/pygal.js/javascripts/svg.jquery.js\"></script>\n",
       "  <script type=\"text/javascript\" src=\"https://kozea.github.io/pygal.js/2.0.x/pygal-tooltips.min.js\"\"></script>\n",
       "  </head>\n",
       "  <body>\n",
       "    <figure>\n",
       "      <?xml version='1.0' encoding='utf-8'?>\n",
       "<svg xmlns:xlink=\"http://www.w3.org/1999/xlink\" xmlns=\"http://www.w3.org/2000/svg\" id=\"chart-19b6eb7e-0a2c-4692-b10d-9a9ca84fbc77\" class=\"pygal-chart\" viewBox=\"0 0 800 600\"><!--Generated with pygal 2.4.0 (lxml) ©Kozea 2012-2016 on 2019-11-30--><!--http://pygal.org--><!--http://github.com/Kozea/pygal--><defs><style type=\"text/css\">#chart-19b6eb7e-0a2c-4692-b10d-9a9ca84fbc77{-webkit-user-select:none;-webkit-font-smoothing:antialiased;font-family:Consolas,\"Liberation Mono\",Menlo,Courier,monospace}#chart-19b6eb7e-0a2c-4692-b10d-9a9ca84fbc77 .title{font-family:Consolas,\"Liberation Mono\",Menlo,Courier,monospace;font-size:16px}#chart-19b6eb7e-0a2c-4692-b10d-9a9ca84fbc77 .legends .legend text{font-family:Consolas,\"Liberation Mono\",Menlo,Courier,monospace;font-size:14px}#chart-19b6eb7e-0a2c-4692-b10d-9a9ca84fbc77 .axis text{font-family:Consolas,\"Liberation Mono\",Menlo,Courier,monospace;font-size:10px}#chart-19b6eb7e-0a2c-4692-b10d-9a9ca84fbc77 .axis text.major{font-family:Consolas,\"Liberation Mono\",Menlo,Courier,monospace;font-size:10px}#chart-19b6eb7e-0a2c-4692-b10d-9a9ca84fbc77 .text-overlay text.value{font-family:Consolas,\"Liberation Mono\",Menlo,Courier,monospace;font-size:16px}#chart-19b6eb7e-0a2c-4692-b10d-9a9ca84fbc77 .text-overlay text.label{font-family:Consolas,\"Liberation Mono\",Menlo,Courier,monospace;font-size:10px}#chart-19b6eb7e-0a2c-4692-b10d-9a9ca84fbc77 .tooltip{font-family:Consolas,\"Liberation Mono\",Menlo,Courier,monospace;font-size:14px}#chart-19b6eb7e-0a2c-4692-b10d-9a9ca84fbc77 text.no_data{font-family:Consolas,\"Liberation Mono\",Menlo,Courier,monospace;font-size:64px}\n",
       "#chart-19b6eb7e-0a2c-4692-b10d-9a9ca84fbc77{background-color:rgba(249,249,249,1)}#chart-19b6eb7e-0a2c-4692-b10d-9a9ca84fbc77 path,#chart-19b6eb7e-0a2c-4692-b10d-9a9ca84fbc77 line,#chart-19b6eb7e-0a2c-4692-b10d-9a9ca84fbc77 rect,#chart-19b6eb7e-0a2c-4692-b10d-9a9ca84fbc77 circle{-webkit-transition:150ms;-moz-transition:150ms;transition:150ms}#chart-19b6eb7e-0a2c-4692-b10d-9a9ca84fbc77 .graph &gt; .background{fill:rgba(249,249,249,1)}#chart-19b6eb7e-0a2c-4692-b10d-9a9ca84fbc77 .plot &gt; .background{fill:rgba(255,255,255,1)}#chart-19b6eb7e-0a2c-4692-b10d-9a9ca84fbc77 .graph{fill:rgba(0,0,0,.87)}#chart-19b6eb7e-0a2c-4692-b10d-9a9ca84fbc77 text.no_data{fill:rgba(0,0,0,1)}#chart-19b6eb7e-0a2c-4692-b10d-9a9ca84fbc77 .title{fill:rgba(0,0,0,1)}#chart-19b6eb7e-0a2c-4692-b10d-9a9ca84fbc77 .legends .legend text{fill:rgba(0,0,0,.87)}#chart-19b6eb7e-0a2c-4692-b10d-9a9ca84fbc77 .legends .legend:hover text{fill:rgba(0,0,0,1)}#chart-19b6eb7e-0a2c-4692-b10d-9a9ca84fbc77 .axis .line{stroke:rgba(0,0,0,1)}#chart-19b6eb7e-0a2c-4692-b10d-9a9ca84fbc77 .axis .guide.line{stroke:rgba(0,0,0,.54)}#chart-19b6eb7e-0a2c-4692-b10d-9a9ca84fbc77 .axis .major.line{stroke:rgba(0,0,0,.87)}#chart-19b6eb7e-0a2c-4692-b10d-9a9ca84fbc77 .axis text.major{fill:rgba(0,0,0,1)}#chart-19b6eb7e-0a2c-4692-b10d-9a9ca84fbc77 .axis.y .guides:hover .guide.line,#chart-19b6eb7e-0a2c-4692-b10d-9a9ca84fbc77 .line-graph .axis.x .guides:hover .guide.line,#chart-19b6eb7e-0a2c-4692-b10d-9a9ca84fbc77 .stackedline-graph .axis.x .guides:hover .guide.line,#chart-19b6eb7e-0a2c-4692-b10d-9a9ca84fbc77 .xy-graph .axis.x .guides:hover .guide.line{stroke:rgba(0,0,0,1)}#chart-19b6eb7e-0a2c-4692-b10d-9a9ca84fbc77 .axis .guides:hover text{fill:rgba(0,0,0,1)}#chart-19b6eb7e-0a2c-4692-b10d-9a9ca84fbc77 .reactive{fill-opacity:.7;stroke-opacity:.8}#chart-19b6eb7e-0a2c-4692-b10d-9a9ca84fbc77 .ci{stroke:rgba(0,0,0,.87)}#chart-19b6eb7e-0a2c-4692-b10d-9a9ca84fbc77 .reactive.active,#chart-19b6eb7e-0a2c-4692-b10d-9a9ca84fbc77 .active .reactive{fill-opacity:.8;stroke-opacity:.9;stroke-width:4}#chart-19b6eb7e-0a2c-4692-b10d-9a9ca84fbc77 .ci .reactive.active{stroke-width:1.5}#chart-19b6eb7e-0a2c-4692-b10d-9a9ca84fbc77 .series text{fill:rgba(0,0,0,1)}#chart-19b6eb7e-0a2c-4692-b10d-9a9ca84fbc77 .tooltip rect{fill:rgba(255,255,255,1);stroke:rgba(0,0,0,1);-webkit-transition:opacity 150ms;-moz-transition:opacity 150ms;transition:opacity 150ms}#chart-19b6eb7e-0a2c-4692-b10d-9a9ca84fbc77 .tooltip .label{fill:rgba(0,0,0,.87)}#chart-19b6eb7e-0a2c-4692-b10d-9a9ca84fbc77 .tooltip .label{fill:rgba(0,0,0,.87)}#chart-19b6eb7e-0a2c-4692-b10d-9a9ca84fbc77 .tooltip .legend{font-size:.8em;fill:rgba(0,0,0,.54)}#chart-19b6eb7e-0a2c-4692-b10d-9a9ca84fbc77 .tooltip .x_label{font-size:.6em;fill:rgba(0,0,0,1)}#chart-19b6eb7e-0a2c-4692-b10d-9a9ca84fbc77 .tooltip .xlink{font-size:.5em;text-decoration:underline}#chart-19b6eb7e-0a2c-4692-b10d-9a9ca84fbc77 .tooltip .value{font-size:1.5em}#chart-19b6eb7e-0a2c-4692-b10d-9a9ca84fbc77 .bound{font-size:.5em}#chart-19b6eb7e-0a2c-4692-b10d-9a9ca84fbc77 .max-value{font-size:.75em;fill:rgba(0,0,0,.54)}#chart-19b6eb7e-0a2c-4692-b10d-9a9ca84fbc77 .map-element{fill:rgba(255,255,255,1);stroke:rgba(0,0,0,.54) !important}#chart-19b6eb7e-0a2c-4692-b10d-9a9ca84fbc77 .map-element .reactive{fill-opacity:inherit;stroke-opacity:inherit}#chart-19b6eb7e-0a2c-4692-b10d-9a9ca84fbc77 .color-0,#chart-19b6eb7e-0a2c-4692-b10d-9a9ca84fbc77 .color-0 a:visited{stroke:#F44336;fill:#F44336}#chart-19b6eb7e-0a2c-4692-b10d-9a9ca84fbc77 .color-1,#chart-19b6eb7e-0a2c-4692-b10d-9a9ca84fbc77 .color-1 a:visited{stroke:#3F51B5;fill:#3F51B5}#chart-19b6eb7e-0a2c-4692-b10d-9a9ca84fbc77 .color-2,#chart-19b6eb7e-0a2c-4692-b10d-9a9ca84fbc77 .color-2 a:visited{stroke:#009688;fill:#009688}#chart-19b6eb7e-0a2c-4692-b10d-9a9ca84fbc77 .color-3,#chart-19b6eb7e-0a2c-4692-b10d-9a9ca84fbc77 .color-3 a:visited{stroke:#FFC107;fill:#FFC107}#chart-19b6eb7e-0a2c-4692-b10d-9a9ca84fbc77 .color-4,#chart-19b6eb7e-0a2c-4692-b10d-9a9ca84fbc77 .color-4 a:visited{stroke:#FF5722;fill:#FF5722}#chart-19b6eb7e-0a2c-4692-b10d-9a9ca84fbc77 .color-5,#chart-19b6eb7e-0a2c-4692-b10d-9a9ca84fbc77 .color-5 a:visited{stroke:#9C27B0;fill:#9C27B0}#chart-19b6eb7e-0a2c-4692-b10d-9a9ca84fbc77 .color-6,#chart-19b6eb7e-0a2c-4692-b10d-9a9ca84fbc77 .color-6 a:visited{stroke:#03A9F4;fill:#03A9F4}#chart-19b6eb7e-0a2c-4692-b10d-9a9ca84fbc77 .color-7,#chart-19b6eb7e-0a2c-4692-b10d-9a9ca84fbc77 .color-7 a:visited{stroke:#8BC34A;fill:#8BC34A}#chart-19b6eb7e-0a2c-4692-b10d-9a9ca84fbc77 .color-8,#chart-19b6eb7e-0a2c-4692-b10d-9a9ca84fbc77 .color-8 a:visited{stroke:#FF9800;fill:#FF9800}#chart-19b6eb7e-0a2c-4692-b10d-9a9ca84fbc77 .color-9,#chart-19b6eb7e-0a2c-4692-b10d-9a9ca84fbc77 .color-9 a:visited{stroke:#E91E63;fill:#E91E63}#chart-19b6eb7e-0a2c-4692-b10d-9a9ca84fbc77 .text-overlay .color-0 text{fill:black}#chart-19b6eb7e-0a2c-4692-b10d-9a9ca84fbc77 .text-overlay .color-1 text{fill:black}#chart-19b6eb7e-0a2c-4692-b10d-9a9ca84fbc77 .text-overlay .color-2 text{fill:black}#chart-19b6eb7e-0a2c-4692-b10d-9a9ca84fbc77 .text-overlay .color-3 text{fill:black}#chart-19b6eb7e-0a2c-4692-b10d-9a9ca84fbc77 .text-overlay .color-4 text{fill:black}#chart-19b6eb7e-0a2c-4692-b10d-9a9ca84fbc77 .text-overlay .color-5 text{fill:black}#chart-19b6eb7e-0a2c-4692-b10d-9a9ca84fbc77 .text-overlay .color-6 text{fill:black}#chart-19b6eb7e-0a2c-4692-b10d-9a9ca84fbc77 .text-overlay .color-7 text{fill:black}#chart-19b6eb7e-0a2c-4692-b10d-9a9ca84fbc77 .text-overlay .color-8 text{fill:black}#chart-19b6eb7e-0a2c-4692-b10d-9a9ca84fbc77 .text-overlay .color-9 text{fill:black}\n",
       "#chart-19b6eb7e-0a2c-4692-b10d-9a9ca84fbc77 text.no_data{text-anchor:middle}#chart-19b6eb7e-0a2c-4692-b10d-9a9ca84fbc77 .guide.line{fill:none}#chart-19b6eb7e-0a2c-4692-b10d-9a9ca84fbc77 .centered{text-anchor:middle}#chart-19b6eb7e-0a2c-4692-b10d-9a9ca84fbc77 .title{text-anchor:middle}#chart-19b6eb7e-0a2c-4692-b10d-9a9ca84fbc77 .legends .legend text{fill-opacity:1}#chart-19b6eb7e-0a2c-4692-b10d-9a9ca84fbc77 .axis.x text{text-anchor:middle}#chart-19b6eb7e-0a2c-4692-b10d-9a9ca84fbc77 .axis.x:not(.web) text[transform]{text-anchor:start}#chart-19b6eb7e-0a2c-4692-b10d-9a9ca84fbc77 .axis.x:not(.web) text[transform].backwards{text-anchor:end}#chart-19b6eb7e-0a2c-4692-b10d-9a9ca84fbc77 .axis.y text{text-anchor:end}#chart-19b6eb7e-0a2c-4692-b10d-9a9ca84fbc77 .axis.y text[transform].backwards{text-anchor:start}#chart-19b6eb7e-0a2c-4692-b10d-9a9ca84fbc77 .axis.y2 text{text-anchor:start}#chart-19b6eb7e-0a2c-4692-b10d-9a9ca84fbc77 .axis.y2 text[transform].backwards{text-anchor:end}#chart-19b6eb7e-0a2c-4692-b10d-9a9ca84fbc77 .axis .guide.line{stroke-dasharray:4,4}#chart-19b6eb7e-0a2c-4692-b10d-9a9ca84fbc77 .axis .major.guide.line{stroke-dasharray:6,6}#chart-19b6eb7e-0a2c-4692-b10d-9a9ca84fbc77 .horizontal .axis.y .guide.line,#chart-19b6eb7e-0a2c-4692-b10d-9a9ca84fbc77 .horizontal .axis.y2 .guide.line,#chart-19b6eb7e-0a2c-4692-b10d-9a9ca84fbc77 .vertical .axis.x .guide.line{opacity:0}#chart-19b6eb7e-0a2c-4692-b10d-9a9ca84fbc77 .horizontal .axis.always_show .guide.line,#chart-19b6eb7e-0a2c-4692-b10d-9a9ca84fbc77 .vertical .axis.always_show .guide.line{opacity:1 !important}#chart-19b6eb7e-0a2c-4692-b10d-9a9ca84fbc77 .axis.y .guides:hover .guide.line,#chart-19b6eb7e-0a2c-4692-b10d-9a9ca84fbc77 .axis.y2 .guides:hover .guide.line,#chart-19b6eb7e-0a2c-4692-b10d-9a9ca84fbc77 .axis.x .guides:hover .guide.line{opacity:1}#chart-19b6eb7e-0a2c-4692-b10d-9a9ca84fbc77 .axis .guides:hover text{opacity:1}#chart-19b6eb7e-0a2c-4692-b10d-9a9ca84fbc77 .nofill{fill:none}#chart-19b6eb7e-0a2c-4692-b10d-9a9ca84fbc77 .subtle-fill{fill-opacity:.2}#chart-19b6eb7e-0a2c-4692-b10d-9a9ca84fbc77 .dot{stroke-width:1px;fill-opacity:1}#chart-19b6eb7e-0a2c-4692-b10d-9a9ca84fbc77 .dot.active{stroke-width:5px}#chart-19b6eb7e-0a2c-4692-b10d-9a9ca84fbc77 .dot.negative{fill:transparent}#chart-19b6eb7e-0a2c-4692-b10d-9a9ca84fbc77 text,#chart-19b6eb7e-0a2c-4692-b10d-9a9ca84fbc77 tspan{stroke:none !important}#chart-19b6eb7e-0a2c-4692-b10d-9a9ca84fbc77 .series text.active{opacity:1}#chart-19b6eb7e-0a2c-4692-b10d-9a9ca84fbc77 .tooltip rect{fill-opacity:.95;stroke-width:.5}#chart-19b6eb7e-0a2c-4692-b10d-9a9ca84fbc77 .tooltip text{fill-opacity:1}#chart-19b6eb7e-0a2c-4692-b10d-9a9ca84fbc77 .showable{visibility:hidden}#chart-19b6eb7e-0a2c-4692-b10d-9a9ca84fbc77 .showable.shown{visibility:visible}#chart-19b6eb7e-0a2c-4692-b10d-9a9ca84fbc77 .gauge-background{fill:rgba(229,229,229,1);stroke:none}#chart-19b6eb7e-0a2c-4692-b10d-9a9ca84fbc77 .bg-lines{stroke:rgba(249,249,249,1);stroke-width:2px}</style><script type=\"text/javascript\">window.pygal = window.pygal || {};window.pygal.config = window.pygal.config || {};window.pygal.config['19b6eb7e-0a2c-4692-b10d-9a9ca84fbc77'] = {\"allow_interruptions\": false, \"box_mode\": \"extremes\", \"classes\": [\"pygal-chart\"], \"css\": [\"file://style.css\", \"file://graph.css\"], \"defs\": [], \"disable_xml_declaration\": false, \"dots_size\": 2.5, \"dynamic_print_values\": false, \"explicit_size\": false, \"fill\": true, \"force_uri_protocol\": \"https\", \"formatter\": null, \"half_pie\": false, \"height\": 600, \"include_x_axis\": false, \"inner_radius\": 0, \"interpolate\": null, \"interpolation_parameters\": {}, \"interpolation_precision\": 250, \"inverse_y_axis\": false, \"js\": [\"//kozea.github.io/pygal.js/2.0.x/pygal-tooltips.min.js\"], \"legend_at_bottom\": true, \"legend_at_bottom_columns\": 2, \"legend_box_size\": 12, \"logarithmic\": false, \"margin\": 20, \"margin_bottom\": null, \"margin_left\": null, \"margin_right\": null, \"margin_top\": null, \"max_scale\": 16, \"min_scale\": 4, \"missing_value_fill_truncation\": \"x\", \"no_data_text\": \"No data\", \"no_prefix\": false, \"order_min\": null, \"pretty_print\": false, \"print_labels\": false, \"print_values\": false, \"print_values_position\": \"center\", \"print_zeroes\": true, \"range\": null, \"rounded_bars\": null, \"secondary_range\": null, \"show_dots\": true, \"show_legend\": true, \"show_minor_x_labels\": true, \"show_minor_y_labels\": true, \"show_only_major_dots\": false, \"show_x_guides\": true, \"show_x_labels\": true, \"show_y_guides\": false, \"show_y_labels\": true, \"spacing\": 10, \"stack_from_top\": false, \"strict\": false, \"stroke\": true, \"stroke_style\": null, \"style\": {\"background\": \"rgba(249, 249, 249, 1)\", \"ci_colors\": [], \"colors\": [\"#F44336\", \"#3F51B5\", \"#009688\", \"#FFC107\", \"#FF5722\", \"#9C27B0\", \"#03A9F4\", \"#8BC34A\", \"#FF9800\", \"#E91E63\", \"#2196F3\", \"#4CAF50\", \"#FFEB3B\", \"#673AB7\", \"#00BCD4\", \"#CDDC39\", \"#9E9E9E\", \"#607D8B\"], \"font_family\": \"Consolas, \\\"Liberation Mono\\\", Menlo, Courier, monospace\", \"foreground\": \"rgba(0, 0, 0, .87)\", \"foreground_strong\": \"rgba(0, 0, 0, 1)\", \"foreground_subtle\": \"rgba(0, 0, 0, .54)\", \"guide_stroke_dasharray\": \"4,4\", \"label_font_family\": \"Consolas, \\\"Liberation Mono\\\", Menlo, Courier, monospace\", \"label_font_size\": 10, \"legend_font_family\": \"Consolas, \\\"Liberation Mono\\\", Menlo, Courier, monospace\", \"legend_font_size\": 14, \"major_guide_stroke_dasharray\": \"6,6\", \"major_label_font_family\": \"Consolas, \\\"Liberation Mono\\\", Menlo, Courier, monospace\", \"major_label_font_size\": 10, \"no_data_font_family\": \"Consolas, \\\"Liberation Mono\\\", Menlo, Courier, monospace\", \"no_data_font_size\": 64, \"opacity\": \".7\", \"opacity_hover\": \".8\", \"plot_background\": \"rgba(255, 255, 255, 1)\", \"stroke_opacity\": \".8\", \"stroke_opacity_hover\": \".9\", \"title_font_family\": \"Consolas, \\\"Liberation Mono\\\", Menlo, Courier, monospace\", \"title_font_size\": 16, \"tooltip_font_family\": \"Consolas, \\\"Liberation Mono\\\", Menlo, Courier, monospace\", \"tooltip_font_size\": 14, \"transition\": \"150ms\", \"value_background\": \"rgba(229, 229, 229, 1)\", \"value_colors\": [], \"value_font_family\": \"Consolas, \\\"Liberation Mono\\\", Menlo, Courier, monospace\", \"value_font_size\": 16, \"value_label_font_family\": \"Consolas, \\\"Liberation Mono\\\", Menlo, Courier, monospace\", \"value_label_font_size\": 10}, \"title\": \"Komplexeste Methoden\", \"tooltip_border_radius\": 0, \"tooltip_fancy_mode\": true, \"truncate_label\": null, \"truncate_legend\": null, \"width\": 800, \"x_label_rotation\": 0, \"x_labels\": null, \"x_labels_major\": null, \"x_labels_major_count\": null, \"x_labels_major_every\": null, \"x_title\": null, \"xrange\": null, \"y_label_rotation\": 0, \"y_labels\": null, \"y_labels_major\": null, \"y_labels_major_count\": null, \"y_labels_major_every\": null, \"y_title\": null, \"zero\": 0, \"legends\": [\"org.junit.internal.ComparisonCriteria\", \"org.junit.runner.JUnitCommandLineParseResult\", \"junit.textui.TestRunner\", \"junit.runner.BaseTestRunner\", \"org.junit.internal.runners.statements.RunAfters\", \"junit.tests.runner.TextRunnerTest\", \"org.junit.runners.parameterized.BlockJUnit4ClassRunnerWithParameters\", \"junit.runner.BaseTestRunner\", \"org.junit.internal.Throwables\", \"org.junit.rules.TemporaryFolder\"]}</script><script type=\"text/javascript\" xlink:href=\"https://kozea.github.io/pygal.js/2.0.x/pygal-tooltips.min.js\"/></defs><title>Komplexeste Methoden</title><g class=\"graph horizontalbar-graph horizontal\"><rect class=\"background\" height=\"600\" width=\"800\" x=\"0\" y=\"0\"/><g class=\"plot\" transform=\"translate(20, 46)\"><rect class=\"background\" height=\"406.0\" width=\"760\" x=\"0\" y=\"0\"/><g class=\"axis x always_show\"><g class=\"guides\"><path class=\"axis major line\" d=\"M14.615385 0.000000 v406.000000\"/><text class=\"major\" x=\"14.615384615384615\" y=\"421.0\">0</text></g><g class=\"guides\"><path class=\"guide line\" d=\"M95.811966 0.000000 v406.000000\"/><text class=\"\" x=\"95.81196581196582\" y=\"421.0\">2</text></g><g class=\"guides\"><path class=\"guide line\" d=\"M177.008547 0.000000 v406.000000\"/><text class=\"\" x=\"177.00854700854703\" y=\"421.0\">4</text></g><g class=\"guides\"><path class=\"guide line\" d=\"M258.205128 0.000000 v406.000000\"/><text class=\"\" x=\"258.20512820512823\" y=\"421.0\">6</text></g><g class=\"guides\"><path class=\"guide line\" d=\"M339.401709 0.000000 v406.000000\"/><text class=\"\" x=\"339.4017094017094\" y=\"421.0\">8</text></g><g class=\"guides\"><path class=\"major guide line\" d=\"M420.598291 0.000000 v406.000000\"/><text class=\"major\" x=\"420.5982905982906\" y=\"421.0\">10</text></g><g class=\"guides\"><path class=\"guide line\" d=\"M501.794872 0.000000 v406.000000\"/><text class=\"\" x=\"501.7948717948718\" y=\"421.0\">12</text></g><g class=\"guides\"><path class=\"guide line\" d=\"M582.991453 0.000000 v406.000000\"/><text class=\"\" x=\"582.991452991453\" y=\"421.0\">14</text></g><g class=\"guides\"><path class=\"guide line\" d=\"M664.188034 0.000000 v406.000000\"/><text class=\"\" x=\"664.1880341880343\" y=\"421.0\">16</text></g><g class=\"guides\"><path class=\"guide line\" d=\"M745.384615 0.000000 v406.000000\"/><text class=\"\" x=\"745.3846153846155\" y=\"421.0\">18</text></g></g><g class=\"series serie-9 color-9\"><g class=\"bars\"><g class=\"bar\"><desc class=\"label\">java.io.File newFolder(java.lang.String[])</desc><rect class=\"rect reactive tooltip-trigger\" height=\"30.231384615384616\" rx=\"0\" ry=\"0\" width=\"405.98290598290595\" x=\"14.615384615384642\" y=\"342.4766153846154\"/><desc class=\"value\">10</desc><desc class=\"x centered\">217.60683760683762</desc><desc class=\"y centered\">357.5923076923077</desc></g></g></g><g class=\"series serie-8 color-8\"><g class=\"bars\"><g class=\"bar\"><desc class=\"label\">java.util.List getCauseStackTraceLines(java.lang.Throwable)</desc><rect class=\"rect reactive tooltip-trigger\" height=\"30.231384615384616\" rx=\"0\" ry=\"0\" width=\"405.98290598290595\" x=\"14.615384615384642\" y=\"308.1227692307692\"/><desc class=\"value\">10</desc><desc class=\"x centered\">217.60683760683762</desc><desc class=\"y centered\">323.23846153846154</desc></g></g></g><g class=\"series serie-7 color-7\"><g class=\"bars\"><g class=\"bar\"><desc class=\"label\">java.lang.String processArguments(java.lang.String[])</desc><rect class=\"rect reactive tooltip-trigger\" height=\"30.231384615384616\" rx=\"0\" ry=\"0\" width=\"446.5811965811966\" x=\"14.615384615384642\" y=\"273.7689230769231\"/><desc class=\"value\">11</desc><desc class=\"x centered\">237.90598290598294</desc><desc class=\"y centered\">288.8846153846154</desc></g></g></g><g class=\"series serie-6 color-6\"><g class=\"bars\"><g class=\"bar\"><desc class=\"label\">void validateFields(java.util.List)</desc><rect class=\"rect reactive tooltip-trigger\" height=\"30.231384615384616\" rx=\"0\" ry=\"0\" width=\"487.1794871794872\" x=\"14.615384615384642\" y=\"239.41507692307692\"/><desc class=\"value\">12</desc><desc class=\"x centered\">258.20512820512823</desc><desc class=\"y centered\">254.53076923076924</desc></g></g></g><g class=\"series serie-5 color-5\"><g class=\"bars\"><g class=\"bar\"><desc class=\"label\">void execTest(java.lang.String,boolean)</desc><rect class=\"rect reactive tooltip-trigger\" height=\"30.231384615384616\" rx=\"0\" ry=\"0\" width=\"487.1794871794872\" x=\"14.615384615384642\" y=\"205.06123076923075\"/><desc class=\"value\">12</desc><desc class=\"x centered\">258.20512820512823</desc><desc class=\"y centered\">220.17692307692306</desc></g></g></g><g class=\"series serie-4 color-4\"><g class=\"bars\"><g class=\"bar\"><desc class=\"label\">void evaluate()</desc><rect class=\"rect reactive tooltip-trigger\" height=\"30.231384615384616\" rx=\"0\" ry=\"0\" width=\"487.1794871794872\" x=\"14.615384615384642\" y=\"170.7073846153846\"/><desc class=\"value\">12</desc><desc class=\"x centered\">258.20512820512823</desc><desc class=\"y centered\">185.8230769230769</desc></g></g></g><g class=\"series serie-3 color-3\"><g class=\"bars\"><g class=\"bar\"><desc class=\"label\">void readPreferences()</desc><rect class=\"rect reactive tooltip-trigger\" height=\"30.231384615384616\" rx=\"0\" ry=\"0\" width=\"487.1794871794872\" x=\"14.615384615384642\" y=\"136.35353846153842\"/><desc class=\"value\">12</desc><desc class=\"x centered\">258.20512820512823</desc><desc class=\"y centered\">151.46923076923073</desc></g></g></g><g class=\"series serie-2 color-2\"><g class=\"bars\"><g class=\"bar\"><desc class=\"label\">junit.framework.TestResult start(java.lang.String[])</desc><rect class=\"rect reactive tooltip-trigger\" height=\"30.231384615384616\" rx=\"0\" ry=\"0\" width=\"527.7777777777778\" x=\"14.615384615384642\" y=\"101.99969230769229\"/><desc class=\"value\">13</desc><desc class=\"x centered\">278.50427350427356</desc><desc class=\"y centered\">117.11538461538458</desc></g></g></g><g class=\"series serie-1 color-1\"><g class=\"bars\"><g class=\"bar\"><desc class=\"label\">java.lang.String[] parseOptions(java.lang.String[])</desc><rect class=\"rect reactive tooltip-trigger\" height=\"30.231384615384616\" rx=\"0\" ry=\"0\" width=\"527.7777777777778\" x=\"14.615384615384642\" y=\"67.64584615384614\"/><desc class=\"value\">13</desc><desc class=\"x centered\">278.50427350427356</desc><desc class=\"y centered\">82.76153846153844</desc></g></g></g><g class=\"series serie-0 color-0\"><g class=\"bars\"><g class=\"bar\"><desc class=\"label\">void arrayEquals(java.lang.String,java.lang.Object,java.lang.Object,boolean)</desc><rect class=\"rect reactive tooltip-trigger\" height=\"30.231384615384616\" rx=\"0\" ry=\"0\" width=\"730.7692307692308\" x=\"14.615384615384642\" y=\"33.29199999999996\"/><desc class=\"value\">18</desc><desc class=\"x centered\">380.00000000000006</desc><desc class=\"y centered\">48.40769230769227</desc></g></g></g></g><g class=\"titles\"><text class=\"title plot_title\" x=\"400.0\" y=\"26\">Komplexeste Methoden</text></g><g class=\"plot overlay\" transform=\"translate(20, 46)\"><g class=\"series serie-9 color-9\"/><g class=\"series serie-8 color-8\"/><g class=\"series serie-7 color-7\"/><g class=\"series serie-6 color-6\"/><g class=\"series serie-5 color-5\"/><g class=\"series serie-4 color-4\"/><g class=\"series serie-3 color-3\"/><g class=\"series serie-2 color-2\"/><g class=\"series serie-1 color-1\"/><g class=\"series serie-0 color-0\"/></g><g class=\"plot text-overlay\" transform=\"translate(20, 46)\"><g class=\"series serie-9 color-9\"/><g class=\"series serie-8 color-8\"/><g class=\"series serie-7 color-7\"/><g class=\"series serie-6 color-6\"/><g class=\"series serie-5 color-5\"/><g class=\"series serie-4 color-4\"/><g class=\"series serie-3 color-3\"/><g class=\"series serie-2 color-2\"/><g class=\"series serie-1 color-1\"/><g class=\"series serie-0 color-0\"/></g><g class=\"plot tooltip-overlay\" transform=\"translate(20, 46)\"><g class=\"tooltip\" style=\"opacity: 0\" transform=\"translate(0 0)\"><rect class=\"tooltip-box\" height=\"0\" rx=\"0\" ry=\"0\" width=\"0\"/><g class=\"text\"/></g></g><g class=\"legends\" transform=\"translate(30, 482)\"><g class=\"legend reactive activate-serie\" id=\"activate-serie-0\"><rect class=\"color-0 reactive\" height=\"12\" width=\"12\" x=\"0.0\" y=\"1.0\"/><text x=\"17.0\" y=\"11.2\">org.junit.internal.ComparisonCriteria</text></g><g class=\"legend reactive activate-serie\" id=\"activate-serie-1\"><rect class=\"color-1 reactive\" height=\"12\" width=\"12\" x=\"380.0\" y=\"1.0\"/><text x=\"397.0\" y=\"11.2\">org.junit.runner.JUnitCommandLineParseResu…</text><title>org.junit.runner.JUnitCommandLineParseResult</title></g><g class=\"legend reactive activate-serie\" id=\"activate-serie-2\"><rect class=\"color-2 reactive\" height=\"12\" width=\"12\" x=\"0.0\" y=\"22.0\"/><text x=\"17.0\" y=\"32.2\">junit.textui.TestRunner</text></g><g class=\"legend reactive activate-serie\" id=\"activate-serie-3\"><rect class=\"color-3 reactive\" height=\"12\" width=\"12\" x=\"380.0\" y=\"22.0\"/><text x=\"397.0\" y=\"32.2\">junit.runner.BaseTestRunner</text></g><g class=\"legend reactive activate-serie\" id=\"activate-serie-4\"><rect class=\"color-4 reactive\" height=\"12\" width=\"12\" x=\"0.0\" y=\"43.0\"/><text x=\"17.0\" y=\"53.2\">org.junit.internal.runners.statements.RunA…</text><title>org.junit.internal.runners.statements.RunAfters</title></g><g class=\"legend reactive activate-serie\" id=\"activate-serie-5\"><rect class=\"color-5 reactive\" height=\"12\" width=\"12\" x=\"380.0\" y=\"43.0\"/><text x=\"397.0\" y=\"53.2\">junit.tests.runner.TextRunnerTest</text></g><g class=\"legend reactive activate-serie\" id=\"activate-serie-6\"><rect class=\"color-6 reactive\" height=\"12\" width=\"12\" x=\"0.0\" y=\"64.0\"/><text x=\"17.0\" y=\"74.2\">org.junit.runners.parameterized.BlockJUnit…</text><title>org.junit.runners.parameterized.BlockJUnit4ClassRunnerWithParameters</title></g><g class=\"legend reactive activate-serie\" id=\"activate-serie-7\"><rect class=\"color-7 reactive\" height=\"12\" width=\"12\" x=\"380.0\" y=\"64.0\"/><text x=\"397.0\" y=\"74.2\">junit.runner.BaseTestRunner</text></g><g class=\"legend reactive activate-serie\" id=\"activate-serie-8\"><rect class=\"color-8 reactive\" height=\"12\" width=\"12\" x=\"0.0\" y=\"85.0\"/><text x=\"17.0\" y=\"95.2\">org.junit.internal.Throwables</text></g><g class=\"legend reactive activate-serie\" id=\"activate-serie-9\"><rect class=\"color-9 reactive\" height=\"12\" width=\"12\" x=\"380.0\" y=\"85.0\"/><text x=\"397.0\" y=\"95.2\">org.junit.rules.TemporaryFolder</text></g></g></g></svg>\n",
       "    </figure>\n",
       "  </body>\n",
       "</html>\n"
      ],
      "text/plain": [
       "<IPython.core.display.HTML object>"
      ]
     },
     "metadata": {},
     "output_type": "display_data"
    }
   ],
   "source": [
    "# Erstelle Bar Chart für complexity.\n",
    "import pygal \n",
    "bar_chart = pygal.HorizontalBar(show_legend=True, human_readable=True, fill=True, legend_at_bottom=True, legend_at_bottom_columns=2)\n",
    "bar_chart.title = 'Komplexeste Methoden'\n",
    "for index, row in complexity_df.iterrows():\n",
    "    bar_chart.add(row['type'],[{\"value\": row['complexity'], \"label\": row['signature']}])\n",
    "display(HTML(base_html.format(rendered_chart=bar_chart.render(is_unicode=True))))"
   ]
  },
  {
   "cell_type": "code",
   "execution_count": null,
   "metadata": {},
   "outputs": [],
   "source": []
  }
 ],
 "metadata": {
  "extensions": {
   "jupyter_dashboards": {
    "activeView": "report_default",
    "version": 1,
    "views": {
     "grid_default": {
      "cellMargin": 10,
      "defaultCellHeight": 20,
      "maxColumns": 12,
      "name": "grid",
      "type": "grid"
     },
     "report_default": {
      "name": "report",
      "type": "report"
     }
    }
   }
  },
  "kernelspec": {
   "display_name": "Python [conda env:BeLL]",
   "language": "python",
   "name": "conda-env-BeLL-py"
  },
  "language_info": {
   "codemirror_mode": {
    "name": "ipython",
    "version": 3
   },
   "file_extension": ".py",
   "mimetype": "text/x-python",
   "name": "python",
   "nbconvert_exporter": "python",
   "pygments_lexer": "ipython3",
   "version": "3.6.4"
  }
 },
 "nbformat": 4,
 "nbformat_minor": 2
}
