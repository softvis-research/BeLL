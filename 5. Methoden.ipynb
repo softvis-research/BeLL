{
 "cells": [
  {
   "cell_type": "markdown",
   "metadata": {},
   "source": [
    "# Was sind die größten und komplexesten Methoden?"
   ]
  },
  {
   "cell_type": "markdown",
   "metadata": {},
   "source": [
    "## 1. Verbindung zur Datenbank\n",
    "Es wird eine Verbindung zur Neo4j-Datenbank aufgebaut."
   ]
  },
  {
   "cell_type": "code",
   "execution_count": 3,
   "metadata": {},
   "outputs": [],
   "source": [
    "import py2neo\n",
    "\n",
    "graph = py2neo.Graph(bolt=True, host='localhost', user='neo4j', password='neo4j')"
   ]
  },
  {
   "cell_type": "markdown",
   "metadata": {},
   "source": [
    "## 2. Cypher-Abfrage\n",
    "Es wird eine Abfrage an die Datenbank gestellt. Das Ergebnis wird in einem Dataframe (pandas) gespeichert."
   ]
  },
  {
   "cell_type": "code",
   "execution_count": 4,
   "metadata": {},
   "outputs": [],
   "source": [
    "import pandas as pd\n",
    "\n",
    "query =\"MATCH (t:Type)-[:HAS_SOURCE]->(f), (t)-[:DECLARES]->(m:Method) RETURN t.fqn as type, m.signature as signature,  sum(m.effectiveLineCount) as loc, sum(m.cyclomaticComplexity) as complexity\"\n",
    "df = pd.DataFrame(graph.run(query).data())\n"
   ]
  },
  {
   "cell_type": "markdown",
   "metadata": {},
   "source": [
    "## 3. Datenaufbereitung\n",
    "Zur Kontrolle werden die ersten fünf Zeilen des Ergebnisses der Abfrage als Tabelle ausgegeben."
   ]
  },
  {
   "cell_type": "code",
   "execution_count": 5,
   "metadata": {},
   "outputs": [
    {
     "data": {
      "text/html": [
       "<div>\n",
       "<style scoped>\n",
       "    .dataframe tbody tr th:only-of-type {\n",
       "        vertical-align: middle;\n",
       "    }\n",
       "\n",
       "    .dataframe tbody tr th {\n",
       "        vertical-align: top;\n",
       "    }\n",
       "\n",
       "    .dataframe thead th {\n",
       "        text-align: right;\n",
       "    }\n",
       "</style>\n",
       "<table border=\"1\" class=\"dataframe\">\n",
       "  <thead>\n",
       "    <tr style=\"text-align: right;\">\n",
       "      <th></th>\n",
       "      <th>complexity</th>\n",
       "      <th>loc</th>\n",
       "      <th>signature</th>\n",
       "      <th>type</th>\n",
       "    </tr>\n",
       "  </thead>\n",
       "  <tbody>\n",
       "    <tr>\n",
       "      <th>0</th>\n",
       "      <td>1</td>\n",
       "      <td>2</td>\n",
       "      <td>void &lt;init&gt;()</td>\n",
       "      <td>org.junit.rules.TestWatchmanTest$FailingTest</td>\n",
       "    </tr>\n",
       "    <tr>\n",
       "      <th>1</th>\n",
       "      <td>2</td>\n",
       "      <td>2</td>\n",
       "      <td>java.lang.Class getType()</td>\n",
       "      <td>org.junit.experimental.theories.ParameterSigna...</td>\n",
       "    </tr>\n",
       "    <tr>\n",
       "      <th>2</th>\n",
       "      <td>1</td>\n",
       "      <td>2</td>\n",
       "      <td>void forgetMax()</td>\n",
       "      <td>org.junit.tests.experimental.max.JUnit38Sortin...</td>\n",
       "    </tr>\n",
       "    <tr>\n",
       "      <th>3</th>\n",
       "      <td>0</td>\n",
       "      <td>0</td>\n",
       "      <td>void run(junit.framework.TestResult)</td>\n",
       "      <td>junit.tests.extensions.ExtensionTest$TornDown</td>\n",
       "    </tr>\n",
       "    <tr>\n",
       "      <th>4</th>\n",
       "      <td>1</td>\n",
       "      <td>6</td>\n",
       "      <td>void doesNotConsiderParametersWhichChangedAfte...</td>\n",
       "      <td>org.junit.runners.parameterized.TestWithParame...</td>\n",
       "    </tr>\n",
       "  </tbody>\n",
       "</table>\n",
       "</div>"
      ],
      "text/plain": [
       "   complexity  loc                                          signature  \\\n",
       "0           1    2                                      void <init>()   \n",
       "1           2    2                          java.lang.Class getType()   \n",
       "2           1    2                                   void forgetMax()   \n",
       "3           0    0               void run(junit.framework.TestResult)   \n",
       "4           1    6  void doesNotConsiderParametersWhichChangedAfte...   \n",
       "\n",
       "                                                type  \n",
       "0       org.junit.rules.TestWatchmanTest$FailingTest  \n",
       "1  org.junit.experimental.theories.ParameterSigna...  \n",
       "2  org.junit.tests.experimental.max.JUnit38Sortin...  \n",
       "3      junit.tests.extensions.ExtensionTest$TornDown  \n",
       "4  org.junit.runners.parameterized.TestWithParame...  "
      ]
     },
     "execution_count": 5,
     "metadata": {},
     "output_type": "execute_result"
    }
   ],
   "source": [
    "df.head()"
   ]
  },
  {
   "cell_type": "markdown",
   "metadata": {},
   "source": [
    "Im folgenden Codeabschnitt wird das Dataframe absteigend entsprechend der Anzahl der Quelltextzeilen (loc) sortiert und die ersten zehn Methoden extrahiert. Die Werte werden in den Variablen <font face=\"Courier\">x_loc</font> und <font face=\"Courier\">y_method_loc</font> gespeichert."
   ]
  },
  {
   "cell_type": "code",
   "execution_count": 18,
   "metadata": {},
   "outputs": [
    {
     "name": "stdout",
     "output_type": "stream",
     "text": [
      "      complexity  loc                                          signature  \\\n",
      "3901           3   78                                       void setUp()   \n",
      "5118          14   68     junit.framework.Test getTest(java.lang.String)   \n",
      "304            1   60       java.lang.Object[][] testsWithEventMatcher()   \n",
      "2388          63   56                          void testMoneyBagEquals()   \n",
      "2763           1   55       java.util.Collection testsWithEventMatcher()   \n",
      "1208          26   50  junit.framework.TestResult start(java.lang.Str...   \n",
      "3825          35   49                             void testMoneyEquals()   \n",
      "4428           7   49                                       void setUp()   \n",
      "23            14   49                               void testElementAt()   \n",
      "1934           7   42                                       void setUp()   \n",
      "\n",
      "                                       type  \n",
      "3901     junit.tests.runner.StackFilterTest  \n",
      "5118            junit.runner.BaseTestRunner  \n",
      "304      org.junit.rules.ErrorCollectorTest  \n",
      "2388          junit.samples.money.MoneyTest  \n",
      "2763  org.junit.rules.ExpectedExceptionTest  \n",
      "1208                junit.textui.TestRunner  \n",
      "3825          junit.samples.money.MoneyTest  \n",
      "4428          junit.samples.money.MoneyTest  \n",
      "23                   junit.samples.ListTest  \n",
      "1934                 junit.samples.ListTest  \n",
      "['setUp()', 'getTest(java.lang.String)', 'testsWithEventMatcher()', 'testMoneyBagEquals()', 'testsWithEventMatcher()', 'start(java.lang.String[])', 'testMoneyEquals()', 'setUp()', 'testElementAt()', 'setUp()']\n"
     ]
    }
   ],
   "source": [
    "a=df.sort_values('loc',ascending=False)\n",
    "b=a.head(10)\n",
    "def x_loc(x):\n",
    "    x=b['loc'].tolist()\n",
    "    return x\n",
    "def y_method_loc(y):\n",
    "    liste=[]\n",
    "    y=b['signature'].tolist()\n",
    "    for i in y:\n",
    "        g=i.split(' ')[-1]\n",
    "        liste.append(g)\n",
    "    return liste\n",
    "print(b)\n",
    "print(y_method_loc(b))"
   ]
  },
  {
   "cell_type": "markdown",
   "metadata": {},
   "source": [
    "Im folgenden Codeabschnitt wird das Dataframe absteigend entsprechend der Komplexität (complexity) sortiert und die ersten zehn Methoden extrahiert. Die Werte werden in den Variablen <font face=\"Courier\">x_complexity</font> und <font face=\"Courier\">y_method_complexity</font> gespeichert."
   ]
  },
  {
   "cell_type": "code",
   "execution_count": 20,
   "metadata": {},
   "outputs": [
    {
     "name": "stdout",
     "output_type": "stream",
     "text": [
      "[63, 36, 35, 35, 27, 26, 24, 24, 22, 21]\n",
      "['testMoneyBagEquals()', 'execTest(java.lang.String,boolean)', 'testMoneyEquals()', 'testCapacity()', 'testMoneyBagEquals()', 'start(java.lang.String[])', 'equals(java.lang.Object)', 'readPreferences()', 'processArguments(java.lang.String[])', 'verifySuccess(junit.framework.TestCase)']\n",
      "      complexity  loc                                          signature  \\\n",
      "2388          63   56                          void testMoneyBagEquals()   \n",
      "4684          36   36            void execTest(java.lang.String,boolean)   \n",
      "3825          35   49                             void testMoneyEquals()   \n",
      "581           35   35                                void testCapacity()   \n",
      "4670          27   24                          void testMoneyBagEquals()   \n",
      "1208          26   50  junit.framework.TestResult start(java.lang.Str...   \n",
      "4964          24   36                   boolean equals(java.lang.Object)   \n",
      "5394          24   24                             void readPreferences()   \n",
      "2805          22   30  java.lang.String processArguments(java.lang.St...   \n",
      "4230          21   15       void verifySuccess(junit.framework.TestCase)   \n",
      "\n",
      "                                    type  \n",
      "2388       junit.samples.money.MoneyTest  \n",
      "4684   junit.tests.runner.TextRunnerTest  \n",
      "3825       junit.samples.money.MoneyTest  \n",
      "581               junit.samples.ListTest  \n",
      "4670   org.junit.samples.money.MoneyTest  \n",
      "1208             junit.textui.TestRunner  \n",
      "4964        junit.samples.money.MoneyBag  \n",
      "5394         junit.runner.BaseTestRunner  \n",
      "2805         junit.runner.BaseTestRunner  \n",
      "4230  junit.tests.framework.TestCaseTest  \n"
     ]
    }
   ],
   "source": [
    "a=df.sort_values('complexity',ascending=False)\n",
    "c=a.head(10)\n",
    "\n",
    "def x_complexity(x):\n",
    "    x=c['complexity'].tolist()\n",
    "    return(x)\n",
    "\n",
    "def y_method_complexity(y):\n",
    "    liste=[]\n",
    "    y=c['signature'].tolist()\n",
    "    for i in y:\n",
    "        g=i.split(' ')[-1]\n",
    "        liste.append(g)\n",
    "    return liste\n",
    "\n",
    "\n",
    "\n",
    "print(x_complexity(c))\n",
    "print(y_method_complexity(c))\n",
    "print(c)"
   ]
  },
  {
   "cell_type": "markdown",
   "metadata": {},
   "source": [
    "## 4. Visualisierung\n",
    "Die Daten werden mittels eines Bar Charts visualisiert (https://plot.ly/python/horizontal-bar-charts/, x=x_loc, y=y_method_loc)."
   ]
  },
  {
   "cell_type": "code",
   "execution_count": 16,
   "metadata": {},
   "outputs": [
    {
     "data": {
      "text/html": [
       "<iframe id=\"igraph\" scrolling=\"no\" style=\"border:none;\" seamless=\"seamless\" src=\"https://plot.ly/~laurabus/8.embed\" height=\"525px\" width=\"100%\"></iframe>"
      ],
      "text/plain": [
       "<plotly.tools.PlotlyDisplay object>"
      ]
     },
     "execution_count": 16,
     "metadata": {},
     "output_type": "execute_result"
    }
   ],
   "source": [
    "import plotly.plotly as py\n",
    "import plotly.graph_objs as go\n",
    "\n",
    "data = [go.Bar(\n",
    "            x=x_loc(b),\n",
    "            y=y_method_loc(b),\n",
    "            orientation = 'h'\n",
    ")]\n",
    "\n",
    "py.iplot(data, filename='größte Methoden')"
   ]
  },
  {
   "cell_type": "markdown",
   "metadata": {},
   "source": [
    "Die Daten werden mittels eines Bar Charts visualisiert (https://plot.ly/python/horizontal-bar-charts/, x=x_complexity, y=y_method_complexity)."
   ]
  },
  {
   "cell_type": "code",
   "execution_count": 21,
   "metadata": {},
   "outputs": [
    {
     "data": {
      "text/html": [
       "<iframe id=\"igraph\" scrolling=\"no\" style=\"border:none;\" seamless=\"seamless\" src=\"https://plot.ly/~laurabus/19.embed\" height=\"525px\" width=\"100%\"></iframe>"
      ],
      "text/plain": [
       "<plotly.tools.PlotlyDisplay object>"
      ]
     },
     "execution_count": 21,
     "metadata": {},
     "output_type": "execute_result"
    }
   ],
   "source": [
    "import plotly.plotly as py\n",
    "import plotly.graph_objs as go\n",
    "\n",
    "data = [go.Bar(\n",
    "            x=x_complexity(c),\n",
    "            y=y_method_complexity(c),\n",
    "            orientation = 'h'\n",
    ")]\n",
    "\n",
    "py.iplot(data, filename='komplexeste Methoden')"
   ]
  },
  {
   "cell_type": "code",
   "execution_count": null,
   "metadata": {},
   "outputs": [],
   "source": []
  },
  {
   "cell_type": "code",
   "execution_count": null,
   "metadata": {},
   "outputs": [],
   "source": []
  }
 ],
 "metadata": {
  "kernelspec": {
   "display_name": "Python [conda env:BeLL]",
   "language": "python",
   "name": "conda-env-BeLL-py"
  },
  "language_info": {
   "codemirror_mode": {
    "name": "ipython",
    "version": 3
   },
   "file_extension": ".py",
   "mimetype": "text/x-python",
   "name": "python",
   "nbconvert_exporter": "python",
   "pygments_lexer": "ipython3",
   "version": "3.6.4"
  }
 },
 "nbformat": 4,
 "nbformat_minor": 2
}
