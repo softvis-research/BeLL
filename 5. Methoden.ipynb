{
 "cells": [
  {
   "cell_type": "markdown",
   "metadata": {
    "extensions": {
     "jupyter_dashboards": {
      "version": 1,
      "views": {
       "grid_default": {
        "col": 0,
        "height": 4,
        "hidden": false,
        "row": 0,
        "width": 4
       },
       "report_default": {
        "hidden": false
       }
      }
     }
    }
   },
   "source": [
    "# Was sind die größten und komplexesten Methoden?"
   ]
  },
  {
   "cell_type": "markdown",
   "metadata": {
    "extensions": {
     "jupyter_dashboards": {
      "version": 1,
      "views": {
       "grid_default": {
        "col": 4,
        "height": 4,
        "hidden": false,
        "row": 0,
        "width": 4
       },
       "report_default": {
        "hidden": false
       }
      }
     }
    }
   },
   "source": [
    "## 1. Verbindung zur Datenbank\n",
    "Es wird eine Verbindung zur Neo4j-Datenbank aufgebaut."
   ]
  },
  {
   "cell_type": "code",
   "execution_count": 33,
   "metadata": {
    "extensions": {
     "jupyter_dashboards": {
      "version": 1,
      "views": {
       "grid_default": {
        "hidden": true
       },
       "report_default": {
        "hidden": true
       }
      }
     }
    }
   },
   "outputs": [],
   "source": [
    "import py2neo\n",
    "\n",
    "graph = py2neo.Graph(bolt=True, host='localhost', user='neo4j', password='neo4j')"
   ]
  },
  {
   "cell_type": "markdown",
   "metadata": {
    "extensions": {
     "jupyter_dashboards": {
      "version": 1,
      "views": {
       "grid_default": {
        "col": 0,
        "height": 4,
        "hidden": false,
        "row": 4,
        "width": 12
       },
       "report_default": {
        "hidden": false
       }
      }
     }
    }
   },
   "source": [
    "## 2. Cypher-Abfrage\n",
    "Es wird eine Abfrage an die Datenbank gestellt. Das Ergebnis wird in einem Dataframe (pandas) gespeichert."
   ]
  },
  {
   "cell_type": "code",
   "execution_count": 34,
   "metadata": {
    "extensions": {
     "jupyter_dashboards": {
      "version": 1,
      "views": {
       "grid_default": {
        "hidden": true
       },
       "report_default": {
        "hidden": true
       }
      }
     }
    }
   },
   "outputs": [],
   "source": [
    "import pandas as pd\n",
    "\n",
    "query =\"MATCH (t:Type)-[:HAS_SOURCE]->(f), (t)-[:DECLARES]->(m:Method) RETURN t.fqn as type, m.signature as signature,  sum(m.effectiveLineCount) as loc, sum(m.cyclomaticComplexity) as complexity\"\n",
    "df = pd.DataFrame(graph.run(query).data())\n"
   ]
  },
  {
   "cell_type": "markdown",
   "metadata": {
    "extensions": {
     "jupyter_dashboards": {
      "version": 1,
      "views": {
       "grid_default": {
        "col": 8,
        "height": 4,
        "hidden": false,
        "row": 0,
        "width": 4
       },
       "report_default": {
        "hidden": false
       }
      }
     }
    }
   },
   "source": [
    "## 3. Datenaufbereitung\n",
    "Zur Kontrolle werden die ersten fünf Zeilen des Ergebnisses der Abfrage als Tabelle ausgegeben."
   ]
  },
  {
   "cell_type": "code",
   "execution_count": 35,
   "metadata": {
    "extensions": {
     "jupyter_dashboards": {
      "version": 1,
      "views": {
       "grid_default": {
        "col": 0,
        "height": 7,
        "hidden": false,
        "row": 8,
        "width": 8
       },
       "report_default": {
        "hidden": false
       }
      }
     }
    }
   },
   "outputs": [
    {
     "data": {
      "text/html": [
       "<div>\n",
       "<style scoped>\n",
       "    .dataframe tbody tr th:only-of-type {\n",
       "        vertical-align: middle;\n",
       "    }\n",
       "\n",
       "    .dataframe tbody tr th {\n",
       "        vertical-align: top;\n",
       "    }\n",
       "\n",
       "    .dataframe thead th {\n",
       "        text-align: right;\n",
       "    }\n",
       "</style>\n",
       "<table border=\"1\" class=\"dataframe\">\n",
       "  <thead>\n",
       "    <tr style=\"text-align: right;\">\n",
       "      <th></th>\n",
       "      <th>complexity</th>\n",
       "      <th>loc</th>\n",
       "      <th>signature</th>\n",
       "      <th>type</th>\n",
       "    </tr>\n",
       "  </thead>\n",
       "  <tbody>\n",
       "    <tr>\n",
       "      <th>0</th>\n",
       "      <td>1</td>\n",
       "      <td>2</td>\n",
       "      <td>void &lt;init&gt;()</td>\n",
       "      <td>org.junit.rules.TestWatchmanTest$FailingTest</td>\n",
       "    </tr>\n",
       "    <tr>\n",
       "      <th>1</th>\n",
       "      <td>2</td>\n",
       "      <td>2</td>\n",
       "      <td>java.lang.Class getType()</td>\n",
       "      <td>org.junit.experimental.theories.ParameterSigna...</td>\n",
       "    </tr>\n",
       "    <tr>\n",
       "      <th>2</th>\n",
       "      <td>1</td>\n",
       "      <td>2</td>\n",
       "      <td>void forgetMax()</td>\n",
       "      <td>org.junit.tests.experimental.max.JUnit38Sortin...</td>\n",
       "    </tr>\n",
       "    <tr>\n",
       "      <th>3</th>\n",
       "      <td>0</td>\n",
       "      <td>0</td>\n",
       "      <td>void run(junit.framework.TestResult)</td>\n",
       "      <td>junit.tests.extensions.ExtensionTest$TornDown</td>\n",
       "    </tr>\n",
       "    <tr>\n",
       "      <th>4</th>\n",
       "      <td>1</td>\n",
       "      <td>6</td>\n",
       "      <td>void doesNotConsiderParametersWhichChangedAfte...</td>\n",
       "      <td>org.junit.runners.parameterized.TestWithParame...</td>\n",
       "    </tr>\n",
       "  </tbody>\n",
       "</table>\n",
       "</div>"
      ],
      "text/plain": [
       "   complexity  loc                                          signature  \\\n",
       "0           1    2                                      void <init>()   \n",
       "1           2    2                          java.lang.Class getType()   \n",
       "2           1    2                                   void forgetMax()   \n",
       "3           0    0               void run(junit.framework.TestResult)   \n",
       "4           1    6  void doesNotConsiderParametersWhichChangedAfte...   \n",
       "\n",
       "                                                type  \n",
       "0       org.junit.rules.TestWatchmanTest$FailingTest  \n",
       "1  org.junit.experimental.theories.ParameterSigna...  \n",
       "2  org.junit.tests.experimental.max.JUnit38Sortin...  \n",
       "3      junit.tests.extensions.ExtensionTest$TornDown  \n",
       "4  org.junit.runners.parameterized.TestWithParame...  "
      ]
     },
     "execution_count": 35,
     "metadata": {},
     "output_type": "execute_result"
    }
   ],
   "source": [
    "df.head()"
   ]
  },
  {
   "cell_type": "markdown",
   "metadata": {
    "extensions": {
     "jupyter_dashboards": {
      "version": 1,
      "views": {
       "grid_default": {
        "col": 0,
        "height": 4,
        "hidden": false,
        "row": 15,
        "width": 12
       },
       "report_default": {
        "hidden": false
       }
      }
     }
    }
   },
   "source": [
    "Im folgenden Codeabschnitt wird das Dataframe absteigend entsprechend der Anzahl der Quelltextzeilen (loc) sortiert und die ersten zehn Methoden extrahiert. Die Werte werden in den Variablen <font face=\"Courier\">x_loc</font> und <font face=\"Courier\">y_method_loc</font> gespeichert."
   ]
  },
  {
   "cell_type": "code",
   "execution_count": 36,
   "metadata": {
    "extensions": {
     "jupyter_dashboards": {
      "version": 1,
      "views": {
       "grid_default": {
        "col": 0,
        "height": 30,
        "hidden": false,
        "row": 19,
        "width": 4
       },
       "report_default": {
        "hidden": false
       }
      }
     }
    }
   },
   "outputs": [
    {
     "name": "stdout",
     "output_type": "stream",
     "text": [
      "      complexity  loc                                          signature  \\\n",
      "3901           3   78                                       void setUp()   \n",
      "5118          14   68     junit.framework.Test getTest(java.lang.String)   \n",
      "304            1   60       java.lang.Object[][] testsWithEventMatcher()   \n",
      "2388          63   56                          void testMoneyBagEquals()   \n",
      "2763           1   55       java.util.Collection testsWithEventMatcher()   \n",
      "1208          26   50  junit.framework.TestResult start(java.lang.Str...   \n",
      "3825          35   49                             void testMoneyEquals()   \n",
      "4428           7   49                                       void setUp()   \n",
      "23            14   49                               void testElementAt()   \n",
      "1934           7   42                                       void setUp()   \n",
      "\n",
      "                                       type  \n",
      "3901     junit.tests.runner.StackFilterTest  \n",
      "5118            junit.runner.BaseTestRunner  \n",
      "304      org.junit.rules.ErrorCollectorTest  \n",
      "2388          junit.samples.money.MoneyTest  \n",
      "2763  org.junit.rules.ExpectedExceptionTest  \n",
      "1208                junit.textui.TestRunner  \n",
      "3825          junit.samples.money.MoneyTest  \n",
      "4428          junit.samples.money.MoneyTest  \n",
      "23                   junit.samples.ListTest  \n",
      "1934                 junit.samples.ListTest  \n",
      "['setUp()', 'getTest(java.lang.String)', 'testsWithEventMatcher()', 'testMoneyBagEquals()', 'testsWithEventMatcher()', 'start(java.lang.String[])', 'testMoneyEquals()', 'setUp()', 'testElementAt()', 'setUp()']\n"
     ]
    }
   ],
   "source": [
    "a=df.sort_values('loc',ascending=False)\n",
    "b=a.head(10)\n",
    "def x_loc(x):\n",
    "    x=b['loc'].tolist()\n",
    "    return x\n",
    "def y_method_loc(y):\n",
    "    liste=[]\n",
    "    y=b['signature'].tolist()\n",
    "    for i in y:\n",
    "        g=i.split(' ')[-1]\n",
    "        liste.append(g)\n",
    "    return liste\n",
    "print(b)\n",
    "print(y_method_loc(b))"
   ]
  },
  {
   "cell_type": "markdown",
   "metadata": {
    "extensions": {
     "jupyter_dashboards": {
      "version": 1,
      "views": {
       "grid_default": {
        "col": 0,
        "height": 4,
        "hidden": false,
        "row": 49,
        "width": 12
       },
       "report_default": {
        "hidden": false
       }
      }
     }
    }
   },
   "source": [
    "Im folgenden Codeabschnitt wird das Dataframe absteigend entsprechend der Komplexität (complexity) sortiert und die ersten zehn Methoden extrahiert. Die Werte werden in den Variablen <font face=\"Courier\">x_complexity</font> und <font face=\"Courier\">y_method_complexity</font> gespeichert."
   ]
  },
  {
   "cell_type": "code",
   "execution_count": 37,
   "metadata": {
    "extensions": {
     "jupyter_dashboards": {
      "version": 1,
      "views": {
       "grid_default": {
        "col": 4,
        "height": 26,
        "hidden": false,
        "row": 19,
        "width": 4
       },
       "report_default": {
        "hidden": false
       }
      }
     }
    }
   },
   "outputs": [
    {
     "name": "stdout",
     "output_type": "stream",
     "text": [
      "[63, 36, 35, 35, 27, 26, 24, 24, 22, 21]\n",
      "['testMoneyBagEquals()', 'execTest(java.lang.String,boolean)', 'testMoneyEquals()', 'testCapacity()', 'testMoneyBagEquals()', 'start(java.lang.String[])', 'equals(java.lang.Object)', 'readPreferences()', 'processArguments(java.lang.String[])', 'verifySuccess(junit.framework.TestCase)']\n",
      "      complexity  loc                                          signature  \\\n",
      "2388          63   56                          void testMoneyBagEquals()   \n",
      "4684          36   36            void execTest(java.lang.String,boolean)   \n",
      "3825          35   49                             void testMoneyEquals()   \n",
      "581           35   35                                void testCapacity()   \n",
      "4670          27   24                          void testMoneyBagEquals()   \n",
      "1208          26   50  junit.framework.TestResult start(java.lang.Str...   \n",
      "4964          24   36                   boolean equals(java.lang.Object)   \n",
      "5394          24   24                             void readPreferences()   \n",
      "2805          22   30  java.lang.String processArguments(java.lang.St...   \n",
      "4230          21   15       void verifySuccess(junit.framework.TestCase)   \n",
      "\n",
      "                                    type  \n",
      "2388       junit.samples.money.MoneyTest  \n",
      "4684   junit.tests.runner.TextRunnerTest  \n",
      "3825       junit.samples.money.MoneyTest  \n",
      "581               junit.samples.ListTest  \n",
      "4670   org.junit.samples.money.MoneyTest  \n",
      "1208             junit.textui.TestRunner  \n",
      "4964        junit.samples.money.MoneyBag  \n",
      "5394         junit.runner.BaseTestRunner  \n",
      "2805         junit.runner.BaseTestRunner  \n",
      "4230  junit.tests.framework.TestCaseTest  \n"
     ]
    }
   ],
   "source": [
    "a=df.sort_values('complexity',ascending=False)\n",
    "c=a.head(10)\n",
    "\n",
    "def x_complexity(x):\n",
    "    x=c['complexity'].tolist()\n",
    "    return(x)\n",
    "\n",
    "def y_method_complexity(y):\n",
    "    liste=[]\n",
    "    y=c['signature'].tolist()\n",
    "    for i in y:\n",
    "        g=i.split(' ')[-1]\n",
    "        liste.append(g)\n",
    "    return liste\n",
    "\n",
    "\n",
    "\n",
    "print(x_complexity(c))\n",
    "print(y_method_complexity(c))\n",
    "print(c)"
   ]
  },
  {
   "cell_type": "markdown",
   "metadata": {
    "extensions": {
     "jupyter_dashboards": {
      "version": 1,
      "views": {
       "grid_default": {
        "col": 0,
        "height": 4,
        "hidden": false,
        "row": 53,
        "width": 12
       },
       "report_default": {
        "hidden": false
       }
      }
     }
    }
   },
   "source": [
    "## 4. Visualisierung\n",
    "Die Daten werden mittels eines Bar Charts visualisiert (https://plot.ly/python/horizontal-bar-charts/, x=x_loc, y=y_method_loc)."
   ]
  },
  {
   "cell_type": "code",
   "execution_count": 38,
   "metadata": {
    "extensions": {
     "jupyter_dashboards": {
      "version": 1,
      "views": {
       "grid_default": {
        "col": 8,
        "height": 19,
        "hidden": false,
        "row": 19,
        "width": 4
       },
       "report_default": {
        "hidden": false
       }
      }
     }
    }
   },
   "outputs": [
    {
     "data": {
      "text/html": [
       "<iframe id=\"igraph\" scrolling=\"no\" style=\"border:none;\" seamless=\"seamless\" src=\"https://plot.ly/~laurabus/8.embed\" height=\"525px\" width=\"100%\"></iframe>"
      ],
      "text/plain": [
       "<plotly.tools.PlotlyDisplay object>"
      ]
     },
     "execution_count": 38,
     "metadata": {},
     "output_type": "execute_result"
    }
   ],
   "source": [
    "import plotly.plotly as py\n",
    "import plotly.graph_objs as go\n",
    "\n",
    "data = [go.Bar(\n",
    "            x=x_loc(b),\n",
    "            y=y_method_loc(b),\n",
    "            orientation = 'h'\n",
    ")]\n",
    "\n",
    "py.iplot(data, filename='größte Methoden')"
   ]
  },
  {
   "cell_type": "code",
   "execution_count": 42,
   "metadata": {},
   "outputs": [],
   "source": [
    "from IPython.display import display, HTML\n",
    "\n",
    "base_html = \"\"\"\n",
    "<!DOCTYPE html>\n",
    "<html>\n",
    "  <head>\n",
    "  <script type=\"text/javascript\" src=\"http://kozea.github.com/pygal.js/javascripts/svg.jquery.js\"></script>\n",
    "  <script type=\"text/javascript\" src=\"https://kozea.github.io/pygal.js/2.0.x/pygal-tooltips.min.js\"\"></script>\n",
    "  </head>\n",
    "  <body>\n",
    "    <figure>\n",
    "      {rendered_chart}\n",
    "    </figure>\n",
    "  </body>\n",
    "</html>\n",
    "\"\"\""
   ]
  },
  {
   "cell_type": "code",
   "execution_count": 44,
   "metadata": {},
   "outputs": [
    {
     "data": {
      "text/html": [
       "\n",
       "<!DOCTYPE html>\n",
       "<html>\n",
       "  <head>\n",
       "  <script type=\"text/javascript\" src=\"http://kozea.github.com/pygal.js/javascripts/svg.jquery.js\"></script>\n",
       "  <script type=\"text/javascript\" src=\"https://kozea.github.io/pygal.js/2.0.x/pygal-tooltips.min.js\"\"></script>\n",
       "  </head>\n",
       "  <body>\n",
       "    <figure>\n",
       "      <?xml version='1.0' encoding='utf-8'?>\n",
       "<svg xmlns:xlink=\"http://www.w3.org/1999/xlink\" xmlns=\"http://www.w3.org/2000/svg\" id=\"chart-46009d2d-f3ea-4be4-8a07-f21d52c2f514\" class=\"pygal-chart\" viewBox=\"0 0 800 600\"><!--Generated with pygal 2.4.0 (lxml) ©Kozea 2012-2016 on 2019-07-23--><!--http://pygal.org--><!--http://github.com/Kozea/pygal--><defs><style type=\"text/css\">#chart-46009d2d-f3ea-4be4-8a07-f21d52c2f514{-webkit-user-select:none;-webkit-font-smoothing:antialiased;font-family:Consolas,\"Liberation Mono\",Menlo,Courier,monospace}#chart-46009d2d-f3ea-4be4-8a07-f21d52c2f514 .title{font-family:Consolas,\"Liberation Mono\",Menlo,Courier,monospace;font-size:16px}#chart-46009d2d-f3ea-4be4-8a07-f21d52c2f514 .legends .legend text{font-family:Consolas,\"Liberation Mono\",Menlo,Courier,monospace;font-size:14px}#chart-46009d2d-f3ea-4be4-8a07-f21d52c2f514 .axis text{font-family:Consolas,\"Liberation Mono\",Menlo,Courier,monospace;font-size:10px}#chart-46009d2d-f3ea-4be4-8a07-f21d52c2f514 .axis text.major{font-family:Consolas,\"Liberation Mono\",Menlo,Courier,monospace;font-size:10px}#chart-46009d2d-f3ea-4be4-8a07-f21d52c2f514 .text-overlay text.value{font-family:Consolas,\"Liberation Mono\",Menlo,Courier,monospace;font-size:16px}#chart-46009d2d-f3ea-4be4-8a07-f21d52c2f514 .text-overlay text.label{font-family:Consolas,\"Liberation Mono\",Menlo,Courier,monospace;font-size:10px}#chart-46009d2d-f3ea-4be4-8a07-f21d52c2f514 .tooltip{font-family:Consolas,\"Liberation Mono\",Menlo,Courier,monospace;font-size:14px}#chart-46009d2d-f3ea-4be4-8a07-f21d52c2f514 text.no_data{font-family:Consolas,\"Liberation Mono\",Menlo,Courier,monospace;font-size:64px}\n",
       "#chart-46009d2d-f3ea-4be4-8a07-f21d52c2f514{background-color:rgba(249,249,249,1)}#chart-46009d2d-f3ea-4be4-8a07-f21d52c2f514 path,#chart-46009d2d-f3ea-4be4-8a07-f21d52c2f514 line,#chart-46009d2d-f3ea-4be4-8a07-f21d52c2f514 rect,#chart-46009d2d-f3ea-4be4-8a07-f21d52c2f514 circle{-webkit-transition:150ms;-moz-transition:150ms;transition:150ms}#chart-46009d2d-f3ea-4be4-8a07-f21d52c2f514 .graph &gt; .background{fill:rgba(249,249,249,1)}#chart-46009d2d-f3ea-4be4-8a07-f21d52c2f514 .plot &gt; .background{fill:rgba(255,255,255,1)}#chart-46009d2d-f3ea-4be4-8a07-f21d52c2f514 .graph{fill:rgba(0,0,0,.87)}#chart-46009d2d-f3ea-4be4-8a07-f21d52c2f514 text.no_data{fill:rgba(0,0,0,1)}#chart-46009d2d-f3ea-4be4-8a07-f21d52c2f514 .title{fill:rgba(0,0,0,1)}#chart-46009d2d-f3ea-4be4-8a07-f21d52c2f514 .legends .legend text{fill:rgba(0,0,0,.87)}#chart-46009d2d-f3ea-4be4-8a07-f21d52c2f514 .legends .legend:hover text{fill:rgba(0,0,0,1)}#chart-46009d2d-f3ea-4be4-8a07-f21d52c2f514 .axis .line{stroke:rgba(0,0,0,1)}#chart-46009d2d-f3ea-4be4-8a07-f21d52c2f514 .axis .guide.line{stroke:rgba(0,0,0,.54)}#chart-46009d2d-f3ea-4be4-8a07-f21d52c2f514 .axis .major.line{stroke:rgba(0,0,0,.87)}#chart-46009d2d-f3ea-4be4-8a07-f21d52c2f514 .axis text.major{fill:rgba(0,0,0,1)}#chart-46009d2d-f3ea-4be4-8a07-f21d52c2f514 .axis.y .guides:hover .guide.line,#chart-46009d2d-f3ea-4be4-8a07-f21d52c2f514 .line-graph .axis.x .guides:hover .guide.line,#chart-46009d2d-f3ea-4be4-8a07-f21d52c2f514 .stackedline-graph .axis.x .guides:hover .guide.line,#chart-46009d2d-f3ea-4be4-8a07-f21d52c2f514 .xy-graph .axis.x .guides:hover .guide.line{stroke:rgba(0,0,0,1)}#chart-46009d2d-f3ea-4be4-8a07-f21d52c2f514 .axis .guides:hover text{fill:rgba(0,0,0,1)}#chart-46009d2d-f3ea-4be4-8a07-f21d52c2f514 .reactive{fill-opacity:.7;stroke-opacity:.8}#chart-46009d2d-f3ea-4be4-8a07-f21d52c2f514 .ci{stroke:rgba(0,0,0,.87)}#chart-46009d2d-f3ea-4be4-8a07-f21d52c2f514 .reactive.active,#chart-46009d2d-f3ea-4be4-8a07-f21d52c2f514 .active .reactive{fill-opacity:.8;stroke-opacity:.9;stroke-width:4}#chart-46009d2d-f3ea-4be4-8a07-f21d52c2f514 .ci .reactive.active{stroke-width:1.5}#chart-46009d2d-f3ea-4be4-8a07-f21d52c2f514 .series text{fill:rgba(0,0,0,1)}#chart-46009d2d-f3ea-4be4-8a07-f21d52c2f514 .tooltip rect{fill:rgba(255,255,255,1);stroke:rgba(0,0,0,1);-webkit-transition:opacity 150ms;-moz-transition:opacity 150ms;transition:opacity 150ms}#chart-46009d2d-f3ea-4be4-8a07-f21d52c2f514 .tooltip .label{fill:rgba(0,0,0,.87)}#chart-46009d2d-f3ea-4be4-8a07-f21d52c2f514 .tooltip .label{fill:rgba(0,0,0,.87)}#chart-46009d2d-f3ea-4be4-8a07-f21d52c2f514 .tooltip .legend{font-size:.8em;fill:rgba(0,0,0,.54)}#chart-46009d2d-f3ea-4be4-8a07-f21d52c2f514 .tooltip .x_label{font-size:.6em;fill:rgba(0,0,0,1)}#chart-46009d2d-f3ea-4be4-8a07-f21d52c2f514 .tooltip .xlink{font-size:.5em;text-decoration:underline}#chart-46009d2d-f3ea-4be4-8a07-f21d52c2f514 .tooltip .value{font-size:1.5em}#chart-46009d2d-f3ea-4be4-8a07-f21d52c2f514 .bound{font-size:.5em}#chart-46009d2d-f3ea-4be4-8a07-f21d52c2f514 .max-value{font-size:.75em;fill:rgba(0,0,0,.54)}#chart-46009d2d-f3ea-4be4-8a07-f21d52c2f514 .map-element{fill:rgba(255,255,255,1);stroke:rgba(0,0,0,.54) !important}#chart-46009d2d-f3ea-4be4-8a07-f21d52c2f514 .map-element .reactive{fill-opacity:inherit;stroke-opacity:inherit}#chart-46009d2d-f3ea-4be4-8a07-f21d52c2f514 .color-0,#chart-46009d2d-f3ea-4be4-8a07-f21d52c2f514 .color-0 a:visited{stroke:#F44336;fill:#F44336}#chart-46009d2d-f3ea-4be4-8a07-f21d52c2f514 .color-1,#chart-46009d2d-f3ea-4be4-8a07-f21d52c2f514 .color-1 a:visited{stroke:#3F51B5;fill:#3F51B5}#chart-46009d2d-f3ea-4be4-8a07-f21d52c2f514 .color-2,#chart-46009d2d-f3ea-4be4-8a07-f21d52c2f514 .color-2 a:visited{stroke:#009688;fill:#009688}#chart-46009d2d-f3ea-4be4-8a07-f21d52c2f514 .color-3,#chart-46009d2d-f3ea-4be4-8a07-f21d52c2f514 .color-3 a:visited{stroke:#FFC107;fill:#FFC107}#chart-46009d2d-f3ea-4be4-8a07-f21d52c2f514 .color-4,#chart-46009d2d-f3ea-4be4-8a07-f21d52c2f514 .color-4 a:visited{stroke:#FF5722;fill:#FF5722}#chart-46009d2d-f3ea-4be4-8a07-f21d52c2f514 .color-5,#chart-46009d2d-f3ea-4be4-8a07-f21d52c2f514 .color-5 a:visited{stroke:#9C27B0;fill:#9C27B0}#chart-46009d2d-f3ea-4be4-8a07-f21d52c2f514 .color-6,#chart-46009d2d-f3ea-4be4-8a07-f21d52c2f514 .color-6 a:visited{stroke:#03A9F4;fill:#03A9F4}#chart-46009d2d-f3ea-4be4-8a07-f21d52c2f514 .color-7,#chart-46009d2d-f3ea-4be4-8a07-f21d52c2f514 .color-7 a:visited{stroke:#8BC34A;fill:#8BC34A}#chart-46009d2d-f3ea-4be4-8a07-f21d52c2f514 .color-8,#chart-46009d2d-f3ea-4be4-8a07-f21d52c2f514 .color-8 a:visited{stroke:#FF9800;fill:#FF9800}#chart-46009d2d-f3ea-4be4-8a07-f21d52c2f514 .color-9,#chart-46009d2d-f3ea-4be4-8a07-f21d52c2f514 .color-9 a:visited{stroke:#E91E63;fill:#E91E63}#chart-46009d2d-f3ea-4be4-8a07-f21d52c2f514 .text-overlay .color-0 text{fill:black}#chart-46009d2d-f3ea-4be4-8a07-f21d52c2f514 .text-overlay .color-1 text{fill:black}#chart-46009d2d-f3ea-4be4-8a07-f21d52c2f514 .text-overlay .color-2 text{fill:black}#chart-46009d2d-f3ea-4be4-8a07-f21d52c2f514 .text-overlay .color-3 text{fill:black}#chart-46009d2d-f3ea-4be4-8a07-f21d52c2f514 .text-overlay .color-4 text{fill:black}#chart-46009d2d-f3ea-4be4-8a07-f21d52c2f514 .text-overlay .color-5 text{fill:black}#chart-46009d2d-f3ea-4be4-8a07-f21d52c2f514 .text-overlay .color-6 text{fill:black}#chart-46009d2d-f3ea-4be4-8a07-f21d52c2f514 .text-overlay .color-7 text{fill:black}#chart-46009d2d-f3ea-4be4-8a07-f21d52c2f514 .text-overlay .color-8 text{fill:black}#chart-46009d2d-f3ea-4be4-8a07-f21d52c2f514 .text-overlay .color-9 text{fill:black}\n",
       "#chart-46009d2d-f3ea-4be4-8a07-f21d52c2f514 text.no_data{text-anchor:middle}#chart-46009d2d-f3ea-4be4-8a07-f21d52c2f514 .guide.line{fill:none}#chart-46009d2d-f3ea-4be4-8a07-f21d52c2f514 .centered{text-anchor:middle}#chart-46009d2d-f3ea-4be4-8a07-f21d52c2f514 .title{text-anchor:middle}#chart-46009d2d-f3ea-4be4-8a07-f21d52c2f514 .legends .legend text{fill-opacity:1}#chart-46009d2d-f3ea-4be4-8a07-f21d52c2f514 .axis.x text{text-anchor:middle}#chart-46009d2d-f3ea-4be4-8a07-f21d52c2f514 .axis.x:not(.web) text[transform]{text-anchor:start}#chart-46009d2d-f3ea-4be4-8a07-f21d52c2f514 .axis.x:not(.web) text[transform].backwards{text-anchor:end}#chart-46009d2d-f3ea-4be4-8a07-f21d52c2f514 .axis.y text{text-anchor:end}#chart-46009d2d-f3ea-4be4-8a07-f21d52c2f514 .axis.y text[transform].backwards{text-anchor:start}#chart-46009d2d-f3ea-4be4-8a07-f21d52c2f514 .axis.y2 text{text-anchor:start}#chart-46009d2d-f3ea-4be4-8a07-f21d52c2f514 .axis.y2 text[transform].backwards{text-anchor:end}#chart-46009d2d-f3ea-4be4-8a07-f21d52c2f514 .axis .guide.line{stroke-dasharray:4,4}#chart-46009d2d-f3ea-4be4-8a07-f21d52c2f514 .axis .major.guide.line{stroke-dasharray:6,6}#chart-46009d2d-f3ea-4be4-8a07-f21d52c2f514 .horizontal .axis.y .guide.line,#chart-46009d2d-f3ea-4be4-8a07-f21d52c2f514 .horizontal .axis.y2 .guide.line,#chart-46009d2d-f3ea-4be4-8a07-f21d52c2f514 .vertical .axis.x .guide.line{opacity:0}#chart-46009d2d-f3ea-4be4-8a07-f21d52c2f514 .horizontal .axis.always_show .guide.line,#chart-46009d2d-f3ea-4be4-8a07-f21d52c2f514 .vertical .axis.always_show .guide.line{opacity:1 !important}#chart-46009d2d-f3ea-4be4-8a07-f21d52c2f514 .axis.y .guides:hover .guide.line,#chart-46009d2d-f3ea-4be4-8a07-f21d52c2f514 .axis.y2 .guides:hover .guide.line,#chart-46009d2d-f3ea-4be4-8a07-f21d52c2f514 .axis.x .guides:hover .guide.line{opacity:1}#chart-46009d2d-f3ea-4be4-8a07-f21d52c2f514 .axis .guides:hover text{opacity:1}#chart-46009d2d-f3ea-4be4-8a07-f21d52c2f514 .nofill{fill:none}#chart-46009d2d-f3ea-4be4-8a07-f21d52c2f514 .subtle-fill{fill-opacity:.2}#chart-46009d2d-f3ea-4be4-8a07-f21d52c2f514 .dot{stroke-width:1px;fill-opacity:1}#chart-46009d2d-f3ea-4be4-8a07-f21d52c2f514 .dot.active{stroke-width:5px}#chart-46009d2d-f3ea-4be4-8a07-f21d52c2f514 .dot.negative{fill:transparent}#chart-46009d2d-f3ea-4be4-8a07-f21d52c2f514 text,#chart-46009d2d-f3ea-4be4-8a07-f21d52c2f514 tspan{stroke:none !important}#chart-46009d2d-f3ea-4be4-8a07-f21d52c2f514 .series text.active{opacity:1}#chart-46009d2d-f3ea-4be4-8a07-f21d52c2f514 .tooltip rect{fill-opacity:.95;stroke-width:.5}#chart-46009d2d-f3ea-4be4-8a07-f21d52c2f514 .tooltip text{fill-opacity:1}#chart-46009d2d-f3ea-4be4-8a07-f21d52c2f514 .showable{visibility:hidden}#chart-46009d2d-f3ea-4be4-8a07-f21d52c2f514 .showable.shown{visibility:visible}#chart-46009d2d-f3ea-4be4-8a07-f21d52c2f514 .gauge-background{fill:rgba(229,229,229,1);stroke:none}#chart-46009d2d-f3ea-4be4-8a07-f21d52c2f514 .bg-lines{stroke:rgba(249,249,249,1);stroke-width:2px}</style><script type=\"text/javascript\">window.pygal = window.pygal || {};window.pygal.config = window.pygal.config || {};window.pygal.config['46009d2d-f3ea-4be4-8a07-f21d52c2f514'] = {\"allow_interruptions\": false, \"box_mode\": \"extremes\", \"classes\": [\"pygal-chart\"], \"css\": [\"file://style.css\", \"file://graph.css\"], \"defs\": [], \"disable_xml_declaration\": false, \"dots_size\": 2.5, \"dynamic_print_values\": false, \"explicit_size\": false, \"fill\": false, \"force_uri_protocol\": \"https\", \"formatter\": null, \"half_pie\": false, \"height\": 600, \"include_x_axis\": false, \"inner_radius\": 0, \"interpolate\": null, \"interpolation_parameters\": {}, \"interpolation_precision\": 250, \"inverse_y_axis\": false, \"js\": [\"//kozea.github.io/pygal.js/2.0.x/pygal-tooltips.min.js\"], \"legend_at_bottom\": false, \"legend_at_bottom_columns\": null, \"legend_box_size\": 12, \"logarithmic\": false, \"margin\": 20, \"margin_bottom\": null, \"margin_left\": null, \"margin_right\": null, \"margin_top\": null, \"max_scale\": 16, \"min_scale\": 4, \"missing_value_fill_truncation\": \"x\", \"no_data_text\": \"No data\", \"no_prefix\": false, \"order_min\": null, \"pretty_print\": false, \"print_labels\": false, \"print_values\": false, \"print_values_position\": \"center\", \"print_zeroes\": true, \"range\": null, \"rounded_bars\": null, \"secondary_range\": null, \"show_dots\": true, \"show_legend\": true, \"show_minor_x_labels\": true, \"show_minor_y_labels\": true, \"show_only_major_dots\": false, \"show_x_guides\": true, \"show_x_labels\": true, \"show_y_guides\": false, \"show_y_labels\": true, \"spacing\": 10, \"stack_from_top\": false, \"strict\": false, \"stroke\": true, \"stroke_style\": null, \"style\": {\"background\": \"rgba(249, 249, 249, 1)\", \"ci_colors\": [], \"colors\": [\"#F44336\", \"#3F51B5\", \"#009688\", \"#FFC107\", \"#FF5722\", \"#9C27B0\", \"#03A9F4\", \"#8BC34A\", \"#FF9800\", \"#E91E63\", \"#2196F3\", \"#4CAF50\", \"#FFEB3B\", \"#673AB7\", \"#00BCD4\", \"#CDDC39\", \"#9E9E9E\", \"#607D8B\"], \"font_family\": \"Consolas, \\\"Liberation Mono\\\", Menlo, Courier, monospace\", \"foreground\": \"rgba(0, 0, 0, .87)\", \"foreground_strong\": \"rgba(0, 0, 0, 1)\", \"foreground_subtle\": \"rgba(0, 0, 0, .54)\", \"guide_stroke_dasharray\": \"4,4\", \"label_font_family\": \"Consolas, \\\"Liberation Mono\\\", Menlo, Courier, monospace\", \"label_font_size\": 10, \"legend_font_family\": \"Consolas, \\\"Liberation Mono\\\", Menlo, Courier, monospace\", \"legend_font_size\": 14, \"major_guide_stroke_dasharray\": \"6,6\", \"major_label_font_family\": \"Consolas, \\\"Liberation Mono\\\", Menlo, Courier, monospace\", \"major_label_font_size\": 10, \"no_data_font_family\": \"Consolas, \\\"Liberation Mono\\\", Menlo, Courier, monospace\", \"no_data_font_size\": 64, \"opacity\": \".7\", \"opacity_hover\": \".8\", \"plot_background\": \"rgba(255, 255, 255, 1)\", \"stroke_opacity\": \".8\", \"stroke_opacity_hover\": \".9\", \"title_font_family\": \"Consolas, \\\"Liberation Mono\\\", Menlo, Courier, monospace\", \"title_font_size\": 16, \"tooltip_font_family\": \"Consolas, \\\"Liberation Mono\\\", Menlo, Courier, monospace\", \"tooltip_font_size\": 14, \"transition\": \"150ms\", \"value_background\": \"rgba(229, 229, 229, 1)\", \"value_colors\": [], \"value_font_family\": \"Consolas, \\\"Liberation Mono\\\", Menlo, Courier, monospace\", \"value_font_size\": 16, \"value_label_font_family\": \"Consolas, \\\"Liberation Mono\\\", Menlo, Courier, monospace\", \"value_label_font_size\": 10}, \"title\": \"Komplexeste Methoden\", \"tooltip_border_radius\": 0, \"tooltip_fancy_mode\": true, \"truncate_label\": null, \"truncate_legend\": null, \"width\": 800, \"x_label_rotation\": 0, \"x_labels\": null, \"x_labels_major\": null, \"x_labels_major_count\": null, \"x_labels_major_every\": null, \"x_title\": null, \"xrange\": null, \"y_label_rotation\": 0, \"y_labels\": null, \"y_labels_major\": null, \"y_labels_major_count\": null, \"y_labels_major_every\": null, \"y_title\": null, \"zero\": 0, \"legends\": [\"setUp()\", \"getTest(java.lang.String)\", \"testsWithEventMatcher()\", \"testMoneyBagEquals()\", \"testsWithEventMatcher()\", \"start(java.lang.String[])\", \"testMoneyEquals()\", \"setUp()\", \"testElementAt()\", \"setUp()\"]}</script><script type=\"text/javascript\" xlink:href=\"https://kozea.github.io/pygal.js/2.0.x/pygal-tooltips.min.js\"/></defs><title>Komplexeste Methoden</title><g class=\"graph horizontalbar-graph horizontal\"><rect class=\"background\" height=\"600\" width=\"800\" x=\"0\" y=\"0\"/><g class=\"plot\" transform=\"translate(168, 46)\"><rect class=\"background\" height=\"514\" width=\"612.0\" x=\"0\" y=\"0\"/><g class=\"axis x always_show\"><g class=\"guides\"><path class=\"axis major line\" d=\"M11.769231 0.000000 v514.000000\"/><text class=\"major\" x=\"11.769230769230768\" y=\"529.0\">0</text></g><g class=\"guides\"><path class=\"guide line\" d=\"M87.213018 0.000000 v514.000000\"/><text class=\"\" x=\"87.21301775147928\" y=\"529.0\">10</text></g><g class=\"guides\"><path class=\"guide line\" d=\"M162.656805 0.000000 v514.000000\"/><text class=\"\" x=\"162.6568047337278\" y=\"529.0\">20</text></g><g class=\"guides\"><path class=\"guide line\" d=\"M238.100592 0.000000 v514.000000\"/><text class=\"\" x=\"238.1005917159763\" y=\"529.0\">30</text></g><g class=\"guides\"><path class=\"guide line\" d=\"M313.544379 0.000000 v514.000000\"/><text class=\"\" x=\"313.5443786982249\" y=\"529.0\">40</text></g><g class=\"guides\"><path class=\"major guide line\" d=\"M388.988166 0.000000 v514.000000\"/><text class=\"major\" x=\"388.98816568047334\" y=\"529.0\">50</text></g><g class=\"guides\"><path class=\"guide line\" d=\"M464.431953 0.000000 v514.000000\"/><text class=\"\" x=\"464.43195266272187\" y=\"529.0\">60</text></g><g class=\"guides\"><path class=\"guide line\" d=\"M539.875740 0.000000 v514.000000\"/><text class=\"\" x=\"539.8757396449704\" y=\"529.0\">70</text></g></g><g class=\"series serie-9 color-9\"><g class=\"bars\"><g class=\"bar\"><rect class=\"rect reactive tooltip-trigger\" height=\"38.273230769230764\" rx=\"0\" ry=\"0\" width=\"588.4615384615385\" x=\"11.769230769230717\" y=\"433.57876923076924\"/><desc class=\"value\">78</desc><desc class=\"x centered\">305.99999999999994</desc><desc class=\"y centered\">452.71538461538466</desc></g></g></g><g class=\"series serie-8 color-8\"><g class=\"bars\"><g class=\"bar\"><rect class=\"rect reactive tooltip-trigger\" height=\"38.273230769230764\" rx=\"0\" ry=\"0\" width=\"369.67455621301775\" x=\"11.769230769230774\" y=\"390.08646153846155\"/><desc class=\"value\">49</desc><desc class=\"x centered\">196.60650887573965</desc><desc class=\"y centered\">409.223076923077</desc></g></g></g><g class=\"series serie-7 color-7\"><g class=\"bars\"><g class=\"bar\"><rect class=\"rect reactive tooltip-trigger\" height=\"38.273230769230764\" rx=\"0\" ry=\"0\" width=\"588.4615384615385\" x=\"11.769230769230717\" y=\"346.59415384615386\"/><desc class=\"value\">78</desc><desc class=\"x centered\">305.99999999999994</desc><desc class=\"y centered\">365.7307692307693</desc></g></g></g><g class=\"series serie-6 color-6\"><g class=\"bars\"><g class=\"bar\"><rect class=\"rect reactive tooltip-trigger\" height=\"38.273230769230764\" rx=\"0\" ry=\"0\" width=\"369.67455621301775\" x=\"11.769230769230774\" y=\"303.10184615384617\"/><desc class=\"value\">49</desc><desc class=\"x centered\">196.60650887573965</desc><desc class=\"y centered\">322.2384615384616</desc></g></g></g><g class=\"series serie-5 color-5\"><g class=\"bars\"><g class=\"bar\"><rect class=\"rect reactive tooltip-trigger\" height=\"38.273230769230764\" rx=\"0\" ry=\"0\" width=\"377.21893491124257\" x=\"11.769230769230774\" y=\"259.6095384615385\"/><desc class=\"value\">50</desc><desc class=\"x centered\">200.37869822485206</desc><desc class=\"y centered\">278.7461538461539</desc></g></g></g><g class=\"series serie-4 color-4\"><g class=\"bars\"><g class=\"bar\"><rect class=\"rect reactive tooltip-trigger\" height=\"38.273230769230764\" rx=\"0\" ry=\"0\" width=\"452.6627218934911\" x=\"11.769230769230774\" y=\"216.11723076923084\"/><desc class=\"value\">60</desc><desc class=\"x centered\">238.10059171597632</desc><desc class=\"y centered\">235.2538461538462</desc></g></g></g><g class=\"series serie-3 color-3\"><g class=\"bars\"><g class=\"bar\"><rect class=\"rect reactive tooltip-trigger\" height=\"38.273230769230764\" rx=\"0\" ry=\"0\" width=\"422.4852071005917\" x=\"11.769230769230774\" y=\"172.62492307692315\"/><desc class=\"value\">56</desc><desc class=\"x centered\">223.01183431952663</desc><desc class=\"y centered\">191.76153846153852</desc></g></g></g><g class=\"series serie-2 color-2\"><g class=\"bars\"><g class=\"bar\"><rect class=\"rect reactive tooltip-trigger\" height=\"38.273230769230764\" rx=\"0\" ry=\"0\" width=\"452.6627218934911\" x=\"11.769230769230774\" y=\"129.13261538461546\"/><desc class=\"value\">60</desc><desc class=\"x centered\">238.10059171597632</desc><desc class=\"y centered\">148.26923076923083</desc></g></g></g><g class=\"series serie-1 color-1\"><g class=\"bars\"><g class=\"bar\"><rect class=\"rect reactive tooltip-trigger\" height=\"38.273230769230764\" rx=\"0\" ry=\"0\" width=\"513.0177514792899\" x=\"11.769230769230717\" y=\"85.64030769230776\"/><desc class=\"value\">68</desc><desc class=\"x centered\">268.2781065088757</desc><desc class=\"y centered\">104.77692307692314</desc></g></g></g><g class=\"series serie-0 color-0\"><g class=\"bars\"><g class=\"bar\"><rect class=\"rect reactive tooltip-trigger\" height=\"38.273230769230764\" rx=\"0\" ry=\"0\" width=\"588.4615384615385\" x=\"11.769230769230717\" y=\"42.14800000000007\"/><desc class=\"value\">78</desc><desc class=\"x centered\">305.99999999999994</desc><desc class=\"y centered\">61.28461538461545</desc></g></g></g></g><g class=\"titles\"><text class=\"title plot_title\" x=\"400.0\" y=\"26\">Komplexeste Methoden</text></g><g class=\"plot overlay\" transform=\"translate(168, 46)\"><g class=\"series serie-9 color-9\"/><g class=\"series serie-8 color-8\"/><g class=\"series serie-7 color-7\"/><g class=\"series serie-6 color-6\"/><g class=\"series serie-5 color-5\"/><g class=\"series serie-4 color-4\"/><g class=\"series serie-3 color-3\"/><g class=\"series serie-2 color-2\"/><g class=\"series serie-1 color-1\"/><g class=\"series serie-0 color-0\"/></g><g class=\"plot text-overlay\" transform=\"translate(168, 46)\"><g class=\"series serie-9 color-9\"/><g class=\"series serie-8 color-8\"/><g class=\"series serie-7 color-7\"/><g class=\"series serie-6 color-6\"/><g class=\"series serie-5 color-5\"/><g class=\"series serie-4 color-4\"/><g class=\"series serie-3 color-3\"/><g class=\"series serie-2 color-2\"/><g class=\"series serie-1 color-1\"/><g class=\"series serie-0 color-0\"/></g><g class=\"plot tooltip-overlay\" transform=\"translate(168, 46)\"><g class=\"tooltip\" style=\"opacity: 0\" transform=\"translate(0 0)\"><rect class=\"tooltip-box\" height=\"0\" rx=\"0\" ry=\"0\" width=\"0\"/><g class=\"text\"/></g></g><g class=\"legends\" transform=\"translate(10, 56)\"><g class=\"legend reactive activate-serie\" id=\"activate-serie-0\"><rect class=\"color-0 reactive\" height=\"12\" width=\"12\" x=\"0.0\" y=\"1.0\"/><text x=\"17.0\" y=\"11.2\">setUp()</text></g><g class=\"legend reactive activate-serie\" id=\"activate-serie-1\"><rect class=\"color-1 reactive\" height=\"12\" width=\"12\" x=\"0.0\" y=\"22.0\"/><text x=\"17.0\" y=\"32.2\">getTest(java.l…</text><title>getTest(java.lang.String)</title></g><g class=\"legend reactive activate-serie\" id=\"activate-serie-2\"><rect class=\"color-2 reactive\" height=\"12\" width=\"12\" x=\"0.0\" y=\"43.0\"/><text x=\"17.0\" y=\"53.2\">testsWithEvent…</text><title>testsWithEventMatcher()</title></g><g class=\"legend reactive activate-serie\" id=\"activate-serie-3\"><rect class=\"color-3 reactive\" height=\"12\" width=\"12\" x=\"0.0\" y=\"64.0\"/><text x=\"17.0\" y=\"74.2\">testMoneyBagEq…</text><title>testMoneyBagEquals()</title></g><g class=\"legend reactive activate-serie\" id=\"activate-serie-4\"><rect class=\"color-4 reactive\" height=\"12\" width=\"12\" x=\"0.0\" y=\"85.0\"/><text x=\"17.0\" y=\"95.2\">testsWithEvent…</text><title>testsWithEventMatcher()</title></g><g class=\"legend reactive activate-serie\" id=\"activate-serie-5\"><rect class=\"color-5 reactive\" height=\"12\" width=\"12\" x=\"0.0\" y=\"106.0\"/><text x=\"17.0\" y=\"116.2\">start(java.lan…</text><title>start(java.lang.String[])</title></g><g class=\"legend reactive activate-serie\" id=\"activate-serie-6\"><rect class=\"color-6 reactive\" height=\"12\" width=\"12\" x=\"0.0\" y=\"127.0\"/><text x=\"17.0\" y=\"137.2\">testMoneyEqual…</text><title>testMoneyEquals()</title></g><g class=\"legend reactive activate-serie\" id=\"activate-serie-7\"><rect class=\"color-7 reactive\" height=\"12\" width=\"12\" x=\"0.0\" y=\"148.0\"/><text x=\"17.0\" y=\"158.2\">setUp()</text></g><g class=\"legend reactive activate-serie\" id=\"activate-serie-8\"><rect class=\"color-8 reactive\" height=\"12\" width=\"12\" x=\"0.0\" y=\"169.0\"/><text x=\"17.0\" y=\"179.2\">testElementAt()</text></g><g class=\"legend reactive activate-serie\" id=\"activate-serie-9\"><rect class=\"color-9 reactive\" height=\"12\" width=\"12\" x=\"0.0\" y=\"190.0\"/><text x=\"17.0\" y=\"200.2\">setUp()</text></g></g><g class=\"legends\" transform=\"translate(790, 56)\"/></g></svg>\n",
       "    </figure>\n",
       "  </body>\n",
       "</html>\n"
      ],
      "text/plain": [
       "<IPython.core.display.HTML object>"
      ]
     },
     "metadata": {},
     "output_type": "display_data"
    }
   ],
   "source": [
    "import pygal \n",
    "line_chart = pygal.HorizontalBar()\n",
    "line_chart.title = 'Komplexeste Methoden'\n",
    "for einzelneMethode in y_method_loc(b):\n",
    "    index= y_method_loc(b).index(einzelneMethode)\n",
    "    #dazugehörige frequency herausbekommen\n",
    "    anzahl=x_loc(b)[index]\n",
    "    line_chart.add(einzelneMethode, anzahl)\n",
    "display(HTML(base_html.format(rendered_chart=line_chart.render(is_unicode=True))))"
   ]
  },
  {
   "cell_type": "markdown",
   "metadata": {
    "extensions": {
     "jupyter_dashboards": {
      "version": 1,
      "views": {
       "grid_default": {
        "col": 8,
        "height": 4,
        "hidden": false,
        "row": 8,
        "width": 4
       },
       "report_default": {
        "hidden": false
       }
      }
     }
    }
   },
   "source": [
    "Die Daten werden mittels eines Bar Charts visualisiert (https://plot.ly/python/horizontal-bar-charts/, x=x_complexity, y=y_method_complexity)."
   ]
  },
  {
   "cell_type": "code",
   "execution_count": 45,
   "metadata": {
    "extensions": {
     "jupyter_dashboards": {
      "version": 1,
      "views": {
       "grid_default": {
        "col": 0,
        "height": 19,
        "hidden": false,
        "row": 57,
        "width": 4
       },
       "report_default": {
        "hidden": false
       }
      }
     }
    }
   },
   "outputs": [
    {
     "data": {
      "text/html": [
       "<iframe id=\"igraph\" scrolling=\"no\" style=\"border:none;\" seamless=\"seamless\" src=\"https://plot.ly/~laurabus/19.embed\" height=\"525px\" width=\"100%\"></iframe>"
      ],
      "text/plain": [
       "<plotly.tools.PlotlyDisplay object>"
      ]
     },
     "execution_count": 45,
     "metadata": {},
     "output_type": "execute_result"
    }
   ],
   "source": [
    "import plotly.plotly as py\n",
    "import plotly.graph_objs as go\n",
    "\n",
    "data = [go.Bar(\n",
    "            x=x_complexity(c),\n",
    "            y=y_method_complexity(c),\n",
    "            orientation = 'h'\n",
    ")]\n",
    "\n",
    "py.iplot(data, filename='komplexeste Methoden')"
   ]
  },
  {
   "cell_type": "markdown",
   "metadata": {
    "extensions": {
     "jupyter_dashboards": {
      "version": 1,
      "views": {
       "grid_default": {
        "hidden": true
       },
       "report_default": {
        "hidden": true
       }
      }
     }
    }
   },
   "source": [
    "# Größte Methoden\n",
    "Im Balkendiagramm Größte Methoden werden die zehn Methoden mit den meisten Quelltextzeilen in Abhängigkeit der absoluten Anzahl ihrer Quelltextzeilen dargestellt. Die größte Methode wird somit ermittelt.** DIe Methode, die am fehleranfälligsten ist. ???**\n"
   ]
  },
  {
   "cell_type": "code",
   "execution_count": 48,
   "metadata": {
    "extensions": {
     "jupyter_dashboards": {
      "version": 1,
      "views": {
       "grid_default": {
        "hidden": true
       },
       "report_default": {
        "hidden": true
       }
      }
     }
    }
   },
   "outputs": [
    {
     "data": {
      "text/html": [
       "\n",
       "<!DOCTYPE html>\n",
       "<html>\n",
       "  <head>\n",
       "  <script type=\"text/javascript\" src=\"http://kozea.github.com/pygal.js/javascripts/svg.jquery.js\"></script>\n",
       "  <script type=\"text/javascript\" src=\"https://kozea.github.io/pygal.js/2.0.x/pygal-tooltips.min.js\"\"></script>\n",
       "  </head>\n",
       "  <body>\n",
       "    <figure>\n",
       "      <?xml version='1.0' encoding='utf-8'?>\n",
       "<svg xmlns:xlink=\"http://www.w3.org/1999/xlink\" xmlns=\"http://www.w3.org/2000/svg\" id=\"chart-54e42766-17c0-42e5-884d-7b174246fe5f\" class=\"pygal-chart\" viewBox=\"0 0 800 600\"><!--Generated with pygal 2.4.0 (lxml) ©Kozea 2012-2016 on 2019-07-23--><!--http://pygal.org--><!--http://github.com/Kozea/pygal--><defs><style type=\"text/css\">#chart-54e42766-17c0-42e5-884d-7b174246fe5f{-webkit-user-select:none;-webkit-font-smoothing:antialiased;font-family:Consolas,\"Liberation Mono\",Menlo,Courier,monospace}#chart-54e42766-17c0-42e5-884d-7b174246fe5f .title{font-family:Consolas,\"Liberation Mono\",Menlo,Courier,monospace;font-size:16px}#chart-54e42766-17c0-42e5-884d-7b174246fe5f .legends .legend text{font-family:Consolas,\"Liberation Mono\",Menlo,Courier,monospace;font-size:14px}#chart-54e42766-17c0-42e5-884d-7b174246fe5f .axis text{font-family:Consolas,\"Liberation Mono\",Menlo,Courier,monospace;font-size:10px}#chart-54e42766-17c0-42e5-884d-7b174246fe5f .axis text.major{font-family:Consolas,\"Liberation Mono\",Menlo,Courier,monospace;font-size:10px}#chart-54e42766-17c0-42e5-884d-7b174246fe5f .text-overlay text.value{font-family:Consolas,\"Liberation Mono\",Menlo,Courier,monospace;font-size:16px}#chart-54e42766-17c0-42e5-884d-7b174246fe5f .text-overlay text.label{font-family:Consolas,\"Liberation Mono\",Menlo,Courier,monospace;font-size:10px}#chart-54e42766-17c0-42e5-884d-7b174246fe5f .tooltip{font-family:Consolas,\"Liberation Mono\",Menlo,Courier,monospace;font-size:14px}#chart-54e42766-17c0-42e5-884d-7b174246fe5f text.no_data{font-family:Consolas,\"Liberation Mono\",Menlo,Courier,monospace;font-size:64px}\n",
       "#chart-54e42766-17c0-42e5-884d-7b174246fe5f{background-color:rgba(249,249,249,1)}#chart-54e42766-17c0-42e5-884d-7b174246fe5f path,#chart-54e42766-17c0-42e5-884d-7b174246fe5f line,#chart-54e42766-17c0-42e5-884d-7b174246fe5f rect,#chart-54e42766-17c0-42e5-884d-7b174246fe5f circle{-webkit-transition:150ms;-moz-transition:150ms;transition:150ms}#chart-54e42766-17c0-42e5-884d-7b174246fe5f .graph &gt; .background{fill:rgba(249,249,249,1)}#chart-54e42766-17c0-42e5-884d-7b174246fe5f .plot &gt; .background{fill:rgba(255,255,255,1)}#chart-54e42766-17c0-42e5-884d-7b174246fe5f .graph{fill:rgba(0,0,0,.87)}#chart-54e42766-17c0-42e5-884d-7b174246fe5f text.no_data{fill:rgba(0,0,0,1)}#chart-54e42766-17c0-42e5-884d-7b174246fe5f .title{fill:rgba(0,0,0,1)}#chart-54e42766-17c0-42e5-884d-7b174246fe5f .legends .legend text{fill:rgba(0,0,0,.87)}#chart-54e42766-17c0-42e5-884d-7b174246fe5f .legends .legend:hover text{fill:rgba(0,0,0,1)}#chart-54e42766-17c0-42e5-884d-7b174246fe5f .axis .line{stroke:rgba(0,0,0,1)}#chart-54e42766-17c0-42e5-884d-7b174246fe5f .axis .guide.line{stroke:rgba(0,0,0,.54)}#chart-54e42766-17c0-42e5-884d-7b174246fe5f .axis .major.line{stroke:rgba(0,0,0,.87)}#chart-54e42766-17c0-42e5-884d-7b174246fe5f .axis text.major{fill:rgba(0,0,0,1)}#chart-54e42766-17c0-42e5-884d-7b174246fe5f .axis.y .guides:hover .guide.line,#chart-54e42766-17c0-42e5-884d-7b174246fe5f .line-graph .axis.x .guides:hover .guide.line,#chart-54e42766-17c0-42e5-884d-7b174246fe5f .stackedline-graph .axis.x .guides:hover .guide.line,#chart-54e42766-17c0-42e5-884d-7b174246fe5f .xy-graph .axis.x .guides:hover .guide.line{stroke:rgba(0,0,0,1)}#chart-54e42766-17c0-42e5-884d-7b174246fe5f .axis .guides:hover text{fill:rgba(0,0,0,1)}#chart-54e42766-17c0-42e5-884d-7b174246fe5f .reactive{fill-opacity:.7;stroke-opacity:.8}#chart-54e42766-17c0-42e5-884d-7b174246fe5f .ci{stroke:rgba(0,0,0,.87)}#chart-54e42766-17c0-42e5-884d-7b174246fe5f .reactive.active,#chart-54e42766-17c0-42e5-884d-7b174246fe5f .active .reactive{fill-opacity:.8;stroke-opacity:.9;stroke-width:4}#chart-54e42766-17c0-42e5-884d-7b174246fe5f .ci .reactive.active{stroke-width:1.5}#chart-54e42766-17c0-42e5-884d-7b174246fe5f .series text{fill:rgba(0,0,0,1)}#chart-54e42766-17c0-42e5-884d-7b174246fe5f .tooltip rect{fill:rgba(255,255,255,1);stroke:rgba(0,0,0,1);-webkit-transition:opacity 150ms;-moz-transition:opacity 150ms;transition:opacity 150ms}#chart-54e42766-17c0-42e5-884d-7b174246fe5f .tooltip .label{fill:rgba(0,0,0,.87)}#chart-54e42766-17c0-42e5-884d-7b174246fe5f .tooltip .label{fill:rgba(0,0,0,.87)}#chart-54e42766-17c0-42e5-884d-7b174246fe5f .tooltip .legend{font-size:.8em;fill:rgba(0,0,0,.54)}#chart-54e42766-17c0-42e5-884d-7b174246fe5f .tooltip .x_label{font-size:.6em;fill:rgba(0,0,0,1)}#chart-54e42766-17c0-42e5-884d-7b174246fe5f .tooltip .xlink{font-size:.5em;text-decoration:underline}#chart-54e42766-17c0-42e5-884d-7b174246fe5f .tooltip .value{font-size:1.5em}#chart-54e42766-17c0-42e5-884d-7b174246fe5f .bound{font-size:.5em}#chart-54e42766-17c0-42e5-884d-7b174246fe5f .max-value{font-size:.75em;fill:rgba(0,0,0,.54)}#chart-54e42766-17c0-42e5-884d-7b174246fe5f .map-element{fill:rgba(255,255,255,1);stroke:rgba(0,0,0,.54) !important}#chart-54e42766-17c0-42e5-884d-7b174246fe5f .map-element .reactive{fill-opacity:inherit;stroke-opacity:inherit}#chart-54e42766-17c0-42e5-884d-7b174246fe5f .color-0,#chart-54e42766-17c0-42e5-884d-7b174246fe5f .color-0 a:visited{stroke:#F44336;fill:#F44336}#chart-54e42766-17c0-42e5-884d-7b174246fe5f .color-1,#chart-54e42766-17c0-42e5-884d-7b174246fe5f .color-1 a:visited{stroke:#3F51B5;fill:#3F51B5}#chart-54e42766-17c0-42e5-884d-7b174246fe5f .color-2,#chart-54e42766-17c0-42e5-884d-7b174246fe5f .color-2 a:visited{stroke:#009688;fill:#009688}#chart-54e42766-17c0-42e5-884d-7b174246fe5f .color-3,#chart-54e42766-17c0-42e5-884d-7b174246fe5f .color-3 a:visited{stroke:#FFC107;fill:#FFC107}#chart-54e42766-17c0-42e5-884d-7b174246fe5f .color-4,#chart-54e42766-17c0-42e5-884d-7b174246fe5f .color-4 a:visited{stroke:#FF5722;fill:#FF5722}#chart-54e42766-17c0-42e5-884d-7b174246fe5f .color-5,#chart-54e42766-17c0-42e5-884d-7b174246fe5f .color-5 a:visited{stroke:#9C27B0;fill:#9C27B0}#chart-54e42766-17c0-42e5-884d-7b174246fe5f .color-6,#chart-54e42766-17c0-42e5-884d-7b174246fe5f .color-6 a:visited{stroke:#03A9F4;fill:#03A9F4}#chart-54e42766-17c0-42e5-884d-7b174246fe5f .color-7,#chart-54e42766-17c0-42e5-884d-7b174246fe5f .color-7 a:visited{stroke:#8BC34A;fill:#8BC34A}#chart-54e42766-17c0-42e5-884d-7b174246fe5f .color-8,#chart-54e42766-17c0-42e5-884d-7b174246fe5f .color-8 a:visited{stroke:#FF9800;fill:#FF9800}#chart-54e42766-17c0-42e5-884d-7b174246fe5f .color-9,#chart-54e42766-17c0-42e5-884d-7b174246fe5f .color-9 a:visited{stroke:#E91E63;fill:#E91E63}#chart-54e42766-17c0-42e5-884d-7b174246fe5f .text-overlay .color-0 text{fill:black}#chart-54e42766-17c0-42e5-884d-7b174246fe5f .text-overlay .color-1 text{fill:black}#chart-54e42766-17c0-42e5-884d-7b174246fe5f .text-overlay .color-2 text{fill:black}#chart-54e42766-17c0-42e5-884d-7b174246fe5f .text-overlay .color-3 text{fill:black}#chart-54e42766-17c0-42e5-884d-7b174246fe5f .text-overlay .color-4 text{fill:black}#chart-54e42766-17c0-42e5-884d-7b174246fe5f .text-overlay .color-5 text{fill:black}#chart-54e42766-17c0-42e5-884d-7b174246fe5f .text-overlay .color-6 text{fill:black}#chart-54e42766-17c0-42e5-884d-7b174246fe5f .text-overlay .color-7 text{fill:black}#chart-54e42766-17c0-42e5-884d-7b174246fe5f .text-overlay .color-8 text{fill:black}#chart-54e42766-17c0-42e5-884d-7b174246fe5f .text-overlay .color-9 text{fill:black}\n",
       "#chart-54e42766-17c0-42e5-884d-7b174246fe5f text.no_data{text-anchor:middle}#chart-54e42766-17c0-42e5-884d-7b174246fe5f .guide.line{fill:none}#chart-54e42766-17c0-42e5-884d-7b174246fe5f .centered{text-anchor:middle}#chart-54e42766-17c0-42e5-884d-7b174246fe5f .title{text-anchor:middle}#chart-54e42766-17c0-42e5-884d-7b174246fe5f .legends .legend text{fill-opacity:1}#chart-54e42766-17c0-42e5-884d-7b174246fe5f .axis.x text{text-anchor:middle}#chart-54e42766-17c0-42e5-884d-7b174246fe5f .axis.x:not(.web) text[transform]{text-anchor:start}#chart-54e42766-17c0-42e5-884d-7b174246fe5f .axis.x:not(.web) text[transform].backwards{text-anchor:end}#chart-54e42766-17c0-42e5-884d-7b174246fe5f .axis.y text{text-anchor:end}#chart-54e42766-17c0-42e5-884d-7b174246fe5f .axis.y text[transform].backwards{text-anchor:start}#chart-54e42766-17c0-42e5-884d-7b174246fe5f .axis.y2 text{text-anchor:start}#chart-54e42766-17c0-42e5-884d-7b174246fe5f .axis.y2 text[transform].backwards{text-anchor:end}#chart-54e42766-17c0-42e5-884d-7b174246fe5f .axis .guide.line{stroke-dasharray:4,4}#chart-54e42766-17c0-42e5-884d-7b174246fe5f .axis .major.guide.line{stroke-dasharray:6,6}#chart-54e42766-17c0-42e5-884d-7b174246fe5f .horizontal .axis.y .guide.line,#chart-54e42766-17c0-42e5-884d-7b174246fe5f .horizontal .axis.y2 .guide.line,#chart-54e42766-17c0-42e5-884d-7b174246fe5f .vertical .axis.x .guide.line{opacity:0}#chart-54e42766-17c0-42e5-884d-7b174246fe5f .horizontal .axis.always_show .guide.line,#chart-54e42766-17c0-42e5-884d-7b174246fe5f .vertical .axis.always_show .guide.line{opacity:1 !important}#chart-54e42766-17c0-42e5-884d-7b174246fe5f .axis.y .guides:hover .guide.line,#chart-54e42766-17c0-42e5-884d-7b174246fe5f .axis.y2 .guides:hover .guide.line,#chart-54e42766-17c0-42e5-884d-7b174246fe5f .axis.x .guides:hover .guide.line{opacity:1}#chart-54e42766-17c0-42e5-884d-7b174246fe5f .axis .guides:hover text{opacity:1}#chart-54e42766-17c0-42e5-884d-7b174246fe5f .nofill{fill:none}#chart-54e42766-17c0-42e5-884d-7b174246fe5f .subtle-fill{fill-opacity:.2}#chart-54e42766-17c0-42e5-884d-7b174246fe5f .dot{stroke-width:1px;fill-opacity:1}#chart-54e42766-17c0-42e5-884d-7b174246fe5f .dot.active{stroke-width:5px}#chart-54e42766-17c0-42e5-884d-7b174246fe5f .dot.negative{fill:transparent}#chart-54e42766-17c0-42e5-884d-7b174246fe5f text,#chart-54e42766-17c0-42e5-884d-7b174246fe5f tspan{stroke:none !important}#chart-54e42766-17c0-42e5-884d-7b174246fe5f .series text.active{opacity:1}#chart-54e42766-17c0-42e5-884d-7b174246fe5f .tooltip rect{fill-opacity:.95;stroke-width:.5}#chart-54e42766-17c0-42e5-884d-7b174246fe5f .tooltip text{fill-opacity:1}#chart-54e42766-17c0-42e5-884d-7b174246fe5f .showable{visibility:hidden}#chart-54e42766-17c0-42e5-884d-7b174246fe5f .showable.shown{visibility:visible}#chart-54e42766-17c0-42e5-884d-7b174246fe5f .gauge-background{fill:rgba(229,229,229,1);stroke:none}#chart-54e42766-17c0-42e5-884d-7b174246fe5f .bg-lines{stroke:rgba(249,249,249,1);stroke-width:2px}</style><script type=\"text/javascript\">window.pygal = window.pygal || {};window.pygal.config = window.pygal.config || {};window.pygal.config['54e42766-17c0-42e5-884d-7b174246fe5f'] = {\"allow_interruptions\": false, \"box_mode\": \"extremes\", \"classes\": [\"pygal-chart\"], \"css\": [\"file://style.css\", \"file://graph.css\"], \"defs\": [], \"disable_xml_declaration\": false, \"dots_size\": 2.5, \"dynamic_print_values\": false, \"explicit_size\": false, \"fill\": false, \"force_uri_protocol\": \"https\", \"formatter\": null, \"half_pie\": false, \"height\": 600, \"include_x_axis\": false, \"inner_radius\": 0, \"interpolate\": null, \"interpolation_parameters\": {}, \"interpolation_precision\": 250, \"inverse_y_axis\": false, \"js\": [\"//kozea.github.io/pygal.js/2.0.x/pygal-tooltips.min.js\"], \"legend_at_bottom\": false, \"legend_at_bottom_columns\": null, \"legend_box_size\": 12, \"logarithmic\": false, \"margin\": 20, \"margin_bottom\": null, \"margin_left\": null, \"margin_right\": null, \"margin_top\": null, \"max_scale\": 16, \"min_scale\": 4, \"missing_value_fill_truncation\": \"x\", \"no_data_text\": \"No data\", \"no_prefix\": false, \"order_min\": null, \"pretty_print\": false, \"print_labels\": false, \"print_values\": false, \"print_values_position\": \"center\", \"print_zeroes\": true, \"range\": null, \"rounded_bars\": null, \"secondary_range\": null, \"show_dots\": true, \"show_legend\": true, \"show_minor_x_labels\": true, \"show_minor_y_labels\": true, \"show_only_major_dots\": false, \"show_x_guides\": true, \"show_x_labels\": true, \"show_y_guides\": false, \"show_y_labels\": true, \"spacing\": 10, \"stack_from_top\": false, \"strict\": false, \"stroke\": true, \"stroke_style\": null, \"style\": {\"background\": \"rgba(249, 249, 249, 1)\", \"ci_colors\": [], \"colors\": [\"#F44336\", \"#3F51B5\", \"#009688\", \"#FFC107\", \"#FF5722\", \"#9C27B0\", \"#03A9F4\", \"#8BC34A\", \"#FF9800\", \"#E91E63\", \"#2196F3\", \"#4CAF50\", \"#FFEB3B\", \"#673AB7\", \"#00BCD4\", \"#CDDC39\", \"#9E9E9E\", \"#607D8B\"], \"font_family\": \"Consolas, \\\"Liberation Mono\\\", Menlo, Courier, monospace\", \"foreground\": \"rgba(0, 0, 0, .87)\", \"foreground_strong\": \"rgba(0, 0, 0, 1)\", \"foreground_subtle\": \"rgba(0, 0, 0, .54)\", \"guide_stroke_dasharray\": \"4,4\", \"label_font_family\": \"Consolas, \\\"Liberation Mono\\\", Menlo, Courier, monospace\", \"label_font_size\": 10, \"legend_font_family\": \"Consolas, \\\"Liberation Mono\\\", Menlo, Courier, monospace\", \"legend_font_size\": 14, \"major_guide_stroke_dasharray\": \"6,6\", \"major_label_font_family\": \"Consolas, \\\"Liberation Mono\\\", Menlo, Courier, monospace\", \"major_label_font_size\": 10, \"no_data_font_family\": \"Consolas, \\\"Liberation Mono\\\", Menlo, Courier, monospace\", \"no_data_font_size\": 64, \"opacity\": \".7\", \"opacity_hover\": \".8\", \"plot_background\": \"rgba(255, 255, 255, 1)\", \"stroke_opacity\": \".8\", \"stroke_opacity_hover\": \".9\", \"title_font_family\": \"Consolas, \\\"Liberation Mono\\\", Menlo, Courier, monospace\", \"title_font_size\": 16, \"tooltip_font_family\": \"Consolas, \\\"Liberation Mono\\\", Menlo, Courier, monospace\", \"tooltip_font_size\": 14, \"transition\": \"150ms\", \"value_background\": \"rgba(229, 229, 229, 1)\", \"value_colors\": [], \"value_font_family\": \"Consolas, \\\"Liberation Mono\\\", Menlo, Courier, monospace\", \"value_font_size\": 16, \"value_label_font_family\": \"Consolas, \\\"Liberation Mono\\\", Menlo, Courier, monospace\", \"value_label_font_size\": 10}, \"title\": \"Komplexeste Methoden\", \"tooltip_border_radius\": 0, \"tooltip_fancy_mode\": true, \"truncate_label\": null, \"truncate_legend\": null, \"width\": 800, \"x_label_rotation\": 0, \"x_labels\": null, \"x_labels_major\": null, \"x_labels_major_count\": null, \"x_labels_major_every\": null, \"x_title\": null, \"xrange\": null, \"y_label_rotation\": 0, \"y_labels\": null, \"y_labels_major\": null, \"y_labels_major_count\": null, \"y_labels_major_every\": null, \"y_title\": null, \"zero\": 0, \"legends\": [\"testMoneyBagEquals()\", \"execTest(java.lang.String,boolean)\", \"testMoneyEquals()\", \"testCapacity()\", \"testMoneyBagEquals()\", \"start(java.lang.String[])\", \"equals(java.lang.Object)\", \"readPreferences()\", \"processArguments(java.lang.String[])\", \"verifySuccess(junit.framework.TestCase)\"]}</script><script type=\"text/javascript\" xlink:href=\"https://kozea.github.io/pygal.js/2.0.x/pygal-tooltips.min.js\"/></defs><title>Komplexeste Methoden</title><g class=\"graph horizontalbar-graph horizontal\"><rect class=\"background\" height=\"600\" width=\"800\" x=\"0\" y=\"0\"/><g class=\"plot\" transform=\"translate(168, 46)\"><rect class=\"background\" height=\"514\" width=\"612.0\" x=\"0\" y=\"0\"/><g class=\"axis x always_show\"><g class=\"guides\"><path class=\"axis major line\" d=\"M11.769231 0.000000 v514.000000\"/><text class=\"major\" x=\"11.769230769230768\" y=\"529.0\">0</text></g><g class=\"guides\"><path class=\"guide line\" d=\"M105.175824 0.000000 v514.000000\"/><text class=\"\" x=\"105.17582417582416\" y=\"529.0\">10</text></g><g class=\"guides\"><path class=\"guide line\" d=\"M198.582418 0.000000 v514.000000\"/><text class=\"\" x=\"198.58241758241758\" y=\"529.0\">20</text></g><g class=\"guides\"><path class=\"guide line\" d=\"M291.989011 0.000000 v514.000000\"/><text class=\"\" x=\"291.989010989011\" y=\"529.0\">30</text></g><g class=\"guides\"><path class=\"guide line\" d=\"M385.395604 0.000000 v514.000000\"/><text class=\"\" x=\"385.3956043956043\" y=\"529.0\">40</text></g><g class=\"guides\"><path class=\"major guide line\" d=\"M478.802198 0.000000 v514.000000\"/><text class=\"major\" x=\"478.8021978021977\" y=\"529.0\">50</text></g><g class=\"guides\"><path class=\"guide line\" d=\"M572.208791 0.000000 v514.000000\"/><text class=\"\" x=\"572.208791208791\" y=\"529.0\">60</text></g></g><g class=\"series serie-9 color-9\"><g class=\"bars\"><g class=\"bar\"><rect class=\"rect reactive tooltip-trigger\" height=\"38.273230769230764\" rx=\"0\" ry=\"0\" width=\"196.15384615384613\" x=\"11.769230769230774\" y=\"433.57876923076924\"/><desc class=\"value\">21</desc><desc class=\"x centered\">109.84615384615384</desc><desc class=\"y centered\">452.71538461538466</desc></g></g></g><g class=\"series serie-8 color-8\"><g class=\"bars\"><g class=\"bar\"><rect class=\"rect reactive tooltip-trigger\" height=\"38.273230769230764\" rx=\"0\" ry=\"0\" width=\"205.49450549450546\" x=\"11.769230769230774\" y=\"390.08646153846155\"/><desc class=\"value\">22</desc><desc class=\"x centered\">114.5164835164835</desc><desc class=\"y centered\">409.223076923077</desc></g></g></g><g class=\"series serie-7 color-7\"><g class=\"bars\"><g class=\"bar\"><rect class=\"rect reactive tooltip-trigger\" height=\"38.273230769230764\" rx=\"0\" ry=\"0\" width=\"224.17582417582415\" x=\"11.769230769230774\" y=\"346.59415384615386\"/><desc class=\"value\">24</desc><desc class=\"x centered\">123.85714285714285</desc><desc class=\"y centered\">365.7307692307693</desc></g></g></g><g class=\"series serie-6 color-6\"><g class=\"bars\"><g class=\"bar\"><rect class=\"rect reactive tooltip-trigger\" height=\"38.273230769230764\" rx=\"0\" ry=\"0\" width=\"224.17582417582415\" x=\"11.769230769230774\" y=\"303.10184615384617\"/><desc class=\"value\">24</desc><desc class=\"x centered\">123.85714285714285</desc><desc class=\"y centered\">322.2384615384616</desc></g></g></g><g class=\"series serie-5 color-5\"><g class=\"bars\"><g class=\"bar\"><rect class=\"rect reactive tooltip-trigger\" height=\"38.273230769230764\" rx=\"0\" ry=\"0\" width=\"242.85714285714286\" x=\"11.769230769230774\" y=\"259.6095384615385\"/><desc class=\"value\">26</desc><desc class=\"x centered\">133.19780219780222</desc><desc class=\"y centered\">278.7461538461539</desc></g></g></g><g class=\"series serie-4 color-4\"><g class=\"bars\"><g class=\"bar\"><rect class=\"rect reactive tooltip-trigger\" height=\"38.273230769230764\" rx=\"0\" ry=\"0\" width=\"588.4615384615385\" x=\"11.769230769230717\" y=\"216.11723076923084\"/><desc class=\"value\">63</desc><desc class=\"x centered\">305.99999999999994</desc><desc class=\"y centered\">235.2538461538462</desc></g></g></g><g class=\"series serie-3 color-3\"><g class=\"bars\"><g class=\"bar\"><rect class=\"rect reactive tooltip-trigger\" height=\"38.273230769230764\" rx=\"0\" ry=\"0\" width=\"326.92307692307685\" x=\"11.769230769230774\" y=\"172.62492307692315\"/><desc class=\"value\">35</desc><desc class=\"x centered\">175.2307692307692</desc><desc class=\"y centered\">191.76153846153852</desc></g></g></g><g class=\"series serie-2 color-2\"><g class=\"bars\"><g class=\"bar\"><rect class=\"rect reactive tooltip-trigger\" height=\"38.273230769230764\" rx=\"0\" ry=\"0\" width=\"326.92307692307685\" x=\"11.769230769230774\" y=\"129.13261538461546\"/><desc class=\"value\">35</desc><desc class=\"x centered\">175.2307692307692</desc><desc class=\"y centered\">148.26923076923083</desc></g></g></g><g class=\"series serie-1 color-1\"><g class=\"bars\"><g class=\"bar\"><rect class=\"rect reactive tooltip-trigger\" height=\"38.273230769230764\" rx=\"0\" ry=\"0\" width=\"336.2637362637362\" x=\"11.769230769230774\" y=\"85.64030769230776\"/><desc class=\"value\">36</desc><desc class=\"x centered\">179.90109890109886</desc><desc class=\"y centered\">104.77692307692314</desc></g></g></g><g class=\"series serie-0 color-0\"><g class=\"bars\"><g class=\"bar\"><rect class=\"rect reactive tooltip-trigger\" height=\"38.273230769230764\" rx=\"0\" ry=\"0\" width=\"588.4615384615385\" x=\"11.769230769230717\" y=\"42.14800000000007\"/><desc class=\"value\">63</desc><desc class=\"x centered\">305.99999999999994</desc><desc class=\"y centered\">61.28461538461545</desc></g></g></g></g><g class=\"titles\"><text class=\"title plot_title\" x=\"400.0\" y=\"26\">Komplexeste Methoden</text></g><g class=\"plot overlay\" transform=\"translate(168, 46)\"><g class=\"series serie-9 color-9\"/><g class=\"series serie-8 color-8\"/><g class=\"series serie-7 color-7\"/><g class=\"series serie-6 color-6\"/><g class=\"series serie-5 color-5\"/><g class=\"series serie-4 color-4\"/><g class=\"series serie-3 color-3\"/><g class=\"series serie-2 color-2\"/><g class=\"series serie-1 color-1\"/><g class=\"series serie-0 color-0\"/></g><g class=\"plot text-overlay\" transform=\"translate(168, 46)\"><g class=\"series serie-9 color-9\"/><g class=\"series serie-8 color-8\"/><g class=\"series serie-7 color-7\"/><g class=\"series serie-6 color-6\"/><g class=\"series serie-5 color-5\"/><g class=\"series serie-4 color-4\"/><g class=\"series serie-3 color-3\"/><g class=\"series serie-2 color-2\"/><g class=\"series serie-1 color-1\"/><g class=\"series serie-0 color-0\"/></g><g class=\"plot tooltip-overlay\" transform=\"translate(168, 46)\"><g class=\"tooltip\" style=\"opacity: 0\" transform=\"translate(0 0)\"><rect class=\"tooltip-box\" height=\"0\" rx=\"0\" ry=\"0\" width=\"0\"/><g class=\"text\"/></g></g><g class=\"legends\" transform=\"translate(10, 56)\"><g class=\"legend reactive activate-serie\" id=\"activate-serie-0\"><rect class=\"color-0 reactive\" height=\"12\" width=\"12\" x=\"0.0\" y=\"1.0\"/><text x=\"17.0\" y=\"11.2\">testMoneyBagEq…</text><title>testMoneyBagEquals()</title></g><g class=\"legend reactive activate-serie\" id=\"activate-serie-1\"><rect class=\"color-1 reactive\" height=\"12\" width=\"12\" x=\"0.0\" y=\"22.0\"/><text x=\"17.0\" y=\"32.2\">execTest(java.…</text><title>execTest(java.lang.String,boolean)</title></g><g class=\"legend reactive activate-serie\" id=\"activate-serie-2\"><rect class=\"color-2 reactive\" height=\"12\" width=\"12\" x=\"0.0\" y=\"43.0\"/><text x=\"17.0\" y=\"53.2\">testMoneyEqual…</text><title>testMoneyEquals()</title></g><g class=\"legend reactive activate-serie\" id=\"activate-serie-3\"><rect class=\"color-3 reactive\" height=\"12\" width=\"12\" x=\"0.0\" y=\"64.0\"/><text x=\"17.0\" y=\"74.2\">testCapacity()</text></g><g class=\"legend reactive activate-serie\" id=\"activate-serie-4\"><rect class=\"color-4 reactive\" height=\"12\" width=\"12\" x=\"0.0\" y=\"85.0\"/><text x=\"17.0\" y=\"95.2\">testMoneyBagEq…</text><title>testMoneyBagEquals()</title></g><g class=\"legend reactive activate-serie\" id=\"activate-serie-5\"><rect class=\"color-5 reactive\" height=\"12\" width=\"12\" x=\"0.0\" y=\"106.0\"/><text x=\"17.0\" y=\"116.2\">start(java.lan…</text><title>start(java.lang.String[])</title></g><g class=\"legend reactive activate-serie\" id=\"activate-serie-6\"><rect class=\"color-6 reactive\" height=\"12\" width=\"12\" x=\"0.0\" y=\"127.0\"/><text x=\"17.0\" y=\"137.2\">equals(java.la…</text><title>equals(java.lang.Object)</title></g><g class=\"legend reactive activate-serie\" id=\"activate-serie-7\"><rect class=\"color-7 reactive\" height=\"12\" width=\"12\" x=\"0.0\" y=\"148.0\"/><text x=\"17.0\" y=\"158.2\">readPreference…</text><title>readPreferences()</title></g><g class=\"legend reactive activate-serie\" id=\"activate-serie-8\"><rect class=\"color-8 reactive\" height=\"12\" width=\"12\" x=\"0.0\" y=\"169.0\"/><text x=\"17.0\" y=\"179.2\">processArgumen…</text><title>processArguments(java.lang.String[])</title></g><g class=\"legend reactive activate-serie\" id=\"activate-serie-9\"><rect class=\"color-9 reactive\" height=\"12\" width=\"12\" x=\"0.0\" y=\"190.0\"/><text x=\"17.0\" y=\"200.2\">verifySuccess(…</text><title>verifySuccess(junit.framework.TestCase)</title></g></g><g class=\"legends\" transform=\"translate(790, 56)\"/></g></svg>\n",
       "    </figure>\n",
       "  </body>\n",
       "</html>\n"
      ],
      "text/plain": [
       "<IPython.core.display.HTML object>"
      ]
     },
     "metadata": {},
     "output_type": "display_data"
    }
   ],
   "source": [
    "import pygal \n",
    "line_chart = pygal.HorizontalBar()\n",
    "line_chart.title = 'Komplexeste Methoden'\n",
    "for einzelneMethode in y_method_complexity(c):\n",
    "    index= y_method_complexity(c).index(einzelneMethode)\n",
    "    #dazugehörige frequency herausbekommen\n",
    "    anzahl=x_complexity(c)[index]\n",
    "    line_chart.add(einzelneMethode, anzahl)\n",
    "display(HTML(base_html.format(rendered_chart=line_chart.render(is_unicode=True))))\n",
    "\n"
   ]
  },
  {
   "cell_type": "code",
   "execution_count": 50,
   "metadata": {},
   "outputs": [
    {
     "data": {
      "text/html": [
       "\n",
       "<!DOCTYPE html>\n",
       "<html>\n",
       "  <head>\n",
       "  <script type=\"text/javascript\" src=\"http://kozea.github.com/pygal.js/javascripts/svg.jquery.js\"></script>\n",
       "  <script type=\"text/javascript\" src=\"https://kozea.github.io/pygal.js/2.0.x/pygal-tooltips.min.js\"\"></script>\n",
       "  </head>\n",
       "  <body>\n",
       "    <figure>\n",
       "      <?xml version='1.0' encoding='utf-8'?>\n",
       "<svg xmlns:xlink=\"http://www.w3.org/1999/xlink\" xmlns=\"http://www.w3.org/2000/svg\" id=\"chart-4add4056-b259-422d-976e-72a1ec7dc124\" class=\"pygal-chart\" viewBox=\"0 0 800 600\"><!--Generated with pygal 2.4.0 (lxml) ©Kozea 2012-2016 on 2019-07-23--><!--http://pygal.org--><!--http://github.com/Kozea/pygal--><defs><style type=\"text/css\">#chart-4add4056-b259-422d-976e-72a1ec7dc124{-webkit-user-select:none;-webkit-font-smoothing:antialiased;font-family:Consolas,\"Liberation Mono\",Menlo,Courier,monospace}#chart-4add4056-b259-422d-976e-72a1ec7dc124 .title{font-family:Consolas,\"Liberation Mono\",Menlo,Courier,monospace;font-size:16px}#chart-4add4056-b259-422d-976e-72a1ec7dc124 .legends .legend text{font-family:Consolas,\"Liberation Mono\",Menlo,Courier,monospace;font-size:14px}#chart-4add4056-b259-422d-976e-72a1ec7dc124 .axis text{font-family:Consolas,\"Liberation Mono\",Menlo,Courier,monospace;font-size:10px}#chart-4add4056-b259-422d-976e-72a1ec7dc124 .axis text.major{font-family:Consolas,\"Liberation Mono\",Menlo,Courier,monospace;font-size:10px}#chart-4add4056-b259-422d-976e-72a1ec7dc124 .text-overlay text.value{font-family:Consolas,\"Liberation Mono\",Menlo,Courier,monospace;font-size:16px}#chart-4add4056-b259-422d-976e-72a1ec7dc124 .text-overlay text.label{font-family:Consolas,\"Liberation Mono\",Menlo,Courier,monospace;font-size:10px}#chart-4add4056-b259-422d-976e-72a1ec7dc124 .tooltip{font-family:Consolas,\"Liberation Mono\",Menlo,Courier,monospace;font-size:14px}#chart-4add4056-b259-422d-976e-72a1ec7dc124 text.no_data{font-family:Consolas,\"Liberation Mono\",Menlo,Courier,monospace;font-size:64px}\n",
       "#chart-4add4056-b259-422d-976e-72a1ec7dc124{background-color:rgba(249,249,249,1)}#chart-4add4056-b259-422d-976e-72a1ec7dc124 path,#chart-4add4056-b259-422d-976e-72a1ec7dc124 line,#chart-4add4056-b259-422d-976e-72a1ec7dc124 rect,#chart-4add4056-b259-422d-976e-72a1ec7dc124 circle{-webkit-transition:150ms;-moz-transition:150ms;transition:150ms}#chart-4add4056-b259-422d-976e-72a1ec7dc124 .graph &gt; .background{fill:rgba(249,249,249,1)}#chart-4add4056-b259-422d-976e-72a1ec7dc124 .plot &gt; .background{fill:rgba(255,255,255,1)}#chart-4add4056-b259-422d-976e-72a1ec7dc124 .graph{fill:rgba(0,0,0,.87)}#chart-4add4056-b259-422d-976e-72a1ec7dc124 text.no_data{fill:rgba(0,0,0,1)}#chart-4add4056-b259-422d-976e-72a1ec7dc124 .title{fill:rgba(0,0,0,1)}#chart-4add4056-b259-422d-976e-72a1ec7dc124 .legends .legend text{fill:rgba(0,0,0,.87)}#chart-4add4056-b259-422d-976e-72a1ec7dc124 .legends .legend:hover text{fill:rgba(0,0,0,1)}#chart-4add4056-b259-422d-976e-72a1ec7dc124 .axis .line{stroke:rgba(0,0,0,1)}#chart-4add4056-b259-422d-976e-72a1ec7dc124 .axis .guide.line{stroke:rgba(0,0,0,.54)}#chart-4add4056-b259-422d-976e-72a1ec7dc124 .axis .major.line{stroke:rgba(0,0,0,.87)}#chart-4add4056-b259-422d-976e-72a1ec7dc124 .axis text.major{fill:rgba(0,0,0,1)}#chart-4add4056-b259-422d-976e-72a1ec7dc124 .axis.y .guides:hover .guide.line,#chart-4add4056-b259-422d-976e-72a1ec7dc124 .line-graph .axis.x .guides:hover .guide.line,#chart-4add4056-b259-422d-976e-72a1ec7dc124 .stackedline-graph .axis.x .guides:hover .guide.line,#chart-4add4056-b259-422d-976e-72a1ec7dc124 .xy-graph .axis.x .guides:hover .guide.line{stroke:rgba(0,0,0,1)}#chart-4add4056-b259-422d-976e-72a1ec7dc124 .axis .guides:hover text{fill:rgba(0,0,0,1)}#chart-4add4056-b259-422d-976e-72a1ec7dc124 .reactive{fill-opacity:.7;stroke-opacity:.8}#chart-4add4056-b259-422d-976e-72a1ec7dc124 .ci{stroke:rgba(0,0,0,.87)}#chart-4add4056-b259-422d-976e-72a1ec7dc124 .reactive.active,#chart-4add4056-b259-422d-976e-72a1ec7dc124 .active .reactive{fill-opacity:.8;stroke-opacity:.9;stroke-width:4}#chart-4add4056-b259-422d-976e-72a1ec7dc124 .ci .reactive.active{stroke-width:1.5}#chart-4add4056-b259-422d-976e-72a1ec7dc124 .series text{fill:rgba(0,0,0,1)}#chart-4add4056-b259-422d-976e-72a1ec7dc124 .tooltip rect{fill:rgba(255,255,255,1);stroke:rgba(0,0,0,1);-webkit-transition:opacity 150ms;-moz-transition:opacity 150ms;transition:opacity 150ms}#chart-4add4056-b259-422d-976e-72a1ec7dc124 .tooltip .label{fill:rgba(0,0,0,.87)}#chart-4add4056-b259-422d-976e-72a1ec7dc124 .tooltip .label{fill:rgba(0,0,0,.87)}#chart-4add4056-b259-422d-976e-72a1ec7dc124 .tooltip .legend{font-size:.8em;fill:rgba(0,0,0,.54)}#chart-4add4056-b259-422d-976e-72a1ec7dc124 .tooltip .x_label{font-size:.6em;fill:rgba(0,0,0,1)}#chart-4add4056-b259-422d-976e-72a1ec7dc124 .tooltip .xlink{font-size:.5em;text-decoration:underline}#chart-4add4056-b259-422d-976e-72a1ec7dc124 .tooltip .value{font-size:1.5em}#chart-4add4056-b259-422d-976e-72a1ec7dc124 .bound{font-size:.5em}#chart-4add4056-b259-422d-976e-72a1ec7dc124 .max-value{font-size:.75em;fill:rgba(0,0,0,.54)}#chart-4add4056-b259-422d-976e-72a1ec7dc124 .map-element{fill:rgba(255,255,255,1);stroke:rgba(0,0,0,.54) !important}#chart-4add4056-b259-422d-976e-72a1ec7dc124 .map-element .reactive{fill-opacity:inherit;stroke-opacity:inherit}#chart-4add4056-b259-422d-976e-72a1ec7dc124 .color-0,#chart-4add4056-b259-422d-976e-72a1ec7dc124 .color-0 a:visited{stroke:#F44336;fill:#F44336}#chart-4add4056-b259-422d-976e-72a1ec7dc124 .text-overlay .color-0 text{fill:black}\n",
       "#chart-4add4056-b259-422d-976e-72a1ec7dc124 text.no_data{text-anchor:middle}#chart-4add4056-b259-422d-976e-72a1ec7dc124 .guide.line{fill:none}#chart-4add4056-b259-422d-976e-72a1ec7dc124 .centered{text-anchor:middle}#chart-4add4056-b259-422d-976e-72a1ec7dc124 .title{text-anchor:middle}#chart-4add4056-b259-422d-976e-72a1ec7dc124 .legends .legend text{fill-opacity:1}#chart-4add4056-b259-422d-976e-72a1ec7dc124 .axis.x text{text-anchor:middle}#chart-4add4056-b259-422d-976e-72a1ec7dc124 .axis.x:not(.web) text[transform]{text-anchor:start}#chart-4add4056-b259-422d-976e-72a1ec7dc124 .axis.x:not(.web) text[transform].backwards{text-anchor:end}#chart-4add4056-b259-422d-976e-72a1ec7dc124 .axis.y text{text-anchor:end}#chart-4add4056-b259-422d-976e-72a1ec7dc124 .axis.y text[transform].backwards{text-anchor:start}#chart-4add4056-b259-422d-976e-72a1ec7dc124 .axis.y2 text{text-anchor:start}#chart-4add4056-b259-422d-976e-72a1ec7dc124 .axis.y2 text[transform].backwards{text-anchor:end}#chart-4add4056-b259-422d-976e-72a1ec7dc124 .axis .guide.line{stroke-dasharray:4,4}#chart-4add4056-b259-422d-976e-72a1ec7dc124 .axis .major.guide.line{stroke-dasharray:6,6}#chart-4add4056-b259-422d-976e-72a1ec7dc124 .horizontal .axis.y .guide.line,#chart-4add4056-b259-422d-976e-72a1ec7dc124 .horizontal .axis.y2 .guide.line,#chart-4add4056-b259-422d-976e-72a1ec7dc124 .vertical .axis.x .guide.line{opacity:0}#chart-4add4056-b259-422d-976e-72a1ec7dc124 .horizontal .axis.always_show .guide.line,#chart-4add4056-b259-422d-976e-72a1ec7dc124 .vertical .axis.always_show .guide.line{opacity:1 !important}#chart-4add4056-b259-422d-976e-72a1ec7dc124 .axis.y .guides:hover .guide.line,#chart-4add4056-b259-422d-976e-72a1ec7dc124 .axis.y2 .guides:hover .guide.line,#chart-4add4056-b259-422d-976e-72a1ec7dc124 .axis.x .guides:hover .guide.line{opacity:1}#chart-4add4056-b259-422d-976e-72a1ec7dc124 .axis .guides:hover text{opacity:1}#chart-4add4056-b259-422d-976e-72a1ec7dc124 .nofill{fill:none}#chart-4add4056-b259-422d-976e-72a1ec7dc124 .subtle-fill{fill-opacity:.2}#chart-4add4056-b259-422d-976e-72a1ec7dc124 .dot{stroke-width:1px;fill-opacity:1}#chart-4add4056-b259-422d-976e-72a1ec7dc124 .dot.active{stroke-width:5px}#chart-4add4056-b259-422d-976e-72a1ec7dc124 .dot.negative{fill:transparent}#chart-4add4056-b259-422d-976e-72a1ec7dc124 text,#chart-4add4056-b259-422d-976e-72a1ec7dc124 tspan{stroke:none !important}#chart-4add4056-b259-422d-976e-72a1ec7dc124 .series text.active{opacity:1}#chart-4add4056-b259-422d-976e-72a1ec7dc124 .tooltip rect{fill-opacity:.95;stroke-width:.5}#chart-4add4056-b259-422d-976e-72a1ec7dc124 .tooltip text{fill-opacity:1}#chart-4add4056-b259-422d-976e-72a1ec7dc124 .showable{visibility:hidden}#chart-4add4056-b259-422d-976e-72a1ec7dc124 .showable.shown{visibility:visible}#chart-4add4056-b259-422d-976e-72a1ec7dc124 .gauge-background{fill:rgba(229,229,229,1);stroke:none}#chart-4add4056-b259-422d-976e-72a1ec7dc124 .bg-lines{stroke:rgba(249,249,249,1);stroke-width:2px}</style><script type=\"text/javascript\">window.pygal = window.pygal || {};window.pygal.config = window.pygal.config || {};window.pygal.config['4add4056-b259-422d-976e-72a1ec7dc124'] = {\"allow_interruptions\": false, \"box_mode\": \"extremes\", \"classes\": [\"pygal-chart\"], \"css\": [\"file://style.css\", \"file://graph.css\"], \"defs\": [], \"disable_xml_declaration\": false, \"dots_size\": 2.5, \"dynamic_print_values\": false, \"explicit_size\": false, \"fill\": false, \"force_uri_protocol\": \"https\", \"formatter\": null, \"half_pie\": false, \"height\": 600, \"include_x_axis\": false, \"inner_radius\": 0, \"interpolate\": null, \"interpolation_parameters\": {}, \"interpolation_precision\": 250, \"inverse_y_axis\": false, \"js\": [\"//kozea.github.io/pygal.js/2.0.x/pygal-tooltips.min.js\"], \"legend_at_bottom\": false, \"legend_at_bottom_columns\": null, \"legend_box_size\": 12, \"logarithmic\": false, \"margin\": 20, \"margin_bottom\": null, \"margin_left\": null, \"margin_right\": null, \"margin_top\": null, \"max_scale\": 16, \"min_scale\": 4, \"missing_value_fill_truncation\": \"x\", \"no_data_text\": \"No data\", \"no_prefix\": false, \"order_min\": null, \"pretty_print\": false, \"print_labels\": false, \"print_values\": false, \"print_values_position\": \"center\", \"print_zeroes\": true, \"range\": null, \"rounded_bars\": null, \"secondary_range\": null, \"show_dots\": true, \"show_legend\": true, \"show_minor_x_labels\": true, \"show_minor_y_labels\": true, \"show_only_major_dots\": false, \"show_x_guides\": true, \"show_x_labels\": true, \"show_y_guides\": false, \"show_y_labels\": true, \"spacing\": 10, \"stack_from_top\": false, \"strict\": false, \"stroke\": true, \"stroke_style\": null, \"style\": {\"background\": \"rgba(249, 249, 249, 1)\", \"ci_colors\": [], \"colors\": [\"#F44336\", \"#3F51B5\", \"#009688\", \"#FFC107\", \"#FF5722\", \"#9C27B0\", \"#03A9F4\", \"#8BC34A\", \"#FF9800\", \"#E91E63\", \"#2196F3\", \"#4CAF50\", \"#FFEB3B\", \"#673AB7\", \"#00BCD4\", \"#CDDC39\", \"#9E9E9E\", \"#607D8B\"], \"font_family\": \"Consolas, \\\"Liberation Mono\\\", Menlo, Courier, monospace\", \"foreground\": \"rgba(0, 0, 0, .87)\", \"foreground_strong\": \"rgba(0, 0, 0, 1)\", \"foreground_subtle\": \"rgba(0, 0, 0, .54)\", \"guide_stroke_dasharray\": \"4,4\", \"label_font_family\": \"Consolas, \\\"Liberation Mono\\\", Menlo, Courier, monospace\", \"label_font_size\": 10, \"legend_font_family\": \"Consolas, \\\"Liberation Mono\\\", Menlo, Courier, monospace\", \"legend_font_size\": 14, \"major_guide_stroke_dasharray\": \"6,6\", \"major_label_font_family\": \"Consolas, \\\"Liberation Mono\\\", Menlo, Courier, monospace\", \"major_label_font_size\": 10, \"no_data_font_family\": \"Consolas, \\\"Liberation Mono\\\", Menlo, Courier, monospace\", \"no_data_font_size\": 64, \"opacity\": \".7\", \"opacity_hover\": \".8\", \"plot_background\": \"rgba(255, 255, 255, 1)\", \"stroke_opacity\": \".8\", \"stroke_opacity_hover\": \".9\", \"title_font_family\": \"Consolas, \\\"Liberation Mono\\\", Menlo, Courier, monospace\", \"title_font_size\": 16, \"tooltip_font_family\": \"Consolas, \\\"Liberation Mono\\\", Menlo, Courier, monospace\", \"tooltip_font_size\": 14, \"transition\": \"150ms\", \"value_background\": \"rgba(229, 229, 229, 1)\", \"value_colors\": [], \"value_font_family\": \"Consolas, \\\"Liberation Mono\\\", Menlo, Courier, monospace\", \"value_font_size\": 16, \"value_label_font_family\": \"Consolas, \\\"Liberation Mono\\\", Menlo, Courier, monospace\", \"value_label_font_size\": 10}, \"title\": \"Komplexeste Methoden\", \"tooltip_border_radius\": 0, \"tooltip_fancy_mode\": true, \"truncate_label\": null, \"truncate_legend\": null, \"width\": 800, \"x_label_rotation\": 0, \"x_labels\": [\"testMoneyBagEquals()\", \"execTest(java.lang.String,boolean)\", \"testMoneyEquals()\", \"testCapacity()\", \"testMoneyBagEquals()\", \"start(java.lang.String[])\", \"equals(java.lang.Object)\", \"readPreferences()\", \"processArguments(java.lang.String[])\", \"verifySuccess(junit.framework.TestCase)\"], \"x_labels_major\": null, \"x_labels_major_count\": null, \"x_labels_major_every\": null, \"x_title\": null, \"xrange\": null, \"y_label_rotation\": 0, \"y_labels\": null, \"y_labels_major\": null, \"y_labels_major_count\": null, \"y_labels_major_every\": null, \"y_title\": null, \"zero\": 0, \"legends\": [\"Programm 1\"]}</script><script type=\"text/javascript\" xlink:href=\"https://kozea.github.io/pygal.js/2.0.x/pygal-tooltips.min.js\"/></defs><title>Komplexeste Methoden</title><g class=\"graph horizontalbar-graph horizontal\"><rect class=\"background\" height=\"600\" width=\"800\" x=\"0\" y=\"0\"/><g class=\"plot\" transform=\"translate(370, 46)\"><rect class=\"background\" height=\"514\" width=\"410.0\" x=\"0\" y=\"0\"/><g class=\"axis y\"><g class=\"guides\"><text class=\"\" x=\"-5\" y=\"482.90384615384613\">testMoneyBagEquals()</text><title>0.05</title></g><g class=\"guides\"><text class=\"\" x=\"-5\" y=\"433.4807692307692\">execTest(java.lang.String,boolean)</text><title>0.15</title></g><g class=\"guides\"><text class=\"\" x=\"-5\" y=\"384.0576923076923\">testMoneyEquals()</text><title>0.25</title></g><g class=\"guides\"><text class=\"\" x=\"-5\" y=\"334.63461538461536\">testCapacity()</text><title>0.35</title></g><g class=\"guides\"><text class=\"\" x=\"-5\" y=\"285.21153846153845\">testMoneyBagEquals()</text><title>0.45</title></g><g class=\"guides\"><text class=\"\" x=\"-5\" y=\"235.78846153846155\">start(java.lang.String[])</text><title>0.55</title></g><g class=\"guides\"><text class=\"\" x=\"-5\" y=\"186.36538461538464\">equals(java.lang.Object)</text><title>0.65</title></g><g class=\"guides\"><text class=\"\" x=\"-5\" y=\"136.94230769230768\">readPreferences()</text><title>0.75</title></g><g class=\"guides\"><text class=\"\" x=\"-5\" y=\"87.51923076923077\">processArguments(java.lang.String[])</text><title>0.85</title></g><g class=\"guides\"><text class=\"\" x=\"-5\" y=\"38.09615384615387\">verifySuccess(junit.framework.TestCase)</text><title>0.95</title></g></g><g class=\"axis x always_show\"><g class=\"guides\"><path class=\"axis major line\" d=\"M7.884615 0.000000 v514.000000\"/><text class=\"major\" x=\"7.884615384615384\" y=\"529.0\">0</text></g><g class=\"guides\"><path class=\"guide line\" d=\"M70.460928 0.000000 v514.000000\"/><text class=\"\" x=\"70.46092796092796\" y=\"529.0\">10</text></g><g class=\"guides\"><path class=\"guide line\" d=\"M133.037241 0.000000 v514.000000\"/><text class=\"\" x=\"133.03724053724054\" y=\"529.0\">20</text></g><g class=\"guides\"><path class=\"guide line\" d=\"M195.613553 0.000000 v514.000000\"/><text class=\"\" x=\"195.61355311355308\" y=\"529.0\">30</text></g><g class=\"guides\"><path class=\"guide line\" d=\"M258.189866 0.000000 v514.000000\"/><text class=\"\" x=\"258.18986568986566\" y=\"529.0\">40</text></g><g class=\"guides\"><path class=\"major guide line\" d=\"M320.766178 0.000000 v514.000000\"/><text class=\"major\" x=\"320.7661782661782\" y=\"529.0\">50</text></g><g class=\"guides\"><path class=\"guide line\" d=\"M383.342491 0.000000 v514.000000\"/><text class=\"\" x=\"383.34249084249075\" y=\"529.0\">60</text></g></g><g class=\"series serie-0 color-0\"><g class=\"bars\"><g class=\"bar\"><rect class=\"rect reactive tooltip-trigger\" height=\"38.273230769230764\" rx=\"0\" ry=\"0\" width=\"394.2307692307692\" x=\"7.884615384615358\" y=\"460.26723076923076\"/><desc class=\"value\">63</desc><desc class=\"x centered\">204.99999999999997</desc><desc class=\"y centered\">479.4038461538462</desc><desc class=\"x_label\">testMoneyBagEquals()</desc></g><g class=\"bar\"><rect class=\"rect reactive tooltip-trigger\" height=\"38.273230769230764\" rx=\"0\" ry=\"0\" width=\"225.27472527472523\" x=\"7.884615384615387\" y=\"410.84415384615386\"/><desc class=\"value\">36</desc><desc class=\"x centered\">120.521978021978</desc><desc class=\"y centered\">429.9807692307692</desc><desc class=\"x_label\">execTest(java.lang.String,boolean)</desc></g><g class=\"bar\"><rect class=\"rect reactive tooltip-trigger\" height=\"38.273230769230764\" rx=\"0\" ry=\"0\" width=\"219.01709401709397\" x=\"7.884615384615387\" y=\"361.42107692307695\"/><desc class=\"value\">35</desc><desc class=\"x centered\">117.39316239316237</desc><desc class=\"y centered\">380.5576923076923</desc><desc class=\"x_label\">testMoneyEquals()</desc></g><g class=\"bar\"><rect class=\"rect reactive tooltip-trigger\" height=\"38.273230769230764\" rx=\"0\" ry=\"0\" width=\"219.01709401709397\" x=\"7.884615384615387\" y=\"311.99800000000005\"/><desc class=\"value\">35</desc><desc class=\"x centered\">117.39316239316237</desc><desc class=\"y centered\">331.1346153846154</desc><desc class=\"x_label\">testCapacity()</desc></g><g class=\"bar\"><rect class=\"rect reactive tooltip-trigger\" height=\"38.273230769230764\" rx=\"0\" ry=\"0\" width=\"168.95604395604394\" x=\"7.884615384615387\" y=\"262.574923076923\"/><desc class=\"value\">27</desc><desc class=\"x centered\">92.36263736263736</desc><desc class=\"y centered\">281.71153846153845</desc><desc class=\"x_label\">testMoneyBagEquals()</desc></g><g class=\"bar\"><rect class=\"rect reactive tooltip-trigger\" height=\"38.273230769230764\" rx=\"0\" ry=\"0\" width=\"162.69841269841268\" x=\"7.884615384615387\" y=\"213.15184615384618\"/><desc class=\"value\">26</desc><desc class=\"x centered\">89.23382173382173</desc><desc class=\"y centered\">232.28846153846155</desc><desc class=\"x_label\">start(java.lang.String[])</desc></g><g class=\"bar\"><rect class=\"rect reactive tooltip-trigger\" height=\"38.273230769230764\" rx=\"0\" ry=\"0\" width=\"150.18315018315016\" x=\"7.884615384615387\" y=\"163.72876923076927\"/><desc class=\"value\">24</desc><desc class=\"x centered\">82.97619047619047</desc><desc class=\"y centered\">182.86538461538464</desc><desc class=\"x_label\">equals(java.lang.Object)</desc></g><g class=\"bar\"><rect class=\"rect reactive tooltip-trigger\" height=\"38.273230769230764\" rx=\"0\" ry=\"0\" width=\"150.18315018315016\" x=\"7.884615384615387\" y=\"114.30569230769237\"/><desc class=\"value\">24</desc><desc class=\"x centered\">82.97619047619047</desc><desc class=\"y centered\">133.44230769230774</desc><desc class=\"x_label\">readPreferences()</desc></g><g class=\"bar\"><rect class=\"rect reactive tooltip-trigger\" height=\"38.273230769230764\" rx=\"0\" ry=\"0\" width=\"137.66788766788764\" x=\"7.884615384615387\" y=\"64.88261538461538\"/><desc class=\"value\">22</desc><desc class=\"x centered\">76.71855921855921</desc><desc class=\"y centered\">84.01923076923076</desc><desc class=\"x_label\">processArguments(java.lang.String[])</desc></g><g class=\"bar\"><rect class=\"rect reactive tooltip-trigger\" height=\"38.273230769230764\" rx=\"0\" ry=\"0\" width=\"131.41025641025638\" x=\"7.884615384615387\" y=\"15.459538461538479\"/><desc class=\"value\">21</desc><desc class=\"x centered\">73.58974358974358</desc><desc class=\"y centered\">34.59615384615386</desc><desc class=\"x_label\">verifySuccess(junit.framework.TestCase)</desc></g></g></g></g><g class=\"titles\"><text class=\"title plot_title\" x=\"400.0\" y=\"26\">Komplexeste Methoden</text></g><g class=\"plot overlay\" transform=\"translate(370, 46)\"><g class=\"series serie-0 color-0\"/></g><g class=\"plot text-overlay\" transform=\"translate(370, 46)\"><g class=\"series serie-0 color-0\"/></g><g class=\"plot tooltip-overlay\" transform=\"translate(370, 46)\"><g class=\"tooltip\" style=\"opacity: 0\" transform=\"translate(0 0)\"><rect class=\"tooltip-box\" height=\"0\" rx=\"0\" ry=\"0\" width=\"0\"/><g class=\"text\"/></g></g><g class=\"legends\" transform=\"translate(10, 56)\"><g class=\"legend reactive activate-serie\" id=\"activate-serie-0\"><rect class=\"color-0 reactive\" height=\"12\" width=\"12\" x=\"0.0\" y=\"1.0\"/><text x=\"17.0\" y=\"11.2\">Programm 1</text></g></g><g class=\"legends\" transform=\"translate(790, 56)\"/></g></svg>\n",
       "    </figure>\n",
       "  </body>\n",
       "</html>\n"
      ],
      "text/plain": [
       "<IPython.core.display.HTML object>"
      ]
     },
     "metadata": {},
     "output_type": "display_data"
    }
   ],
   "source": [
    "import pygal \n",
    "line_chart = pygal.HorizontalBar()\n",
    "line_chart.title = 'Komplexeste Methoden'\n",
    "line_chart.x_labels= y_method_complexity(c)\n",
    "line_chart.add('Programm 1',x_complexity(c))\n",
    "display(HTML(base_html.format(rendered_chart=line_chart.render(is_unicode=True))))\n"
   ]
  },
  {
   "cell_type": "code",
   "execution_count": null,
   "metadata": {},
   "outputs": [],
   "source": []
  }
 ],
 "metadata": {
  "extensions": {
   "jupyter_dashboards": {
    "activeView": "report_default",
    "version": 1,
    "views": {
     "grid_default": {
      "cellMargin": 10,
      "defaultCellHeight": 20,
      "maxColumns": 12,
      "name": "grid",
      "type": "grid"
     },
     "report_default": {
      "name": "report",
      "type": "report"
     }
    }
   }
  },
  "kernelspec": {
   "display_name": "Python [conda env:BeLL]",
   "language": "python",
   "name": "conda-env-BeLL-py"
  },
  "language_info": {
   "codemirror_mode": {
    "name": "ipython",
    "version": 3
   },
   "file_extension": ".py",
   "mimetype": "text/x-python",
   "name": "python",
   "nbconvert_exporter": "python",
   "pygments_lexer": "ipython3",
   "version": "3.6.4"
  }
 },
 "nbformat": 4,
 "nbformat_minor": 2
}
