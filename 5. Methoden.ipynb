{
 "cells": [
  {
   "cell_type": "markdown",
   "metadata": {
    "extensions": {
     "jupyter_dashboards": {
      "version": 1,
      "views": {
       "grid_default": {
        "col": 0,
        "height": 4,
        "hidden": false,
        "row": 0,
        "width": 4
       },
       "report_default": {
        "hidden": false
       }
      }
     }
    }
   },
   "source": [
    "# Was sind die größten und komplexesten Methoden?"
   ]
  },
  {
   "cell_type": "markdown",
   "metadata": {
    "extensions": {
     "jupyter_dashboards": {
      "version": 1,
      "views": {
       "grid_default": {
        "col": 4,
        "height": 4,
        "hidden": false,
        "row": 0,
        "width": 4
       },
       "report_default": {
        "hidden": false
       }
      }
     }
    }
   },
   "source": [
    "## 1. Verbindung zur Datenbank\n",
    "Es wird eine Verbindung zur Neo4j-Datenbank aufgebaut."
   ]
  },
  {
   "cell_type": "code",
   "execution_count": 5,
   "metadata": {
    "extensions": {
     "jupyter_dashboards": {
      "version": 1,
      "views": {
       "grid_default": {
        "hidden": true
       },
       "report_default": {
        "hidden": true
       }
      }
     }
    }
   },
   "outputs": [],
   "source": [
    "import py2neo\n",
    "\n",
    "graph = py2neo.Graph(bolt=True, host='localhost', user='neo4j', password='neo4j')"
   ]
  },
  {
   "cell_type": "markdown",
   "metadata": {
    "extensions": {
     "jupyter_dashboards": {
      "version": 1,
      "views": {
       "grid_default": {
        "col": 0,
        "height": 4,
        "hidden": false,
        "row": 4,
        "width": 12
       },
       "report_default": {
        "hidden": false
       }
      }
     }
    }
   },
   "source": [
    "## 2. Cypher-Abfrage\n",
    "Es wird eine Abfrage an die Datenbank gestellt. Das Ergebnis wird in einem Dataframe (pandas) gespeichert."
   ]
  },
  {
   "cell_type": "code",
   "execution_count": 6,
   "metadata": {
    "extensions": {
     "jupyter_dashboards": {
      "version": 1,
      "views": {
       "grid_default": {
        "hidden": true
       },
       "report_default": {
        "hidden": true
       }
      }
     }
    }
   },
   "outputs": [],
   "source": [
    "import pandas as pd\n",
    "\n",
    "query =\"MATCH (t:Type)-[:HAS_SOURCE]->(f), (t)-[:DECLARES]->(m:Method) RETURN t.fqn as type, m.signature as signature,  sum(m.effectiveLineCount) as loc, sum(m.cyclomaticComplexity) as complexity\"\n",
    "df = pd.DataFrame(graph.run(query).data())\n"
   ]
  },
  {
   "cell_type": "markdown",
   "metadata": {
    "extensions": {
     "jupyter_dashboards": {
      "version": 1,
      "views": {
       "grid_default": {
        "col": 8,
        "height": 4,
        "hidden": false,
        "row": 0,
        "width": 4
       },
       "report_default": {
        "hidden": false
       }
      }
     }
    }
   },
   "source": [
    "## 3. Datenaufbereitung\n",
    "Zur Kontrolle werden die ersten fünf Zeilen des Ergebnisses der Abfrage als Tabelle ausgegeben."
   ]
  },
  {
   "cell_type": "code",
   "execution_count": 7,
   "metadata": {
    "extensions": {
     "jupyter_dashboards": {
      "version": 1,
      "views": {
       "grid_default": {
        "col": 0,
        "height": 7,
        "hidden": false,
        "row": 8,
        "width": 8
       },
       "report_default": {
        "hidden": false
       }
      }
     }
    }
   },
   "outputs": [
    {
     "data": {
      "text/html": [
       "<div>\n",
       "<style scoped>\n",
       "    .dataframe tbody tr th:only-of-type {\n",
       "        vertical-align: middle;\n",
       "    }\n",
       "\n",
       "    .dataframe tbody tr th {\n",
       "        vertical-align: top;\n",
       "    }\n",
       "\n",
       "    .dataframe thead th {\n",
       "        text-align: right;\n",
       "    }\n",
       "</style>\n",
       "<table border=\"1\" class=\"dataframe\">\n",
       "  <thead>\n",
       "    <tr style=\"text-align: right;\">\n",
       "      <th></th>\n",
       "      <th>complexity</th>\n",
       "      <th>loc</th>\n",
       "      <th>signature</th>\n",
       "      <th>type</th>\n",
       "    </tr>\n",
       "  </thead>\n",
       "  <tbody>\n",
       "    <tr>\n",
       "      <th>0</th>\n",
       "      <td>1</td>\n",
       "      <td>2</td>\n",
       "      <td>void &lt;init&gt;()</td>\n",
       "      <td>org.junit.rules.TestWatchmanTest$FailingTest</td>\n",
       "    </tr>\n",
       "    <tr>\n",
       "      <th>1</th>\n",
       "      <td>2</td>\n",
       "      <td>2</td>\n",
       "      <td>java.lang.Class getType()</td>\n",
       "      <td>org.junit.experimental.theories.ParameterSigna...</td>\n",
       "    </tr>\n",
       "    <tr>\n",
       "      <th>2</th>\n",
       "      <td>1</td>\n",
       "      <td>2</td>\n",
       "      <td>void forgetMax()</td>\n",
       "      <td>org.junit.tests.experimental.max.JUnit38Sortin...</td>\n",
       "    </tr>\n",
       "    <tr>\n",
       "      <th>3</th>\n",
       "      <td>0</td>\n",
       "      <td>0</td>\n",
       "      <td>void run(junit.framework.TestResult)</td>\n",
       "      <td>junit.tests.extensions.ExtensionTest$TornDown</td>\n",
       "    </tr>\n",
       "    <tr>\n",
       "      <th>4</th>\n",
       "      <td>1</td>\n",
       "      <td>6</td>\n",
       "      <td>void doesNotConsiderParametersWhichChangedAfte...</td>\n",
       "      <td>org.junit.runners.parameterized.TestWithParame...</td>\n",
       "    </tr>\n",
       "  </tbody>\n",
       "</table>\n",
       "</div>"
      ],
      "text/plain": [
       "   complexity  loc                                          signature  \\\n",
       "0           1    2                                      void <init>()   \n",
       "1           2    2                          java.lang.Class getType()   \n",
       "2           1    2                                   void forgetMax()   \n",
       "3           0    0               void run(junit.framework.TestResult)   \n",
       "4           1    6  void doesNotConsiderParametersWhichChangedAfte...   \n",
       "\n",
       "                                                type  \n",
       "0       org.junit.rules.TestWatchmanTest$FailingTest  \n",
       "1  org.junit.experimental.theories.ParameterSigna...  \n",
       "2  org.junit.tests.experimental.max.JUnit38Sortin...  \n",
       "3      junit.tests.extensions.ExtensionTest$TornDown  \n",
       "4  org.junit.runners.parameterized.TestWithParame...  "
      ]
     },
     "execution_count": 7,
     "metadata": {},
     "output_type": "execute_result"
    }
   ],
   "source": [
    "df.head()"
   ]
  },
  {
   "cell_type": "markdown",
   "metadata": {
    "extensions": {
     "jupyter_dashboards": {
      "version": 1,
      "views": {
       "grid_default": {
        "col": 0,
        "height": 4,
        "hidden": false,
        "row": 15,
        "width": 12
       },
       "report_default": {
        "hidden": false
       }
      }
     }
    }
   },
   "source": [
    "Im folgenden Codeabschnitt wird das Dataframe absteigend entsprechend der Anzahl der Quelltextzeilen (loc) sortiert und die ersten zehn Methoden extrahiert. Die Werte werden in den Variablen <font face=\"Courier\">x_loc</font> und <font face=\"Courier\">y_method_loc</font> gespeichert."
   ]
  },
  {
   "cell_type": "code",
   "execution_count": 8,
   "metadata": {
    "extensions": {
     "jupyter_dashboards": {
      "version": 1,
      "views": {
       "grid_default": {
        "col": 0,
        "height": 30,
        "hidden": false,
        "row": 19,
        "width": 4
       },
       "report_default": {
        "hidden": false
       }
      }
     }
    }
   },
   "outputs": [],
   "source": [
    "dfm=df.sort_values('loc',ascending=False)\n",
    "dfm=dfm.head(10)\n",
    "def x_loc(liste_x):\n",
    "    liste_x=dfm['loc'].tolist()\n",
    "    return liste_x\n",
    "def y_method_loc(y):\n",
    "    liste_y=[]\n",
    "    y=dfm['signature'].tolist()\n",
    "    for i in y:\n",
    "        signature=i.split(' ')[-1]\n",
    "        liste_y.append(signature)\n",
    "    return liste_y"
   ]
  },
  {
   "cell_type": "markdown",
   "metadata": {
    "extensions": {
     "jupyter_dashboards": {
      "version": 1,
      "views": {
       "grid_default": {
        "col": 0,
        "height": 4,
        "hidden": false,
        "row": 49,
        "width": 12
       },
       "report_default": {
        "hidden": false
       }
      }
     }
    }
   },
   "source": [
    "Im folgenden Codeabschnitt wird das Dataframe absteigend entsprechend der Komplexität (complexity) sortiert und die ersten zehn Methoden extrahiert. Die Werte werden in den Variablen <font face=\"Courier\">x_complexity</font> und <font face=\"Courier\">y_method_complexity</font> gespeichert."
   ]
  },
  {
   "cell_type": "code",
   "execution_count": 9,
   "metadata": {
    "extensions": {
     "jupyter_dashboards": {
      "version": 1,
      "views": {
       "grid_default": {
        "col": 4,
        "height": 26,
        "hidden": false,
        "row": 19,
        "width": 4
       },
       "report_default": {
        "hidden": false
       }
      }
     }
    }
   },
   "outputs": [],
   "source": [
    "dfc=df.sort_values('complexity',ascending=False)\n",
    "dfc=dfc.head(10)\n",
    "\n",
    "def x_complexity(x):\n",
    "    liste_x=dfc['complexity'].tolist()\n",
    "    return(liste_x)\n",
    "\n",
    "def y_method_complexity(y):\n",
    "    liste=[]\n",
    "    y=dfc['signature'].tolist()\n",
    "    for i in y:\n",
    "        g=i.split(' ')[-1]\n",
    "        liste.append(g)\n",
    "    return liste"
   ]
  },
  {
   "cell_type": "markdown",
   "metadata": {
    "extensions": {
     "jupyter_dashboards": {
      "version": 1,
      "views": {
       "grid_default": {
        "col": 0,
        "height": 4,
        "hidden": false,
        "row": 53,
        "width": 12
       },
       "report_default": {
        "hidden": false
       }
      }
     }
    }
   },
   "source": [
    "## 4. Visualisierung\n",
    "Die Daten werden mittels eines Bar Charts visualisiert (https://plot.ly/python/horizontal-bar-charts/, x=x_loc, y=y_method_loc)."
   ]
  },
  {
   "cell_type": "code",
   "execution_count": 10,
   "metadata": {},
   "outputs": [],
   "source": [
    "from IPython.display import display, HTML\n",
    "\n",
    "base_html = \"\"\"\n",
    "<!DOCTYPE html>\n",
    "<html>\n",
    "  <head>\n",
    "  <script type=\"text/javascript\" src=\"http://kozea.github.com/pygal.js/javascripts/svg.jquery.js\"></script>\n",
    "  <script type=\"text/javascript\" src=\"https://kozea.github.io/pygal.js/2.0.x/pygal-tooltips.min.js\"\"></script>\n",
    "  </head>\n",
    "  <body>\n",
    "    <figure>\n",
    "      {rendered_chart}\n",
    "    </figure>\n",
    "  </body>\n",
    "</html>\n",
    "\"\"\""
   ]
  },
  {
   "cell_type": "markdown",
   "metadata": {
    "extensions": {
     "jupyter_dashboards": {
      "version": 1,
      "views": {
       "grid_default": {
        "col": 8,
        "height": 4,
        "hidden": false,
        "row": 8,
        "width": 4
       },
       "report_default": {
        "hidden": false
       }
      }
     }
    }
   },
   "source": [
    "Die Daten werden mittels eines Bar Charts visualisiert (https://plot.ly/python/horizontal-bar-charts/, x=x_complexity, y=y_method_complexity)."
   ]
  },
  {
   "cell_type": "markdown",
   "metadata": {
    "extensions": {
     "jupyter_dashboards": {
      "version": 1,
      "views": {
       "grid_default": {
        "hidden": true
       },
       "report_default": {
        "hidden": true
       }
      }
     }
    }
   },
   "source": [
    "# Größte Methoden\n",
    "Im Balkendiagramm Größte Methoden werden die zehn Methoden mit den meisten Quelltextzeilen in Abhängigkeit der absoluten Anzahl ihrer Quelltextzeilen dargestellt. Die größte Methode wird somit ermittelt.** DIe Methode, die am fehleranfälligsten ist. ???**\n"
   ]
  },
  {
   "cell_type": "code",
   "execution_count": 11,
   "metadata": {},
   "outputs": [
    {
     "data": {
      "text/html": [
       "\n",
       "<!DOCTYPE html>\n",
       "<html>\n",
       "  <head>\n",
       "  <script type=\"text/javascript\" src=\"http://kozea.github.com/pygal.js/javascripts/svg.jquery.js\"></script>\n",
       "  <script type=\"text/javascript\" src=\"https://kozea.github.io/pygal.js/2.0.x/pygal-tooltips.min.js\"\"></script>\n",
       "  </head>\n",
       "  <body>\n",
       "    <figure>\n",
       "      <?xml version='1.0' encoding='utf-8'?>\n",
       "<svg xmlns:xlink=\"http://www.w3.org/1999/xlink\" xmlns=\"http://www.w3.org/2000/svg\" id=\"chart-221d43e1-7b97-45b7-a13a-1d902f446e53\" class=\"pygal-chart\" viewBox=\"0 0 800 600\"><!--Generated with pygal 2.4.0 (lxml) ©Kozea 2012-2016 on 2019-10-20--><!--http://pygal.org--><!--http://github.com/Kozea/pygal--><defs><style type=\"text/css\">#chart-221d43e1-7b97-45b7-a13a-1d902f446e53{-webkit-user-select:none;-webkit-font-smoothing:antialiased;font-family:Consolas,\"Liberation Mono\",Menlo,Courier,monospace}#chart-221d43e1-7b97-45b7-a13a-1d902f446e53 .title{font-family:Consolas,\"Liberation Mono\",Menlo,Courier,monospace;font-size:16px}#chart-221d43e1-7b97-45b7-a13a-1d902f446e53 .legends .legend text{font-family:Consolas,\"Liberation Mono\",Menlo,Courier,monospace;font-size:14px}#chart-221d43e1-7b97-45b7-a13a-1d902f446e53 .axis text{font-family:Consolas,\"Liberation Mono\",Menlo,Courier,monospace;font-size:10px}#chart-221d43e1-7b97-45b7-a13a-1d902f446e53 .axis text.major{font-family:Consolas,\"Liberation Mono\",Menlo,Courier,monospace;font-size:10px}#chart-221d43e1-7b97-45b7-a13a-1d902f446e53 .text-overlay text.value{font-family:Consolas,\"Liberation Mono\",Menlo,Courier,monospace;font-size:16px}#chart-221d43e1-7b97-45b7-a13a-1d902f446e53 .text-overlay text.label{font-family:Consolas,\"Liberation Mono\",Menlo,Courier,monospace;font-size:10px}#chart-221d43e1-7b97-45b7-a13a-1d902f446e53 .tooltip{font-family:Consolas,\"Liberation Mono\",Menlo,Courier,monospace;font-size:14px}#chart-221d43e1-7b97-45b7-a13a-1d902f446e53 text.no_data{font-family:Consolas,\"Liberation Mono\",Menlo,Courier,monospace;font-size:64px}\n",
       "#chart-221d43e1-7b97-45b7-a13a-1d902f446e53{background-color:rgba(249,249,249,1)}#chart-221d43e1-7b97-45b7-a13a-1d902f446e53 path,#chart-221d43e1-7b97-45b7-a13a-1d902f446e53 line,#chart-221d43e1-7b97-45b7-a13a-1d902f446e53 rect,#chart-221d43e1-7b97-45b7-a13a-1d902f446e53 circle{-webkit-transition:150ms;-moz-transition:150ms;transition:150ms}#chart-221d43e1-7b97-45b7-a13a-1d902f446e53 .graph &gt; .background{fill:rgba(249,249,249,1)}#chart-221d43e1-7b97-45b7-a13a-1d902f446e53 .plot &gt; .background{fill:rgba(255,255,255,1)}#chart-221d43e1-7b97-45b7-a13a-1d902f446e53 .graph{fill:rgba(0,0,0,.87)}#chart-221d43e1-7b97-45b7-a13a-1d902f446e53 text.no_data{fill:rgba(0,0,0,1)}#chart-221d43e1-7b97-45b7-a13a-1d902f446e53 .title{fill:rgba(0,0,0,1)}#chart-221d43e1-7b97-45b7-a13a-1d902f446e53 .legends .legend text{fill:rgba(0,0,0,.87)}#chart-221d43e1-7b97-45b7-a13a-1d902f446e53 .legends .legend:hover text{fill:rgba(0,0,0,1)}#chart-221d43e1-7b97-45b7-a13a-1d902f446e53 .axis .line{stroke:rgba(0,0,0,1)}#chart-221d43e1-7b97-45b7-a13a-1d902f446e53 .axis .guide.line{stroke:rgba(0,0,0,.54)}#chart-221d43e1-7b97-45b7-a13a-1d902f446e53 .axis .major.line{stroke:rgba(0,0,0,.87)}#chart-221d43e1-7b97-45b7-a13a-1d902f446e53 .axis text.major{fill:rgba(0,0,0,1)}#chart-221d43e1-7b97-45b7-a13a-1d902f446e53 .axis.y .guides:hover .guide.line,#chart-221d43e1-7b97-45b7-a13a-1d902f446e53 .line-graph .axis.x .guides:hover .guide.line,#chart-221d43e1-7b97-45b7-a13a-1d902f446e53 .stackedline-graph .axis.x .guides:hover .guide.line,#chart-221d43e1-7b97-45b7-a13a-1d902f446e53 .xy-graph .axis.x .guides:hover .guide.line{stroke:rgba(0,0,0,1)}#chart-221d43e1-7b97-45b7-a13a-1d902f446e53 .axis .guides:hover text{fill:rgba(0,0,0,1)}#chart-221d43e1-7b97-45b7-a13a-1d902f446e53 .reactive{fill-opacity:.7;stroke-opacity:.8}#chart-221d43e1-7b97-45b7-a13a-1d902f446e53 .ci{stroke:rgba(0,0,0,.87)}#chart-221d43e1-7b97-45b7-a13a-1d902f446e53 .reactive.active,#chart-221d43e1-7b97-45b7-a13a-1d902f446e53 .active .reactive{fill-opacity:.8;stroke-opacity:.9;stroke-width:4}#chart-221d43e1-7b97-45b7-a13a-1d902f446e53 .ci .reactive.active{stroke-width:1.5}#chart-221d43e1-7b97-45b7-a13a-1d902f446e53 .series text{fill:rgba(0,0,0,1)}#chart-221d43e1-7b97-45b7-a13a-1d902f446e53 .tooltip rect{fill:rgba(255,255,255,1);stroke:rgba(0,0,0,1);-webkit-transition:opacity 150ms;-moz-transition:opacity 150ms;transition:opacity 150ms}#chart-221d43e1-7b97-45b7-a13a-1d902f446e53 .tooltip .label{fill:rgba(0,0,0,.87)}#chart-221d43e1-7b97-45b7-a13a-1d902f446e53 .tooltip .label{fill:rgba(0,0,0,.87)}#chart-221d43e1-7b97-45b7-a13a-1d902f446e53 .tooltip .legend{font-size:.8em;fill:rgba(0,0,0,.54)}#chart-221d43e1-7b97-45b7-a13a-1d902f446e53 .tooltip .x_label{font-size:.6em;fill:rgba(0,0,0,1)}#chart-221d43e1-7b97-45b7-a13a-1d902f446e53 .tooltip .xlink{font-size:.5em;text-decoration:underline}#chart-221d43e1-7b97-45b7-a13a-1d902f446e53 .tooltip .value{font-size:1.5em}#chart-221d43e1-7b97-45b7-a13a-1d902f446e53 .bound{font-size:.5em}#chart-221d43e1-7b97-45b7-a13a-1d902f446e53 .max-value{font-size:.75em;fill:rgba(0,0,0,.54)}#chart-221d43e1-7b97-45b7-a13a-1d902f446e53 .map-element{fill:rgba(255,255,255,1);stroke:rgba(0,0,0,.54) !important}#chart-221d43e1-7b97-45b7-a13a-1d902f446e53 .map-element .reactive{fill-opacity:inherit;stroke-opacity:inherit}#chart-221d43e1-7b97-45b7-a13a-1d902f446e53 .color-0,#chart-221d43e1-7b97-45b7-a13a-1d902f446e53 .color-0 a:visited{stroke:#F44336;fill:#F44336}#chart-221d43e1-7b97-45b7-a13a-1d902f446e53 .text-overlay .color-0 text{fill:black}\n",
       "#chart-221d43e1-7b97-45b7-a13a-1d902f446e53 text.no_data{text-anchor:middle}#chart-221d43e1-7b97-45b7-a13a-1d902f446e53 .guide.line{fill:none}#chart-221d43e1-7b97-45b7-a13a-1d902f446e53 .centered{text-anchor:middle}#chart-221d43e1-7b97-45b7-a13a-1d902f446e53 .title{text-anchor:middle}#chart-221d43e1-7b97-45b7-a13a-1d902f446e53 .legends .legend text{fill-opacity:1}#chart-221d43e1-7b97-45b7-a13a-1d902f446e53 .axis.x text{text-anchor:middle}#chart-221d43e1-7b97-45b7-a13a-1d902f446e53 .axis.x:not(.web) text[transform]{text-anchor:start}#chart-221d43e1-7b97-45b7-a13a-1d902f446e53 .axis.x:not(.web) text[transform].backwards{text-anchor:end}#chart-221d43e1-7b97-45b7-a13a-1d902f446e53 .axis.y text{text-anchor:end}#chart-221d43e1-7b97-45b7-a13a-1d902f446e53 .axis.y text[transform].backwards{text-anchor:start}#chart-221d43e1-7b97-45b7-a13a-1d902f446e53 .axis.y2 text{text-anchor:start}#chart-221d43e1-7b97-45b7-a13a-1d902f446e53 .axis.y2 text[transform].backwards{text-anchor:end}#chart-221d43e1-7b97-45b7-a13a-1d902f446e53 .axis .guide.line{stroke-dasharray:4,4}#chart-221d43e1-7b97-45b7-a13a-1d902f446e53 .axis .major.guide.line{stroke-dasharray:6,6}#chart-221d43e1-7b97-45b7-a13a-1d902f446e53 .horizontal .axis.y .guide.line,#chart-221d43e1-7b97-45b7-a13a-1d902f446e53 .horizontal .axis.y2 .guide.line,#chart-221d43e1-7b97-45b7-a13a-1d902f446e53 .vertical .axis.x .guide.line{opacity:0}#chart-221d43e1-7b97-45b7-a13a-1d902f446e53 .horizontal .axis.always_show .guide.line,#chart-221d43e1-7b97-45b7-a13a-1d902f446e53 .vertical .axis.always_show .guide.line{opacity:1 !important}#chart-221d43e1-7b97-45b7-a13a-1d902f446e53 .axis.y .guides:hover .guide.line,#chart-221d43e1-7b97-45b7-a13a-1d902f446e53 .axis.y2 .guides:hover .guide.line,#chart-221d43e1-7b97-45b7-a13a-1d902f446e53 .axis.x .guides:hover .guide.line{opacity:1}#chart-221d43e1-7b97-45b7-a13a-1d902f446e53 .axis .guides:hover text{opacity:1}#chart-221d43e1-7b97-45b7-a13a-1d902f446e53 .nofill{fill:none}#chart-221d43e1-7b97-45b7-a13a-1d902f446e53 .subtle-fill{fill-opacity:.2}#chart-221d43e1-7b97-45b7-a13a-1d902f446e53 .dot{stroke-width:1px;fill-opacity:1}#chart-221d43e1-7b97-45b7-a13a-1d902f446e53 .dot.active{stroke-width:5px}#chart-221d43e1-7b97-45b7-a13a-1d902f446e53 .dot.negative{fill:transparent}#chart-221d43e1-7b97-45b7-a13a-1d902f446e53 text,#chart-221d43e1-7b97-45b7-a13a-1d902f446e53 tspan{stroke:none !important}#chart-221d43e1-7b97-45b7-a13a-1d902f446e53 .series text.active{opacity:1}#chart-221d43e1-7b97-45b7-a13a-1d902f446e53 .tooltip rect{fill-opacity:.95;stroke-width:.5}#chart-221d43e1-7b97-45b7-a13a-1d902f446e53 .tooltip text{fill-opacity:1}#chart-221d43e1-7b97-45b7-a13a-1d902f446e53 .showable{visibility:hidden}#chart-221d43e1-7b97-45b7-a13a-1d902f446e53 .showable.shown{visibility:visible}#chart-221d43e1-7b97-45b7-a13a-1d902f446e53 .gauge-background{fill:rgba(229,229,229,1);stroke:none}#chart-221d43e1-7b97-45b7-a13a-1d902f446e53 .bg-lines{stroke:rgba(249,249,249,1);stroke-width:2px}</style><script type=\"text/javascript\">window.pygal = window.pygal || {};window.pygal.config = window.pygal.config || {};window.pygal.config['221d43e1-7b97-45b7-a13a-1d902f446e53'] = {\"allow_interruptions\": false, \"box_mode\": \"extremes\", \"classes\": [\"pygal-chart\"], \"css\": [\"file://style.css\", \"file://graph.css\"], \"defs\": [], \"disable_xml_declaration\": false, \"dots_size\": 2.5, \"dynamic_print_values\": false, \"explicit_size\": false, \"fill\": false, \"force_uri_protocol\": \"https\", \"formatter\": null, \"half_pie\": false, \"height\": 600, \"include_x_axis\": false, \"inner_radius\": 0, \"interpolate\": null, \"interpolation_parameters\": {}, \"interpolation_precision\": 250, \"inverse_y_axis\": false, \"js\": [\"//kozea.github.io/pygal.js/2.0.x/pygal-tooltips.min.js\"], \"legend_at_bottom\": false, \"legend_at_bottom_columns\": null, \"legend_box_size\": 12, \"logarithmic\": false, \"margin\": 20, \"margin_bottom\": null, \"margin_left\": null, \"margin_right\": null, \"margin_top\": null, \"max_scale\": 16, \"min_scale\": 4, \"missing_value_fill_truncation\": \"x\", \"no_data_text\": \"No data\", \"no_prefix\": false, \"order_min\": null, \"pretty_print\": false, \"print_labels\": false, \"print_values\": false, \"print_values_position\": \"center\", \"print_zeroes\": true, \"range\": null, \"rounded_bars\": null, \"secondary_range\": null, \"show_dots\": true, \"show_legend\": false, \"show_minor_x_labels\": true, \"show_minor_y_labels\": true, \"show_only_major_dots\": false, \"show_x_guides\": true, \"show_x_labels\": true, \"show_y_guides\": false, \"show_y_labels\": true, \"spacing\": 10, \"stack_from_top\": false, \"strict\": false, \"stroke\": true, \"stroke_style\": null, \"style\": {\"background\": \"rgba(249, 249, 249, 1)\", \"ci_colors\": [], \"colors\": [\"#F44336\", \"#3F51B5\", \"#009688\", \"#FFC107\", \"#FF5722\", \"#9C27B0\", \"#03A9F4\", \"#8BC34A\", \"#FF9800\", \"#E91E63\", \"#2196F3\", \"#4CAF50\", \"#FFEB3B\", \"#673AB7\", \"#00BCD4\", \"#CDDC39\", \"#9E9E9E\", \"#607D8B\"], \"font_family\": \"Consolas, \\\"Liberation Mono\\\", Menlo, Courier, monospace\", \"foreground\": \"rgba(0, 0, 0, .87)\", \"foreground_strong\": \"rgba(0, 0, 0, 1)\", \"foreground_subtle\": \"rgba(0, 0, 0, .54)\", \"guide_stroke_dasharray\": \"4,4\", \"label_font_family\": \"Consolas, \\\"Liberation Mono\\\", Menlo, Courier, monospace\", \"label_font_size\": 10, \"legend_font_family\": \"Consolas, \\\"Liberation Mono\\\", Menlo, Courier, monospace\", \"legend_font_size\": 14, \"major_guide_stroke_dasharray\": \"6,6\", \"major_label_font_family\": \"Consolas, \\\"Liberation Mono\\\", Menlo, Courier, monospace\", \"major_label_font_size\": 10, \"no_data_font_family\": \"Consolas, \\\"Liberation Mono\\\", Menlo, Courier, monospace\", \"no_data_font_size\": 64, \"opacity\": \".7\", \"opacity_hover\": \".8\", \"plot_background\": \"rgba(255, 255, 255, 1)\", \"stroke_opacity\": \".8\", \"stroke_opacity_hover\": \".9\", \"title_font_family\": \"Consolas, \\\"Liberation Mono\\\", Menlo, Courier, monospace\", \"title_font_size\": 16, \"tooltip_font_family\": \"Consolas, \\\"Liberation Mono\\\", Menlo, Courier, monospace\", \"tooltip_font_size\": 14, \"transition\": \"150ms\", \"value_background\": \"rgba(229, 229, 229, 1)\", \"value_colors\": [], \"value_font_family\": \"Consolas, \\\"Liberation Mono\\\", Menlo, Courier, monospace\", \"value_font_size\": 16, \"value_label_font_family\": \"Consolas, \\\"Liberation Mono\\\", Menlo, Courier, monospace\", \"value_label_font_size\": 10}, \"title\": \"Komplexeste Methoden\", \"tooltip_border_radius\": 0, \"tooltip_fancy_mode\": true, \"truncate_label\": null, \"truncate_legend\": null, \"width\": 800, \"x_label_rotation\": 0, \"x_labels\": [\"testMoneyBagEquals()\", \"execTest(java.lang.String,boolean)\", \"testMoneyEquals()\", \"testCapacity()\", \"testMoneyBagEquals()\", \"start(java.lang.String[])\", \"equals(java.lang.Object)\", \"readPreferences()\", \"processArguments(java.lang.String[])\", \"verifySuccess(junit.framework.TestCase)\"], \"x_labels_major\": null, \"x_labels_major_count\": null, \"x_labels_major_every\": null, \"x_title\": \"zyklomatische Komplexit\\u00e4t\", \"xrange\": null, \"y_label_rotation\": 0, \"y_labels\": null, \"y_labels_major\": null, \"y_labels_major_count\": null, \"y_labels_major_every\": null, \"y_title\": \"Methode\", \"zero\": 0, \"legends\": [\"Programm 1\"]}</script><script type=\"text/javascript\" xlink:href=\"https://kozea.github.io/pygal.js/2.0.x/pygal-tooltips.min.js\"/></defs><title>Komplexeste Methoden</title><g class=\"graph horizontalbar-graph horizontal\"><rect class=\"background\" height=\"600\" width=\"800\" x=\"0\" y=\"0\"/><g class=\"plot\" transform=\"translate(290, 46)\"><rect class=\"background\" height=\"488\" width=\"490.0\" x=\"0\" y=\"0\"/><g class=\"axis y\"><g class=\"guides\"><text class=\"\" x=\"-5\" y=\"458.65384615384613\">testMoneyBagEquals()</text><title>0.05</title></g><g class=\"guides\"><text class=\"\" x=\"-5\" y=\"411.7307692307692\">execTest(java.lang.String,boolean)</text><title>0.15</title></g><g class=\"guides\"><text class=\"\" x=\"-5\" y=\"364.80769230769226\">testMoneyEquals()</text><title>0.25</title></g><g class=\"guides\"><text class=\"\" x=\"-5\" y=\"317.88461538461536\">testCapacity()</text><title>0.35</title></g><g class=\"guides\"><text class=\"\" x=\"-5\" y=\"270.96153846153845\">testMoneyBagEquals()</text><title>0.45</title></g><g class=\"guides\"><text class=\"\" x=\"-5\" y=\"224.03846153846155\">start(java.lang.String[])</text><title>0.55</title></g><g class=\"guides\"><text class=\"\" x=\"-5\" y=\"177.11538461538458\">equals(java.lang.Object)</text><title>0.65</title></g><g class=\"guides\"><text class=\"\" x=\"-5\" y=\"130.19230769230774\">readPreferences()</text><title>0.75</title></g><g class=\"guides\"><text class=\"\" x=\"-5\" y=\"83.26923076923077\">processArguments(java.lang.String[])</text><title>0.85</title></g><g class=\"guides\"><text class=\"\" x=\"-5\" y=\"36.34615384615387\">verifySuccess(junit.framework.TestCase)</text><title>0.95</title></g></g><g class=\"axis x always_show\"><g class=\"guides\"><path class=\"axis major line\" d=\"M9.423077 0.000000 v488.000000\"/><text class=\"major\" x=\"9.423076923076922\" y=\"503.0\">0</text></g><g class=\"guides\"><path class=\"guide line\" d=\"M84.209402 0.000000 v488.000000\"/><text class=\"\" x=\"84.20940170940169\" y=\"503.0\">10</text></g><g class=\"guides\"><path class=\"guide line\" d=\"M158.995726 0.000000 v488.000000\"/><text class=\"\" x=\"158.9957264957265\" y=\"503.0\">20</text></g><g class=\"guides\"><path class=\"guide line\" d=\"M233.782051 0.000000 v488.000000\"/><text class=\"\" x=\"233.78205128205127\" y=\"503.0\">30</text></g><g class=\"guides\"><path class=\"guide line\" d=\"M308.568376 0.000000 v488.000000\"/><text class=\"\" x=\"308.568376068376\" y=\"503.0\">40</text></g><g class=\"guides\"><path class=\"major guide line\" d=\"M383.354701 0.000000 v488.000000\"/><text class=\"major\" x=\"383.35470085470075\" y=\"503.0\">50</text></g><g class=\"guides\"><path class=\"guide line\" d=\"M458.141026 0.000000 v488.000000\"/><text class=\"\" x=\"458.1410256410255\" y=\"503.0\">60</text></g></g><g class=\"series serie-0 color-0\"><g class=\"bars\"><g class=\"bar\"><rect class=\"rect reactive tooltip-trigger\" height=\"36.337230769230764\" rx=\"0\" ry=\"0\" width=\"471.15384615384613\" x=\"9.423076923076906\" y=\"436.9852307692308\"/><desc class=\"value\">63</desc><desc class=\"x centered\">244.99999999999997</desc><desc class=\"y centered\">455.15384615384613</desc><desc class=\"x_label\">testMoneyBagEquals()</desc></g><g class=\"bar\"><rect class=\"rect reactive tooltip-trigger\" height=\"36.337230769230764\" rx=\"0\" ry=\"0\" width=\"269.23076923076917\" x=\"9.423076923076906\" y=\"390.0621538461538\"/><desc class=\"value\">36</desc><desc class=\"x centered\">144.0384615384615</desc><desc class=\"y centered\">408.23076923076917</desc><desc class=\"x_label\">execTest(java.lang.String,boolean)</desc></g><g class=\"bar\"><rect class=\"rect reactive tooltip-trigger\" height=\"36.337230769230764\" rx=\"0\" ry=\"0\" width=\"261.7521367521367\" x=\"9.423076923076906\" y=\"343.1390769230769\"/><desc class=\"value\">35</desc><desc class=\"x centered\">140.29914529914527</desc><desc class=\"y centered\">361.30769230769226</desc><desc class=\"x_label\">testMoneyEquals()</desc></g><g class=\"bar\"><rect class=\"rect reactive tooltip-trigger\" height=\"36.337230769230764\" rx=\"0\" ry=\"0\" width=\"261.7521367521367\" x=\"9.423076923076906\" y=\"296.216\"/><desc class=\"value\">35</desc><desc class=\"x centered\">140.29914529914527</desc><desc class=\"y centered\">314.38461538461536</desc><desc class=\"x_label\">testCapacity()</desc></g><g class=\"bar\"><rect class=\"rect reactive tooltip-trigger\" height=\"36.337230769230764\" rx=\"0\" ry=\"0\" width=\"201.9230769230769\" x=\"9.423076923076934\" y=\"249.29292307692305\"/><desc class=\"value\">27</desc><desc class=\"x centered\">110.38461538461539</desc><desc class=\"y centered\">267.4615384615384</desc><desc class=\"x_label\">testMoneyBagEquals()</desc></g><g class=\"bar\"><rect class=\"rect reactive tooltip-trigger\" height=\"36.337230769230764\" rx=\"0\" ry=\"0\" width=\"194.44444444444443\" x=\"9.423076923076934\" y=\"202.36984615384617\"/><desc class=\"value\">26</desc><desc class=\"x centered\">106.64529914529915</desc><desc class=\"y centered\">220.53846153846155</desc><desc class=\"x_label\">start(java.lang.String[])</desc></g><g class=\"bar\"><rect class=\"rect reactive tooltip-trigger\" height=\"36.337230769230764\" rx=\"0\" ry=\"0\" width=\"179.48717948717947\" x=\"9.423076923076934\" y=\"155.44676923076926\"/><desc class=\"value\">24</desc><desc class=\"x centered\">99.16666666666667</desc><desc class=\"y centered\">173.61538461538464</desc><desc class=\"x_label\">equals(java.lang.Object)</desc></g><g class=\"bar\"><rect class=\"rect reactive tooltip-trigger\" height=\"36.337230769230764\" rx=\"0\" ry=\"0\" width=\"179.48717948717947\" x=\"9.423076923076934\" y=\"108.5236923076923\"/><desc class=\"value\">24</desc><desc class=\"x centered\">99.16666666666667</desc><desc class=\"y centered\">126.69230769230768</desc><desc class=\"x_label\">readPreferences()</desc></g><g class=\"bar\"><rect class=\"rect reactive tooltip-trigger\" height=\"36.337230769230764\" rx=\"0\" ry=\"0\" width=\"164.52991452991452\" x=\"9.423076923076934\" y=\"61.60061538461539\"/><desc class=\"value\">22</desc><desc class=\"x centered\">91.6880341880342</desc><desc class=\"y centered\">79.76923076923077</desc><desc class=\"x_label\">processArguments(java.lang.String[])</desc></g><g class=\"bar\"><rect class=\"rect reactive tooltip-trigger\" height=\"36.337230769230764\" rx=\"0\" ry=\"0\" width=\"157.05128205128204\" x=\"9.423076923076934\" y=\"14.677538461538425\"/><desc class=\"value\">21</desc><desc class=\"x centered\">87.94871794871796</desc><desc class=\"y centered\">32.84615384615381</desc><desc class=\"x_label\">verifySuccess(junit.framework.TestCase)</desc></g></g></g></g><g class=\"titles\"><text class=\"title plot_title\" x=\"400.0\" y=\"26\">Komplexeste Methoden</text><text class=\"title\" x=\"535.0\" y=\"580\">zyklomatische Komplexität</text><text class=\"title\" x=\"0\" y=\"316.0\" transform=\"rotate(-90 0.000000 290.000000)\">Methode</text></g><g class=\"plot overlay\" transform=\"translate(290, 46)\"><g class=\"series serie-0 color-0\"/></g><g class=\"plot text-overlay\" transform=\"translate(290, 46)\"><g class=\"series serie-0 color-0\"/></g><g class=\"plot tooltip-overlay\" transform=\"translate(290, 46)\"><g class=\"tooltip\" style=\"opacity: 0\" transform=\"translate(0 0)\"><rect class=\"tooltip-box\" height=\"0\" rx=\"0\" ry=\"0\" width=\"0\"/><g class=\"text\"/></g></g></g></svg>\n",
       "    </figure>\n",
       "  </body>\n",
       "</html>\n"
      ],
      "text/plain": [
       "<IPython.core.display.HTML object>"
      ]
     },
     "metadata": {},
     "output_type": "display_data"
    }
   ],
   "source": [
    "import pygal \n",
    "line_chart = pygal.HorizontalBar()\n",
    "line_chart.title = 'Komplexeste Methoden'\n",
    "line_chart.x_title='zyklomatische Komplexität'\n",
    "line_chart.y_title='Methode'\n",
    "line_chart.show_legend=False\n",
    "line_chart.x_labels= y_method_complexity(dfc)\n",
    "line_chart.add('Programm 1',x_complexity(dfc))\n",
    "display(HTML(base_html.format(rendered_chart=line_chart.render(is_unicode=True))))\n"
   ]
  },
  {
   "cell_type": "code",
   "execution_count": 12,
   "metadata": {},
   "outputs": [
    {
     "data": {
      "text/html": [
       "\n",
       "<!DOCTYPE html>\n",
       "<html>\n",
       "  <head>\n",
       "  <script type=\"text/javascript\" src=\"http://kozea.github.com/pygal.js/javascripts/svg.jquery.js\"></script>\n",
       "  <script type=\"text/javascript\" src=\"https://kozea.github.io/pygal.js/2.0.x/pygal-tooltips.min.js\"\"></script>\n",
       "  </head>\n",
       "  <body>\n",
       "    <figure>\n",
       "      <?xml version='1.0' encoding='utf-8'?>\n",
       "<svg xmlns:xlink=\"http://www.w3.org/1999/xlink\" xmlns=\"http://www.w3.org/2000/svg\" id=\"chart-0d364454-c397-4e54-a5f0-d34855fdf893\" class=\"pygal-chart\" viewBox=\"0 0 800 600\"><!--Generated with pygal 2.4.0 (lxml) ©Kozea 2012-2016 on 2019-10-20--><!--http://pygal.org--><!--http://github.com/Kozea/pygal--><defs><style type=\"text/css\">#chart-0d364454-c397-4e54-a5f0-d34855fdf893{-webkit-user-select:none;-webkit-font-smoothing:antialiased;font-family:Consolas,\"Liberation Mono\",Menlo,Courier,monospace}#chart-0d364454-c397-4e54-a5f0-d34855fdf893 .title{font-family:Consolas,\"Liberation Mono\",Menlo,Courier,monospace;font-size:16px}#chart-0d364454-c397-4e54-a5f0-d34855fdf893 .legends .legend text{font-family:Consolas,\"Liberation Mono\",Menlo,Courier,monospace;font-size:14px}#chart-0d364454-c397-4e54-a5f0-d34855fdf893 .axis text{font-family:Consolas,\"Liberation Mono\",Menlo,Courier,monospace;font-size:10px}#chart-0d364454-c397-4e54-a5f0-d34855fdf893 .axis text.major{font-family:Consolas,\"Liberation Mono\",Menlo,Courier,monospace;font-size:10px}#chart-0d364454-c397-4e54-a5f0-d34855fdf893 .text-overlay text.value{font-family:Consolas,\"Liberation Mono\",Menlo,Courier,monospace;font-size:16px}#chart-0d364454-c397-4e54-a5f0-d34855fdf893 .text-overlay text.label{font-family:Consolas,\"Liberation Mono\",Menlo,Courier,monospace;font-size:10px}#chart-0d364454-c397-4e54-a5f0-d34855fdf893 .tooltip{font-family:Consolas,\"Liberation Mono\",Menlo,Courier,monospace;font-size:14px}#chart-0d364454-c397-4e54-a5f0-d34855fdf893 text.no_data{font-family:Consolas,\"Liberation Mono\",Menlo,Courier,monospace;font-size:64px}\n",
       "#chart-0d364454-c397-4e54-a5f0-d34855fdf893{background-color:rgba(249,249,249,1)}#chart-0d364454-c397-4e54-a5f0-d34855fdf893 path,#chart-0d364454-c397-4e54-a5f0-d34855fdf893 line,#chart-0d364454-c397-4e54-a5f0-d34855fdf893 rect,#chart-0d364454-c397-4e54-a5f0-d34855fdf893 circle{-webkit-transition:150ms;-moz-transition:150ms;transition:150ms}#chart-0d364454-c397-4e54-a5f0-d34855fdf893 .graph &gt; .background{fill:rgba(249,249,249,1)}#chart-0d364454-c397-4e54-a5f0-d34855fdf893 .plot &gt; .background{fill:rgba(255,255,255,1)}#chart-0d364454-c397-4e54-a5f0-d34855fdf893 .graph{fill:rgba(0,0,0,.87)}#chart-0d364454-c397-4e54-a5f0-d34855fdf893 text.no_data{fill:rgba(0,0,0,1)}#chart-0d364454-c397-4e54-a5f0-d34855fdf893 .title{fill:rgba(0,0,0,1)}#chart-0d364454-c397-4e54-a5f0-d34855fdf893 .legends .legend text{fill:rgba(0,0,0,.87)}#chart-0d364454-c397-4e54-a5f0-d34855fdf893 .legends .legend:hover text{fill:rgba(0,0,0,1)}#chart-0d364454-c397-4e54-a5f0-d34855fdf893 .axis .line{stroke:rgba(0,0,0,1)}#chart-0d364454-c397-4e54-a5f0-d34855fdf893 .axis .guide.line{stroke:rgba(0,0,0,.54)}#chart-0d364454-c397-4e54-a5f0-d34855fdf893 .axis .major.line{stroke:rgba(0,0,0,.87)}#chart-0d364454-c397-4e54-a5f0-d34855fdf893 .axis text.major{fill:rgba(0,0,0,1)}#chart-0d364454-c397-4e54-a5f0-d34855fdf893 .axis.y .guides:hover .guide.line,#chart-0d364454-c397-4e54-a5f0-d34855fdf893 .line-graph .axis.x .guides:hover .guide.line,#chart-0d364454-c397-4e54-a5f0-d34855fdf893 .stackedline-graph .axis.x .guides:hover .guide.line,#chart-0d364454-c397-4e54-a5f0-d34855fdf893 .xy-graph .axis.x .guides:hover .guide.line{stroke:rgba(0,0,0,1)}#chart-0d364454-c397-4e54-a5f0-d34855fdf893 .axis .guides:hover text{fill:rgba(0,0,0,1)}#chart-0d364454-c397-4e54-a5f0-d34855fdf893 .reactive{fill-opacity:.7;stroke-opacity:.8}#chart-0d364454-c397-4e54-a5f0-d34855fdf893 .ci{stroke:rgba(0,0,0,.87)}#chart-0d364454-c397-4e54-a5f0-d34855fdf893 .reactive.active,#chart-0d364454-c397-4e54-a5f0-d34855fdf893 .active .reactive{fill-opacity:.8;stroke-opacity:.9;stroke-width:4}#chart-0d364454-c397-4e54-a5f0-d34855fdf893 .ci .reactive.active{stroke-width:1.5}#chart-0d364454-c397-4e54-a5f0-d34855fdf893 .series text{fill:rgba(0,0,0,1)}#chart-0d364454-c397-4e54-a5f0-d34855fdf893 .tooltip rect{fill:rgba(255,255,255,1);stroke:rgba(0,0,0,1);-webkit-transition:opacity 150ms;-moz-transition:opacity 150ms;transition:opacity 150ms}#chart-0d364454-c397-4e54-a5f0-d34855fdf893 .tooltip .label{fill:rgba(0,0,0,.87)}#chart-0d364454-c397-4e54-a5f0-d34855fdf893 .tooltip .label{fill:rgba(0,0,0,.87)}#chart-0d364454-c397-4e54-a5f0-d34855fdf893 .tooltip .legend{font-size:.8em;fill:rgba(0,0,0,.54)}#chart-0d364454-c397-4e54-a5f0-d34855fdf893 .tooltip .x_label{font-size:.6em;fill:rgba(0,0,0,1)}#chart-0d364454-c397-4e54-a5f0-d34855fdf893 .tooltip .xlink{font-size:.5em;text-decoration:underline}#chart-0d364454-c397-4e54-a5f0-d34855fdf893 .tooltip .value{font-size:1.5em}#chart-0d364454-c397-4e54-a5f0-d34855fdf893 .bound{font-size:.5em}#chart-0d364454-c397-4e54-a5f0-d34855fdf893 .max-value{font-size:.75em;fill:rgba(0,0,0,.54)}#chart-0d364454-c397-4e54-a5f0-d34855fdf893 .map-element{fill:rgba(255,255,255,1);stroke:rgba(0,0,0,.54) !important}#chart-0d364454-c397-4e54-a5f0-d34855fdf893 .map-element .reactive{fill-opacity:inherit;stroke-opacity:inherit}#chart-0d364454-c397-4e54-a5f0-d34855fdf893 .color-0,#chart-0d364454-c397-4e54-a5f0-d34855fdf893 .color-0 a:visited{stroke:#F44336;fill:#F44336}#chart-0d364454-c397-4e54-a5f0-d34855fdf893 .text-overlay .color-0 text{fill:black}\n",
       "#chart-0d364454-c397-4e54-a5f0-d34855fdf893 text.no_data{text-anchor:middle}#chart-0d364454-c397-4e54-a5f0-d34855fdf893 .guide.line{fill:none}#chart-0d364454-c397-4e54-a5f0-d34855fdf893 .centered{text-anchor:middle}#chart-0d364454-c397-4e54-a5f0-d34855fdf893 .title{text-anchor:middle}#chart-0d364454-c397-4e54-a5f0-d34855fdf893 .legends .legend text{fill-opacity:1}#chart-0d364454-c397-4e54-a5f0-d34855fdf893 .axis.x text{text-anchor:middle}#chart-0d364454-c397-4e54-a5f0-d34855fdf893 .axis.x:not(.web) text[transform]{text-anchor:start}#chart-0d364454-c397-4e54-a5f0-d34855fdf893 .axis.x:not(.web) text[transform].backwards{text-anchor:end}#chart-0d364454-c397-4e54-a5f0-d34855fdf893 .axis.y text{text-anchor:end}#chart-0d364454-c397-4e54-a5f0-d34855fdf893 .axis.y text[transform].backwards{text-anchor:start}#chart-0d364454-c397-4e54-a5f0-d34855fdf893 .axis.y2 text{text-anchor:start}#chart-0d364454-c397-4e54-a5f0-d34855fdf893 .axis.y2 text[transform].backwards{text-anchor:end}#chart-0d364454-c397-4e54-a5f0-d34855fdf893 .axis .guide.line{stroke-dasharray:4,4}#chart-0d364454-c397-4e54-a5f0-d34855fdf893 .axis .major.guide.line{stroke-dasharray:6,6}#chart-0d364454-c397-4e54-a5f0-d34855fdf893 .horizontal .axis.y .guide.line,#chart-0d364454-c397-4e54-a5f0-d34855fdf893 .horizontal .axis.y2 .guide.line,#chart-0d364454-c397-4e54-a5f0-d34855fdf893 .vertical .axis.x .guide.line{opacity:0}#chart-0d364454-c397-4e54-a5f0-d34855fdf893 .horizontal .axis.always_show .guide.line,#chart-0d364454-c397-4e54-a5f0-d34855fdf893 .vertical .axis.always_show .guide.line{opacity:1 !important}#chart-0d364454-c397-4e54-a5f0-d34855fdf893 .axis.y .guides:hover .guide.line,#chart-0d364454-c397-4e54-a5f0-d34855fdf893 .axis.y2 .guides:hover .guide.line,#chart-0d364454-c397-4e54-a5f0-d34855fdf893 .axis.x .guides:hover .guide.line{opacity:1}#chart-0d364454-c397-4e54-a5f0-d34855fdf893 .axis .guides:hover text{opacity:1}#chart-0d364454-c397-4e54-a5f0-d34855fdf893 .nofill{fill:none}#chart-0d364454-c397-4e54-a5f0-d34855fdf893 .subtle-fill{fill-opacity:.2}#chart-0d364454-c397-4e54-a5f0-d34855fdf893 .dot{stroke-width:1px;fill-opacity:1}#chart-0d364454-c397-4e54-a5f0-d34855fdf893 .dot.active{stroke-width:5px}#chart-0d364454-c397-4e54-a5f0-d34855fdf893 .dot.negative{fill:transparent}#chart-0d364454-c397-4e54-a5f0-d34855fdf893 text,#chart-0d364454-c397-4e54-a5f0-d34855fdf893 tspan{stroke:none !important}#chart-0d364454-c397-4e54-a5f0-d34855fdf893 .series text.active{opacity:1}#chart-0d364454-c397-4e54-a5f0-d34855fdf893 .tooltip rect{fill-opacity:.95;stroke-width:.5}#chart-0d364454-c397-4e54-a5f0-d34855fdf893 .tooltip text{fill-opacity:1}#chart-0d364454-c397-4e54-a5f0-d34855fdf893 .showable{visibility:hidden}#chart-0d364454-c397-4e54-a5f0-d34855fdf893 .showable.shown{visibility:visible}#chart-0d364454-c397-4e54-a5f0-d34855fdf893 .gauge-background{fill:rgba(229,229,229,1);stroke:none}#chart-0d364454-c397-4e54-a5f0-d34855fdf893 .bg-lines{stroke:rgba(249,249,249,1);stroke-width:2px}</style><script type=\"text/javascript\">window.pygal = window.pygal || {};window.pygal.config = window.pygal.config || {};window.pygal.config['0d364454-c397-4e54-a5f0-d34855fdf893'] = {\"allow_interruptions\": false, \"box_mode\": \"extremes\", \"classes\": [\"pygal-chart\"], \"css\": [\"file://style.css\", \"file://graph.css\"], \"defs\": [], \"disable_xml_declaration\": false, \"dots_size\": 2.5, \"dynamic_print_values\": false, \"explicit_size\": false, \"fill\": false, \"force_uri_protocol\": \"https\", \"formatter\": null, \"half_pie\": false, \"height\": 600, \"include_x_axis\": false, \"inner_radius\": 0, \"interpolate\": null, \"interpolation_parameters\": {}, \"interpolation_precision\": 250, \"inverse_y_axis\": false, \"js\": [\"//kozea.github.io/pygal.js/2.0.x/pygal-tooltips.min.js\"], \"legend_at_bottom\": false, \"legend_at_bottom_columns\": null, \"legend_box_size\": 12, \"logarithmic\": false, \"margin\": 20, \"margin_bottom\": null, \"margin_left\": null, \"margin_right\": null, \"margin_top\": null, \"max_scale\": 16, \"min_scale\": 4, \"missing_value_fill_truncation\": \"x\", \"no_data_text\": \"No data\", \"no_prefix\": false, \"order_min\": null, \"pretty_print\": false, \"print_labels\": false, \"print_values\": false, \"print_values_position\": \"center\", \"print_zeroes\": true, \"range\": null, \"rounded_bars\": null, \"secondary_range\": null, \"show_dots\": true, \"show_legend\": false, \"show_minor_x_labels\": true, \"show_minor_y_labels\": true, \"show_only_major_dots\": false, \"show_x_guides\": true, \"show_x_labels\": true, \"show_y_guides\": false, \"show_y_labels\": true, \"spacing\": 10, \"stack_from_top\": false, \"strict\": false, \"stroke\": true, \"stroke_style\": null, \"style\": {\"background\": \"rgba(249, 249, 249, 1)\", \"ci_colors\": [], \"colors\": [\"#F44336\", \"#3F51B5\", \"#009688\", \"#FFC107\", \"#FF5722\", \"#9C27B0\", \"#03A9F4\", \"#8BC34A\", \"#FF9800\", \"#E91E63\", \"#2196F3\", \"#4CAF50\", \"#FFEB3B\", \"#673AB7\", \"#00BCD4\", \"#CDDC39\", \"#9E9E9E\", \"#607D8B\"], \"font_family\": \"Consolas, \\\"Liberation Mono\\\", Menlo, Courier, monospace\", \"foreground\": \"rgba(0, 0, 0, .87)\", \"foreground_strong\": \"rgba(0, 0, 0, 1)\", \"foreground_subtle\": \"rgba(0, 0, 0, .54)\", \"guide_stroke_dasharray\": \"4,4\", \"label_font_family\": \"Consolas, \\\"Liberation Mono\\\", Menlo, Courier, monospace\", \"label_font_size\": 10, \"legend_font_family\": \"Consolas, \\\"Liberation Mono\\\", Menlo, Courier, monospace\", \"legend_font_size\": 14, \"major_guide_stroke_dasharray\": \"6,6\", \"major_label_font_family\": \"Consolas, \\\"Liberation Mono\\\", Menlo, Courier, monospace\", \"major_label_font_size\": 10, \"no_data_font_family\": \"Consolas, \\\"Liberation Mono\\\", Menlo, Courier, monospace\", \"no_data_font_size\": 64, \"opacity\": \".7\", \"opacity_hover\": \".8\", \"plot_background\": \"rgba(255, 255, 255, 1)\", \"stroke_opacity\": \".8\", \"stroke_opacity_hover\": \".9\", \"title_font_family\": \"Consolas, \\\"Liberation Mono\\\", Menlo, Courier, monospace\", \"title_font_size\": 16, \"tooltip_font_family\": \"Consolas, \\\"Liberation Mono\\\", Menlo, Courier, monospace\", \"tooltip_font_size\": 14, \"transition\": \"150ms\", \"value_background\": \"rgba(229, 229, 229, 1)\", \"value_colors\": [], \"value_font_family\": \"Consolas, \\\"Liberation Mono\\\", Menlo, Courier, monospace\", \"value_font_size\": 16, \"value_label_font_family\": \"Consolas, \\\"Liberation Mono\\\", Menlo, Courier, monospace\", \"value_label_font_size\": 10}, \"title\": \"Gr\\u00f6\\u00dfte Methoden\", \"tooltip_border_radius\": 0, \"tooltip_fancy_mode\": true, \"truncate_label\": null, \"truncate_legend\": null, \"width\": 800, \"x_label_rotation\": 0, \"x_labels\": [\"setUp()\", \"getTest(java.lang.String)\", \"testsWithEventMatcher()\", \"testMoneyBagEquals()\", \"testsWithEventMatcher()\", \"start(java.lang.String[])\", \"testMoneyEquals()\", \"setUp()\", \"testElementAt()\", \"setUp()\"], \"x_labels_major\": null, \"x_labels_major_count\": null, \"x_labels_major_every\": null, \"x_title\": \"Anzahl der Quelltextzeilen\", \"xrange\": null, \"y_label_rotation\": 0, \"y_labels\": null, \"y_labels_major\": null, \"y_labels_major_count\": null, \"y_labels_major_every\": null, \"y_title\": \"Methode\", \"zero\": 0, \"legends\": [\"Programm 1\"]}</script><script type=\"text/javascript\" xlink:href=\"https://kozea.github.io/pygal.js/2.0.x/pygal-tooltips.min.js\"/></defs><title>Größte Methoden</title><g class=\"graph horizontalbar-graph horizontal\"><rect class=\"background\" height=\"600\" width=\"800\" x=\"0\" y=\"0\"/><g class=\"plot\" transform=\"translate(206, 46)\"><rect class=\"background\" height=\"488\" width=\"574.0\" x=\"0\" y=\"0\"/><g class=\"axis y\"><g class=\"guides\"><text class=\"\" x=\"-5\" y=\"458.65384615384613\">setUp()</text><title>0.05</title></g><g class=\"guides\"><text class=\"\" x=\"-5\" y=\"411.7307692307692\">getTest(java.lang.String)</text><title>0.15</title></g><g class=\"guides\"><text class=\"\" x=\"-5\" y=\"364.80769230769226\">testsWithEventMatcher()</text><title>0.25</title></g><g class=\"guides\"><text class=\"\" x=\"-5\" y=\"317.88461538461536\">testMoneyBagEquals()</text><title>0.35</title></g><g class=\"guides\"><text class=\"\" x=\"-5\" y=\"270.96153846153845\">testsWithEventMatcher()</text><title>0.45</title></g><g class=\"guides\"><text class=\"\" x=\"-5\" y=\"224.03846153846155\">start(java.lang.String[])</text><title>0.55</title></g><g class=\"guides\"><text class=\"\" x=\"-5\" y=\"177.11538461538458\">testMoneyEquals()</text><title>0.65</title></g><g class=\"guides\"><text class=\"\" x=\"-5\" y=\"130.19230769230774\">setUp()</text><title>0.75</title></g><g class=\"guides\"><text class=\"\" x=\"-5\" y=\"83.26923076923077\">testElementAt()</text><title>0.85</title></g><g class=\"guides\"><text class=\"\" x=\"-5\" y=\"36.34615384615387\">setUp()</text><title>0.95</title></g></g><g class=\"axis x always_show\"><g class=\"guides\"><path class=\"axis major line\" d=\"M11.038462 0.000000 v488.000000\"/><text class=\"major\" x=\"11.038461538461538\" y=\"503.0\">0</text></g><g class=\"guides\"><path class=\"guide line\" d=\"M81.797830 0.000000 v488.000000\"/><text class=\"\" x=\"81.79783037475346\" y=\"503.0\">10</text></g><g class=\"guides\"><path class=\"guide line\" d=\"M152.557199 0.000000 v488.000000\"/><text class=\"\" x=\"152.55719921104534\" y=\"503.0\">20</text></g><g class=\"guides\"><path class=\"guide line\" d=\"M223.316568 0.000000 v488.000000\"/><text class=\"\" x=\"223.31656804733726\" y=\"503.0\">30</text></g><g class=\"guides\"><path class=\"guide line\" d=\"M294.075937 0.000000 v488.000000\"/><text class=\"\" x=\"294.0759368836292\" y=\"503.0\">40</text></g><g class=\"guides\"><path class=\"major guide line\" d=\"M364.835306 0.000000 v488.000000\"/><text class=\"major\" x=\"364.8353057199211\" y=\"503.0\">50</text></g><g class=\"guides\"><path class=\"guide line\" d=\"M435.594675 0.000000 v488.000000\"/><text class=\"\" x=\"435.594674556213\" y=\"503.0\">60</text></g><g class=\"guides\"><path class=\"guide line\" d=\"M506.354043 0.000000 v488.000000\"/><text class=\"\" x=\"506.35404339250493\" y=\"503.0\">70</text></g></g><g class=\"series serie-0 color-0\"><g class=\"bars\"><g class=\"bar\"><rect class=\"rect reactive tooltip-trigger\" height=\"36.337230769230764\" rx=\"0\" ry=\"0\" width=\"551.9230769230769\" x=\"11.038461538461547\" y=\"436.9852307692308\"/><desc class=\"value\">78</desc><desc class=\"x centered\">287.0</desc><desc class=\"y centered\">455.15384615384613</desc><desc class=\"x_label\">setUp()</desc></g><g class=\"bar\"><rect class=\"rect reactive tooltip-trigger\" height=\"36.337230769230764\" rx=\"0\" ry=\"0\" width=\"481.163708086785\" x=\"11.038461538461547\" y=\"390.0621538461538\"/><desc class=\"value\">68</desc><desc class=\"x centered\">251.62031558185404</desc><desc class=\"y centered\">408.23076923076917</desc><desc class=\"x_label\">getTest(java.lang.String)</desc></g><g class=\"bar\"><rect class=\"rect reactive tooltip-trigger\" height=\"36.337230769230764\" rx=\"0\" ry=\"0\" width=\"424.5562130177515\" x=\"11.038461538461547\" y=\"343.1390769230769\"/><desc class=\"value\">60</desc><desc class=\"x centered\">223.31656804733728</desc><desc class=\"y centered\">361.30769230769226</desc><desc class=\"x_label\">testsWithEventMatcher()</desc></g><g class=\"bar\"><rect class=\"rect reactive tooltip-trigger\" height=\"36.337230769230764\" rx=\"0\" ry=\"0\" width=\"396.2524654832347\" x=\"11.038461538461547\" y=\"296.216\"/><desc class=\"value\">56</desc><desc class=\"x centered\">209.1646942800789</desc><desc class=\"y centered\">314.38461538461536</desc><desc class=\"x_label\">testMoneyBagEquals()</desc></g><g class=\"bar\"><rect class=\"rect reactive tooltip-trigger\" height=\"36.337230769230764\" rx=\"0\" ry=\"0\" width=\"389.17652859960555\" x=\"11.038461538461547\" y=\"249.29292307692305\"/><desc class=\"value\">55</desc><desc class=\"x centered\">205.62672583826432</desc><desc class=\"y centered\">267.4615384615384</desc><desc class=\"x_label\">testsWithEventMatcher()</desc></g><g class=\"bar\"><rect class=\"rect reactive tooltip-trigger\" height=\"36.337230769230764\" rx=\"0\" ry=\"0\" width=\"353.79684418145956\" x=\"11.038461538461547\" y=\"202.36984615384617\"/><desc class=\"value\">50</desc><desc class=\"x centered\">187.93688362919133</desc><desc class=\"y centered\">220.53846153846155</desc><desc class=\"x_label\">start(java.lang.String[])</desc></g><g class=\"bar\"><rect class=\"rect reactive tooltip-trigger\" height=\"36.337230769230764\" rx=\"0\" ry=\"0\" width=\"346.72090729783037\" x=\"11.038461538461547\" y=\"155.44676923076926\"/><desc class=\"value\">49</desc><desc class=\"x centered\">184.39891518737673</desc><desc class=\"y centered\">173.61538461538464</desc><desc class=\"x_label\">testMoneyEquals()</desc></g><g class=\"bar\"><rect class=\"rect reactive tooltip-trigger\" height=\"36.337230769230764\" rx=\"0\" ry=\"0\" width=\"346.72090729783037\" x=\"11.038461538461547\" y=\"108.5236923076923\"/><desc class=\"value\">49</desc><desc class=\"x centered\">184.39891518737673</desc><desc class=\"y centered\">126.69230769230768</desc><desc class=\"x_label\">setUp()</desc></g><g class=\"bar\"><rect class=\"rect reactive tooltip-trigger\" height=\"36.337230769230764\" rx=\"0\" ry=\"0\" width=\"346.72090729783037\" x=\"11.038461538461547\" y=\"61.60061538461539\"/><desc class=\"value\">49</desc><desc class=\"x centered\">184.39891518737673</desc><desc class=\"y centered\">79.76923076923077</desc><desc class=\"x_label\">testElementAt()</desc></g><g class=\"bar\"><rect class=\"rect reactive tooltip-trigger\" height=\"36.337230769230764\" rx=\"0\" ry=\"0\" width=\"297.18934911242604\" x=\"11.038461538461547\" y=\"14.677538461538425\"/><desc class=\"value\">42</desc><desc class=\"x centered\">159.63313609467457</desc><desc class=\"y centered\">32.84615384615381</desc><desc class=\"x_label\">setUp()</desc></g></g></g></g><g class=\"titles\"><text class=\"title plot_title\" x=\"400.0\" y=\"26\">Größte Methoden</text><text class=\"title\" x=\"493.0\" y=\"580\">Anzahl der Quelltextzeilen</text><text class=\"title\" x=\"0\" y=\"316.0\" transform=\"rotate(-90 0.000000 290.000000)\">Methode</text></g><g class=\"plot overlay\" transform=\"translate(206, 46)\"><g class=\"series serie-0 color-0\"/></g><g class=\"plot text-overlay\" transform=\"translate(206, 46)\"><g class=\"series serie-0 color-0\"/></g><g class=\"plot tooltip-overlay\" transform=\"translate(206, 46)\"><g class=\"tooltip\" style=\"opacity: 0\" transform=\"translate(0 0)\"><rect class=\"tooltip-box\" height=\"0\" rx=\"0\" ry=\"0\" width=\"0\"/><g class=\"text\"/></g></g></g></svg>\n",
       "    </figure>\n",
       "  </body>\n",
       "</html>\n"
      ],
      "text/plain": [
       "<IPython.core.display.HTML object>"
      ]
     },
     "metadata": {},
     "output_type": "display_data"
    }
   ],
   "source": [
    "import pygal \n",
    "line_chart = pygal.HorizontalBar()\n",
    "line_chart.title = 'Größte Methoden'\n",
    "line_chart.x_title='Anzahl der Quelltextzeilen'\n",
    "line_chart.y_title='Methode'\n",
    "line_chart.show_legend=False\n",
    "line_chart.x_labels= y_method_loc(dfm)\n",
    "line_chart.add('Programm 1',x_loc(dfm))\n",
    "display(HTML(base_html.format(rendered_chart=line_chart.render(is_unicode=True))))"
   ]
  },
  {
   "cell_type": "code",
   "execution_count": 13,
   "metadata": {},
   "outputs": [
    {
     "data": {
      "text/html": [
       "\n",
       "<!DOCTYPE html>\n",
       "<html>\n",
       "  <head>\n",
       "  <script type=\"text/javascript\" src=\"http://kozea.github.com/pygal.js/javascripts/svg.jquery.js\"></script>\n",
       "  <script type=\"text/javascript\" src=\"https://kozea.github.io/pygal.js/2.0.x/pygal-tooltips.min.js\"\"></script>\n",
       "  </head>\n",
       "  <body>\n",
       "    <figure>\n",
       "      <?xml version='1.0' encoding='utf-8'?>\n",
       "<svg xmlns:xlink=\"http://www.w3.org/1999/xlink\" xmlns=\"http://www.w3.org/2000/svg\" id=\"chart-581d99cd-3855-4ed4-9736-4e375bbe681c\" class=\"pygal-chart\" viewBox=\"0 0 800 600\"><!--Generated with pygal 2.4.0 (lxml) ©Kozea 2012-2016 on 2019-10-20--><!--http://pygal.org--><!--http://github.com/Kozea/pygal--><defs><style type=\"text/css\">#chart-581d99cd-3855-4ed4-9736-4e375bbe681c{-webkit-user-select:none;-webkit-font-smoothing:antialiased;font-family:Consolas,\"Liberation Mono\",Menlo,Courier,monospace}#chart-581d99cd-3855-4ed4-9736-4e375bbe681c .title{font-family:Consolas,\"Liberation Mono\",Menlo,Courier,monospace;font-size:16px}#chart-581d99cd-3855-4ed4-9736-4e375bbe681c .legends .legend text{font-family:Consolas,\"Liberation Mono\",Menlo,Courier,monospace;font-size:14px}#chart-581d99cd-3855-4ed4-9736-4e375bbe681c .axis text{font-family:Consolas,\"Liberation Mono\",Menlo,Courier,monospace;font-size:10px}#chart-581d99cd-3855-4ed4-9736-4e375bbe681c .axis text.major{font-family:Consolas,\"Liberation Mono\",Menlo,Courier,monospace;font-size:10px}#chart-581d99cd-3855-4ed4-9736-4e375bbe681c .text-overlay text.value{font-family:Consolas,\"Liberation Mono\",Menlo,Courier,monospace;font-size:16px}#chart-581d99cd-3855-4ed4-9736-4e375bbe681c .text-overlay text.label{font-family:Consolas,\"Liberation Mono\",Menlo,Courier,monospace;font-size:10px}#chart-581d99cd-3855-4ed4-9736-4e375bbe681c .tooltip{font-family:Consolas,\"Liberation Mono\",Menlo,Courier,monospace;font-size:14px}#chart-581d99cd-3855-4ed4-9736-4e375bbe681c text.no_data{font-family:Consolas,\"Liberation Mono\",Menlo,Courier,monospace;font-size:64px}\n",
       "#chart-581d99cd-3855-4ed4-9736-4e375bbe681c{background-color:rgba(249,249,249,1)}#chart-581d99cd-3855-4ed4-9736-4e375bbe681c path,#chart-581d99cd-3855-4ed4-9736-4e375bbe681c line,#chart-581d99cd-3855-4ed4-9736-4e375bbe681c rect,#chart-581d99cd-3855-4ed4-9736-4e375bbe681c circle{-webkit-transition:150ms;-moz-transition:150ms;transition:150ms}#chart-581d99cd-3855-4ed4-9736-4e375bbe681c .graph &gt; .background{fill:rgba(249,249,249,1)}#chart-581d99cd-3855-4ed4-9736-4e375bbe681c .plot &gt; .background{fill:rgba(255,255,255,1)}#chart-581d99cd-3855-4ed4-9736-4e375bbe681c .graph{fill:rgba(0,0,0,.87)}#chart-581d99cd-3855-4ed4-9736-4e375bbe681c text.no_data{fill:rgba(0,0,0,1)}#chart-581d99cd-3855-4ed4-9736-4e375bbe681c .title{fill:rgba(0,0,0,1)}#chart-581d99cd-3855-4ed4-9736-4e375bbe681c .legends .legend text{fill:rgba(0,0,0,.87)}#chart-581d99cd-3855-4ed4-9736-4e375bbe681c .legends .legend:hover text{fill:rgba(0,0,0,1)}#chart-581d99cd-3855-4ed4-9736-4e375bbe681c .axis .line{stroke:rgba(0,0,0,1)}#chart-581d99cd-3855-4ed4-9736-4e375bbe681c .axis .guide.line{stroke:rgba(0,0,0,.54)}#chart-581d99cd-3855-4ed4-9736-4e375bbe681c .axis .major.line{stroke:rgba(0,0,0,.87)}#chart-581d99cd-3855-4ed4-9736-4e375bbe681c .axis text.major{fill:rgba(0,0,0,1)}#chart-581d99cd-3855-4ed4-9736-4e375bbe681c .axis.y .guides:hover .guide.line,#chart-581d99cd-3855-4ed4-9736-4e375bbe681c .line-graph .axis.x .guides:hover .guide.line,#chart-581d99cd-3855-4ed4-9736-4e375bbe681c .stackedline-graph .axis.x .guides:hover .guide.line,#chart-581d99cd-3855-4ed4-9736-4e375bbe681c .xy-graph .axis.x .guides:hover .guide.line{stroke:rgba(0,0,0,1)}#chart-581d99cd-3855-4ed4-9736-4e375bbe681c .axis .guides:hover text{fill:rgba(0,0,0,1)}#chart-581d99cd-3855-4ed4-9736-4e375bbe681c .reactive{fill-opacity:.7;stroke-opacity:.8}#chart-581d99cd-3855-4ed4-9736-4e375bbe681c .ci{stroke:rgba(0,0,0,.87)}#chart-581d99cd-3855-4ed4-9736-4e375bbe681c .reactive.active,#chart-581d99cd-3855-4ed4-9736-4e375bbe681c .active .reactive{fill-opacity:.8;stroke-opacity:.9;stroke-width:4}#chart-581d99cd-3855-4ed4-9736-4e375bbe681c .ci .reactive.active{stroke-width:1.5}#chart-581d99cd-3855-4ed4-9736-4e375bbe681c .series text{fill:rgba(0,0,0,1)}#chart-581d99cd-3855-4ed4-9736-4e375bbe681c .tooltip rect{fill:rgba(255,255,255,1);stroke:rgba(0,0,0,1);-webkit-transition:opacity 150ms;-moz-transition:opacity 150ms;transition:opacity 150ms}#chart-581d99cd-3855-4ed4-9736-4e375bbe681c .tooltip .label{fill:rgba(0,0,0,.87)}#chart-581d99cd-3855-4ed4-9736-4e375bbe681c .tooltip .label{fill:rgba(0,0,0,.87)}#chart-581d99cd-3855-4ed4-9736-4e375bbe681c .tooltip .legend{font-size:.8em;fill:rgba(0,0,0,.54)}#chart-581d99cd-3855-4ed4-9736-4e375bbe681c .tooltip .x_label{font-size:.6em;fill:rgba(0,0,0,1)}#chart-581d99cd-3855-4ed4-9736-4e375bbe681c .tooltip .xlink{font-size:.5em;text-decoration:underline}#chart-581d99cd-3855-4ed4-9736-4e375bbe681c .tooltip .value{font-size:1.5em}#chart-581d99cd-3855-4ed4-9736-4e375bbe681c .bound{font-size:.5em}#chart-581d99cd-3855-4ed4-9736-4e375bbe681c .max-value{font-size:.75em;fill:rgba(0,0,0,.54)}#chart-581d99cd-3855-4ed4-9736-4e375bbe681c .map-element{fill:rgba(255,255,255,1);stroke:rgba(0,0,0,.54) !important}#chart-581d99cd-3855-4ed4-9736-4e375bbe681c .map-element .reactive{fill-opacity:inherit;stroke-opacity:inherit}#chart-581d99cd-3855-4ed4-9736-4e375bbe681c .color-0,#chart-581d99cd-3855-4ed4-9736-4e375bbe681c .color-0 a:visited{stroke:#F44336;fill:#F44336}#chart-581d99cd-3855-4ed4-9736-4e375bbe681c .text-overlay .color-0 text{fill:black}\n",
       "#chart-581d99cd-3855-4ed4-9736-4e375bbe681c text.no_data{text-anchor:middle}#chart-581d99cd-3855-4ed4-9736-4e375bbe681c .guide.line{fill:none}#chart-581d99cd-3855-4ed4-9736-4e375bbe681c .centered{text-anchor:middle}#chart-581d99cd-3855-4ed4-9736-4e375bbe681c .title{text-anchor:middle}#chart-581d99cd-3855-4ed4-9736-4e375bbe681c .legends .legend text{fill-opacity:1}#chart-581d99cd-3855-4ed4-9736-4e375bbe681c .axis.x text{text-anchor:middle}#chart-581d99cd-3855-4ed4-9736-4e375bbe681c .axis.x:not(.web) text[transform]{text-anchor:start}#chart-581d99cd-3855-4ed4-9736-4e375bbe681c .axis.x:not(.web) text[transform].backwards{text-anchor:end}#chart-581d99cd-3855-4ed4-9736-4e375bbe681c .axis.y text{text-anchor:end}#chart-581d99cd-3855-4ed4-9736-4e375bbe681c .axis.y text[transform].backwards{text-anchor:start}#chart-581d99cd-3855-4ed4-9736-4e375bbe681c .axis.y2 text{text-anchor:start}#chart-581d99cd-3855-4ed4-9736-4e375bbe681c .axis.y2 text[transform].backwards{text-anchor:end}#chart-581d99cd-3855-4ed4-9736-4e375bbe681c .axis .guide.line{stroke-dasharray:4,4}#chart-581d99cd-3855-4ed4-9736-4e375bbe681c .axis .major.guide.line{stroke-dasharray:6,6}#chart-581d99cd-3855-4ed4-9736-4e375bbe681c .horizontal .axis.y .guide.line,#chart-581d99cd-3855-4ed4-9736-4e375bbe681c .horizontal .axis.y2 .guide.line,#chart-581d99cd-3855-4ed4-9736-4e375bbe681c .vertical .axis.x .guide.line{opacity:0}#chart-581d99cd-3855-4ed4-9736-4e375bbe681c .horizontal .axis.always_show .guide.line,#chart-581d99cd-3855-4ed4-9736-4e375bbe681c .vertical .axis.always_show .guide.line{opacity:1 !important}#chart-581d99cd-3855-4ed4-9736-4e375bbe681c .axis.y .guides:hover .guide.line,#chart-581d99cd-3855-4ed4-9736-4e375bbe681c .axis.y2 .guides:hover .guide.line,#chart-581d99cd-3855-4ed4-9736-4e375bbe681c .axis.x .guides:hover .guide.line{opacity:1}#chart-581d99cd-3855-4ed4-9736-4e375bbe681c .axis .guides:hover text{opacity:1}#chart-581d99cd-3855-4ed4-9736-4e375bbe681c .nofill{fill:none}#chart-581d99cd-3855-4ed4-9736-4e375bbe681c .subtle-fill{fill-opacity:.2}#chart-581d99cd-3855-4ed4-9736-4e375bbe681c .dot{stroke-width:1px;fill-opacity:1}#chart-581d99cd-3855-4ed4-9736-4e375bbe681c .dot.active{stroke-width:5px}#chart-581d99cd-3855-4ed4-9736-4e375bbe681c .dot.negative{fill:transparent}#chart-581d99cd-3855-4ed4-9736-4e375bbe681c text,#chart-581d99cd-3855-4ed4-9736-4e375bbe681c tspan{stroke:none !important}#chart-581d99cd-3855-4ed4-9736-4e375bbe681c .series text.active{opacity:1}#chart-581d99cd-3855-4ed4-9736-4e375bbe681c .tooltip rect{fill-opacity:.95;stroke-width:.5}#chart-581d99cd-3855-4ed4-9736-4e375bbe681c .tooltip text{fill-opacity:1}#chart-581d99cd-3855-4ed4-9736-4e375bbe681c .showable{visibility:hidden}#chart-581d99cd-3855-4ed4-9736-4e375bbe681c .showable.shown{visibility:visible}#chart-581d99cd-3855-4ed4-9736-4e375bbe681c .gauge-background{fill:rgba(229,229,229,1);stroke:none}#chart-581d99cd-3855-4ed4-9736-4e375bbe681c .bg-lines{stroke:rgba(249,249,249,1);stroke-width:2px}</style><script type=\"text/javascript\">window.pygal = window.pygal || {};window.pygal.config = window.pygal.config || {};window.pygal.config['581d99cd-3855-4ed4-9736-4e375bbe681c'] = {\"allow_interruptions\": false, \"box_mode\": \"extremes\", \"classes\": [\"pygal-chart\"], \"css\": [\"file://style.css\", \"file://graph.css\"], \"defs\": [], \"disable_xml_declaration\": false, \"dots_size\": 2.5, \"dynamic_print_values\": false, \"explicit_size\": false, \"fill\": false, \"force_uri_protocol\": \"https\", \"formatter\": null, \"half_pie\": false, \"height\": 600, \"include_x_axis\": false, \"inner_radius\": 0, \"interpolate\": null, \"interpolation_parameters\": {}, \"interpolation_precision\": 250, \"inverse_y_axis\": false, \"js\": [\"//kozea.github.io/pygal.js/2.0.x/pygal-tooltips.min.js\"], \"legend_at_bottom\": false, \"legend_at_bottom_columns\": null, \"legend_box_size\": 12, \"logarithmic\": false, \"margin\": 20, \"margin_bottom\": null, \"margin_left\": null, \"margin_right\": null, \"margin_top\": null, \"max_scale\": 16, \"min_scale\": 4, \"missing_value_fill_truncation\": \"x\", \"no_data_text\": \"No data\", \"no_prefix\": false, \"order_min\": null, \"pretty_print\": false, \"print_labels\": false, \"print_values\": false, \"print_values_position\": \"center\", \"print_zeroes\": true, \"range\": null, \"rounded_bars\": null, \"secondary_range\": null, \"show_dots\": true, \"show_legend\": false, \"show_minor_x_labels\": true, \"show_minor_y_labels\": true, \"show_only_major_dots\": false, \"show_x_guides\": true, \"show_x_labels\": true, \"show_y_guides\": false, \"show_y_labels\": true, \"spacing\": 10, \"stack_from_top\": false, \"strict\": false, \"stroke\": true, \"stroke_style\": null, \"style\": {\"background\": \"rgba(249, 249, 249, 1)\", \"ci_colors\": [], \"colors\": [\"#F44336\", \"#3F51B5\", \"#009688\", \"#FFC107\", \"#FF5722\", \"#9C27B0\", \"#03A9F4\", \"#8BC34A\", \"#FF9800\", \"#E91E63\", \"#2196F3\", \"#4CAF50\", \"#FFEB3B\", \"#673AB7\", \"#00BCD4\", \"#CDDC39\", \"#9E9E9E\", \"#607D8B\"], \"font_family\": \"Consolas, \\\"Liberation Mono\\\", Menlo, Courier, monospace\", \"foreground\": \"rgba(0, 0, 0, .87)\", \"foreground_strong\": \"rgba(0, 0, 0, 1)\", \"foreground_subtle\": \"rgba(0, 0, 0, .54)\", \"guide_stroke_dasharray\": \"4,4\", \"label_font_family\": \"Consolas, \\\"Liberation Mono\\\", Menlo, Courier, monospace\", \"label_font_size\": 10, \"legend_font_family\": \"Consolas, \\\"Liberation Mono\\\", Menlo, Courier, monospace\", \"legend_font_size\": 14, \"major_guide_stroke_dasharray\": \"6,6\", \"major_label_font_family\": \"Consolas, \\\"Liberation Mono\\\", Menlo, Courier, monospace\", \"major_label_font_size\": 10, \"no_data_font_family\": \"Consolas, \\\"Liberation Mono\\\", Menlo, Courier, monospace\", \"no_data_font_size\": 64, \"opacity\": \".7\", \"opacity_hover\": \".8\", \"plot_background\": \"rgba(255, 255, 255, 1)\", \"stroke_opacity\": \".8\", \"stroke_opacity_hover\": \".9\", \"title_font_family\": \"Consolas, \\\"Liberation Mono\\\", Menlo, Courier, monospace\", \"title_font_size\": 16, \"tooltip_font_family\": \"Consolas, \\\"Liberation Mono\\\", Menlo, Courier, monospace\", \"tooltip_font_size\": 14, \"transition\": \"150ms\", \"value_background\": \"rgba(229, 229, 229, 1)\", \"value_colors\": [], \"value_font_family\": \"Consolas, \\\"Liberation Mono\\\", Menlo, Courier, monospace\", \"value_font_size\": 16, \"value_label_font_family\": \"Consolas, \\\"Liberation Mono\\\", Menlo, Courier, monospace\", \"value_label_font_size\": 10}, \"title\": \"Gr\\u00f6\\u00dfte Methoden\", \"tooltip_border_radius\": 0, \"tooltip_fancy_mode\": true, \"truncate_label\": null, \"truncate_legend\": null, \"width\": 800, \"x_label_rotation\": 0, \"x_labels\": [\"setUp()\", \"getTest(java.lang.String)\", \"testsWithEventMatcher()\", \"testMoneyBagEquals()\", \"testsWithEventMatcher()\", \"start(java.lang.String[])\", \"testMoneyEquals()\", \"setUp()\", \"testElementAt()\", \"setUp()\"], \"x_labels_major\": null, \"x_labels_major_count\": null, \"x_labels_major_every\": null, \"x_title\": \"Anzahl der Quelltextzeilen\", \"xrange\": null, \"y_label_rotation\": 0, \"y_labels\": null, \"y_labels_major\": null, \"y_labels_major_count\": null, \"y_labels_major_every\": null, \"y_title\": \"Methode\", \"zero\": 0, \"legends\": [\"Programm 1\"]}</script><script type=\"text/javascript\" xlink:href=\"https://kozea.github.io/pygal.js/2.0.x/pygal-tooltips.min.js\"/></defs><title>Größte Methoden</title><g class=\"graph horizontalbar-graph horizontal\"><rect class=\"background\" height=\"600\" width=\"800\" x=\"0\" y=\"0\"/><g class=\"plot\" transform=\"translate(206, 46)\"><rect class=\"background\" height=\"488\" width=\"574.0\" x=\"0\" y=\"0\"/><g class=\"axis y\"><g class=\"guides\"><text class=\"\" x=\"-5\" y=\"458.65384615384613\">setUp()</text><title>0.05</title></g><g class=\"guides\"><text class=\"\" x=\"-5\" y=\"411.7307692307692\">getTest(java.lang.String)</text><title>0.15</title></g><g class=\"guides\"><text class=\"\" x=\"-5\" y=\"364.80769230769226\">testsWithEventMatcher()</text><title>0.25</title></g><g class=\"guides\"><text class=\"\" x=\"-5\" y=\"317.88461538461536\">testMoneyBagEquals()</text><title>0.35</title></g><g class=\"guides\"><text class=\"\" x=\"-5\" y=\"270.96153846153845\">testsWithEventMatcher()</text><title>0.45</title></g><g class=\"guides\"><text class=\"\" x=\"-5\" y=\"224.03846153846155\">start(java.lang.String[])</text><title>0.55</title></g><g class=\"guides\"><text class=\"\" x=\"-5\" y=\"177.11538461538458\">testMoneyEquals()</text><title>0.65</title></g><g class=\"guides\"><text class=\"\" x=\"-5\" y=\"130.19230769230774\">setUp()</text><title>0.75</title></g><g class=\"guides\"><text class=\"\" x=\"-5\" y=\"83.26923076923077\">testElementAt()</text><title>0.85</title></g><g class=\"guides\"><text class=\"\" x=\"-5\" y=\"36.34615384615387\">setUp()</text><title>0.95</title></g></g><g class=\"axis x always_show\"><g class=\"guides\"><path class=\"axis major line\" d=\"M11.038462 0.000000 v488.000000\"/><text class=\"major\" x=\"11.038461538461538\" y=\"503.0\">0</text></g><g class=\"guides\"><path class=\"guide line\" d=\"M81.797830 0.000000 v488.000000\"/><text class=\"\" x=\"81.79783037475346\" y=\"503.0\">10</text></g><g class=\"guides\"><path class=\"guide line\" d=\"M152.557199 0.000000 v488.000000\"/><text class=\"\" x=\"152.55719921104534\" y=\"503.0\">20</text></g><g class=\"guides\"><path class=\"guide line\" d=\"M223.316568 0.000000 v488.000000\"/><text class=\"\" x=\"223.31656804733726\" y=\"503.0\">30</text></g><g class=\"guides\"><path class=\"guide line\" d=\"M294.075937 0.000000 v488.000000\"/><text class=\"\" x=\"294.0759368836292\" y=\"503.0\">40</text></g><g class=\"guides\"><path class=\"major guide line\" d=\"M364.835306 0.000000 v488.000000\"/><text class=\"major\" x=\"364.8353057199211\" y=\"503.0\">50</text></g><g class=\"guides\"><path class=\"guide line\" d=\"M435.594675 0.000000 v488.000000\"/><text class=\"\" x=\"435.594674556213\" y=\"503.0\">60</text></g><g class=\"guides\"><path class=\"guide line\" d=\"M506.354043 0.000000 v488.000000\"/><text class=\"\" x=\"506.35404339250493\" y=\"503.0\">70</text></g></g><g class=\"series serie-0 color-0\"><g class=\"bars\"><g class=\"bar\"><rect class=\"rect reactive tooltip-trigger\" height=\"36.337230769230764\" rx=\"0\" ry=\"0\" width=\"551.9230769230769\" x=\"11.038461538461547\" y=\"436.9852307692308\"/><desc class=\"value\">78</desc><desc class=\"x centered\">287.0</desc><desc class=\"y centered\">455.15384615384613</desc><desc class=\"x_label\">setUp()</desc></g><g class=\"bar\"><rect class=\"rect reactive tooltip-trigger\" height=\"36.337230769230764\" rx=\"0\" ry=\"0\" width=\"481.163708086785\" x=\"11.038461538461547\" y=\"390.0621538461538\"/><desc class=\"value\">68</desc><desc class=\"x centered\">251.62031558185404</desc><desc class=\"y centered\">408.23076923076917</desc><desc class=\"x_label\">getTest(java.lang.String)</desc></g><g class=\"bar\"><rect class=\"rect reactive tooltip-trigger\" height=\"36.337230769230764\" rx=\"0\" ry=\"0\" width=\"424.5562130177515\" x=\"11.038461538461547\" y=\"343.1390769230769\"/><desc class=\"value\">60</desc><desc class=\"x centered\">223.31656804733728</desc><desc class=\"y centered\">361.30769230769226</desc><desc class=\"x_label\">testsWithEventMatcher()</desc></g><g class=\"bar\"><rect class=\"rect reactive tooltip-trigger\" height=\"36.337230769230764\" rx=\"0\" ry=\"0\" width=\"396.2524654832347\" x=\"11.038461538461547\" y=\"296.216\"/><desc class=\"value\">56</desc><desc class=\"x centered\">209.1646942800789</desc><desc class=\"y centered\">314.38461538461536</desc><desc class=\"x_label\">testMoneyBagEquals()</desc></g><g class=\"bar\"><rect class=\"rect reactive tooltip-trigger\" height=\"36.337230769230764\" rx=\"0\" ry=\"0\" width=\"389.17652859960555\" x=\"11.038461538461547\" y=\"249.29292307692305\"/><desc class=\"value\">55</desc><desc class=\"x centered\">205.62672583826432</desc><desc class=\"y centered\">267.4615384615384</desc><desc class=\"x_label\">testsWithEventMatcher()</desc></g><g class=\"bar\"><rect class=\"rect reactive tooltip-trigger\" height=\"36.337230769230764\" rx=\"0\" ry=\"0\" width=\"353.79684418145956\" x=\"11.038461538461547\" y=\"202.36984615384617\"/><desc class=\"value\">50</desc><desc class=\"x centered\">187.93688362919133</desc><desc class=\"y centered\">220.53846153846155</desc><desc class=\"x_label\">start(java.lang.String[])</desc></g><g class=\"bar\"><rect class=\"rect reactive tooltip-trigger\" height=\"36.337230769230764\" rx=\"0\" ry=\"0\" width=\"346.72090729783037\" x=\"11.038461538461547\" y=\"155.44676923076926\"/><desc class=\"value\">49</desc><desc class=\"x centered\">184.39891518737673</desc><desc class=\"y centered\">173.61538461538464</desc><desc class=\"x_label\">testMoneyEquals()</desc></g><g class=\"bar\"><rect class=\"rect reactive tooltip-trigger\" height=\"36.337230769230764\" rx=\"0\" ry=\"0\" width=\"346.72090729783037\" x=\"11.038461538461547\" y=\"108.5236923076923\"/><desc class=\"value\">49</desc><desc class=\"x centered\">184.39891518737673</desc><desc class=\"y centered\">126.69230769230768</desc><desc class=\"x_label\">setUp()</desc></g><g class=\"bar\"><rect class=\"rect reactive tooltip-trigger\" height=\"36.337230769230764\" rx=\"0\" ry=\"0\" width=\"346.72090729783037\" x=\"11.038461538461547\" y=\"61.60061538461539\"/><desc class=\"value\">49</desc><desc class=\"x centered\">184.39891518737673</desc><desc class=\"y centered\">79.76923076923077</desc><desc class=\"x_label\">testElementAt()</desc></g><g class=\"bar\"><rect class=\"rect reactive tooltip-trigger\" height=\"36.337230769230764\" rx=\"0\" ry=\"0\" width=\"297.18934911242604\" x=\"11.038461538461547\" y=\"14.677538461538425\"/><desc class=\"value\">42</desc><desc class=\"x centered\">159.63313609467457</desc><desc class=\"y centered\">32.84615384615381</desc><desc class=\"x_label\">setUp()</desc></g></g></g></g><g class=\"titles\"><text class=\"title plot_title\" x=\"400.0\" y=\"26\">Größte Methoden</text><text class=\"title\" x=\"493.0\" y=\"580\">Anzahl der Quelltextzeilen</text><text class=\"title\" x=\"0\" y=\"316.0\" transform=\"rotate(-90 0.000000 290.000000)\">Methode</text></g><g class=\"plot overlay\" transform=\"translate(206, 46)\"><g class=\"series serie-0 color-0\"/></g><g class=\"plot text-overlay\" transform=\"translate(206, 46)\"><g class=\"series serie-0 color-0\"/></g><g class=\"plot tooltip-overlay\" transform=\"translate(206, 46)\"><g class=\"tooltip\" style=\"opacity: 0\" transform=\"translate(0 0)\"><rect class=\"tooltip-box\" height=\"0\" rx=\"0\" ry=\"0\" width=\"0\"/><g class=\"text\"/></g></g></g></svg>\n",
       "    </figure>\n",
       "  </body>\n",
       "</html>\n"
      ],
      "text/plain": [
       "<IPython.core.display.HTML object>"
      ]
     },
     "metadata": {},
     "output_type": "display_data"
    }
   ],
   "source": [
    "a=df.sort_values('loc',ascending=False)\n",
    "b=a.head(10)\n",
    "def x_loc(x):\n",
    "    x=b['loc'].tolist()\n",
    "    return x\n",
    "def y_method_loc(y):\n",
    "    liste=[]\n",
    "    y=b['signature'].tolist()\n",
    "    for i in y:\n",
    "        g=i.split(' ')[-1]\n",
    "        liste.append(g)\n",
    "    return liste\n",
    "\n",
    "#Visualisierung\n",
    "import pygal \n",
    "line_chart = pygal.HorizontalBar()\n",
    "line_chart.title = 'Größte Methoden'\n",
    "line_chart.x_title='Anzahl der Quelltextzeilen'\n",
    "line_chart.y_title='Methode'\n",
    "line_chart.show_legend=False\n",
    "line_chart.x_labels= y_method_loc(b)\n",
    "line_chart.add('Programm 1',x_loc(b))\n",
    "display(HTML(base_html.format(rendered_chart=line_chart.render(is_unicode=True))))"
   ]
  },
  {
   "cell_type": "markdown",
   "metadata": {},
   "source": [
    "## Größte Methoden"
   ]
  },
  {
   "cell_type": "code",
   "execution_count": 17,
   "metadata": {},
   "outputs": [],
   "source": [
    "# Sortiere Zeilen des Dataframes aufsteigend ihrer Anzahl der Commits in neuem Dataframe.\n",
    "sorted_loc=df.sort_values('loc',ascending=False)\n",
    "#  Speichert die ersten 10 Zeilen dieses Dataframes in neuem Dataframe.\n",
    "top10_loc=sorted_loc.head(10)\n",
    "\n",
    "# Hole Werte aus Spalten aus Dataframe. Umwandlung dieser Werte in list Objekt.\n",
    "x_loc=top10_loc['loc'].tolist()\n",
    "y_method_loc=top10_loc['signature'].tolist()\n",
    "\n",
    "# Sortiert die Werte der Listen absteigend der Anzahl der Commits. \n",
    "x_loc.reverse()\n",
    "y_method_loc.reverse()\n"
   ]
  },
  {
   "cell_type": "code",
   "execution_count": 19,
   "metadata": {},
   "outputs": [
    {
     "data": {
      "text/html": [
       "\n",
       "<!DOCTYPE html>\n",
       "<html>\n",
       "  <head>\n",
       "  <script type=\"text/javascript\" src=\"http://kozea.github.com/pygal.js/javascripts/svg.jquery.js\"></script>\n",
       "  <script type=\"text/javascript\" src=\"https://kozea.github.io/pygal.js/2.0.x/pygal-tooltips.min.js\"\"></script>\n",
       "  </head>\n",
       "  <body>\n",
       "    <figure>\n",
       "      <?xml version='1.0' encoding='utf-8'?>\n",
       "<svg xmlns:xlink=\"http://www.w3.org/1999/xlink\" xmlns=\"http://www.w3.org/2000/svg\" id=\"chart-adbf3f08-bcfb-4c3e-af49-356c36eae78e\" class=\"pygal-chart\" viewBox=\"0 0 800 600\"><!--Generated with pygal 2.4.0 (lxml) ©Kozea 2012-2016 on 2019-10-20--><!--http://pygal.org--><!--http://github.com/Kozea/pygal--><defs><style type=\"text/css\">#chart-adbf3f08-bcfb-4c3e-af49-356c36eae78e{-webkit-user-select:none;-webkit-font-smoothing:antialiased;font-family:Consolas,\"Liberation Mono\",Menlo,Courier,monospace}#chart-adbf3f08-bcfb-4c3e-af49-356c36eae78e .title{font-family:Consolas,\"Liberation Mono\",Menlo,Courier,monospace;font-size:16px}#chart-adbf3f08-bcfb-4c3e-af49-356c36eae78e .legends .legend text{font-family:Consolas,\"Liberation Mono\",Menlo,Courier,monospace;font-size:14px}#chart-adbf3f08-bcfb-4c3e-af49-356c36eae78e .axis text{font-family:Consolas,\"Liberation Mono\",Menlo,Courier,monospace;font-size:10px}#chart-adbf3f08-bcfb-4c3e-af49-356c36eae78e .axis text.major{font-family:Consolas,\"Liberation Mono\",Menlo,Courier,monospace;font-size:10px}#chart-adbf3f08-bcfb-4c3e-af49-356c36eae78e .text-overlay text.value{font-family:Consolas,\"Liberation Mono\",Menlo,Courier,monospace;font-size:16px}#chart-adbf3f08-bcfb-4c3e-af49-356c36eae78e .text-overlay text.label{font-family:Consolas,\"Liberation Mono\",Menlo,Courier,monospace;font-size:10px}#chart-adbf3f08-bcfb-4c3e-af49-356c36eae78e .tooltip{font-family:Consolas,\"Liberation Mono\",Menlo,Courier,monospace;font-size:14px}#chart-adbf3f08-bcfb-4c3e-af49-356c36eae78e text.no_data{font-family:Consolas,\"Liberation Mono\",Menlo,Courier,monospace;font-size:64px}\n",
       "#chart-adbf3f08-bcfb-4c3e-af49-356c36eae78e{background-color:rgba(249,249,249,1)}#chart-adbf3f08-bcfb-4c3e-af49-356c36eae78e path,#chart-adbf3f08-bcfb-4c3e-af49-356c36eae78e line,#chart-adbf3f08-bcfb-4c3e-af49-356c36eae78e rect,#chart-adbf3f08-bcfb-4c3e-af49-356c36eae78e circle{-webkit-transition:150ms;-moz-transition:150ms;transition:150ms}#chart-adbf3f08-bcfb-4c3e-af49-356c36eae78e .graph &gt; .background{fill:rgba(249,249,249,1)}#chart-adbf3f08-bcfb-4c3e-af49-356c36eae78e .plot &gt; .background{fill:rgba(255,255,255,1)}#chart-adbf3f08-bcfb-4c3e-af49-356c36eae78e .graph{fill:rgba(0,0,0,.87)}#chart-adbf3f08-bcfb-4c3e-af49-356c36eae78e text.no_data{fill:rgba(0,0,0,1)}#chart-adbf3f08-bcfb-4c3e-af49-356c36eae78e .title{fill:rgba(0,0,0,1)}#chart-adbf3f08-bcfb-4c3e-af49-356c36eae78e .legends .legend text{fill:rgba(0,0,0,.87)}#chart-adbf3f08-bcfb-4c3e-af49-356c36eae78e .legends .legend:hover text{fill:rgba(0,0,0,1)}#chart-adbf3f08-bcfb-4c3e-af49-356c36eae78e .axis .line{stroke:rgba(0,0,0,1)}#chart-adbf3f08-bcfb-4c3e-af49-356c36eae78e .axis .guide.line{stroke:rgba(0,0,0,.54)}#chart-adbf3f08-bcfb-4c3e-af49-356c36eae78e .axis .major.line{stroke:rgba(0,0,0,.87)}#chart-adbf3f08-bcfb-4c3e-af49-356c36eae78e .axis text.major{fill:rgba(0,0,0,1)}#chart-adbf3f08-bcfb-4c3e-af49-356c36eae78e .axis.y .guides:hover .guide.line,#chart-adbf3f08-bcfb-4c3e-af49-356c36eae78e .line-graph .axis.x .guides:hover .guide.line,#chart-adbf3f08-bcfb-4c3e-af49-356c36eae78e .stackedline-graph .axis.x .guides:hover .guide.line,#chart-adbf3f08-bcfb-4c3e-af49-356c36eae78e .xy-graph .axis.x .guides:hover .guide.line{stroke:rgba(0,0,0,1)}#chart-adbf3f08-bcfb-4c3e-af49-356c36eae78e .axis .guides:hover text{fill:rgba(0,0,0,1)}#chart-adbf3f08-bcfb-4c3e-af49-356c36eae78e .reactive{fill-opacity:.7;stroke-opacity:.8}#chart-adbf3f08-bcfb-4c3e-af49-356c36eae78e .ci{stroke:rgba(0,0,0,.87)}#chart-adbf3f08-bcfb-4c3e-af49-356c36eae78e .reactive.active,#chart-adbf3f08-bcfb-4c3e-af49-356c36eae78e .active .reactive{fill-opacity:.8;stroke-opacity:.9;stroke-width:4}#chart-adbf3f08-bcfb-4c3e-af49-356c36eae78e .ci .reactive.active{stroke-width:1.5}#chart-adbf3f08-bcfb-4c3e-af49-356c36eae78e .series text{fill:rgba(0,0,0,1)}#chart-adbf3f08-bcfb-4c3e-af49-356c36eae78e .tooltip rect{fill:rgba(255,255,255,1);stroke:rgba(0,0,0,1);-webkit-transition:opacity 150ms;-moz-transition:opacity 150ms;transition:opacity 150ms}#chart-adbf3f08-bcfb-4c3e-af49-356c36eae78e .tooltip .label{fill:rgba(0,0,0,.87)}#chart-adbf3f08-bcfb-4c3e-af49-356c36eae78e .tooltip .label{fill:rgba(0,0,0,.87)}#chart-adbf3f08-bcfb-4c3e-af49-356c36eae78e .tooltip .legend{font-size:.8em;fill:rgba(0,0,0,.54)}#chart-adbf3f08-bcfb-4c3e-af49-356c36eae78e .tooltip .x_label{font-size:.6em;fill:rgba(0,0,0,1)}#chart-adbf3f08-bcfb-4c3e-af49-356c36eae78e .tooltip .xlink{font-size:.5em;text-decoration:underline}#chart-adbf3f08-bcfb-4c3e-af49-356c36eae78e .tooltip .value{font-size:1.5em}#chart-adbf3f08-bcfb-4c3e-af49-356c36eae78e .bound{font-size:.5em}#chart-adbf3f08-bcfb-4c3e-af49-356c36eae78e .max-value{font-size:.75em;fill:rgba(0,0,0,.54)}#chart-adbf3f08-bcfb-4c3e-af49-356c36eae78e .map-element{fill:rgba(255,255,255,1);stroke:rgba(0,0,0,.54) !important}#chart-adbf3f08-bcfb-4c3e-af49-356c36eae78e .map-element .reactive{fill-opacity:inherit;stroke-opacity:inherit}#chart-adbf3f08-bcfb-4c3e-af49-356c36eae78e .color-0,#chart-adbf3f08-bcfb-4c3e-af49-356c36eae78e .color-0 a:visited{stroke:#F44336;fill:#F44336}#chart-adbf3f08-bcfb-4c3e-af49-356c36eae78e .text-overlay .color-0 text{fill:black}\n",
       "#chart-adbf3f08-bcfb-4c3e-af49-356c36eae78e text.no_data{text-anchor:middle}#chart-adbf3f08-bcfb-4c3e-af49-356c36eae78e .guide.line{fill:none}#chart-adbf3f08-bcfb-4c3e-af49-356c36eae78e .centered{text-anchor:middle}#chart-adbf3f08-bcfb-4c3e-af49-356c36eae78e .title{text-anchor:middle}#chart-adbf3f08-bcfb-4c3e-af49-356c36eae78e .legends .legend text{fill-opacity:1}#chart-adbf3f08-bcfb-4c3e-af49-356c36eae78e .axis.x text{text-anchor:middle}#chart-adbf3f08-bcfb-4c3e-af49-356c36eae78e .axis.x:not(.web) text[transform]{text-anchor:start}#chart-adbf3f08-bcfb-4c3e-af49-356c36eae78e .axis.x:not(.web) text[transform].backwards{text-anchor:end}#chart-adbf3f08-bcfb-4c3e-af49-356c36eae78e .axis.y text{text-anchor:end}#chart-adbf3f08-bcfb-4c3e-af49-356c36eae78e .axis.y text[transform].backwards{text-anchor:start}#chart-adbf3f08-bcfb-4c3e-af49-356c36eae78e .axis.y2 text{text-anchor:start}#chart-adbf3f08-bcfb-4c3e-af49-356c36eae78e .axis.y2 text[transform].backwards{text-anchor:end}#chart-adbf3f08-bcfb-4c3e-af49-356c36eae78e .axis .guide.line{stroke-dasharray:4,4}#chart-adbf3f08-bcfb-4c3e-af49-356c36eae78e .axis .major.guide.line{stroke-dasharray:6,6}#chart-adbf3f08-bcfb-4c3e-af49-356c36eae78e .horizontal .axis.y .guide.line,#chart-adbf3f08-bcfb-4c3e-af49-356c36eae78e .horizontal .axis.y2 .guide.line,#chart-adbf3f08-bcfb-4c3e-af49-356c36eae78e .vertical .axis.x .guide.line{opacity:0}#chart-adbf3f08-bcfb-4c3e-af49-356c36eae78e .horizontal .axis.always_show .guide.line,#chart-adbf3f08-bcfb-4c3e-af49-356c36eae78e .vertical .axis.always_show .guide.line{opacity:1 !important}#chart-adbf3f08-bcfb-4c3e-af49-356c36eae78e .axis.y .guides:hover .guide.line,#chart-adbf3f08-bcfb-4c3e-af49-356c36eae78e .axis.y2 .guides:hover .guide.line,#chart-adbf3f08-bcfb-4c3e-af49-356c36eae78e .axis.x .guides:hover .guide.line{opacity:1}#chart-adbf3f08-bcfb-4c3e-af49-356c36eae78e .axis .guides:hover text{opacity:1}#chart-adbf3f08-bcfb-4c3e-af49-356c36eae78e .nofill{fill:none}#chart-adbf3f08-bcfb-4c3e-af49-356c36eae78e .subtle-fill{fill-opacity:.2}#chart-adbf3f08-bcfb-4c3e-af49-356c36eae78e .dot{stroke-width:1px;fill-opacity:1}#chart-adbf3f08-bcfb-4c3e-af49-356c36eae78e .dot.active{stroke-width:5px}#chart-adbf3f08-bcfb-4c3e-af49-356c36eae78e .dot.negative{fill:transparent}#chart-adbf3f08-bcfb-4c3e-af49-356c36eae78e text,#chart-adbf3f08-bcfb-4c3e-af49-356c36eae78e tspan{stroke:none !important}#chart-adbf3f08-bcfb-4c3e-af49-356c36eae78e .series text.active{opacity:1}#chart-adbf3f08-bcfb-4c3e-af49-356c36eae78e .tooltip rect{fill-opacity:.95;stroke-width:.5}#chart-adbf3f08-bcfb-4c3e-af49-356c36eae78e .tooltip text{fill-opacity:1}#chart-adbf3f08-bcfb-4c3e-af49-356c36eae78e .showable{visibility:hidden}#chart-adbf3f08-bcfb-4c3e-af49-356c36eae78e .showable.shown{visibility:visible}#chart-adbf3f08-bcfb-4c3e-af49-356c36eae78e .gauge-background{fill:rgba(229,229,229,1);stroke:none}#chart-adbf3f08-bcfb-4c3e-af49-356c36eae78e .bg-lines{stroke:rgba(249,249,249,1);stroke-width:2px}</style><script type=\"text/javascript\">window.pygal = window.pygal || {};window.pygal.config = window.pygal.config || {};window.pygal.config['adbf3f08-bcfb-4c3e-af49-356c36eae78e'] = {\"allow_interruptions\": false, \"box_mode\": \"extremes\", \"classes\": [\"pygal-chart\"], \"css\": [\"file://style.css\", \"file://graph.css\"], \"defs\": [], \"disable_xml_declaration\": false, \"dots_size\": 2.5, \"dynamic_print_values\": false, \"explicit_size\": false, \"fill\": false, \"force_uri_protocol\": \"https\", \"formatter\": null, \"half_pie\": false, \"height\": 600, \"include_x_axis\": false, \"inner_radius\": 0, \"interpolate\": null, \"interpolation_parameters\": {}, \"interpolation_precision\": 250, \"inverse_y_axis\": false, \"js\": [\"//kozea.github.io/pygal.js/2.0.x/pygal-tooltips.min.js\"], \"legend_at_bottom\": false, \"legend_at_bottom_columns\": null, \"legend_box_size\": 12, \"logarithmic\": false, \"margin\": 20, \"margin_bottom\": null, \"margin_left\": null, \"margin_right\": null, \"margin_top\": null, \"max_scale\": 16, \"min_scale\": 4, \"missing_value_fill_truncation\": \"x\", \"no_data_text\": \"No data\", \"no_prefix\": false, \"order_min\": null, \"pretty_print\": false, \"print_labels\": false, \"print_values\": false, \"print_values_position\": \"center\", \"print_zeroes\": true, \"range\": null, \"rounded_bars\": null, \"secondary_range\": null, \"show_dots\": true, \"show_legend\": false, \"show_minor_x_labels\": true, \"show_minor_y_labels\": true, \"show_only_major_dots\": false, \"show_x_guides\": true, \"show_x_labels\": true, \"show_y_guides\": false, \"show_y_labels\": true, \"spacing\": 10, \"stack_from_top\": false, \"strict\": false, \"stroke\": true, \"stroke_style\": null, \"style\": {\"background\": \"rgba(249, 249, 249, 1)\", \"ci_colors\": [], \"colors\": [\"#F44336\", \"#3F51B5\", \"#009688\", \"#FFC107\", \"#FF5722\", \"#9C27B0\", \"#03A9F4\", \"#8BC34A\", \"#FF9800\", \"#E91E63\", \"#2196F3\", \"#4CAF50\", \"#FFEB3B\", \"#673AB7\", \"#00BCD4\", \"#CDDC39\", \"#9E9E9E\", \"#607D8B\"], \"font_family\": \"Consolas, \\\"Liberation Mono\\\", Menlo, Courier, monospace\", \"foreground\": \"rgba(0, 0, 0, .87)\", \"foreground_strong\": \"rgba(0, 0, 0, 1)\", \"foreground_subtle\": \"rgba(0, 0, 0, .54)\", \"guide_stroke_dasharray\": \"4,4\", \"label_font_family\": \"Consolas, \\\"Liberation Mono\\\", Menlo, Courier, monospace\", \"label_font_size\": 10, \"legend_font_family\": \"Consolas, \\\"Liberation Mono\\\", Menlo, Courier, monospace\", \"legend_font_size\": 14, \"major_guide_stroke_dasharray\": \"6,6\", \"major_label_font_family\": \"Consolas, \\\"Liberation Mono\\\", Menlo, Courier, monospace\", \"major_label_font_size\": 10, \"no_data_font_family\": \"Consolas, \\\"Liberation Mono\\\", Menlo, Courier, monospace\", \"no_data_font_size\": 64, \"opacity\": \".7\", \"opacity_hover\": \".8\", \"plot_background\": \"rgba(255, 255, 255, 1)\", \"stroke_opacity\": \".8\", \"stroke_opacity_hover\": \".9\", \"title_font_family\": \"Consolas, \\\"Liberation Mono\\\", Menlo, Courier, monospace\", \"title_font_size\": 16, \"tooltip_font_family\": \"Consolas, \\\"Liberation Mono\\\", Menlo, Courier, monospace\", \"tooltip_font_size\": 14, \"transition\": \"150ms\", \"value_background\": \"rgba(229, 229, 229, 1)\", \"value_colors\": [], \"value_font_family\": \"Consolas, \\\"Liberation Mono\\\", Menlo, Courier, monospace\", \"value_font_size\": 16, \"value_label_font_family\": \"Consolas, \\\"Liberation Mono\\\", Menlo, Courier, monospace\", \"value_label_font_size\": 10}, \"title\": \"Gr\\u00f6\\u00dfte Methoden\", \"tooltip_border_radius\": 0, \"tooltip_fancy_mode\": true, \"truncate_label\": null, \"truncate_legend\": null, \"width\": 800, \"x_label_rotation\": 0, \"x_labels\": [\"void setUp()\", \"void testElementAt()\", \"void setUp()\", \"void testMoneyEquals()\", \"junit.framework.TestResult start(java.lang.String[])\", \"java.util.Collection testsWithEventMatcher()\", \"void testMoneyBagEquals()\", \"java.lang.Object[][] testsWithEventMatcher()\", \"junit.framework.Test getTest(java.lang.String)\", \"void setUp()\"], \"x_labels_major\": null, \"x_labels_major_count\": null, \"x_labels_major_every\": null, \"x_title\": \"Anzahl der Quelltextzeilen\", \"xrange\": null, \"y_label_rotation\": 0, \"y_labels\": null, \"y_labels_major\": null, \"y_labels_major_count\": null, \"y_labels_major_every\": null, \"y_title\": \"Methode\", \"zero\": 0, \"legends\": [\"Programm 1\"]}</script><script type=\"text/javascript\" xlink:href=\"https://kozea.github.io/pygal.js/2.0.x/pygal-tooltips.min.js\"/></defs><title>Größte Methoden</title><g class=\"graph horizontalbar-graph horizontal\"><rect class=\"background\" height=\"600\" width=\"800\" x=\"0\" y=\"0\"/><g class=\"plot\" transform=\"translate(368, 46)\"><rect class=\"background\" height=\"488\" width=\"412.0\" x=\"0\" y=\"0\"/><g class=\"axis y\"><g class=\"guides\"><text class=\"\" x=\"-5\" y=\"458.65384615384613\">void setUp()</text><title>0.05</title></g><g class=\"guides\"><text class=\"\" x=\"-5\" y=\"411.7307692307692\">void testElementAt()</text><title>0.15</title></g><g class=\"guides\"><text class=\"\" x=\"-5\" y=\"364.80769230769226\">void setUp()</text><title>0.25</title></g><g class=\"guides\"><text class=\"\" x=\"-5\" y=\"317.88461538461536\">void testMoneyEquals()</text><title>0.35</title></g><g class=\"guides\"><text class=\"\" x=\"-5\" y=\"270.96153846153845\">junit.framework.TestResult start(java.lang.String[])</text><title>0.45</title></g><g class=\"guides\"><text class=\"\" x=\"-5\" y=\"224.03846153846155\">java.util.Collection testsWithEventMatcher()</text><title>0.55</title></g><g class=\"guides\"><text class=\"\" x=\"-5\" y=\"177.11538461538458\">void testMoneyBagEquals()</text><title>0.65</title></g><g class=\"guides\"><text class=\"\" x=\"-5\" y=\"130.19230769230774\">java.lang.Object[][] testsWithEventMatcher()</text><title>0.75</title></g><g class=\"guides\"><text class=\"\" x=\"-5\" y=\"83.26923076923077\">junit.framework.Test getTest(java.lang.String)</text><title>0.85</title></g><g class=\"guides\"><text class=\"\" x=\"-5\" y=\"36.34615384615387\">void setUp()</text><title>0.95</title></g></g><g class=\"axis x always_show\"><g class=\"guides\"><path class=\"axis major line\" d=\"M7.923077 0.000000 v488.000000\"/><text class=\"major\" x=\"7.923076923076923\" y=\"503.0\">0</text></g><g class=\"guides\"><path class=\"guide line\" d=\"M58.712032 0.000000 v488.000000\"/><text class=\"\" x=\"58.7120315581854\" y=\"503.0\">10</text></g><g class=\"guides\"><path class=\"guide line\" d=\"M109.500986 0.000000 v488.000000\"/><text class=\"\" x=\"109.50098619329387\" y=\"503.0\">20</text></g><g class=\"guides\"><path class=\"guide line\" d=\"M160.289941 0.000000 v488.000000\"/><text class=\"\" x=\"160.28994082840234\" y=\"503.0\">30</text></g><g class=\"guides\"><path class=\"guide line\" d=\"M211.078895 0.000000 v488.000000\"/><text class=\"\" x=\"211.07889546351086\" y=\"503.0\">40</text></g><g class=\"guides\"><path class=\"major guide line\" d=\"M261.867850 0.000000 v488.000000\"/><text class=\"major\" x=\"261.86785009861933\" y=\"503.0\">50</text></g><g class=\"guides\"><path class=\"guide line\" d=\"M312.656805 0.000000 v488.000000\"/><text class=\"\" x=\"312.6568047337278\" y=\"503.0\">60</text></g><g class=\"guides\"><path class=\"guide line\" d=\"M363.445759 0.000000 v488.000000\"/><text class=\"\" x=\"363.44575936883626\" y=\"503.0\">70</text></g></g><g class=\"series serie-0 color-0\"><g class=\"bars\"><g class=\"bar\"><rect class=\"rect reactive tooltip-trigger\" height=\"36.337230769230764\" rx=\"0\" ry=\"0\" width=\"213.31360946745562\" x=\"7.923076923076934\" y=\"436.9852307692308\"/><desc class=\"value\">42</desc><desc class=\"x centered\">114.57988165680474</desc><desc class=\"y centered\">455.15384615384613</desc><desc class=\"x_label\">void setUp()</desc></g><g class=\"bar\"><rect class=\"rect reactive tooltip-trigger\" height=\"36.337230769230764\" rx=\"0\" ry=\"0\" width=\"248.86587771203156\" x=\"7.923076923076934\" y=\"390.0621538461538\"/><desc class=\"value\">49</desc><desc class=\"x centered\">132.35601577909273</desc><desc class=\"y centered\">408.23076923076917</desc><desc class=\"x_label\">void testElementAt()</desc></g><g class=\"bar\"><rect class=\"rect reactive tooltip-trigger\" height=\"36.337230769230764\" rx=\"0\" ry=\"0\" width=\"248.86587771203156\" x=\"7.923076923076934\" y=\"343.1390769230769\"/><desc class=\"value\">49</desc><desc class=\"x centered\">132.35601577909273</desc><desc class=\"y centered\">361.30769230769226</desc><desc class=\"x_label\">void setUp()</desc></g><g class=\"bar\"><rect class=\"rect reactive tooltip-trigger\" height=\"36.337230769230764\" rx=\"0\" ry=\"0\" width=\"248.86587771203156\" x=\"7.923076923076934\" y=\"296.216\"/><desc class=\"value\">49</desc><desc class=\"x centered\">132.35601577909273</desc><desc class=\"y centered\">314.38461538461536</desc><desc class=\"x_label\">void testMoneyEquals()</desc></g><g class=\"bar\"><rect class=\"rect reactive tooltip-trigger\" height=\"36.337230769230764\" rx=\"0\" ry=\"0\" width=\"253.9447731755424\" x=\"7.923076923076934\" y=\"249.29292307692305\"/><desc class=\"value\">50</desc><desc class=\"x centered\">134.89546351084812</desc><desc class=\"y centered\">267.4615384615384</desc><desc class=\"x_label\">junit.framework.TestResult start(java.lang.String[])</desc></g><g class=\"bar\"><rect class=\"rect reactive tooltip-trigger\" height=\"36.337230769230764\" rx=\"0\" ry=\"0\" width=\"279.33925049309664\" x=\"7.923076923076906\" y=\"202.36984615384617\"/><desc class=\"value\">55</desc><desc class=\"x centered\">147.59270216962523</desc><desc class=\"y centered\">220.53846153846155</desc><desc class=\"x_label\">java.util.Collection testsWithEventMatcher()</desc></g><g class=\"bar\"><rect class=\"rect reactive tooltip-trigger\" height=\"36.337230769230764\" rx=\"0\" ry=\"0\" width=\"284.41814595660753\" x=\"7.923076923076906\" y=\"155.44676923076926\"/><desc class=\"value\">56</desc><desc class=\"x centered\">150.13214990138067</desc><desc class=\"y centered\">173.61538461538464</desc><desc class=\"x_label\">void testMoneyBagEquals()</desc></g><g class=\"bar\"><rect class=\"rect reactive tooltip-trigger\" height=\"36.337230769230764\" rx=\"0\" ry=\"0\" width=\"304.7337278106509\" x=\"7.923076923076906\" y=\"108.5236923076923\"/><desc class=\"value\">60</desc><desc class=\"x centered\">160.28994082840237</desc><desc class=\"y centered\">126.69230769230768</desc><desc class=\"x_label\">java.lang.Object[][] testsWithEventMatcher()</desc></g><g class=\"bar\"><rect class=\"rect reactive tooltip-trigger\" height=\"36.337230769230764\" rx=\"0\" ry=\"0\" width=\"345.3648915187377\" x=\"7.923076923076906\" y=\"61.60061538461539\"/><desc class=\"value\">68</desc><desc class=\"x centered\">180.60552268244575</desc><desc class=\"y centered\">79.76923076923077</desc><desc class=\"x_label\">junit.framework.Test getTest(java.lang.String)</desc></g><g class=\"bar\"><rect class=\"rect reactive tooltip-trigger\" height=\"36.337230769230764\" rx=\"0\" ry=\"0\" width=\"396.1538461538462\" x=\"7.923076923076906\" y=\"14.677538461538425\"/><desc class=\"value\">78</desc><desc class=\"x centered\">206.0</desc><desc class=\"y centered\">32.84615384615381</desc><desc class=\"x_label\">void setUp()</desc></g></g></g></g><g class=\"titles\"><text class=\"title plot_title\" x=\"400.0\" y=\"26\">Größte Methoden</text><text class=\"title\" x=\"574.0\" y=\"580\">Anzahl der Quelltextzeilen</text><text class=\"title\" x=\"0\" y=\"316.0\" transform=\"rotate(-90 0.000000 290.000000)\">Methode</text></g><g class=\"plot overlay\" transform=\"translate(368, 46)\"><g class=\"series serie-0 color-0\"/></g><g class=\"plot text-overlay\" transform=\"translate(368, 46)\"><g class=\"series serie-0 color-0\"/></g><g class=\"plot tooltip-overlay\" transform=\"translate(368, 46)\"><g class=\"tooltip\" style=\"opacity: 0\" transform=\"translate(0 0)\"><rect class=\"tooltip-box\" height=\"0\" rx=\"0\" ry=\"0\" width=\"0\"/><g class=\"text\"/></g></g></g></svg>\n",
       "    </figure>\n",
       "  </body>\n",
       "</html>\n"
      ],
      "text/plain": [
       "<IPython.core.display.HTML object>"
      ]
     },
     "metadata": {},
     "output_type": "display_data"
    }
   ],
   "source": [
    "import pygal \n",
    "bar_chart = pygal.HorizontalBar()\n",
    "bar_chart.title = 'Größte Methoden'\n",
    "bar_chart.x_title='Anzahl der Quelltextzeilen'\n",
    "bar_chart.y_title='Methode'\n",
    "bar_chart.show_legend=False\n",
    "bar_chart.x_labels= y_method_loc\n",
    "bar_chart.add('Programm 1',x_loc)\n",
    "display(HTML(base_html.format(rendered_chart=bar_chart.render(is_unicode=True))))"
   ]
  },
  {
   "cell_type": "markdown",
   "metadata": {},
   "source": [
    "## Komplexeste Methoden"
   ]
  },
  {
   "cell_type": "code",
   "execution_count": 20,
   "metadata": {},
   "outputs": [],
   "source": [
    "# Sortiere Zeilen des Dataframes aufsteigend ihrer Anzahl der Commits in neuem Dataframe.\n",
    "sorted_complexity=df.sort_values('loc',ascending=False)\n",
    "#  Speichert die ersten 10 Zeilen dieses Dataframes in neuem Dataframe.\n",
    "top10_complexity=sorted_complexity.head(10)\n",
    "\n",
    "# Hole Werte aus Spalten aus Dataframe. Umwandlung dieser Werte in list Objekt.\n",
    "x_complexity=top10_complexity['loc'].tolist()\n",
    "y_method_complexity=top10_complexity['signature'].tolist()\n",
    "\n",
    "# Sortiert die Werte der Listen absteigend der Anzahl der Commits. \n",
    "x_complexity.reverse()\n",
    "y_method_complexity.reverse()\n"
   ]
  },
  {
   "cell_type": "code",
   "execution_count": 21,
   "metadata": {},
   "outputs": [
    {
     "data": {
      "text/html": [
       "\n",
       "<!DOCTYPE html>\n",
       "<html>\n",
       "  <head>\n",
       "  <script type=\"text/javascript\" src=\"http://kozea.github.com/pygal.js/javascripts/svg.jquery.js\"></script>\n",
       "  <script type=\"text/javascript\" src=\"https://kozea.github.io/pygal.js/2.0.x/pygal-tooltips.min.js\"\"></script>\n",
       "  </head>\n",
       "  <body>\n",
       "    <figure>\n",
       "      <?xml version='1.0' encoding='utf-8'?>\n",
       "<svg xmlns:xlink=\"http://www.w3.org/1999/xlink\" xmlns=\"http://www.w3.org/2000/svg\" id=\"chart-04108eb6-7caa-4d4c-8719-f933ba2f305d\" class=\"pygal-chart\" viewBox=\"0 0 800 600\"><!--Generated with pygal 2.4.0 (lxml) ©Kozea 2012-2016 on 2019-10-20--><!--http://pygal.org--><!--http://github.com/Kozea/pygal--><defs><style type=\"text/css\">#chart-04108eb6-7caa-4d4c-8719-f933ba2f305d{-webkit-user-select:none;-webkit-font-smoothing:antialiased;font-family:Consolas,\"Liberation Mono\",Menlo,Courier,monospace}#chart-04108eb6-7caa-4d4c-8719-f933ba2f305d .title{font-family:Consolas,\"Liberation Mono\",Menlo,Courier,monospace;font-size:16px}#chart-04108eb6-7caa-4d4c-8719-f933ba2f305d .legends .legend text{font-family:Consolas,\"Liberation Mono\",Menlo,Courier,monospace;font-size:14px}#chart-04108eb6-7caa-4d4c-8719-f933ba2f305d .axis text{font-family:Consolas,\"Liberation Mono\",Menlo,Courier,monospace;font-size:10px}#chart-04108eb6-7caa-4d4c-8719-f933ba2f305d .axis text.major{font-family:Consolas,\"Liberation Mono\",Menlo,Courier,monospace;font-size:10px}#chart-04108eb6-7caa-4d4c-8719-f933ba2f305d .text-overlay text.value{font-family:Consolas,\"Liberation Mono\",Menlo,Courier,monospace;font-size:16px}#chart-04108eb6-7caa-4d4c-8719-f933ba2f305d .text-overlay text.label{font-family:Consolas,\"Liberation Mono\",Menlo,Courier,monospace;font-size:10px}#chart-04108eb6-7caa-4d4c-8719-f933ba2f305d .tooltip{font-family:Consolas,\"Liberation Mono\",Menlo,Courier,monospace;font-size:14px}#chart-04108eb6-7caa-4d4c-8719-f933ba2f305d text.no_data{font-family:Consolas,\"Liberation Mono\",Menlo,Courier,monospace;font-size:64px}\n",
       "#chart-04108eb6-7caa-4d4c-8719-f933ba2f305d{background-color:rgba(249,249,249,1)}#chart-04108eb6-7caa-4d4c-8719-f933ba2f305d path,#chart-04108eb6-7caa-4d4c-8719-f933ba2f305d line,#chart-04108eb6-7caa-4d4c-8719-f933ba2f305d rect,#chart-04108eb6-7caa-4d4c-8719-f933ba2f305d circle{-webkit-transition:150ms;-moz-transition:150ms;transition:150ms}#chart-04108eb6-7caa-4d4c-8719-f933ba2f305d .graph &gt; .background{fill:rgba(249,249,249,1)}#chart-04108eb6-7caa-4d4c-8719-f933ba2f305d .plot &gt; .background{fill:rgba(255,255,255,1)}#chart-04108eb6-7caa-4d4c-8719-f933ba2f305d .graph{fill:rgba(0,0,0,.87)}#chart-04108eb6-7caa-4d4c-8719-f933ba2f305d text.no_data{fill:rgba(0,0,0,1)}#chart-04108eb6-7caa-4d4c-8719-f933ba2f305d .title{fill:rgba(0,0,0,1)}#chart-04108eb6-7caa-4d4c-8719-f933ba2f305d .legends .legend text{fill:rgba(0,0,0,.87)}#chart-04108eb6-7caa-4d4c-8719-f933ba2f305d .legends .legend:hover text{fill:rgba(0,0,0,1)}#chart-04108eb6-7caa-4d4c-8719-f933ba2f305d .axis .line{stroke:rgba(0,0,0,1)}#chart-04108eb6-7caa-4d4c-8719-f933ba2f305d .axis .guide.line{stroke:rgba(0,0,0,.54)}#chart-04108eb6-7caa-4d4c-8719-f933ba2f305d .axis .major.line{stroke:rgba(0,0,0,.87)}#chart-04108eb6-7caa-4d4c-8719-f933ba2f305d .axis text.major{fill:rgba(0,0,0,1)}#chart-04108eb6-7caa-4d4c-8719-f933ba2f305d .axis.y .guides:hover .guide.line,#chart-04108eb6-7caa-4d4c-8719-f933ba2f305d .line-graph .axis.x .guides:hover .guide.line,#chart-04108eb6-7caa-4d4c-8719-f933ba2f305d .stackedline-graph .axis.x .guides:hover .guide.line,#chart-04108eb6-7caa-4d4c-8719-f933ba2f305d .xy-graph .axis.x .guides:hover .guide.line{stroke:rgba(0,0,0,1)}#chart-04108eb6-7caa-4d4c-8719-f933ba2f305d .axis .guides:hover text{fill:rgba(0,0,0,1)}#chart-04108eb6-7caa-4d4c-8719-f933ba2f305d .reactive{fill-opacity:.7;stroke-opacity:.8}#chart-04108eb6-7caa-4d4c-8719-f933ba2f305d .ci{stroke:rgba(0,0,0,.87)}#chart-04108eb6-7caa-4d4c-8719-f933ba2f305d .reactive.active,#chart-04108eb6-7caa-4d4c-8719-f933ba2f305d .active .reactive{fill-opacity:.8;stroke-opacity:.9;stroke-width:4}#chart-04108eb6-7caa-4d4c-8719-f933ba2f305d .ci .reactive.active{stroke-width:1.5}#chart-04108eb6-7caa-4d4c-8719-f933ba2f305d .series text{fill:rgba(0,0,0,1)}#chart-04108eb6-7caa-4d4c-8719-f933ba2f305d .tooltip rect{fill:rgba(255,255,255,1);stroke:rgba(0,0,0,1);-webkit-transition:opacity 150ms;-moz-transition:opacity 150ms;transition:opacity 150ms}#chart-04108eb6-7caa-4d4c-8719-f933ba2f305d .tooltip .label{fill:rgba(0,0,0,.87)}#chart-04108eb6-7caa-4d4c-8719-f933ba2f305d .tooltip .label{fill:rgba(0,0,0,.87)}#chart-04108eb6-7caa-4d4c-8719-f933ba2f305d .tooltip .legend{font-size:.8em;fill:rgba(0,0,0,.54)}#chart-04108eb6-7caa-4d4c-8719-f933ba2f305d .tooltip .x_label{font-size:.6em;fill:rgba(0,0,0,1)}#chart-04108eb6-7caa-4d4c-8719-f933ba2f305d .tooltip .xlink{font-size:.5em;text-decoration:underline}#chart-04108eb6-7caa-4d4c-8719-f933ba2f305d .tooltip .value{font-size:1.5em}#chart-04108eb6-7caa-4d4c-8719-f933ba2f305d .bound{font-size:.5em}#chart-04108eb6-7caa-4d4c-8719-f933ba2f305d .max-value{font-size:.75em;fill:rgba(0,0,0,.54)}#chart-04108eb6-7caa-4d4c-8719-f933ba2f305d .map-element{fill:rgba(255,255,255,1);stroke:rgba(0,0,0,.54) !important}#chart-04108eb6-7caa-4d4c-8719-f933ba2f305d .map-element .reactive{fill-opacity:inherit;stroke-opacity:inherit}#chart-04108eb6-7caa-4d4c-8719-f933ba2f305d .color-0,#chart-04108eb6-7caa-4d4c-8719-f933ba2f305d .color-0 a:visited{stroke:#F44336;fill:#F44336}#chart-04108eb6-7caa-4d4c-8719-f933ba2f305d .text-overlay .color-0 text{fill:black}\n",
       "#chart-04108eb6-7caa-4d4c-8719-f933ba2f305d text.no_data{text-anchor:middle}#chart-04108eb6-7caa-4d4c-8719-f933ba2f305d .guide.line{fill:none}#chart-04108eb6-7caa-4d4c-8719-f933ba2f305d .centered{text-anchor:middle}#chart-04108eb6-7caa-4d4c-8719-f933ba2f305d .title{text-anchor:middle}#chart-04108eb6-7caa-4d4c-8719-f933ba2f305d .legends .legend text{fill-opacity:1}#chart-04108eb6-7caa-4d4c-8719-f933ba2f305d .axis.x text{text-anchor:middle}#chart-04108eb6-7caa-4d4c-8719-f933ba2f305d .axis.x:not(.web) text[transform]{text-anchor:start}#chart-04108eb6-7caa-4d4c-8719-f933ba2f305d .axis.x:not(.web) text[transform].backwards{text-anchor:end}#chart-04108eb6-7caa-4d4c-8719-f933ba2f305d .axis.y text{text-anchor:end}#chart-04108eb6-7caa-4d4c-8719-f933ba2f305d .axis.y text[transform].backwards{text-anchor:start}#chart-04108eb6-7caa-4d4c-8719-f933ba2f305d .axis.y2 text{text-anchor:start}#chart-04108eb6-7caa-4d4c-8719-f933ba2f305d .axis.y2 text[transform].backwards{text-anchor:end}#chart-04108eb6-7caa-4d4c-8719-f933ba2f305d .axis .guide.line{stroke-dasharray:4,4}#chart-04108eb6-7caa-4d4c-8719-f933ba2f305d .axis .major.guide.line{stroke-dasharray:6,6}#chart-04108eb6-7caa-4d4c-8719-f933ba2f305d .horizontal .axis.y .guide.line,#chart-04108eb6-7caa-4d4c-8719-f933ba2f305d .horizontal .axis.y2 .guide.line,#chart-04108eb6-7caa-4d4c-8719-f933ba2f305d .vertical .axis.x .guide.line{opacity:0}#chart-04108eb6-7caa-4d4c-8719-f933ba2f305d .horizontal .axis.always_show .guide.line,#chart-04108eb6-7caa-4d4c-8719-f933ba2f305d .vertical .axis.always_show .guide.line{opacity:1 !important}#chart-04108eb6-7caa-4d4c-8719-f933ba2f305d .axis.y .guides:hover .guide.line,#chart-04108eb6-7caa-4d4c-8719-f933ba2f305d .axis.y2 .guides:hover .guide.line,#chart-04108eb6-7caa-4d4c-8719-f933ba2f305d .axis.x .guides:hover .guide.line{opacity:1}#chart-04108eb6-7caa-4d4c-8719-f933ba2f305d .axis .guides:hover text{opacity:1}#chart-04108eb6-7caa-4d4c-8719-f933ba2f305d .nofill{fill:none}#chart-04108eb6-7caa-4d4c-8719-f933ba2f305d .subtle-fill{fill-opacity:.2}#chart-04108eb6-7caa-4d4c-8719-f933ba2f305d .dot{stroke-width:1px;fill-opacity:1}#chart-04108eb6-7caa-4d4c-8719-f933ba2f305d .dot.active{stroke-width:5px}#chart-04108eb6-7caa-4d4c-8719-f933ba2f305d .dot.negative{fill:transparent}#chart-04108eb6-7caa-4d4c-8719-f933ba2f305d text,#chart-04108eb6-7caa-4d4c-8719-f933ba2f305d tspan{stroke:none !important}#chart-04108eb6-7caa-4d4c-8719-f933ba2f305d .series text.active{opacity:1}#chart-04108eb6-7caa-4d4c-8719-f933ba2f305d .tooltip rect{fill-opacity:.95;stroke-width:.5}#chart-04108eb6-7caa-4d4c-8719-f933ba2f305d .tooltip text{fill-opacity:1}#chart-04108eb6-7caa-4d4c-8719-f933ba2f305d .showable{visibility:hidden}#chart-04108eb6-7caa-4d4c-8719-f933ba2f305d .showable.shown{visibility:visible}#chart-04108eb6-7caa-4d4c-8719-f933ba2f305d .gauge-background{fill:rgba(229,229,229,1);stroke:none}#chart-04108eb6-7caa-4d4c-8719-f933ba2f305d .bg-lines{stroke:rgba(249,249,249,1);stroke-width:2px}</style><script type=\"text/javascript\">window.pygal = window.pygal || {};window.pygal.config = window.pygal.config || {};window.pygal.config['04108eb6-7caa-4d4c-8719-f933ba2f305d'] = {\"allow_interruptions\": false, \"box_mode\": \"extremes\", \"classes\": [\"pygal-chart\"], \"css\": [\"file://style.css\", \"file://graph.css\"], \"defs\": [], \"disable_xml_declaration\": false, \"dots_size\": 2.5, \"dynamic_print_values\": false, \"explicit_size\": false, \"fill\": false, \"force_uri_protocol\": \"https\", \"formatter\": null, \"half_pie\": false, \"height\": 600, \"include_x_axis\": false, \"inner_radius\": 0, \"interpolate\": null, \"interpolation_parameters\": {}, \"interpolation_precision\": 250, \"inverse_y_axis\": false, \"js\": [\"//kozea.github.io/pygal.js/2.0.x/pygal-tooltips.min.js\"], \"legend_at_bottom\": false, \"legend_at_bottom_columns\": null, \"legend_box_size\": 12, \"logarithmic\": false, \"margin\": 20, \"margin_bottom\": null, \"margin_left\": null, \"margin_right\": null, \"margin_top\": null, \"max_scale\": 16, \"min_scale\": 4, \"missing_value_fill_truncation\": \"x\", \"no_data_text\": \"No data\", \"no_prefix\": false, \"order_min\": null, \"pretty_print\": false, \"print_labels\": false, \"print_values\": false, \"print_values_position\": \"center\", \"print_zeroes\": true, \"range\": null, \"rounded_bars\": null, \"secondary_range\": null, \"show_dots\": true, \"show_legend\": false, \"show_minor_x_labels\": true, \"show_minor_y_labels\": true, \"show_only_major_dots\": false, \"show_x_guides\": true, \"show_x_labels\": true, \"show_y_guides\": false, \"show_y_labels\": true, \"spacing\": 10, \"stack_from_top\": false, \"strict\": false, \"stroke\": true, \"stroke_style\": null, \"style\": {\"background\": \"rgba(249, 249, 249, 1)\", \"ci_colors\": [], \"colors\": [\"#F44336\", \"#3F51B5\", \"#009688\", \"#FFC107\", \"#FF5722\", \"#9C27B0\", \"#03A9F4\", \"#8BC34A\", \"#FF9800\", \"#E91E63\", \"#2196F3\", \"#4CAF50\", \"#FFEB3B\", \"#673AB7\", \"#00BCD4\", \"#CDDC39\", \"#9E9E9E\", \"#607D8B\"], \"font_family\": \"Consolas, \\\"Liberation Mono\\\", Menlo, Courier, monospace\", \"foreground\": \"rgba(0, 0, 0, .87)\", \"foreground_strong\": \"rgba(0, 0, 0, 1)\", \"foreground_subtle\": \"rgba(0, 0, 0, .54)\", \"guide_stroke_dasharray\": \"4,4\", \"label_font_family\": \"Consolas, \\\"Liberation Mono\\\", Menlo, Courier, monospace\", \"label_font_size\": 10, \"legend_font_family\": \"Consolas, \\\"Liberation Mono\\\", Menlo, Courier, monospace\", \"legend_font_size\": 14, \"major_guide_stroke_dasharray\": \"6,6\", \"major_label_font_family\": \"Consolas, \\\"Liberation Mono\\\", Menlo, Courier, monospace\", \"major_label_font_size\": 10, \"no_data_font_family\": \"Consolas, \\\"Liberation Mono\\\", Menlo, Courier, monospace\", \"no_data_font_size\": 64, \"opacity\": \".7\", \"opacity_hover\": \".8\", \"plot_background\": \"rgba(255, 255, 255, 1)\", \"stroke_opacity\": \".8\", \"stroke_opacity_hover\": \".9\", \"title_font_family\": \"Consolas, \\\"Liberation Mono\\\", Menlo, Courier, monospace\", \"title_font_size\": 16, \"tooltip_font_family\": \"Consolas, \\\"Liberation Mono\\\", Menlo, Courier, monospace\", \"tooltip_font_size\": 14, \"transition\": \"150ms\", \"value_background\": \"rgba(229, 229, 229, 1)\", \"value_colors\": [], \"value_font_family\": \"Consolas, \\\"Liberation Mono\\\", Menlo, Courier, monospace\", \"value_font_size\": 16, \"value_label_font_family\": \"Consolas, \\\"Liberation Mono\\\", Menlo, Courier, monospace\", \"value_label_font_size\": 10}, \"title\": \"Komplexeste Methoden\", \"tooltip_border_radius\": 0, \"tooltip_fancy_mode\": true, \"truncate_label\": null, \"truncate_legend\": null, \"width\": 800, \"x_label_rotation\": 0, \"x_labels\": [\"void setUp()\", \"void testElementAt()\", \"void setUp()\", \"void testMoneyEquals()\", \"junit.framework.TestResult start(java.lang.String[])\", \"java.util.Collection testsWithEventMatcher()\", \"void testMoneyBagEquals()\", \"java.lang.Object[][] testsWithEventMatcher()\", \"junit.framework.Test getTest(java.lang.String)\", \"void setUp()\"], \"x_labels_major\": null, \"x_labels_major_count\": null, \"x_labels_major_every\": null, \"x_title\": \"zyklomatische Komplexit\\u00e4t\", \"xrange\": null, \"y_label_rotation\": 0, \"y_labels\": null, \"y_labels_major\": null, \"y_labels_major_count\": null, \"y_labels_major_every\": null, \"y_title\": \"Methode\", \"zero\": 0, \"legends\": [\"Programm 1\"]}</script><script type=\"text/javascript\" xlink:href=\"https://kozea.github.io/pygal.js/2.0.x/pygal-tooltips.min.js\"/></defs><title>Komplexeste Methoden</title><g class=\"graph horizontalbar-graph horizontal\"><rect class=\"background\" height=\"600\" width=\"800\" x=\"0\" y=\"0\"/><g class=\"plot\" transform=\"translate(368, 46)\"><rect class=\"background\" height=\"488\" width=\"412.0\" x=\"0\" y=\"0\"/><g class=\"axis y\"><g class=\"guides\"><text class=\"\" x=\"-5\" y=\"458.65384615384613\">void setUp()</text><title>0.05</title></g><g class=\"guides\"><text class=\"\" x=\"-5\" y=\"411.7307692307692\">void testElementAt()</text><title>0.15</title></g><g class=\"guides\"><text class=\"\" x=\"-5\" y=\"364.80769230769226\">void setUp()</text><title>0.25</title></g><g class=\"guides\"><text class=\"\" x=\"-5\" y=\"317.88461538461536\">void testMoneyEquals()</text><title>0.35</title></g><g class=\"guides\"><text class=\"\" x=\"-5\" y=\"270.96153846153845\">junit.framework.TestResult start(java.lang.String[])</text><title>0.45</title></g><g class=\"guides\"><text class=\"\" x=\"-5\" y=\"224.03846153846155\">java.util.Collection testsWithEventMatcher()</text><title>0.55</title></g><g class=\"guides\"><text class=\"\" x=\"-5\" y=\"177.11538461538458\">void testMoneyBagEquals()</text><title>0.65</title></g><g class=\"guides\"><text class=\"\" x=\"-5\" y=\"130.19230769230774\">java.lang.Object[][] testsWithEventMatcher()</text><title>0.75</title></g><g class=\"guides\"><text class=\"\" x=\"-5\" y=\"83.26923076923077\">junit.framework.Test getTest(java.lang.String)</text><title>0.85</title></g><g class=\"guides\"><text class=\"\" x=\"-5\" y=\"36.34615384615387\">void setUp()</text><title>0.95</title></g></g><g class=\"axis x always_show\"><g class=\"guides\"><path class=\"axis major line\" d=\"M7.923077 0.000000 v488.000000\"/><text class=\"major\" x=\"7.923076923076923\" y=\"503.0\">0</text></g><g class=\"guides\"><path class=\"guide line\" d=\"M58.712032 0.000000 v488.000000\"/><text class=\"\" x=\"58.7120315581854\" y=\"503.0\">10</text></g><g class=\"guides\"><path class=\"guide line\" d=\"M109.500986 0.000000 v488.000000\"/><text class=\"\" x=\"109.50098619329387\" y=\"503.0\">20</text></g><g class=\"guides\"><path class=\"guide line\" d=\"M160.289941 0.000000 v488.000000\"/><text class=\"\" x=\"160.28994082840234\" y=\"503.0\">30</text></g><g class=\"guides\"><path class=\"guide line\" d=\"M211.078895 0.000000 v488.000000\"/><text class=\"\" x=\"211.07889546351086\" y=\"503.0\">40</text></g><g class=\"guides\"><path class=\"major guide line\" d=\"M261.867850 0.000000 v488.000000\"/><text class=\"major\" x=\"261.86785009861933\" y=\"503.0\">50</text></g><g class=\"guides\"><path class=\"guide line\" d=\"M312.656805 0.000000 v488.000000\"/><text class=\"\" x=\"312.6568047337278\" y=\"503.0\">60</text></g><g class=\"guides\"><path class=\"guide line\" d=\"M363.445759 0.000000 v488.000000\"/><text class=\"\" x=\"363.44575936883626\" y=\"503.0\">70</text></g></g><g class=\"series serie-0 color-0\"><g class=\"bars\"><g class=\"bar\"><rect class=\"rect reactive tooltip-trigger\" height=\"36.337230769230764\" rx=\"0\" ry=\"0\" width=\"213.31360946745562\" x=\"7.923076923076934\" y=\"436.9852307692308\"/><desc class=\"value\">42</desc><desc class=\"x centered\">114.57988165680474</desc><desc class=\"y centered\">455.15384615384613</desc><desc class=\"x_label\">void setUp()</desc></g><g class=\"bar\"><rect class=\"rect reactive tooltip-trigger\" height=\"36.337230769230764\" rx=\"0\" ry=\"0\" width=\"248.86587771203156\" x=\"7.923076923076934\" y=\"390.0621538461538\"/><desc class=\"value\">49</desc><desc class=\"x centered\">132.35601577909273</desc><desc class=\"y centered\">408.23076923076917</desc><desc class=\"x_label\">void testElementAt()</desc></g><g class=\"bar\"><rect class=\"rect reactive tooltip-trigger\" height=\"36.337230769230764\" rx=\"0\" ry=\"0\" width=\"248.86587771203156\" x=\"7.923076923076934\" y=\"343.1390769230769\"/><desc class=\"value\">49</desc><desc class=\"x centered\">132.35601577909273</desc><desc class=\"y centered\">361.30769230769226</desc><desc class=\"x_label\">void setUp()</desc></g><g class=\"bar\"><rect class=\"rect reactive tooltip-trigger\" height=\"36.337230769230764\" rx=\"0\" ry=\"0\" width=\"248.86587771203156\" x=\"7.923076923076934\" y=\"296.216\"/><desc class=\"value\">49</desc><desc class=\"x centered\">132.35601577909273</desc><desc class=\"y centered\">314.38461538461536</desc><desc class=\"x_label\">void testMoneyEquals()</desc></g><g class=\"bar\"><rect class=\"rect reactive tooltip-trigger\" height=\"36.337230769230764\" rx=\"0\" ry=\"0\" width=\"253.9447731755424\" x=\"7.923076923076934\" y=\"249.29292307692305\"/><desc class=\"value\">50</desc><desc class=\"x centered\">134.89546351084812</desc><desc class=\"y centered\">267.4615384615384</desc><desc class=\"x_label\">junit.framework.TestResult start(java.lang.String[])</desc></g><g class=\"bar\"><rect class=\"rect reactive tooltip-trigger\" height=\"36.337230769230764\" rx=\"0\" ry=\"0\" width=\"279.33925049309664\" x=\"7.923076923076906\" y=\"202.36984615384617\"/><desc class=\"value\">55</desc><desc class=\"x centered\">147.59270216962523</desc><desc class=\"y centered\">220.53846153846155</desc><desc class=\"x_label\">java.util.Collection testsWithEventMatcher()</desc></g><g class=\"bar\"><rect class=\"rect reactive tooltip-trigger\" height=\"36.337230769230764\" rx=\"0\" ry=\"0\" width=\"284.41814595660753\" x=\"7.923076923076906\" y=\"155.44676923076926\"/><desc class=\"value\">56</desc><desc class=\"x centered\">150.13214990138067</desc><desc class=\"y centered\">173.61538461538464</desc><desc class=\"x_label\">void testMoneyBagEquals()</desc></g><g class=\"bar\"><rect class=\"rect reactive tooltip-trigger\" height=\"36.337230769230764\" rx=\"0\" ry=\"0\" width=\"304.7337278106509\" x=\"7.923076923076906\" y=\"108.5236923076923\"/><desc class=\"value\">60</desc><desc class=\"x centered\">160.28994082840237</desc><desc class=\"y centered\">126.69230769230768</desc><desc class=\"x_label\">java.lang.Object[][] testsWithEventMatcher()</desc></g><g class=\"bar\"><rect class=\"rect reactive tooltip-trigger\" height=\"36.337230769230764\" rx=\"0\" ry=\"0\" width=\"345.3648915187377\" x=\"7.923076923076906\" y=\"61.60061538461539\"/><desc class=\"value\">68</desc><desc class=\"x centered\">180.60552268244575</desc><desc class=\"y centered\">79.76923076923077</desc><desc class=\"x_label\">junit.framework.Test getTest(java.lang.String)</desc></g><g class=\"bar\"><rect class=\"rect reactive tooltip-trigger\" height=\"36.337230769230764\" rx=\"0\" ry=\"0\" width=\"396.1538461538462\" x=\"7.923076923076906\" y=\"14.677538461538425\"/><desc class=\"value\">78</desc><desc class=\"x centered\">206.0</desc><desc class=\"y centered\">32.84615384615381</desc><desc class=\"x_label\">void setUp()</desc></g></g></g></g><g class=\"titles\"><text class=\"title plot_title\" x=\"400.0\" y=\"26\">Komplexeste Methoden</text><text class=\"title\" x=\"574.0\" y=\"580\">zyklomatische Komplexität</text><text class=\"title\" x=\"0\" y=\"316.0\" transform=\"rotate(-90 0.000000 290.000000)\">Methode</text></g><g class=\"plot overlay\" transform=\"translate(368, 46)\"><g class=\"series serie-0 color-0\"/></g><g class=\"plot text-overlay\" transform=\"translate(368, 46)\"><g class=\"series serie-0 color-0\"/></g><g class=\"plot tooltip-overlay\" transform=\"translate(368, 46)\"><g class=\"tooltip\" style=\"opacity: 0\" transform=\"translate(0 0)\"><rect class=\"tooltip-box\" height=\"0\" rx=\"0\" ry=\"0\" width=\"0\"/><g class=\"text\"/></g></g></g></svg>\n",
       "    </figure>\n",
       "  </body>\n",
       "</html>\n"
      ],
      "text/plain": [
       "<IPython.core.display.HTML object>"
      ]
     },
     "metadata": {},
     "output_type": "display_data"
    }
   ],
   "source": [
    "import pygal \n",
    "bar_chart = pygal.HorizontalBar()\n",
    "bar_chart.title = 'Komplexeste Methoden'\n",
    "bar_chart.x_title='zyklomatische Komplexität'\n",
    "bar_chart.y_title='Methode'\n",
    "bar_chart.show_legend=False\n",
    "bar_chart.x_labels= y_method_complexity\n",
    "bar_chart.add('Programm 1',x_complexity)\n",
    "display(HTML(base_html.format(rendered_chart=bar_chart.render(is_unicode=True))))"
   ]
  },
  {
   "cell_type": "code",
   "execution_count": null,
   "metadata": {},
   "outputs": [],
   "source": []
  }
 ],
 "metadata": {
  "extensions": {
   "jupyter_dashboards": {
    "activeView": "report_default",
    "version": 1,
    "views": {
     "grid_default": {
      "cellMargin": 10,
      "defaultCellHeight": 20,
      "maxColumns": 12,
      "name": "grid",
      "type": "grid"
     },
     "report_default": {
      "name": "report",
      "type": "report"
     }
    }
   }
  },
  "kernelspec": {
   "display_name": "Python [conda env:BeLL]",
   "language": "python",
   "name": "conda-env-BeLL-py"
  },
  "language_info": {
   "codemirror_mode": {
    "name": "ipython",
    "version": 3
   },
   "file_extension": ".py",
   "mimetype": "text/x-python",
   "name": "python",
   "nbconvert_exporter": "python",
   "pygments_lexer": "ipython3",
   "version": "3.6.4"
  }
 },
 "nbformat": 4,
 "nbformat_minor": 2
}
